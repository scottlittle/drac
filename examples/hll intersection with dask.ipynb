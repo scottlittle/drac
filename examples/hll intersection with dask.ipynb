{
 "cells": [
  {
   "cell_type": "markdown",
   "metadata": {},
   "source": [
    "## Divy dataset example: HyperLogLog intersection support and dask computation"
   ]
  },
  {
   "cell_type": "code",
   "execution_count": 1,
   "metadata": {},
   "outputs": [],
   "source": [
    "import numpy as np\n",
    "import pandas as pd\n",
    "pd.set_option('display.max_columns', None)\n",
    "pd.set_option('display.max_rows', None)"
   ]
  },
  {
   "cell_type": "code",
   "execution_count": 2,
   "metadata": {},
   "outputs": [],
   "source": [
    "import dask.dataframe as dd\n",
    "import dask"
   ]
  },
  {
   "cell_type": "code",
   "execution_count": 4,
   "metadata": {},
   "outputs": [],
   "source": [
    "from dask.distributed import Client, progress\n",
    "client = Client()  # start distributed scheduler locally.  Launch dashboard on 8786"
   ]
  },
  {
   "cell_type": "code",
   "execution_count": 5,
   "metadata": {},
   "outputs": [],
   "source": [
    "import matplotlib.pyplot as plt"
   ]
  },
  {
   "cell_type": "code",
   "execution_count": 6,
   "metadata": {},
   "outputs": [],
   "source": [
    "import hyperloglog\n",
    "from hyperloglog import HyperLogLog"
   ]
  },
  {
   "cell_type": "code",
   "execution_count": 7,
   "metadata": {},
   "outputs": [],
   "source": [
    "# download dataset from kaggle.com\n",
    "ddf = dd.read_csv('/home/scott/bigbothd/divvy/data.csv',\n",
    "                  dtype=object, \n",
    "                  blocksize='128MiB')"
   ]
  },
  {
   "cell_type": "code",
   "execution_count": 8,
   "metadata": {},
   "outputs": [
    {
     "name": "stdout",
     "output_type": "stream",
     "text": [
      "CPU times: user 80 ms, sys: 5.21 ms, total: 85.2 ms\n",
      "Wall time: 2.25 s\n"
     ]
    },
    {
     "data": {
      "text/html": [
       "<div>\n",
       "<style scoped>\n",
       "    .dataframe tbody tr th:only-of-type {\n",
       "        vertical-align: middle;\n",
       "    }\n",
       "\n",
       "    .dataframe tbody tr th {\n",
       "        vertical-align: top;\n",
       "    }\n",
       "\n",
       "    .dataframe thead th {\n",
       "        text-align: right;\n",
       "    }\n",
       "</style>\n",
       "<table border=\"1\" class=\"dataframe\">\n",
       "  <thead>\n",
       "    <tr style=\"text-align: right;\">\n",
       "      <th></th>\n",
       "      <th>trip_id</th>\n",
       "      <th>year</th>\n",
       "      <th>month</th>\n",
       "      <th>week</th>\n",
       "      <th>day</th>\n",
       "      <th>hour</th>\n",
       "      <th>usertype</th>\n",
       "      <th>gender</th>\n",
       "      <th>starttime</th>\n",
       "      <th>stoptime</th>\n",
       "      <th>tripduration</th>\n",
       "      <th>temperature</th>\n",
       "      <th>events</th>\n",
       "      <th>from_station_id</th>\n",
       "      <th>from_station_name</th>\n",
       "      <th>latitude_start</th>\n",
       "      <th>longitude_start</th>\n",
       "      <th>dpcapacity_start</th>\n",
       "      <th>to_station_id</th>\n",
       "      <th>to_station_name</th>\n",
       "      <th>latitude_end</th>\n",
       "      <th>longitude_end</th>\n",
       "      <th>dpcapacity_end</th>\n",
       "    </tr>\n",
       "  </thead>\n",
       "  <tbody>\n",
       "    <tr>\n",
       "      <th>0</th>\n",
       "      <td>2355134</td>\n",
       "      <td>2014</td>\n",
       "      <td>6</td>\n",
       "      <td>27</td>\n",
       "      <td>0</td>\n",
       "      <td>23</td>\n",
       "      <td>Subscriber</td>\n",
       "      <td>Male</td>\n",
       "      <td>2014-06-30 23:57:00</td>\n",
       "      <td>2014-07-01 00:07:00</td>\n",
       "      <td>10.066666666666666</td>\n",
       "      <td>68.0</td>\n",
       "      <td>tstorms</td>\n",
       "      <td>131</td>\n",
       "      <td>Lincoln Ave &amp; Belmont Ave</td>\n",
       "      <td>41.939365</td>\n",
       "      <td>-87.668385</td>\n",
       "      <td>15.0</td>\n",
       "      <td>303</td>\n",
       "      <td>Broadway &amp; Cornelia Ave</td>\n",
       "      <td>41.945512</td>\n",
       "      <td>-87.64598000000001</td>\n",
       "      <td>15.0</td>\n",
       "    </tr>\n",
       "    <tr>\n",
       "      <th>1</th>\n",
       "      <td>2355133</td>\n",
       "      <td>2014</td>\n",
       "      <td>6</td>\n",
       "      <td>27</td>\n",
       "      <td>0</td>\n",
       "      <td>23</td>\n",
       "      <td>Subscriber</td>\n",
       "      <td>Male</td>\n",
       "      <td>2014-06-30 23:56:00</td>\n",
       "      <td>2014-07-01 00:00:00</td>\n",
       "      <td>4.383333333333334</td>\n",
       "      <td>68.0</td>\n",
       "      <td>tstorms</td>\n",
       "      <td>282</td>\n",
       "      <td>Halsted St &amp; Maxwell St</td>\n",
       "      <td>41.86458</td>\n",
       "      <td>-87.64693</td>\n",
       "      <td>15.0</td>\n",
       "      <td>22</td>\n",
       "      <td>May St &amp; Taylor St</td>\n",
       "      <td>41.8694821</td>\n",
       "      <td>-87.6554864</td>\n",
       "      <td>15.0</td>\n",
       "    </tr>\n",
       "    <tr>\n",
       "      <th>2</th>\n",
       "      <td>2355130</td>\n",
       "      <td>2014</td>\n",
       "      <td>6</td>\n",
       "      <td>27</td>\n",
       "      <td>0</td>\n",
       "      <td>23</td>\n",
       "      <td>Subscriber</td>\n",
       "      <td>Male</td>\n",
       "      <td>2014-06-30 23:33:00</td>\n",
       "      <td>2014-06-30 23:35:00</td>\n",
       "      <td>2.1</td>\n",
       "      <td>68.0</td>\n",
       "      <td>tstorms</td>\n",
       "      <td>327</td>\n",
       "      <td>Sheffield Ave &amp; Webster Ave</td>\n",
       "      <td>41.921687</td>\n",
       "      <td>-87.65371400000001</td>\n",
       "      <td>19.0</td>\n",
       "      <td>225</td>\n",
       "      <td>Halsted St &amp; Dickens Ave</td>\n",
       "      <td>41.919936</td>\n",
       "      <td>-87.64883</td>\n",
       "      <td>15.0</td>\n",
       "    </tr>\n",
       "    <tr>\n",
       "      <th>3</th>\n",
       "      <td>2355129</td>\n",
       "      <td>2014</td>\n",
       "      <td>6</td>\n",
       "      <td>27</td>\n",
       "      <td>0</td>\n",
       "      <td>23</td>\n",
       "      <td>Subscriber</td>\n",
       "      <td>Female</td>\n",
       "      <td>2014-06-30 23:26:00</td>\n",
       "      <td>2014-07-01 00:24:00</td>\n",
       "      <td>58.016666666666666</td>\n",
       "      <td>68.0</td>\n",
       "      <td>tstorms</td>\n",
       "      <td>134</td>\n",
       "      <td>Peoria St &amp; Jackson Blvd</td>\n",
       "      <td>41.877749</td>\n",
       "      <td>-87.649633</td>\n",
       "      <td>19.0</td>\n",
       "      <td>194</td>\n",
       "      <td>State St &amp; Wacker Dr</td>\n",
       "      <td>41.887155</td>\n",
       "      <td>-87.62775</td>\n",
       "      <td>11.0</td>\n",
       "    </tr>\n",
       "    <tr>\n",
       "      <th>4</th>\n",
       "      <td>2355128</td>\n",
       "      <td>2014</td>\n",
       "      <td>6</td>\n",
       "      <td>27</td>\n",
       "      <td>0</td>\n",
       "      <td>23</td>\n",
       "      <td>Subscriber</td>\n",
       "      <td>Female</td>\n",
       "      <td>2014-06-30 23:16:00</td>\n",
       "      <td>2014-06-30 23:26:00</td>\n",
       "      <td>10.633333333333333</td>\n",
       "      <td>68.0</td>\n",
       "      <td>tstorms</td>\n",
       "      <td>320</td>\n",
       "      <td>Loomis St &amp; Lexington St</td>\n",
       "      <td>41.872187</td>\n",
       "      <td>-87.661501</td>\n",
       "      <td>15.0</td>\n",
       "      <td>134</td>\n",
       "      <td>Peoria St &amp; Jackson Blvd</td>\n",
       "      <td>41.877749</td>\n",
       "      <td>-87.649633</td>\n",
       "      <td>19.0</td>\n",
       "    </tr>\n",
       "  </tbody>\n",
       "</table>\n",
       "</div>"
      ],
      "text/plain": [
       "   trip_id  year month week day hour    usertype  gender            starttime  \\\n",
       "0  2355134  2014     6   27   0   23  Subscriber    Male  2014-06-30 23:57:00   \n",
       "1  2355133  2014     6   27   0   23  Subscriber    Male  2014-06-30 23:56:00   \n",
       "2  2355130  2014     6   27   0   23  Subscriber    Male  2014-06-30 23:33:00   \n",
       "3  2355129  2014     6   27   0   23  Subscriber  Female  2014-06-30 23:26:00   \n",
       "4  2355128  2014     6   27   0   23  Subscriber  Female  2014-06-30 23:16:00   \n",
       "\n",
       "              stoptime        tripduration temperature   events  \\\n",
       "0  2014-07-01 00:07:00  10.066666666666666        68.0  tstorms   \n",
       "1  2014-07-01 00:00:00   4.383333333333334        68.0  tstorms   \n",
       "2  2014-06-30 23:35:00                 2.1        68.0  tstorms   \n",
       "3  2014-07-01 00:24:00  58.016666666666666        68.0  tstorms   \n",
       "4  2014-06-30 23:26:00  10.633333333333333        68.0  tstorms   \n",
       "\n",
       "  from_station_id            from_station_name latitude_start  \\\n",
       "0             131    Lincoln Ave & Belmont Ave      41.939365   \n",
       "1             282      Halsted St & Maxwell St       41.86458   \n",
       "2             327  Sheffield Ave & Webster Ave      41.921687   \n",
       "3             134     Peoria St & Jackson Blvd      41.877749   \n",
       "4             320     Loomis St & Lexington St      41.872187   \n",
       "\n",
       "      longitude_start dpcapacity_start to_station_id  \\\n",
       "0          -87.668385             15.0           303   \n",
       "1           -87.64693             15.0            22   \n",
       "2  -87.65371400000001             19.0           225   \n",
       "3          -87.649633             19.0           194   \n",
       "4          -87.661501             15.0           134   \n",
       "\n",
       "            to_station_name latitude_end       longitude_end dpcapacity_end  \n",
       "0   Broadway & Cornelia Ave    41.945512  -87.64598000000001           15.0  \n",
       "1        May St & Taylor St   41.8694821         -87.6554864           15.0  \n",
       "2  Halsted St & Dickens Ave    41.919936           -87.64883           15.0  \n",
       "3      State St & Wacker Dr    41.887155           -87.62775           11.0  \n",
       "4  Peoria St & Jackson Blvd    41.877749          -87.649633           19.0  "
      ]
     },
     "execution_count": 8,
     "metadata": {},
     "output_type": "execute_result"
    }
   ],
   "source": [
    "%time ddf.head()"
   ]
  },
  {
   "cell_type": "code",
   "execution_count": 9,
   "metadata": {},
   "outputs": [
    {
     "name": "stdout",
     "output_type": "stream",
     "text": [
      "CPU times: user 399 ms, sys: 71.5 ms, total: 471 ms\n",
      "Wall time: 10 s\n"
     ]
    },
    {
     "data": {
      "text/plain": [
       "9495235"
      ]
     },
     "execution_count": 9,
     "metadata": {},
     "output_type": "execute_result"
    }
   ],
   "source": [
    "%time ddf.trip_id.shape[0].compute()"
   ]
  },
  {
   "cell_type": "code",
   "execution_count": 10,
   "metadata": {},
   "outputs": [
    {
     "name": "stdout",
     "output_type": "stream",
     "text": [
      "CPU times: user 758 ms, sys: 101 ms, total: 859 ms\n",
      "Wall time: 20.4 s\n"
     ]
    },
    {
     "data": {
      "text/plain": [
       "9495188"
      ]
     },
     "execution_count": 10,
     "metadata": {},
     "output_type": "execute_result"
    }
   ],
   "source": [
    "%time ddf.trip_id.nunique().compute()"
   ]
  },
  {
   "cell_type": "code",
   "execution_count": 11,
   "metadata": {},
   "outputs": [
    {
     "name": "stdout",
     "output_type": "stream",
     "text": [
      "CPU times: user 469 ms, sys: 94.2 ms, total: 563 ms\n",
      "Wall time: 12 s\n"
     ]
    },
    {
     "data": {
      "text/plain": [
       "9584730.548938287"
      ]
     },
     "execution_count": 11,
     "metadata": {},
     "output_type": "execute_result"
    }
   ],
   "source": [
    "%time ddf.trip_id.nunique_approx().compute()"
   ]
  },
  {
   "cell_type": "code",
   "execution_count": null,
   "metadata": {},
   "outputs": [],
   "source": []
  },
  {
   "cell_type": "markdown",
   "metadata": {},
   "source": [
    "### Parallel unique counting with hyperloglog"
   ]
  },
  {
   "cell_type": "code",
   "execution_count": 8,
   "metadata": {},
   "outputs": [],
   "source": [
    "# def hll_count(df_sub):\n",
    "#     hll = hyperloglog.HyperLogLog(0.01)  # accept 1% counting error\n",
    "#     df_sub['trip_id'].map( hll.add );\n",
    "#     return hll"
   ]
  },
  {
   "cell_type": "code",
   "execution_count": 8,
   "metadata": {},
   "outputs": [],
   "source": [
    "def hll_count_series(series):\n",
    "    hll = hyperloglog.HyperLogLog(0.01)  # accept 1% counting error\n",
    "    series.map( hll.add );\n",
    "    return hll"
   ]
  },
  {
   "cell_type": "code",
   "execution_count": 9,
   "metadata": {},
   "outputs": [],
   "source": [
    "res = ddf['trip_id'].map_partitions(hll_count_series, meta=('this_result','f8'))"
   ]
  },
  {
   "cell_type": "code",
   "execution_count": 10,
   "metadata": {},
   "outputs": [],
   "source": [
    "res = res.to_delayed()"
   ]
  },
  {
   "cell_type": "code",
   "execution_count": 11,
   "metadata": {},
   "outputs": [
    {
     "data": {
      "text/plain": [
       "16"
      ]
     },
     "execution_count": 11,
     "metadata": {},
     "output_type": "execute_result"
    }
   ],
   "source": [
    "len(res)"
   ]
  },
  {
   "cell_type": "code",
   "execution_count": 12,
   "metadata": {},
   "outputs": [],
   "source": [
    "def hll_reduce(x, y):\n",
    "    x.update(y)\n",
    "    return x"
   ]
  },
  {
   "cell_type": "markdown",
   "metadata": {},
   "source": [
    "#### Tree reduction approach"
   ]
  },
  {
   "cell_type": "code",
   "execution_count": 13,
   "metadata": {},
   "outputs": [],
   "source": [
    "L = res\n",
    "while len(L) > 1:\n",
    "    new_L = []\n",
    "    for i in range(0, len(L), 2):\n",
    "        lazy = dask.delayed(hll_reduce)(L[i-1], L[i])  # add neighbors  \n",
    "        new_L.append(lazy)\n",
    "    L = new_L                       # swap old list for new"
   ]
  },
  {
   "cell_type": "code",
   "execution_count": 14,
   "metadata": {},
   "outputs": [
    {
     "name": "stdout",
     "output_type": "stream",
     "text": [
      "CPU times: user 774 ms, sys: 53.9 ms, total: 828 ms\n",
      "Wall time: 19.9 s\n"
     ]
    },
    {
     "data": {
      "text/plain": [
       "9570193"
      ]
     },
     "execution_count": 14,
     "metadata": {},
     "output_type": "execute_result"
    }
   ],
   "source": [
    "%time len( dask.compute( *L )[0] )"
   ]
  },
  {
   "cell_type": "code",
   "execution_count": 16,
   "metadata": {},
   "outputs": [],
   "source": [
    "hll_res = dask.compute( *L )[0]"
   ]
  },
  {
   "cell_type": "code",
   "execution_count": 17,
   "metadata": {},
   "outputs": [],
   "source": [
    "hll_res_0 = dask.compute( res[0] )[0].serialize()\n",
    "hll_res_1 = dask.compute( res[1] )[0].serialize()"
   ]
  },
  {
   "cell_type": "code",
   "execution_count": null,
   "metadata": {},
   "outputs": [],
   "source": [
    "hll_res_sr = hll_res.serialize_registers()"
   ]
  },
  {
   "cell_type": "code",
   "execution_count": 23,
   "metadata": {},
   "outputs": [
    {
     "data": {
      "text/plain": [
       "b'x\\x9c=\\x9b\\xed\\x92\\xec6\\xael#n\\xf1[\\xaan{\\xfe\\x9c\\xf7\\x7f\\xd3\\x8b\\xb5\\x92\\xed\\x18\\x8f\\xb7wUI\"A \\x91H@s\\xcc\\xbe\\xfa\\\\g\\xf4v\\x9eO\\x9f\\xcf\\x18\\xa7\\xcf>\\xfahs\\xec\\xd1\\xdf6f}7\\xc7g\\xd4O{\\xdfcu\\xfe\\xa9\\xef\\xd7\\xe8s\\x8f9\\xeb\\xcb6\\x06\\xd7\\xad\\xf3\\xb3\\xf8\\xb8\\xaf\\xf5<\\xf3\\xa9/z\\xfdm\\xcfY\\x8f\\x18k\\xfd\\xec\\xba\\xf1S\\x9f\\xd4\\xcf\\xb9\\xa6\\xd5\\x8f\\xf9s\\xcdV\\xd7\\x8c\\xfa\\x7f\\xfdYO\\xd9\\xedS\\x1fr\\xcb\\xc1\\x1a\\xea&\\xbd\\x9fQ\\x9f\\xd4}\\xfal\\xf5\\xf4VK\\xae+\\xcf\\xac/\\xe7S\\xebe-<\\xa3\\xbe\\x1e\\xb3\\xb9\\xf8z\\xf8\\xf0\\xb6\\xdc\\xa9mV\\xb9xB\\xfd\\xa6~1\\xe7x\\xbc\\xa4\\xd5\\xa6V\\x9b\\xdc\\xafn:\\xb8\\xc7f?\\xbbn\\xce\\xba\\xd7\\xaa\\x9f\\xb7\\xb2@c\\xa7e\\'\\x16\\xb4\\xeb\\xc3\\xb5\\xb0\\xddX\\x8d\\x05\\xd6\\x13\\xc6S\\xb7e#\\xbb\\xee8\\xe6~\\'\\xa6m\\xb5\\xbc\\xbaE\\x9b\\xb5\\x03V;\\xca\\x1ae\\xc7z\\xd2[\\xbb\\x9b\\xf5\\x90\\xfdm\\rK?\\xb3\\xbe\\xe2\\x06lr\\x97\\xe1y\\x16vXl\\xa3,^\\x17\\x96\\xa9\\xea&\\x87-\\xacV\\xf7\\xe4\\x10xd-\\x86\\x15q}=\\xa7\\xb3\\x1e\\xce\\xf0\\xc4\\x84\\\\\\xa2-<\\x08\\xd6Zk~X\\xdd\\xaaG\\xb6\\xfd.\\x97V?\\x99\\x9b\\xbb\\x95\\x95\\xbcr<e\\xc7z~\\x99\\xa6\\xd6v\\xb8?w}|d\\xddC\\xbbk\\xb1\\xba\\xae\\xd7#\\xe6[7\\x1c<\\xa5\\xe7L\\xca\\x96\\xf5\\xf3Z\\x9d7\\x7ff-\\xbd\\xfeh\\xbd\\x0c\\xc2\\xd1\\x9f\\xdf\\xfa\\x15\\xfe\\xb00\\x0f\\x9f\\xe2`\\x1c\\x04v\\x98\\x9cS}\\xd8]\\x1a\\x07\\xe5!/\\xcdR\\xdf\\xe2\\x03{\\xb3\\x10\\x8cQ\\xce\\xc4\\xef\\xea!k\\xe3\\t\\xd9y]\\xd4t\\xd9\\xb2\\xf0[^\\xb4\\xeb?gm\\x86k\\xcfd\\x7f\\xfd\\xad\\x0ftG\\x8e\\x92\\x83\\x1b\\x9f\\x1dc\\xf0\\xb7\\xe6\\x91\\xe1!\\xf8\\xcc\\xcc\\xb5\\x86D\\xd7\\xd6:\\xec\\xeag\\xd5\\x9dw\\xfdf\\x19%u\\x1ce[\\xbd\\x7f\\xe2\\x1a\\x93\\xd5t\\xfc\\xb2l\\xcf\\x96c\\xe6\\xc1\\x19u,x0\\xfa\\xe6\\xe7u\\xac\\xdf\\xfd\\xd5\\xf7>\\x18n\\xb2\\x8c5N9\\xe5\\x8cw\\xbd\\x84\\xd5\\xa7\\xbd:\\xca\\xf2{\\x9f\\x80{\\xe0\\x05\\xc4\\xa4\\xb6$\\xeap\\xff\\xcf\\xd4\\x143>\\xa4\\x19[\\x1d\\x7f\\x1d\\xd5\\xa7\\xae)\\x0b\\xae\\x87\\r\\x1b}\\x84\\xca\\xac\\x0bj\\x99\\x1c]\\xf7\\'\\x86\\xfc\\xd6F\\x15~c\\x9e]AP\\xabm\\xab\\xec\\xb2\\xf0\\x15\\x16\\xaag\\xd7O\\x1fVU\\x8b?\\x83\\x10\\xc2\\x1a\\xf8\\x04\\x0eXw\\xda\\x044f\\xabCz\\xf6a\\xcfXXSp\\xfb\\xa3[\\xd5\\xbd\\xc6\\xf8\\xf4\\x9f)\\x82\\xcc\\xf6\\x83\\xc5j\\xbb\\xff\\xfbV\\xe4\\xd5\\xae?\\xe3\\x9eFm\\xb8\\xb6\\xbb\\xe6\\xf2(\\xb9\\xd1c\\x80\\xcf\\xf1;w\\xb9\\xd4\\xff5]\\x01|\\xaa\\x1b\\xed\\xfe9\\x98\\xb9\\xf1\\t\\xb1\\xcf6\\x88\\xee\\xe3\\xca\\x1a@w\\x0c\\xa7\\xda\\xb0\\xd8B\\xe8\\xe0x\\xebY\\x8f\\xbe\\xef\\xb1a\\xdb\\xc5q\\xf6,\\xbf\\xeeR\\x16\\xa9\\xf5\\xffL\\x90c\\xad\\xef2\\x1e\\xb0\\xd1\\xf0\\x14p\\x9b\\xda\\xb9\\x0e\\xddG\\xc0\\t\\xcf\\xa9\\x938q\\x19\\xdc\\xb2\\xe3\\\\\\xc6k\\xdd\\xb9\\\\\\xbb\\x97\\x81*\\xa2t\\x0e\\x81O\\x98\\n*\\xe2\\xa1\\xad\\xec\\xb7\\x81\\xa0\\xe5v\\xb8w\\xdd\\xa5l\\xe5\\x11\\xd7-D:\\xbe\\xaeu\\x89y\\xfdY?\\xa08w)\\x8b\\xb1?6{\\xba\\xbb\\xd5\\x0105\\xe9\\xe0\\xf9\\x8a\\xc9\\x8dH\"\\x9c]DO\\x98\\x10N\\x85B\\x8b\\x8f\\x81\\xe5B\\n\\xb0\\x98H\\xab\\'\\xfc\\xf3\\x89\\xe9\\xeaXjC[\\xd8\\xaeG\\x94\\x89p(\\x02\\xd9\\x9c\\x81\\xfd+\\x1b\\x8c\\x8a\\xe6:\\xc4\\xae\\x17\\r?\\x1c\\x9f\\xe6_@ \\x1d\\xb3k(\\x82\\xfc\\xbbu\\xf8\\x8a\\xae2\\xf39 \\'\\'\\xffm\\x80)~d\\x9a\\x02\\x12p\\x8fa*\\xc3xg\\xbaTrR\\xeb&\\xab\\x01\\xb2h\\xab2\\xc0[n!\\xbc\\xe0\\'\\x13\\xe7\\x04\\xc6Y\\xcc\\xb7\\x16\\xb7>\\xe5\\xce\\x1c\\xccg\\x07G9\\xfe\\xcd\\x91\\xc5I\\xea<V{\\xb1\\xcb\\xc4\\x83\\x16\\xdb\\xae\\xe7\\x13\\x08\\xba\\xc5x\\x80\\xc5\\xbd\\xbe\\xec\\xbb\\x7f=(\\x01\\x17\\xb7s\\xe3\\xf5\\xa8s\\xc0\\xb4\\xfa\\xf5\\xbf\\x85\\xa6\\x93\\x8fM\\xcd[\\xa4`Q\\xc4>\\xcb;\\xb5\\xe6\\xb6\\xe6\\xcdp\\xc0_\\x7f\\xcd:\\xb1\\xd7\\x0f\\xd1S\\xc9\\xe7Y\\x18\\xda\\xb5\\xe1\\xc0<\\xae\\xa2E\\xc3\\x1d\\x1f\\xbc\\xda\\t\\xe6\\x14\\x9e\\x92\\x1e\\xf5\\xc0\\xf6\\x010\\x05\\xfai\\xa2\\xec\\x89,\\x0ec5\\x17\\xb5\\xf7\\xd1\\xb9\\xc7\\x0f\\xb9\\xb0\\xbc\\xf3\\xf0\\xa9\\xc8<\\xde\\x8a&=\\xcd\\xd5\\xd4\\xc1\\xef\\xb5\\x9b\\x191\\xa9\\x11\\xa2\\x81\\xfb\\xbfM\\xa7+k]\\xd4\\x11\\xab=?\\x11~\\xea\\x90+Y\\x80\\\\V\\xfee\\x00\\x01Do6\\xd3\\x9en\\xf4\\x1d\\x13=\\xc7!fc\\x7f\\x0f\\xd20\\xf3\\xb3\\xebu+\\xe9\\xddg\\x98\\x02y\\x9e\\xce\\x89\\xf7\\x10[\\x05^7\\xbat`\\x92Jyy-H\\x93\\x90\\nk\\x1d\\xe4<\\\\\\xc7\\xfcv\\xea\\x86\\x0b\"b\\x04\\x0b\\x18u\\x92`Na\\xd3\\x9b],R\"\\x97\\x81~K\\x1cl\\xd2\\r\\xe2\\x88\\xed51\\xfa\\xe8\\x1d\\xd2\\x0b\\xc2nk\\xb3UI\\xaaN\\x84\\xfb.\\xdd\\x8e3Z\\x1am\\xb9\\x1e\\x9di\\xcb\\\\\\xea6\\xe7q\\xe5\\'\\x00\\x00\\xa0y\\xf4\\xf3\\xc7\\xbcZK\\xaa\\xa5\\nn\\xcfx\\x8e\\x14\\xc7\\xd3\\xd5\\xc4q\\xc9.6\\xf6\\x17\\x7fz\\xca\\'q\\x02\\xe0a\\x06\\xc5\\xf9-I\\x94\\xe43\\xdc\\xed\\x96\\xcdi@\\x80\\x93%\\xf1\\x8c\\xb6\\x82C\\x154\\xb5\\xfb\\xd3t\\xf22\\xe46W\\x85p\\xd5Q\\x01\\x12\\x9c\\xc8\\xd6\\x1eg\\xc5\\xf8`h\\x18\\x84\\xa4\\xa5\\xb0\\x83\\x1f\\x94\\xa7\\x15i\\xfa\\xc1\\xb6_ \\x17z\\xd590\\xac\\x0b\\xd0@\\r\\xb85x\\xbb\\xc5\\x93\\xd8%\\xde\\\\X\\xd30\\xa8^D\\xa2\\x94\\x91\\xf4\\x04\\x06\\xbf\\x99-\\xa4\\xc2\\xf4\\x0e\\xb1]\\x80\\xbf\\x7f#@\\xe5g<\\xe5\\r\\x93\\xaaDWy\\x01n\\xac\\xafU\\x8an\\xeb<>\\xda\\xe4*\\xc5\\x8dC\\xd7v\\x1e\\xa2\\xd6(\\xad]\\xf3\\x9b\\xe6&\\xe5T\\x8f4\\xa8\\x81\\xe4 \\x06\\x84c\\xb8\\xbe\\x03\\xf7\\xd4K[(\\x15\\x19\\x96\\xbf\\x9eW\\xea\\n\\x85\\xad\\xdb\\x12\\xc8u\\xaf\\xf1\\x0f\\xf1\\xf3\\x10RX\\x1f\\xfc\\x08\\'\\xd4\\xc9\\xb7g\\x0c9\\xe2\\xc0\\xc9]\\x0f\\xae\\xab\\xef\\xff\\x92]@\\xe4\\xd5\\x92_\\x16\\x07\\xa7\\xbd\\xda|\\xb5)p\\xd8Bv\\x1e\\x93B\\x9dJ\\x01\\x15\\xbf\\xc7\\x1d\\xf4\\xa00\\xdb\\n\\x8a`\\x080\\x04\\xf8\\xe68\\xa1\\xe4\\xfa\\x88\\xd9-\\xf9\\xd5\\xe4SWl\"\\xa6?\\xcf\\x97\\x87ra\\xd1\\x97e\\x0c\\x1f\\xe9\\xff\\x88\\xa3}\\xfco\\x00\\x1e\\xa0\\xf58\\x0cqi\\x96\\xa1M\\xd2\\x81\\xe8T-\\xf2\\xad5\\xfc\\xe0\\xd0\\x15\\xa3-\\xfca\\x84B\\x9bk\\xc1\\x98\\xba\\x07.\\xda?\\xdb\\x08\\'\\x96\\x07\\xd0\\x0f\\xed\\x05\\xa4\\xc6\\xa5\\xe3\\x18\\x8b$\\x12<\\x01E\\xe3\\xc2\\x8d\\xf3\\xa9(\\xd1\\xcd8\\x08N\\xe6\\x91h\\x13\\xae\\xba?)\\xa7[\\xc5\\xfc\\x12\\xe8M\\xbeZ\\x16\\xac%\\x15\\x02w\\xcf\\xc2\\xe5\\xec\\xf63\\x8cY\\x92Q\\x11\\xbc\\xc1/\\x81)`\\xbc\\xfc\\xdf\\xb4\\r\\x89\\xc1w7)S\\x00\\xc51\\x06\\xc1\\xdc\\xf5\\xf2\\xe1J\\xb05\\x9c\\xb5\\x93\\xd9\\xe6\\x0e,Y\\x81\\xe8\\xd3\\tq7\\xd9\\x04\\x11.\"\\xe5\\xe4$\\xa9j$\\'R\\xffa\\xb9U\\x8f[_\\x13Q\\xe3@\\x17\\xdc\\xd4DZ0\\xac\\x8b\\xaf\\xf6e\\xcf\\x10\\x979\\xbe\\xc1\\xf3\\x99GW*\\xd2\\xdf~\\\\+N,\\x0cB\\x99\\x06\\xf4\\x11\\x17\\x9d\\xe6\\xe5n\\xfdp\\xf1Q8,B\\x08\\x9a\\xb5\\xc0\\x9f\\xcet\\x08\\x11\\xe1\\xc4\\xc8\\xab\\x05\\xd52\\x9f.\\xff\\x08\\x93\\x92\\x19\\x8f\\x84\\xb6\\x10H\\x11\\xaaOo\\xa3v\\x9b\\xd06\\x14\\xfd\\xb5^\\xb2\\x8e\\x99nL\\xb8\\x1f7\\xe9\\x90\\xfd4\\x91@d\\xce\\x17XF\\xccP\\x87u\\xa4i\\x16^\\x84oY\\x95\\xa265%$\\\\\\xa2f\\xdc\\xc0Y\\x9f\\x91\\xb4_\\x98(\\xc9\\x94:\\xd6\\xcd?\\xf8{\\xb7\\xea\\xdc\\xfb\\xa2\\xf1\\x12\\x85\\x9a\\x0f\\x92\\xaa\\x98\\xa2v*\\xce\\x15\\xd8rQ@\\x0f\\xcc\\xb5\\x01\\xee\\xc5\\xe5\\xdd\\x19$\\xa0\\x92\\xba\\x80\\xb3\\xc4\\xadf\\xa6\\x11|\\x8b\\xc6,\\xe2\\xa1\\t\\x80\\xb8\\xd71\\xa5\\xe2!Sb\\xc8\\xbfHv=K\\x01\\x8c\\xf1\\xe2\\xf2\\xbdw\\xcb\\xab\\n=(P\\xad\\x80\\x08\\x82\\x82\\xfcG\\x1c\\xfb\\xb5\\x06h\\xedSk\\xf9\\xf4r\\xfaB\\x83J\\xfb\\x0f\\xa5\\xf9\\x8fN\\xd5\\x1fo7%\\x97\\x95\\x0f(^\\xcbc6\\xecY\\xbc\\x93\\xe5\\x84Z\\xd4\\xb1=\\xc5N&\\xf0/\\x0eV\\xd5p\\xabU\\xf0gH\\x01\\xc5}\\x0c\\xbf\\x97\\x8c\\xcb#\\xab\\r\\xb7f\\x08\\xc6]\\xbb\\xa2@\\xab\\xea\\xc9\\xabA4\\xea1\\xcav@\\xb2\\xa5\\x00\\xde\\x10\\xea)\\xd3b\\x15\\x9c\\xd7\\x83!\\xcaQd\\x0e\\xc5\\xca\\xf7\\xf3\\xc7)W\\xfb\\xd4-+\\xe5R\\xe3b\\xd7\\x80mJ\\xb6\\xb2]\\xce7\\x99\\xd2r\\xa5[\\xb4\\xe3X/n\\xb6?\\xd3\\xc2w\\\\\\xe4\\xec)\\x1a\\xe5:\\xecx\\x99&k\\xf1\\xe7\\xfa\\xbb\\xf5\\xf4\\xd9\\xc2\\xb7\\x89RA`\\x8b\\xd8\\x1f\\xb3\\x1c\\x95g\\x05\\xdd\\xa75\\xbf\\xb5\\x06\\xa9\\x00\\xda-\\xc4\\x1d>\\xe6)\\x1b\\x87\\xc1\\xc1\\xf2E\\xbc\\x8a\\xd2n\\x86\\xa0\\xb4[\\xf2\\xde\\x87\\xee\\xf3e\\xb9\\xe8.\\xa9\\xdb\\xca}\\x85p\\xaf\\xea*\\x05k~z\\xd1\\x9e\\xfe\\x80\\x92\\x0fe\\xfc\\x11I\\x899b\\x1a\\x8a\\xd8^\\xee\\xd7\\xc6\\xba\\x14\\xcc\\xec\\xbc\\xc6]\\xbf\\ty<V\\x19\\xcfC\\xc2\\xf8\\xef\\xe6]@of\\xe9%;\\xc0\\x07\\xf7\\xe7\\x8f\\x8ao\\xd2Q\\x87\\xa5<=\\x89\\xb3\\x81\\x9b\\xb0L\\x19a9\\xea\\xb1\\x043\\xd4\\xc7\\xf9\\xd3\\xac\\xac \\x05=\\x91\\xe1\\xad]?I\\x0f\\x1e\\xaf.*\\x9b\\x04x\\xa3k\\xcd\\xd4\\xe8\\xa9InY\\x074\\xca\\x02\\x00\\xc4\\x03\\xec\\x03\\xe7G\\xcc?\\xa2\\xb3\\xf5\\xd2\\xf8v\\xb9G\\x19\\xb6,\\xf2\\xb7\\xe9T\\xc6`O\\xc3\\xc0\\x10\\xa4\\xaep`\\xa1\\xfc\\x919\\x15\\x06~b\\x0b\\x8e(*\\x0cx\\xb6\\xd6\\xcdOb\\x83\\xc7\\n\\x86\\x07\\x12b\\xb7s\\x95\\x1d\\x8b\\xc4deB\\x95\\xf2\\x9f\\xc8>\\xca\\x1a\\x84\\x8b\\xf68.\\xc5\\xf8\\x17\\x03\\xf9\\xcfg+\\x8bT=X\\x7f\\x9e\\x96\\xd3\\x1e\\x91+\\x1an\\xc6\\r\\xb4\\x07q\\xa2\\xbf\\x0ch\\x91\\xd0\\xce\\xe9\\xbc\\xa6o\"\\xae\\xbe{\\xa8D\\xdd\";3e\\xce#\\xe9*\\'\\x15\\xdf\\xa4\\xba\\xb5\\x8f\\xda]=\\xf0\\t\\x131\\xc5\\xb9%\\x19^(\\xe2]J\\xfeiW}`\\x93\\x97\\xc4\\x1dJ\\x06\\x89\\xb4b\\xc82\\xa1l\\xb3\\x1e>\\x1e\\x0b\\x98\\'\\x9e\\x07\\x81\\xcf\\xdaz\\xca\\xcf{h\\xc2\\xb0\\xc4]\\xc9\\xaa\\xc0\\xa9\\x99C\\xb70\\xd6\\xfay\\xb6\\xf4\\x0edm\\x92\\'\\xa1\\xf0\\x8a.\\xe1\\x1bE#8\\x97\\x15\\xd8\\xd1\\xe9\\xfe=\\x17\\x06\\xf4;\\x13YJ\\x1a\\x94\\x17\\xd1L\\xf7?\\x8f\\xd6<-\\x9a\\rY\\xb4~\\x8f\\xa7LK\\x8cm\\x91\\xb05\\xd3\\x99\\xdb$\\xcb\\xc9.\\x93\\xa2v\\xabE\\xbch\\x85\\x01\\xd4\\xbd\\xccJ#.~\\xccT\\r\\xe5\\xaa5\\x99\\x99\\xf9|\\xcf\\xa8\\x06\\xe3k\\nV\\xcd#\\xb1\\xb9x\\xcb<5\\'\\x92\\x86\\xe0\\xd5\\xde\\xddt\\xa0\\xa9\\\\Y\\xff\\xf9\\xaa\\x8b\\x1ac\\xa9\\x8a\\xda\\xef6K%\\x18\\x96\\xe5?\\xf5\\xfa\\x8a)\\xeb\\xa4\\x8f\\xea\\x18\\xd2\\x91\\xb6\\x0e\\x15Y)\\xd4\\xe7\\xdb\\xb5\\xec\\x04\\xaa\\x05\\xf4bl\\x97\\x17\\xfb\\x00\\xd2\\xdf\\xa4\\x1a\\xdcf3\\x0cx>\\xeaFF\\x06\\xf2\\x82%N}\\xfb\\xe3\\x16TLd\\xf4\\x85U\\x16\\xafm\\x03N\\xec\\x95\\x87z#\\x0b\\xf3\\xaa\\x9c\\x1et\\x99B\\xdd\\x88g.\\x08[\\xe3\\x11\\x8f\\xa5\\x01$\\xa7\\xec\\x8d\\xcc]\\xe68\\xdf\"\\xcc\\x88/\\x01\\xcf\\xf7H\\x0b\\x8a\\xa2{m\\xea$6,=\\x0fU\\\\\\xd2\\xd2c\\x11\\xf1S\\xb5<N$!\\xd5P\\xa1\\x02a$ )\\xd4\\xed|#\\xe7\\x16\\xb3\\xad\\xb5D{\\x82G/\\x92h\\xb7nne#\\xc4\\x88\\xf0\\xa9\\x91\\xc8\\x86\\xfe\\x83\\x17?\\x96\\x06H\\x1e\\\\_^}H\\x90\\'\\xf2G\\x98\\x9f\\xbb\\x17\\xbf\\x9f Bt\\xe6\\x11\\x95\\xbd\"\\x19\\x1cAL\\xc0\\x95[\\xea\\xdd%\\xa2]\\x19\\xc3\\xb5\\xa7\\xa4G\\x1c\\xa7:\\x93\\x86\\xa3\\xd5u\\x8b\\xc1\\xb6\\xe3\\xfd\\xa1\\x95`\\x1a\\xc6,\\xd4F\\xa8Wf-\\xf7;\\xb0\\xf7\\xef\\xa6\\xac\\x99!g\\x02!EB\\xc2K\\xc7\\xc1d>\\xcf\\\\[\\xb7\\xdb\\x85\\x1c?\\x07kM\\xd5\\x80\\xde\\xde\\x96\\xf4*\\xa5\\x03\\xf8$X\\x85\\xd03}\\x810\\xb3\\x06\\xd5\\xb6B\\xa6\\xe4\\x8d*\\x99\\xe2\\xbfB\\xda6\\xc6\\xb8\\xc2zG{\\xf6\\xe4\\x96\\x15e\\x8a\\x06\\xd5(\\x1e\"\\x14\\xd5w_\\xce\\xee\\x8dL\\xab \\x8e 2\\xd7GJ\\xb7o\\xf6\\xb4f\\xd6\\xee\\x9f\\xca \\x07hoO\\x1a \\x9d\\xe5X\\x94l9\\x8c\\xf5\\x9e\\xc1z`\\xda\\x05\\xc1\\xef+i\\x9f\\xd1V\\x05\\xf1\\x14Y\\xa6\\xba\\xee\\xc9\\xe1\\x82\\x95\\xe0\\x92\\x14\\xa6\\xe1DZs\\xe1\\x1e\\xdca\\xad\\xab A8NUB\\x9d\\xaa\\x9cX\\x1fmkk4-\\xb3\\x1b\\xd5\\xdf&\\x1b\\xa5r\\xa5a#\\xf6\\xf5\\xd3\\x001\\x0c:\\x7f\\xa3\\xe0Xq\\xc3bu\\x1b\\xca\\x1e6\\xdc\\x08\\x86\\x13\\xa5\\x07\\xd2\\xb4\\xcc\\x11\\xcb\\xce\\xcbj\\n;/G\\xbam\\xaf\\x00I\\xbaY\\x05p\\xe4\\xd1\\xfa\\xf73z,\\xae\\x86\\xa5\\x0c\\xbdS\\x0f\\xc2\\x9d\\x0eEd\\x91\\xa2\\xa76\\t\\xbf\\xb1WDz.\\xdbG\\x1a\\xdf\\xf6%\\x166\\xb7l\\xa8\\xbf|`\\xe2\\xe6>\\xd7=\\xac|\\xf0\\xd7\\x07\\xfd\\xf0\\xf4~[P\\xf0\\xad~\\x83*\\xaa\\xa9\\xda%\\xba\\xdd\\xbc>\\xc8\\xde\\x17I`/i\\xc2\\x92\\xd5/S\\xd4\\xcb\\xe3\\x9f\\x157\\xaaZ\\xb0\\xffX\\xe3\\xdd\\x9a\\x1d\\xd7\\xa9\\xef\\xa4~e\\xfbr\\x92\\xf2\\x99a\\x1a\\x83\\xf4RN\\xa5<\\xc7\\xa7>\\xea\\xfc\\xe1\\xe0V.;\\xbd\\x16s\\xe29\\x16\\xb4\\xa1[p+P\\r\\xd5Ga\\xc96D\\x92&\\x07<\\x97U\\xa7\\xd8]\\x8b}]\\xcen\\xb7\\xe8\\xcd\\x01\\xe1\\xdd\\xe6D\\x1e}\\x8cb\\xc8l\\xe0|F3[\\xea]h\\x9e\\xfeq8B\\n\\x88\\xe6~\\x95\\x8e\\xb6j\\xac\\x944\\xe9\\xde:\\xb1\\xd5\\x99\\r\\xfb#\\xfdJ\\x82\\xb2\\\\\\xe3\\xd03\\xd7\\xd2\\xad\\xa7c)t\\xd4\\x8d\\x8b\\xdb\\xaa\\xab\\xe3e\\x10\\x0b\\x18\\x055\\xda\\xc4\\xdb+?\\x1b\\xa3\\xda\\x9f\\x0c\\xff\\x16O\\x95Us\\x1e\\x0b\\xf8\\xb7\\xf7\\xc6\\x19\\xbff\\x1f\\xeac>\\xa1\\xddY\\'\\xf7\\x80\\xf5\\xfb\\x87,\\x1b\\t_\\xadhXd,Z#\\x1f\\xfd\\xe4\\xfc(\\x9c\\xaf\\x1c|-\\xa9\\x99o%N\\x92\\x06Yw\\x17\\\\\\tQ\\xd3\\x14\\x19\\x90\\xb81m`\\xc6(\\x1e#\\xfa$Qa#K\\x91\\x87cBN\\x1a\\xaa0)|\\xaf\\x82\\x0c3\\xb1\\x94^\\xe8Qq\\xca\\xb6\\xa1\\xbc[\\x12 /LF\\x8e\\x827\\xb0\\xbf\\xdd9U/\\x1b\\xa07)R\\xc4\\xb5\\xed\\xc3Ij6\\x9dR\\xe0E6Z4\\x88\\xed\\xce\\xcd\\xe4\\xc7)\\x06l\\xe1\\xa5\\x8en\\xaeo\\x9e?\\xaf\\xaeW\\xb8\\xc2\\xb3\\x0b\\xc4k\\xd3vH\\xb9[\\x9a\\'ffkXI(\\xa1_{\\xa5\\xaf\\xa0f\\'.\\xe1\\xe6;\\xbd\\x8d:\\xca\\xb2s\\xf4\\xe2\\xf4`l7D\\xf7\\xa0N>&\\x9a\\xa9Wk`\\x95\\x0c\\xc9\\xb75\\xf4\\xb1\\xf8]\\xca<\\x9b\\xa2`\\xbe\\xb8\\xa9\\xd9\\xf5\\xec\\x9cT\\xeb\\xc1t\\x81\\xb7-\\xf5\\x18\\x1a\\x1dVK0\\xae\\x8a\\xfbN\\x8a\\xc6\\x81\\x8e\\xa5%\\x0b\\x84M\\xec4^O\\x0f=Z\\xe9f\\xe08+Z\\x16\\xb9\\x18\\xfevl\\xbd\\x9e!\\x9d\\xc3\\xb3\\xbe-9\\x17\\x9e\\xb6\\xd2\\x11L\\x03\\xee$\\x8fJ\\xf6-\\x17\"\\xa04\\xf1\\xef\\x949\\x9f\\xaa\\xf4L\\xefG\\xd8Q\\xe2.\\x04H\\x0e&\\xe6B\\x16-\\xb8\\xa9\\x89\\xe0\\x0b\\xeexC4\\xdfd\\x89\\x96\\x06h2\\x03\\xab\\xf8\\xads\\xff\\x90\\x96wD\\xeb\\xd5\\xde\\x93\\x9e\\xc5\\xe5\\xc2\\xcb\\xbfC\\xc1\\x08\\xad\\x87\\xb0\\xado\\xa0\\\\\\x8f\\x853\\x0b\\x04\\xc8+y\\')+\\xb6)g\\\\_\\xf6V8\\xccu.\\x13\\x80\\xb40\\xdd\\xce\\x1e\\x86\\x10?\\xa7G\\xc9M\\xdfd\\xe9\\xc2\\xc0\\xd6=n\\xbc\\xfd(_\\xf7\\xb4\\xc6\\x8c\\xd3)\\xad\\xf9\\xaf\\xa3\\t~\\xfc+\\xfb\\x1fa\\xf8 \\xf9\\xc7\\xfa\\xeb6\\xb0C)\\xfa\\xdf\\xb9\\xcf\\xd7~\\xb6\\xb2\\xc9\\xf5%;\\xaf-T?\\xcc9t\\xf9@\\x1d\\x86r\\xa3\\t\\x902\\xfcD~\\xa8\\x1b\\xfcc\\xb6 \\x0f<M\\xc1\\x06\\x99E(\\xad[\\x7f\\x81\\x12\\xe1\\x17\\x8c\\xb5\\t\\xb8\\xe4\\x1f)\\xc5ZZ\\xe1\\xb1\\x9d\\x9c#\\xcd)\\x10\\xf4g\\xa6c\\x14\\xa6\\xaf`\\x1f\\xed\\xb2\\xbf\\xb7ScEn!\\\\ifwP\\xfd;S=\\xe3\\x12\\x8c8\\x18\\xf1\\xb8\\xe0\\xd7\\xbe\\xc5\\xee\\xf60\\xd0\\xba\\xe8O\\xe1\\xab\\xb7i\\x0c\\x99\\xdc\\xd6\\xfdi|\\x17u\\xa9\\x8b\\xff\\x81v\\x8b\\xf0DH\\xd0l\\xd8\\xe4\"\\x96\\x7f\\x00BX\\xf9R4\\x92\\x97\\x83\\xf5,\\xe1\\xaf\\xd8\\x91A\\xbd.I*BV\\xf9\\xd7DEa\\xf8\\xd8m\\xb1s\\xf2\\x94\\x7f(\\xa5\\xb54\\xe4\\xf7\\xef\\xe9\\xce%\\x94]\\x11c~\\xec\\xb3\\xd9\\xcc\\x1b\\xd2\\x11\\x1bWvY\\xe6\\x96\\xe0\\xd6\\xfd~^\\x05\\x82\\x95v\\xa6\\r\\xf22\\xfc\\xad\\x10\\xcf\\xfcs\\x05>L\\r\\x1bQ\\x14\\x90\\x9c\\xfb_9|\\x92\\x154}Yl\\x15[X\\xb7;P\\x8b\\xfa\\xeaH2\\xd6~\\xd2\\xb9\\x01\\xda~\\xbb\\xedw;o\\xf6\\xcf\\xb1-\\x06!\\xe2\\xd0\\x94\\x8a\\x8d\\x14\\x93\\x99\\x06#\\xf8p\\xe0}\\x139W\\xff\\xabs!\\xbfP\\xc2\\x98e\\xf1\\x94+\\x1b\\xdaF\\x8dc\\xa0\\xed\\xedJ\\xd93\\xad\\xddH\\xf1\\x15\\xf8\\x1f:\\xbf\\xb6\\x10\\xad\\xcf06\\x8d\\xf9\\x99\\xfeHo\\xdfc{*M4\\xbb\\xa0\\x06\\xae\\xbd\\xbd$\\xf4\\x95UY_0{\\xa0\\x08\\xa2\\x11W\\xbf\\xed\\xf1\\xdb\\xa4\\xe7\\xa3\\x93rE\\xae8\\xfe \\thN\\xc7h\\xde\\xee\\x92q\\x00w\\x8c\\xd4j\\x83[r\\xd6\\xfa\\xbe)\\xa1\\xa8\\xe8\\x95a\\xe3\\xfdK\\x84\\x1bi\\xa8\\xec\\xf8\\xb1\\xcd5\\xb9-t\\x94TM\\xf1i_\\xee{{\\xb9\\xfb\\xb51D\\x1e\\xaf\\xf5\\xfd{9L\\x17\\xb1\\xfa\\x05\\x03S\\xb7\\xd2G\\x8f\\xce\\xb6m\\x94\\x05\\xb8Z\\x8a\\x82\\xbf\\x01!\\xa3\\x8e;nZ\\x9d\\xc8\\xbb#\\x9aM\\xbc\\xe0\\x92TK\\xd9\\x91\\xc6\\xb9\\xa4\\xff\\xd8\\xae\\x80\\xaew\\xe3\\xe3\\x81\\xe4E_6\\xfb\\xee\\xcfPN3\\xd7\\xed\\xe2(\\x06\\x93P\\xe6\\x84\\x83\\xc3\\x18\\xf6\\x90\\xcb\\xcf \\xd7\\xbd}f\\x9aG3\\x99\\xb8\\xea\\x1b\\x98\\xc1\\xa3$d\\x9ds\\xc4\\xd4\\xae>6\\x95\\x0b\\x8d\\x8b_[\\x8e\\xb6~\\xa9\\xc38\\n;C*\\xcf\\xadeFh(\\xf2\\xc3[6\\xe5\\xcdQ@X\\xcaR\\x93&\\xb8s\\x12<\\xad\\xd9\\x8fTt\\x83g\\x1c\\x12\\xa6\\x9bX\\xdf\\xf2\\xadZ\\xcd\\x87\\x98+o\\xde\\xfb\\xffi\\x9cb\\xdfv\\xb4\\r\\x1bVE#\\xe1\\t\\xd0\\r\\xa9q\\xc6\\x08\\xce\\xfe\\x99\\x7f\\x83!\\x15\\xa0\\xeb\\x8bZ\\x08\\xee\\xff\\xfc\\xe9\\xde\\x050$\\xc0\\x03\\x0e\\xbc3}\\xf2\\xca\\xf1-\\xc3X\\xc6\\xc8\\xe7R\\xc9\\xf4\\x8ff\\xfbo\\x10D\\xfcS\\xa0slm\\xcfh|\\xfd2\\xda3?G\\xf3\\xeb\\x873\\xcdd\\x05\\xa3\\xe9\\xec\\xcb\\x833\\xbc-\\xa3\\x07\\xe5K)\\xdd\\xc5Q\\xebs\\x96\\x8a\\x06\\xf3\\xeb(\\x12cB\\xba\\xd7\\x08%\\xd9P\\xbaL!\\xf4L\\x08%\\x05w\\'w\\xb6,\\xf97\\xb3%+\\xc3j\\xb7\\x99^Uk\\x14\\xae4\\xe4\\x1f\\xa7@\\xca\\x04\\xf7\\xcb\\xb5\\xd3\\x07\\xbb\\xfc\\xc0\\x91\\x07\\xb5\\xf0*\\xcf2\\xebQ`\\x1fQ\\x88\\xc4\\xdeW\\x1a\\xe2\\xddQ\\xaa\\x1b\\r\\xb0d[\\x8d#s8\\xd6\\x1c\\x91\\xbd\\xa0\\x15\\xf3\\x07\\xb7\\xae\\x04\\xc9\\xa8\\x8a\\xfc\\x85Z\\x15\\xaa\\x02\\t\\xfdc1\\x91\\xb3E\\x95\\x9bF\\x9b\\xdb\\x186\\xf6\\x98\\xe4\\xf81WXg\\x91w\\xd2\\x96;\\x16P\\x1aY\\xc9\\xa5wI\\xd2\\xfb\\xc9\\xa1\\x19{iY]iV\\x04\\xfc\\x92\\x8f\\x1d\\xe4\\xc8\\x14b\\xb3_\\xa7T\\x953\\x99\\xc9Q}\\x7f\\xa5mT\\xb5\\x8e\\xa5\\xa9X2\\xfe\\x95\\x91\\x80\\xb6\\xd2\\xfem\\x0e\\xf4)[\\xef\\x1e\\xf1q:\\xe4\\xe4(\\xd9\\xa3\\xdcq\\xd9\\xd8s\\xec\\x02\\xe4A&\\xab\\xb3\\xa2\\xa2Tx\\xaa\\x03#\\x15\\x89\\x89\\xf6\\xe2\\x7f\\xd6%B6\\x16\\x96|\\x05\\xc5y\\xa4\\x0c\\x06\\xa7\\x10X)d\\xa6\\x935\\x8e:^!S\\nI\\xda\\xbb]\\xfaH\\xcb\\x95\\xdb\\x9e\\xcc\\xcf(N\\x1d\\xf9YQ2\\xfd\\xfe\\x8f\\xb2\\xdb\\x16Lq\\xe91\\xb2\\xebr3\\x07\\xeaR\\xb3 ^b\\xb9\\x8f\\x15!>\\x06@b\\xd2\\xdf\\xfch\\xddQ5\\x0b\\xed\\x13\\x01dI\\xd8\\x98}[\\xfac\\xd1DB\\xf7%u}\\x1c\\xd0\\x08\\x01\\xf8\\xc8\"{(\\x81\\xdc&~\\xff\\x19\\xe7\\x85he\\xa6*\\x13\\x083,\\xaa\\xd9\\xc8A\\x91?=\\xd5}\\xaf\\x90h6\\xad\\x9e\\xc4?\"\\x0eT7\\x85C\\xa4&\\xd6\\x82I(\\x80\\x12\\xf8\\xedz\\xb2-\\x0e\\ni&c\\xd2E\\xc7lu*\\xdf\\xe8\\xcb=#-\\x8fRO\\xa6R\\xf6\\x8fA\\x9bQ\\x9du]\\xf0Ad\\x90\\xa1\\xd9\\x89\\xd9\\xcc\\x05}d\\x96\\xf4\\xb0\\xb7\\xc8j\\xf7\\xc0\\xd9\\xae\\x95\\x81J\\xec%\\x9b\\xd8io9\\xdba7+\\xa8\\x00{\\x89\\xc7\\xca\\xa4\\x0bW3\\x97\\xd0\\x14\\xdf\\xfa\\xe7\\x0e\\xa8\\x8c\\xabX\\xf7\\xd4\\xe0\\xb2\\xf3\\xe6\\xbc[=\\xe0V\\xb4+YwX75+(\\xab\\xa9?R\\xf0\\x1d\\x91\\x88\\x1e\\x82\\xfa\\x8c\\x08\\xde\\x084\\xe3\\x8eL\\xa9&\\x06\\x93\\xbe\\xea\\xae\\xa1\\x07\\x08\\x04\\'\\x95\\xfaK\\xc3\\xdc\\xc9\\x95\\xa2\\xa2\\xf8\\x86\\x89\\xc4\\xc7R\\xd1\\xc29\\x87\\x7f\\xd5\\xfb\\xc6w=a\\xb4bk\\xc6z2\\xd6I]\\xa4\\xb0\\x01\\xbb\\xac\\x7f\\xbe\\x91C\\xf7m\\xa3uG \\x98Q`\\x94\\xd8\\xfe_\\xfa\\xeb\\xa9V\\xcb\\xd2\\xbf\\xaaf\\x1b!\\xd6I\\xbc\\x16b\\xb9\\xee\\xa4\\xde\\x93!\\x9b\\x1c\\x1dR\\x06\\x11l\\x91E\\xd3\\x96|\\xebH\\xe3\\xa6\\x88\\xdf\\x01,np$\\xc6\\x9a\\xf2\\\\tT\\x84\\xa0\\x8bO\\xcf\\xf17\\x13\\x1a\\xae\\xce\\xe4^\\xe6H;\\xc91\\xce\"\\x1fe\"\\xb3}\\x0f\\x18\\xddB0\\xbb\\x0e\\x9c\\xd2\\xc4\\x9e\\xdf\\xf3\\xd1\\x08\\x92\\xb9\\xe6\\x94\\xb0\\xcc\\xe3_;\\\\m\\xfd \\xe6\\xff\\xf2\\xa5\\xda\\xef\\xd6\\xd5\\x9f\\x94\\x1eq\\xcaWf\\xb72Q\\xd4\\xf6v\\x9e`\\xc0\\xaa3\\x96\\xe1\\x81\\xbd\\x194\\x03\\xc9\\x9d\\x9b6%QSM\\xeb\\x00ys\\x85b\\xe6\\x05@\\x1cf}\\x01\\x9bv\\x92\\xf8\\x9ceI\\x99=\\xb62\\xc6\\xce\\xf4\\xaaI\\x04uJ![\\x83\\xdeYT\\xd6\\xfa,F\\x86\\xb7.\\xbb\\x04\\x83o\\xe8\\xaf\\x039\\xd3\\xf4\\xc5\\x91=\\xae\\xec\\x89\\xf6\\xd7`!#lBn{ZZ\\r\\xb6\\xdd\\x1cP\\xe9&\\x12:\\x8c d\\xdd\\xe1\\xb5\\x7f&\\xe2\\r\\xf1\\x07\\x80@\\x0c\\xfbj\\x04&}%\\x897x\\xee\\xa0\\xa8~2\\xaf\\x0c?#\\xbfw\\xc5\\xf0\\xc8kS6\\x1b!\\xeb\\xd6\\xee\\x19,\\'\\x1a\\xc8km;\\x8d\\x91PP\\xd5L\\x10\\xa4l@\\x1f\\x18\\xb75\\xf6\\xd8|\\x9d\\x8aW6\\xeb\\x8d\\xe6\\xe3F3\\xe2F\\xdf;\\xea\\xccv zf\\xd8\\xe8k\\xd6}WZ\\xb3\\xff:5|IF\\x84\\xecm<\\xfd\\x13M\\xc5\\xf4\\xc0NV\\xb0\\xe50c\\xee\\xf46\\xff#\\xd1\\xb4\\x8c~\\xd0z\\xbb-\\xc2\\x17~(\\xbeG\\x01\\x90\\xec\\x96\\xaf:\\x08\\x84\\xeai\\x89}\\xc7e8\\xf1\\x13\\xc0\\x95\\xec\\xb4~\\x8f\\xfb\\xb9\\xf3\\x82\\x8f\\xe3\\x05E\\xe2>3e\\xa9\\x8e\\x9a\\xfa\\xa3+_\\xe8\\x95\\xf3\\x0e\\xa3Me[H\\'\\xad\\xc9\\xa7EYB\\x10@\\xd2s\\xaa\\xce\\x11\\xb1A\\xb2\\xa0{\\x18 ,\\xfb}\\x96\\xf1V{\\xfb\\xa1!\\x96!\\x96\\xe4S\\x08\\xf8\\xca\\xc85K\\xc8\\xa4\\x97C\\xaa\\xc8\\x8e\\x17\\x7f\\x9c\\xff\\xcct\\xbfe\\xdb] \\x83o!\\r|\\x0b\\xe1B*\\xeb\\xd2vF\\x96\\x1e5\\xbe\\xeev9\\x88\\xcfm7E\\x15m\\x89+\\x1au\\xf2m\\x84\\xdc\\xaf\\x8d\\xf0\\xee\\x96\\x98\\xc1\\xe8\\xa1\\x86w\\xea\\x8d\\xa6\\xc7\\x89Z\\xc5\\xea38\\xd2\\xfdv\\xb4\\xaf\\x05\\xde\\x1d{\\xb7\\xfbn\\xcb\\xea\\xa3+\\xa9,P\\xb0Y\\x90\\xa8,\\xa3\\xc1\\xd5Y}3\\xc6\\xb3\\xfe\\x97\\xa9\\x19\\xa5\"\\xd1\\x02_J[u\\xfeu\\x94\\x92I\\x0b\\xa31h\\xb1Dg\\xfcG\\xe5q\\xd6U\\xdbt&edr\\xcb\\xc1%f\\xfc\\xfb\\xf8]\\x7f\\xc3\\xbc\\x04\\xf3\\xb8\\xfd0\\x94\\xd3\\xa5;\\x01\\x9e\\x86B\\xfb\\xe4]\\x12\\x16$\\xc9\\xb6\\x91k{\\xfd\\xb8c\\xc4M\\xa3\\xa6\\xd9$p\\x8cu\\xddI\\xa6Z\\xe1\\xc7H\\x16\\xe4\\xbf\\xa178\\xea\\xf3DW\\x05F\\xce\\x8e8\\xfd!M\\xf6v\\x07\\x1b\\xc8\\xde$\\xbf0\\xb8\\xbc\\x1b Ot\\xbeD\\x00\\xce\\xc8\\xf5\\n\\xbbg\\x8e\\'\\xb3\\xea\\xb6\\x99\\xfb\\xcfLq\\xfdHr\\x8fJ\\x14\\xb7\\xff:\\x14!,\\xd0\\x87\\xeey{\\xa4\\xbe3\\xcd\\xa7\\x1e\\xb5\\x8f\\x9f\\xb7/\\x80\\x99M\\xdb(Cd\\xa3\\xa9N\\xd7\\xea\\xde4\\x8fS\\x8e*\\x1c\\x8b\\xcb\\x91\\x9d2!DRm\\x91\\xc3\\xce\\xfb72\\xcdP\\xcb\\xc8\\xab\\n\\xcd9\\xce\\xcc)\\xa7\\x9f6pGYr$\\xa0w^\\\\K\\x03\\xdd\\x99\\xbd%{nB\\xf9;\\x9a\\xafCt\\x89\\xee\\x15\\x8d*\\xe63\\tF\\xdfY\\xb9Fjd\\xd4\\xef\\x80\\x9e\\x04\\x9a\\xd9\\xd0\\x16i\\xcf\\x0e\\xc3\\x8al\\xbfSM\\xd3<\\xdeb\\x915)\\xec\\xe7U\\xa8\\xdd\\x81W\\x96B\\xee;\\xb2\\xe7\\x99\\xa9\\xea\\x91a\\xf9t,\\x1f\\x85x\\xc7\\xe3F\\x00Gy\\xd8XZ\\xf6qS\\x8f\\x93\\xfcA\\xd0\\xc7&\\xff\\xe7\\xef\\xad\\n:n\\xf6s\\xf3\\x02\\xc7qJ\\x15\\x9c\\x13zo\\xe3\\xc0\\xd7]\\x9c\\x142\\xde\\xd4;\\xbb\\x03\\xb4\\x8d\\x18\\x98\\xe9\\xab\\xd0\\x13\\xa8E\\x1d\\x06\\xc7\\n\\x0e\\x9c/\\x84\\xd7\\xd1\\xc8\\xcb\\xa4\\xd4P\\xe4\\x8a\\xf2\\xdcCu\\xd3\\xd4\\xbaJ\\xbe\\x92L\\x8b\\x02\\xa3F\\xe9\\x0c\\x93\\'\\xb32\\xf7\\x93\\xeb\\xed\\xcef\\xcc\\xf7\\xa3d\\x1c\\xcd\\x7f\\xbe\\xe5{\\xf5\\xcd\\xf3\\x9a\\xffo[\\xbfB\\xe7qBp\\xa6\\x85}9\\xb0\\xe4\\xd5\\x99\\x85\\xee\\x00\\xe1q\\x02G\\xad|\\xfc\\x8c;\\x13\\x10\\x02U\\xe9\\xd8\\x97*\\xe4n\\x1e\\xe2\\x1dH\\xc9\\xa8XF\\xf1<\\x99\\xafsH\\xf8\\xc5\\xe7\\xb6_\\xb7\\x99\\x83\\xf1\\x0f^\\xab\\xb9\\x92TK\\x92N\\x1a\\x8c2\\x92i\\xba+\\xdbX\\x98\\xfeoE\\xb97\\x08wn\\xe7\\xaaG(\\r\\xd1\\xf3\\xb3\\xbdb\\xe5U\"M\\x0c\\xbd\\xcb8\\xac\\xc7\\xf77KJ\\xd7\\x83h8g\\xde\\xfc\\x04\\xa89\\xc3e[\\xf3\\x9b\\xf7\\xbd\\x1crOr\\xbd\\xc1@K\\xbf\\xfd\\xc9\\xc4\\xe2\\xc5<\\x15\\x10kG&kc\\xdf7\\x1eL6W\\x1e\\x1f\\xe7\\xbbCH\\xf4\\xb2\\xe2,\\x0c\\xa1\\xe1\\x81\\x8a\\xd7\\x9b\\xe4\\x98\\xd4\\x96~l\\x86\\x81f\\xca\\x8d\\xde3\\xbf4\\x9ct\\xc9`\\xf0\\xd5B\\xb5A\\xcb\\x00\\xfa\\xcc`\\xff\\x89\\xd2\\xe7\\xdbP0\\xd4Y4\\xbap\\xd7\\xc6\\xa1\\x00\\xb6c\\xd6\\xcc\\x96FFk\\x19g\\xc9\\xc8(]\\xfb\\xd7i\\\\\\xe4_\\xf5\\xbd\\xbc\\xf0\\xe0l\\x1b\\x13\\\\\\xb7\\xa6\\xde\\xf0\\xe47\\x93UQ\\xe1\\xb6\\x1e\\xc1\\xd4\\xe5}\\xc3h\\xe7\\x1d\\xa6\\xbfN\\xe7\\x1d\\xef\\x8f\\xf4\\r\\xfc\\xbdS3\\xa8O\\xa6\\x17\\x9e\\x1a\\xa2*#\\xbbu\\n\\xce\\xbe\\x07\"a\\xce\\xc8\\x83\\x13\\x93u\\xc9\\xe7Xq\\xdb\\xb3+\\xca;\\xd2\\xf7\\xb2\\x00\\xcd\\xf4\\xfd\\xd6jb(J\\x14\\ryO\\xfb\\xe7\\xf6B\\xd2\\x81\\xe5\\xa0\\xb7\\xe7\\x99\\x06Q\\xa0eDF\\xd7O\\xa6/\\xe3M\\x95\\xac\\xd7w \\xecT\\t1\\x0c\"\\xea\\xee\\xce\\xf7\\xde\\xd9q\\x80\\x11\\xecW\\xc1\\xfd{\\x1d\\xe0\\xbad\\x12\\x8b\\xc0\\x1b\\x95\\xda\\x8c\\xc5_p-_#\\xf88\\x95\\xbf\\x9c\\x8b\\x89\\xcfQ\\x17\\xf3S\\x06\\xfaV$\\x17\\xf2\\xa7\\xe1\\xf9\\x8c\\x08\\x88K\\xe6\\x9c\\x93:\\x8e\\xdf \\xe54+\\x0cz\\xb7+s\\xa7\\x89\"\\xc7kO\\xfe\\xcc\\xcb^GlW\\xac\\x87\\x7f6;\\xd7\\'!J\\xa5\\x0e\\xf7\\xdb!n\\xc6|\\xc2\\xf4J\\xb5G\\xf4S(\\xd8M\\xa0i\\x9e\\xc1\\xcc\\x0c\\xa3\\x8e\\x96\\x17<\\xbb\\x95\\xbf\\x1469\\xc9\\xe4n\\xd3\\x80\\xe0\\x8e\\x9f\\x0f\\xa1y\\xa8a;\\xc1\\x81B\\x9dJd\\xdf\\xe6\\xbac5\\x8c\\x0b\\'\\r{`-\\ndw\\xd5\\x99\\x9bxv^\\x14\\x18\\xce,\\x08\\xec\\xe7\\x98P\\xc5\\xc2\\xdb\\xd6iiI\\xb6\\xfe\\xf7:(/\\x03\\xf6o\\x8fF\\xcep\\x9f\\xf2x\\x7f\\x9a\\xbd\\xd0\\xc7c\\xdb\\xc8\\x94\\xb6g\\xb1-\\xc8\\xd1z\\xde\\xe4aF\\xe4\\x0e\\x14\\xdb#\\xce\\x008CZ\\xb7&2\\x06\\xda\\xf6\\x1d\\xd6;2f\\xc1\\xf78\\xbfc\\xeee0he6\\xe1\\x93\\x90\\xc9\\x84\\x13\\xce\\xfa\\xa8\\xba\\x9fm\\'\\xdea\\xe4\\xbcF\\xd7\\x1c\\'\\x85\\xedf\\xac\\xd4\\xb2\\xc4\\xb9\\xedV\\x87wVh\\x8aS\\xc7W\\x15\\xb8\\xd5*b\\x9a\\x83\\xee3\\x93\\x1cc\\xddE\\xca\\x07M\\x0b788#\\xde\\x11\\x19\\xefk;{*\\xae\\x06y.\\x1fb\\x16\\xe5D\\xef^\\x11\\xb9\\x8c\\xa3\\xda\\xf9\\xe3\\x1bs\\xf6\\x9d\\xf3\\x82)\\xbb\\xda\\xf4\\x99\\x1e!:sM#\\x12\\x11\\xf037\\xb3\\xb8\\xbeO|\\x90\\t\\xb3\\xa9;\\x10\\x92\\xb6~\\xcb\\xab\\xadia:\\x90\\x03Qp\\x8b\\x96\\xbf\\xfb\\xbf\\xd6\\rY\\x87\\xf1\\xc2:\\x1e^\\x9dc\\x96\\xd2\\x16\\xa6+\\xae;\\xf9rP\\xf3\\xfd\\xb1y\\xce\\xe3{\\x8c\\xb2\\xab\\xae0\\x95\\xa1\\xea\\x14\\x9e\\xcb\\xb2\\xff\\xe7\\x98\\xb9oZK\\x95\\xe7[\\xa3-$\\xd0\\xf9\\xa7\\x1eZe\\x85LY\\xcc\\x98\\xdf\\xfe\\x11\\xc2-\\x85~$\\xb3\\xf8w\\x85\\xf4/\\rg\\x93\\xces;\\xc7#,\\xeb;\\xc3\\xe2W^\\x88\\xf2\\xb1;\\xd8\\x8d\\xe8\\xe7\\x1cP\\x9d\\xffs\\xf9\\xa5\\xd5\\xf4O 7\\xbe3\\xae\\x0e`\\xa3\\x97r\\xeb\\xa3r\\x99\\xb3\\xb3\\xd1\\x83\\x04q\\xa7b\\xa8\\x03\\xdb\\x9d\\xde\\xdbNI\\x8cL\\x83\\xc2\\x96\\xb8\\xf7\\xd3|\\xa9\\xd3Y\\xfc\\xaa6\\x8e\\xf2\\xeb\\x8a\\xd0\\xf7k\\x83\\x8c\\x19\\xc0QF\\xb4\\xb7\\xfb\\xadsa>\\x80\\x8c\\xe8\\x9b\\xdfE@l-\\xd8\\xb3^yMOq+\\xd3st\\x1a\\xf7\\xb2E\\x92\\xda\\x0f,\\xff\\n\\xe0\\xd4`\\xf3\\xfb\\xb8)\\xb5\\xfbc\\xff\\x16\\xaf\\x99\\xf7m\\xa6~\\xcd\\xe1[q\\x95jQ\\xd6v\\n\\x03\\x81\\xae\\xdd7\\xd6pMGP7/\\x03\\x07\\xc1\\xff\\xc6m8zJXq\\xd3\\xe6\\\\\\xbf\\xea\\xc99;\\xde\\x9e\\xa9\\xde\\xcc\\xa5\\xe8\\xb0\\xd1\\x06zz \\xa82k\\xfe\\x1b\\x05\\t\\xf8\\xf7\\xf8\\xd2\\n\\x17zj\\xb7\\xcf\\xce\\x1c\\x1f\"\\xff#\\xbf\\xf4\\x05\\n\\xe4O\\xe9\\xfe\\'\\x13\\x86\\xeb\\x8a\\xf3\\xc7jR-\\x8e\\xb7\\x98\\xeel\\xbf\\xae\\x04eut\\x0f\\xc9\\xe2\\xbe\\xeb\\x19\\xd1<o\\xa27[D\\xc8d-\\xef\\xc8Q\\xf9\\xb6n\\xfbr\\\\\\xf1P\\xe6\\xe6|\\x8c\\xaf\\xfa\\xd8\\xbeR\\x03\\x9b\\xf7Erg\\x89\\xec\\x7frx\\xff\\x1fK\\xe4\\xa5\\r'"
      ]
     },
     "execution_count": 23,
     "metadata": {},
     "output_type": "execute_result"
    }
   ],
   "source": [
    "hll_res_1"
   ]
  },
  {
   "cell_type": "code",
   "execution_count": 41,
   "metadata": {},
   "outputs": [
    {
     "data": {
      "text/plain": [
       "[0, 1, 2, 3, 4, 5, 6, 9]"
      ]
     },
     "execution_count": 41,
     "metadata": {},
     "output_type": "execute_result"
    }
   ],
   "source": [
    "sorted( set( [*[4], *[ *[1,2,9], *[3,6,0,3,4,5,3] ]] ))"
   ]
  },
  {
   "cell_type": "code",
   "execution_count": 17,
   "metadata": {},
   "outputs": [],
   "source": [
    "ks = [ [1,2,3], [5,6,0] ]"
   ]
  },
  {
   "cell_type": "code",
   "execution_count": 18,
   "metadata": {},
   "outputs": [],
   "source": [
    "dicts = [ {'k':[1,2,3]},{'k':[5,6,0]} ]"
   ]
  },
  {
   "cell_type": "code",
   "execution_count": 24,
   "metadata": {},
   "outputs": [
    {
     "data": {
      "text/plain": [
       "[1, 2, 3, 5, 6, 0]"
      ]
     },
     "execution_count": 24,
     "metadata": {},
     "output_type": "execute_result"
    }
   ],
   "source": [
    "[ i for item in dicts for i in item['k'] ]"
   ]
  },
  {
   "cell_type": "code",
   "execution_count": 20,
   "metadata": {},
   "outputs": [
    {
     "data": {
      "text/plain": [
       "[4]"
      ]
     },
     "execution_count": 20,
     "metadata": {},
     "output_type": "execute_result"
    }
   ],
   "source": [
    "sorted([] + [4])[:4]"
   ]
  },
  {
   "cell_type": "code",
   "execution_count": null,
   "metadata": {},
   "outputs": [],
   "source": []
  },
  {
   "cell_type": "code",
   "execution_count": 18,
   "metadata": {},
   "outputs": [],
   "source": [
    "hll_empty = HyperLogLog(0.01)"
   ]
  },
  {
   "cell_type": "code",
   "execution_count": 19,
   "metadata": {},
   "outputs": [],
   "source": [
    "hll_empty.__setstate__( HyperLogLog.deserialize(hll_res_0) )"
   ]
  },
  {
   "cell_type": "code",
   "execution_count": 20,
   "metadata": {
    "scrolled": true
   },
   "outputs": [
    {
     "data": {
      "text/plain": [
       "SortedSet([68212472561497, 73925000420021, 80522207739778, 85522977043211, 86931337448449, 100429775376016, 209275222981081, 209379320728435, 269542651808245, 272191633065337, 273602444985899, 296956572541259, 320124233505549, 368751768956057, 383900932772255, 404232668642753, 432906042983141, 551784116153187, 585241044815507, 589622698271821, 593802653265191, 617625761528477, 702708316240812, 750265297240288, 818220131557604, 829964708291522, 860064423935864, 870167925519729, 885412800698917, 908434678568519, 928454994305924, 1050736401766774, 1065371659463202, 1086720445680158, 1100053267012015, 1157707423763917, 1201159702845172, 1231008551396390, 1240131974531118, 1266897712410056, 1334197784392432, 1346203853569871, 1398938594564253, 1430840485705120, 1441156722727881, 1464889496914871, 1531284424654477, 1569553701087434, 1620009991909992, 1677239591388295, 1749036952987414, 1758714626557807, 1760892470853875, 1775701640961297, 1837111425748408, 1842236262964190, 1852644346844128, 1858063460595447, 1876214179784290, 1915995697857231, 1946009100689584, 1946455158083666, 2016196431952870, 2040886332726361, 2049278433482958, 2070491991036220, 2082129311141718, 2128166676009219, 2184541565149935, 2200585690902920, 2227884668068199, 2257159705371731, 2299680771014846, 2337076077762612, 2345442036702388, 2378651908678893, 2443949664164807, 2466026227560929, 2504065414871272, 2505551033883980, 2506683914190639, 2516293008245115, 2579814152618252, 2715227101164961, 2752077873540640, 2753926109810193, 2772096914443486, 2843183200910875, 2847162543141900, 2884216422769777, 2889151095380661, 2895518704621017, 2965320946160285, 2969048444228001, 2970557016713844, 2990689773458741, 3041254223949609, 3052196777940164, 3072602943898580, 3091839447796871, 3093884869415710, 3096982264930882, 3129845589483256, 3159760972508394, 3184090622692013, 3259478034907858, 3303374226174937, 3362111636009697, 3362630634910793, 3433750999644309, 3503641861685043, 3516724088031370, 3542585548645542, 3559430269682422, 3658410148335072, 3693319323614614, 3717156663677818, 3730923538342730, 3743813746819033, 3744451837340072, 3751536293175156, 3760769877575499, 3765785755218652, 3773825512414050, 3787821494356070, 3791338822094170, 3821373041723411, 3827509361555198, 3846058396769174, 3850918553091908, 3905076677000142, 3907085358716885, 3928482419642624, 3970626995273082, 4024498656273985, 4109154547484335, 4174876146240779, 4179826621963899, 4206687032904891, 4288911273684963, 4320394216625175, 4351661868276546, 4387870449246518, 4389435740100090, 4404238650777170, 4404714191832113, 4433906944686698, 4444620500325980, 4455464857463208, 4466970514649199, 4616813084408161, 4634208569671659, 4649722605734706, 4659789009095727, 4660240189469098, 4741941600394591, 4743557085273375, 4773587496760675, 4781948211442650, 4784580611584076, 4790690486680534, 4857705475640484, 4917263012951543, 4921950220641016, 4949958944630711, 4951700302014290, 4953213771597702, 4987350873231531, 5008346992543591, 5111408131947012, 5269905786223269, 5306315025519189, 5317818598981025, 5372956519387628, 5398344519301503, 5467071717386963, 5533139599081282, 5566199743068919, 5660415260468550, 5663041491496631, 5711063658821783, 5727362392512895, 5797165044695139, 5905064718460415, 5905627509845794, 5924554610181847, 5932668535688059, 5972117016837376, 5978165800142238, 6019435386276042, 6180465791828079, 6183559045816917, 6202500784139332, 6213338864203479, 6270914443797035, 6382508745954398, 6382557283390545, 6384269177703982, 6407406556589862, 6413482761714791, 6455690881025385, 6458156669206868, 6473890246590622, 6499006963872325, 6518020964694292, 6529637649217461, 6607012269954170, 6622513647039612, 6628191761382221, 6642933492672391, 6647372897993458, 6656764502256518, 6658620610844244, 6682982344777832, 6683562829994683, 6700058618975373, 6710554308997060, 6716691384560173, 6737548949996203, 6748921786723808, 6782055422867585, 6801727652169588, 6812055425424942, 6815728827748191, 6855441973779599, 6864851172419310, 6894803097954997, 6918454733827157, 6935812823044217, 6938205797321936, 6994148870973184, 7091434107754354, 7102066600605213, 7114992830968022, 7134566852830825, 7184603146151468, 7185062318305432, 7220028227871411, 7256381660896096, 7260003985977611, 7261667688818353, 7275449144497560, 7312070548544435, 7320182262041215, 7324738019280898, 7332150349323599, 7333705725068042, 7367175509399437, 7374683549648565, 7409232422593259, 7411235997027954, 7425853885560066, 7430596119521472, 7437795713024812, 7492143294813952, 7499790016433770, 7593799909413737, 7596229933477428, 7651521570918454, 7676823801678808, 7689302289751239, 7798540627032798, 7841370932227328, 7859543508914751, 7859810858957968, 7864014869222450, 8035238264688875, 8079820246993026, 8195574890346546, 8246939148072779, 8259609953982445, 8304006657411307, 8306430045008910, 8380069194123982, 8441395954935909, 8486799777340709, 8531500664018148, 8538220395437652, 8577639237877347, 8585822862293391, 8587220315734222, 8593926524255366, 8615986370927556, 8641060096724615, 8690694265837155, 8702213653397653, 8708562155373801, 8720481526059453, 8793362689933990, 8820944727810465, 8834145339693076, 8972830196275075, 8984926615601321, 9018769154103946, 9033275005036879, 9039497129763655, 9072079078367460, 9196250444298880, 9265874939660970, 9278692869146911, 9299310299508758, 9360182345860476, 9385209222907056, 9403401286470455, 9420482978866706, 9443948460016320, 9453499185592717, 9461944965907388, 9469460104467519, 9526565782574555, 9526895756559050, 9527367004425862, 9528221494239471, 9549807015837042, 9573968745840299, 9631632165378326, 9646531941771779, 9666375182313983, 9667065228628808, 9677267749424014, 9680573680559243, 9689758729324896, 9701521613177121, 9721942837076325, 9738512813489244, 9764916434759006, 9768245939946431, 9810783153737375, 9886685538825580, 9890955643930206, 10018214809609235, 10068240414092108, 10146501198278146, 10151379720594498, 10223975253601463, 10246167301622115, 10268307581725956, 10279418940577573, 10312052837538414, 10361953678635984, 10381246866376511, 10407397660508626, 10415818228758320, 10423574112847904, 10428245128346578, 10449009941718193, 10471228424105624, 10540323391321615, 10567184928851567, 10567598428145893, 10586647369610999, 10649259597252768, 10667239708768909, 10680854041280309, 10695298610055898, 10728026288541913, 10758137423554565, 10795386697807763, 10818964202772613, 10828711759807972, 10856656043370867, 10872525207589426, 10949520642571025, 10956587804910073, 11033783384060326, 11047863805692763, 11069599411491217, 11116200640238402, 11125738699821574, 11142539006101273, 11147955341914880, 11156827395187206, 11225363166614002, 11274902174732492, 11275861726714345, 11276299107669861, 11291792834025965, 11316951233969300, 11348343039480226, 11354478884320359, 11394841541904454, 11395716826007054, 11456570406557134, 11479992985044027, 11486170346433255, 11661323126102655, 11704057829033224, 11714934303763380, 11721123386812268, 11749484620694226, 11749905708985512, 11759845795774972, 11781583489708394, 11827705244955931, 11850575602009867, 12036623870189587, 12041028897880324, 12053348517300612, 12067811911996865, 12083530369206824, 12145073510727787, 12188018223327362, 12194443521722379, 12237908084627708, 12293993755402422, 12299772750455631, 12323132314060760, 12335216461612044, 12341364608857505, 12384319096869894, 12390784144954786, 12415441267219867, 12472579655239895, 12484409458536339, 12490379188301453, 12573302168070737, 12584282094811375, 12592194145664130, 12657458026596864, 12661455841300404, 12679687904856683, 12688658987822575, 12751718347229621, 12766546073492099, 12776495894987326, 12817193178403968, 12861213867311500, 12902897173240179, 12916102917520367, 12997663172609522, 13010677350791822, 13109070928450551, 13143338871669670, 13154884025697885, 13189594438847060, 13207522891674799, 13244391816797078, 13264244076273064, 13274153455988434, 13303962884557916, 13332213385558223, 13402214661064628, 13416436844147657, 13461881599120025, 13468472942527517, 13531207070060532, 13536770975606081, 13549570276661718, 13600036298886596, 13625178835661509, 13635371974706596, 13636179020153774, 13640661275840223, 13644530836817063, 13706973514086553, 13770592063533228, 13829064197064709, 13879793224813921, 13922655860711238, 13929063902204104, 13955994319415091, 13964254540409013, 13987283814213092, 14004718168117476, 14042234219078113, 14046541411829723, 14111923288657248, 14173437561867716, 14176868056973235, 14214533464096790, 14257739633032095, 14262888572738889, 14275339964037445, 14277924298726052, 14311459583450182, 14314843673659421, 14341340522182197, 14356348578507994, 14396119200562686, 14446851951966463, 14451483036774470, 14470891483623968, 14539552867577576, 14543160349038369, 14544499873542838, 14553724955558109, 14574726646591457, 14582744739142036, 14601767769097306, 14633416257644803, 14648814655189587, 14696070706222354, 14750925698942698, 14754758895783659, 14755404471737003, 14817305225605736, 14857991156049773, 14906738224430864, 14913596503521603, 14934541759159377, 14936119774273779, 14985722559866132, 15023811138949167, 15030556312706281, 15109597817249143, 15156298761476556, 15158190084722197, 15161394359961623, 15216674253564866, 15221371240382558, 15225533610366585, 15231120822236075, 15275236474048591, 15284262161015175, 15290036078178952, 15297495400558222, 15396216598290475, 15434709972650348, 15447451288770800, 15483706994982865, 15489804253988376, 15530912256628522, 15535335228334973, 15586529147855648, 15633335627513548, 15640513644622226, 15677290813473072, 15680009783305435, 15686572161252584, 15789914562911144, 15813930985773223, 15859769114234601, 15906543203438691, 15913085011083371, 15915965653176386, 15945221139380560, 15946488293617616, 15993066727423605, 15994272440120298, 16042428554475928, 16063919674451856, 16093792788423635, 16103949641260557, 16184753831409031, 16205990983419401, 16235497269077447, 16238049698199393, 16281940626580211, 16309836936734694, 16423104111871608, 16425308641269587, 16452993672382621, 16469036597827012, 16499308938054872, 16524750290558030, 16542209285155416, 16562938559681890, 16657705496921485, 16711678478932741, 16756568613162430, 16775532627220514, 16783752013115214, 16796323368741706, 16797410354516980, 16838442515887637, 16895861129808560, 16900152138112552, 16913144245531183, 16967655399457351, 17006000232124209, 17019646794477454, 17027796835523623, 17114100828848412, 17130644168506639, 17145817247238596, 17171506288834509, 17186131302619537, 17209668465621524, 17226408304919086, 17230457159596072, 17244558874685697, 17279384449227051, 17284913494936789, 17378709704250659, 17389439231262706, 17481028994448169, 17504743785449616, 17511647336192822, 17543480057492164, 17582717960011685, 17593145911979858, 17606724971021679, 17623227698267457, 17732192883081608, 17736116249557098, 17741383256215883, 17784304847759982, 17798095722550055, 17826810311017980, 17847416898522741, 17910417491108186, 17969185619213406, 17976122867003144, 17979943273305529, 18068690554271585, 18110122186963626, 18154604731060124, 18160992992123608, 18184915143384792, 18193560319726552, 18236331304421135, 18256447273335368, 18262221259953272, 18309209824842434, 18311016370120861, 18340944758943228, 18433569100626725, 18438797624935114, 18443721781852898, 18479142385533340, 18543447718350184, 18582529029315431, 18597946154924613, 18601361691084777, 18601957227391591, 18629404174760510, 18685978993059355, 18779790676512995, 18786086924832294, 18817561802079432, 18876179946497875, 18886724746607666, 18953631278861373, 18974971670414031, 19095483737208070, 19114574668784868, 19142338206171169, 19180673738122520, 19242039764425172, 19277685357759336, 19281340909217945, 19312668766803197, 19333346276595706, 19480520203690499, 19524085507797614, 19545508004936502, 19603135239788263, 19617833963273811, 19691400625021083, 19696422092406736, 19698957724318268, 19726229038773373, 19760529252983099, 19780027238822760, 19801922284486936, 19823828802139679, 19863034568349631, 19897423969065422, 19945402171999018, 20004127464014839, 20055167563326661, 20090804121659115, 20091616095681529, 20091973981986893, 20110074591307162, 20111793544838023, 20119747251341309, 20123320213944495, 20128663306460884, 20152193281920225, 20158034656900654, 20160152213103049, 20164460231167531, 20199949105851140, 20268820487669071, 20278890053658620, 20304354985673155, 20374465455269942, 20419005210917519, 20427177386197531, 20544649828667833, 20662679372677646, 20668028561555427, 20691608449118706, 20757668614500319, 20773196611942781, 20809168201512863, 20827251810385387, 20839312831297577, 20896202515799543, 20906999251371945, 20908446443118547, 20910703416229291, 20917434274244044, 20953231327452562, 21003818680510893, 21004515251754877, 21059464350075941, 21067194455879658, 21114765075365832, 21130989908877451, 21155348389848684, 21405102174978395, 21433517303081778, 21451313890945561, 21563967286216478, 21601070914769188, 21610954586339453, 21647429952336664, 21748165449889582, 21773343012405392, 21801448358595571, 21989049286576545, 21999741289860801, 22043434581186478, 22070824900731994, 22086137837309431, 22095708486825216, 22096384286593544, 22135949199957708, 22218101415618988, 22229805334907958, 22245583505015462, 22250666620430250, 22297170414667274, 22396695815356208, 22410291786512000, 22415511275523515, 22420010748450895, 22449827430961631, 22459830802430695, 22507667150299745, 22638692253793590, 22689198721653432, 22709987966594562, 22739454519421487, 22770653806114141, 22772580695127855, 22776123831856675, 22801787731061897, 22820047770534105, 22823772669963904, 22968123515653015, 22968146469716485, 22973713929424674, 23003662562129873, 23083965259397373, 23096214050143498, 23106793549397098, 23112752686865886, 23127537960819901, 23155190817357802, 23156960240570195, 23217241347061712, 23263026312491531, 23309920270825906, 23330852580029800, 23331974197169650, 23350587283492178, 23354305910591136, 23360373848849229, 23408365898435464, 23460487574962510, 23469155261858431, 23475822780890255, 23486500131250883, 23496826488011031, 23498499843971642, 23572984615869598, 23596665459890629, 23647719496923616, 23666011629772574, 23736966123317888, 23774489462517839, 23803195625041705, 23820945592502716, 23833136037047792, 23863951333923700, 23864154742488409, 23872662274936654, 23892701110349700, 23958550148456728, 24016366877812408, 24078175437851272, 24089109226162469, 24096594415010543, 24218040406542784, 24296053151128993, 24296060313914954, 24306207223744351, 24334538679006900, 24370013143677439, 24421018703828307, 24423742076716798, 24470141983208319, 24471233977101324, 24551333129673480, 24574616134140053, 24593749461353559, 24624208639590997, 24657476719850664, 24673473993717912, 24696771449735313, 24715738471030691, 24804033459492438, 24829020735983372, 24840654756756303, 24887543723659440, 24887547361397990, 24912380910334506, 24923017918547221, 24955605903651154, 25012603648024843, 25032784229474975, 25069588805544711, 25106310225464551, 25108057853410411, 25118081437440813, 25153482554525600, 25320088466247835, 25332185083449437, 25332469162740684, 25375883931726222, 25388760299661080, 25469655307980712, 25560252136132955, 25582195554169264, 25688908499647891, 25689014251783851, 25702738820608435, 25717786628751550, 25735215392467307, 25761829093158686, 25773820900583886, 25796617520321125, 25804305764595739, 25808594216798241, 25835482803768114, 25838613021717161, 25850997684745105, 25903574272404941, 25906256776582253, 25907528280880098, 25927183634681718, 25927766570641598, 25945961139633317, 25956579427677725, 25988354913711159, 25990326735978560, 25995843269379773, 26022953402732109, 26040816938721707, 26060442036522211, 26141317117105865, 26147755251381760, 26172883233634789, 26248903362864806, 26267081560696557, 26286258591446688, 26346718749025236, 26376569865988329, 26398359180230741, 26454306873191947, 26478989827053087, 26485820446585763, 26572368908827996, 26580960072489844, 26621327067833835, 26654328212846690, 26660258055895529, 26673450682316982, 26691867532133675, 26718180481210282, 26748239021468313, 26821887735729491, 26830651937023557, 26831146774182415, 26836065496843165, 26842225803013689, 26858498117076483, 26888955670867035, 26962433762144416, 26994420642416476, 27007134688694082, 27008965793120392, 27107768871286262, 27150713786291086, 27188740146734172, 27208826326146905, 27248755297321369, 27288675031952716, 27291274163277728, 27355698805747904, 27366414789981665, 27387093469905010, 27402148854749515, 27431359584060587, 27437498798715662, 27461146279526376, 27500278028305606, 27523616752780856, 27529430197864114, 27579251530926774, 27595293692402529, 27643309570582071, 27646942467237954, 27674151132091782, 27684035113982760, 27696752071039337, 27702561949529019, 27728621132892067, 27768445169686789, 27772728109306865, 27784711029333692, 27814418098224492, 27817581145187105, 27837772644428105, 27868284484447321, 27922190955476588, 27923637594029180, 27940369833614727, 27959105416844236, 28005236953166646, 28011602072681275, 28030298300074808, 28047917829885838, 28049706143143825, 28081676837021347, 28089091830176283, 28109419330317327, 28192705583895561, 28193527653521568, 28218119212842353, 28265894334762512, 28304346152733679, 28311764495700702, 28375484623058803, 28387701875271294, 28456524416260588, 28463486386359662, 28509764686651701, 28551978124862775, 28556499216067317, 28576842831409129, 28579936512111194, 28608713668988555, 28628608950382857, 28637813851962323, 28647834849839153, 28660246765732859, 28705254266745099, 28723001409459625, 28759172940864393, 28816136516665161, 28834237430045799, 28839886517199075, 28845036578619354, 28871936059295158, 28893068167664331, 28909106796653913, 28928617280666725, 28987434766304419, 29026478172117742, 29140856528470305, 29156926032409782, 29186341323953155, 29209105961458860, 29258199765241323, 29350802654460459, 29373521573763225, 29396184229163812, 29418076111401764, 29438389056203753, 29441852020000079, 29485495435606962, 29515453004159855, 29522570884743729, 29531429858147786, 29546533164571097, 29563523403431311, 29637543624411728, 29663410276517439, 29674221843051585, 29719985566427786, 29724464798811735, 29773358692610298, 29773871923083273, 29777656261423960, 29803920203988638, 29834818296057384, 29949710766761317, 29959504913455999, 29991403539145973, 30009412067283361, 30020919698682912, 30026112517630405, 30140388149472908, 30206021769346953, 30207533351719715, 30215495067871864, 30276053752789270, 30293986360450994, 30364950123877056, 30367580779753841, 30415864638340412, 30421471701964271, 30456286100515406, 30483865890856125, 30521355432448277, 30536801068168052, 30538739112440685, 30557713364705874, 30568899091256611, 30580002383218382, 30589738315781909, 30590980798438324, 30601498920959376, 30647758821434722, 30689262964965477, 30750940028007378, 30766849439449603, 30785882720984501, 30855570761185791, 30886044484517552, 30886233047535962, 30956436639476057, 30959079764549677, 30976266171771762, 30986053105422988, 30989795381227393, 31069181122352242, 31070185903399217, 31109632956062316, 31123410952475380, 31143270112710930, 31183861084146099, 31205690705910054, 31219773091361723, 31271527039374817, 31271629445272745, 31421177823796210, 31433250097735753, 31454556412631714, 31473599067904812, 31480263304148203, 31500315361375823, 31507503537056145, 31524173862840654, 31542361826815944, 31551096626151663, 31572392598063309, 31654477674091942, 31656727482650515, 31709118747547458, 31740279354609423, 31747466920384568, 31792665623137167, 31800657353071369, 31800670449839529, 31870810575174999, 31882682477266221, 31923883807895618, 31950610023741013, 31962058859491910, 32013383687739382, 32024663837200264, 32044756402278655, 32065971332991926, 32124405272844849, 32137624536346838, 32140002801464592, 32212228003879811, 32233167537418439, 32291268846261436, 32311357603898307, 32313793674919069, 32320512569851196, 32336475838350276, 32344733948777700, 32365565280410759, 32419633188658542, 32475245976683120, 32568997609080522, 32595485496542512, 32603536125502856, 32612069279126831, 32649040073350539, 32705530169416954, 32751014415602340, 32869033019259211, 32877285922475632, 32893384611431590, 32918974482744207, 32924519501195123, 32932751598155618, 32955056381958583, 33047160225658642, 33089161421388873, 33102771462598001, 33193284513517942, 33208147237547076, 33249125520891394, 33254255272215743, 33256212198939635, 33318696272631793, 33381471034469105, 33397629435011543, 33423354480103125, 33462570553416436, 33484323397235963, 33491162047090551, 33497302906877440, 33505953824312948, 33523708266068318, 33542837943594645, 33566167322673262, 33577513284502969, 33610879386827150, 33612812498274298, 33627883038977530, 33674607461080474, 33676854356633523, 33703467562472904, 33711579641901258, 33775715459619882, 33861437537001453, 33878184670240187, 33887305830233616, 33979500527779595, 33984796174213763, 34008906559334088, 34033182945048946, 34091376374393041, 34118513552454306, 34205418501921859, 34208881024739938, 34234256131837632, 34248722538616348, 34283769137489451, 34290326216962546, 34305088263516876, 34314850331863615, 34340579536470457, 34388300133365389, 34407023840767840, 34407808908858546, 34446350093454167, 34469914399448137, 34552771524053148, 34680818442403056, 34753445892659668, 34785583439379670, 34830081348385595, 34870271562132144, 34878294221554152, 34966288176801000, 34975125619491840, 34977743752328925, 34991445688764980, 35015735718567061, 35063385276921241, 35120038834208375, 35193180907104944, 35193822293404436, 35216767840848242, 35234268855675767, 35240744387951976, 35267684055313520, 35345544834554459, 35348989211475756, 35374909989298755, 35485307383688850, 35567362791403294, 35636974632997077, 35637418328344284, 35670219136762422, 35671811609060564, 35680594859022206, 35682306138532307, 35723864988030622, 35745893434910709, 35745986067081464, 35819392783663231, 35880652374283353, 35899661236554336, 36018686716830052, 36047554387830088, 36098446488922565, 36144873346035038, 36189994071216957, 36193775695194861, 36251693191763900, 36313546911953201, 36337055153158980, 36380174460752496, 36390090335382272, 36395122794721938, 36401943559474142, 36428731767865277, 36534486104323249, 36553260686085760, 36606321610025181, 36673642530088994, 36685834957223907, 36729572252290854, 36763131626190272, 36796787014136539, 36842904914568629, 36855400871727132, 36898231575897393, 36909709942087511, 36938177874322163, 37214558081992349, 37254222842156730, 37281424492079631, 37346707108916621, 37382041557425140, 37406067684196416, 37468671863747850, 37510787258541893, 37514996705667539, 37592389390255948, 37627768548107235, 37640166208039616, 37657157240691526, 37688094235300004, 37689899310722567, 37735456258822605, 37793408885179996, 37865123058074481, 37865956382192061, 37866829287269999, 37917644090242754, 37959237053399601, 37963976988958602, 38012221927231871, 38024636611967271, 38051343410557278, 38052438744184393, 38079403089355001, 38085704136441041, 38086398998604482, 38088126537195222, 38094687855216137, 38131062208122347, 38148798436172012, 38154049386721664, 38172241781459702, 38180972230284228, 38294030800179498, 38326210465950204, 38359826806673624, 38378875793024925, 38426126653843549, 38466621803235289, 38580893983531772, 38601610682288557, 38700133467138526, 38712830807336550, 38722770452124018, 38729382912481890, 38758287312326624, 38778985010356745, 38792254392103853, 38835379800470427, 38879569501573114, 38894925234280506, 38900593656242700, 38915074679902168, 38919045817528080, 38934439638430437, 38957512988808426, 38960136464214845, 38961394337948575, 38990262734875407, 39119091025441986, 39162248920801941, 39217671235113795, 39269981269503190, 39285795759223417, 39290173316261016, 39333912046048110, 39339737384861371, 39427235678845205, 39493475224254642, 39513176771558021, 39521293515767482, 39532467962002133, 39544564113983487, 39562191879379733, 39589262707722664, 39608713817507476, 39708272988719306, 39789134743815901, 39809846497467054, 39834313947125745, 39873043794790861, 39979850486725763, 39986469550053445, 40004422899941681, 40060845356304979, 40095806625768477, 40117860710482675, 40137041294549591, 40153288677144575, 40176836445495208, 40177717488451832, 40182595152619504, 40189394930476417, 40217585429850397, 40225653578847101, 40248476715375813, 40269692780990678, 40336022708761965, 40398589339262121, 40437516082024321, 40443463411104204, 40448386740509777, 40463899033058553, 40465884953179960, 40509610590817524, 40510823612218850, 40514335356287039, 40515046590938084, 40526770140636586, 40644752867802944, 40674120446634419, 40683601599900611, 40719228730954132, 40749523428423653, 40781067395097363, 40786326558853736, 40852380077458395, 40898233769393717, 40900889739862031, 41027910093192353, 41038691504838752, 41044806680414585, 41056591691235821, 41082221737317975, 41116695121805644, 41206021172511641, 41221609814047160, 41229069978830671, 41266054237651297, 41314593526517578, 41321639849860100, 41419381098015864, 41422654749410499, 41427486259528936, 41446974873118873, 41455214176841869, 41471691987248349, 41569461970313173, 41609541439329110, 41616167712290818, 41629538018908905, 41670586959604142, 41701124223065649, 41735959046113800, 41746686809050478, 41787571331973926, 41898640076115467, 41925352070196147, 42032136160932724, 42042172184856889, 42048312356586080, 42087611021679854, 42133826302920179, 42137817477936988, 42273937752777140, 42291626243993999, 42329835622042214, 42351282015502850, 42418273972154599, 42505157696940248, 42515797723922485, 42592792642612076, 42604875410127402, 42610098408733298, 42668730919237295, 42744341637938548, 42815793074843501, 42829385408092167, 42865791935272963, 42890132621371445, 42987060196333952, 43030163017565152, 43174654182883992, 43211903535019801, 43224427055180737, 43225968874475772, 43265242513982475, 43380395948482125, 43391687247319006, 43436153099417737, 43438402459479433, 43453526315608887, 43462932202849957, 43484619428116394, 43488278531730399, 43497783031344667, 43506840114212030, 43508102615398037, 43546581631434638, 43562073255260395, 43596350043888535, 43604992461481162, 43607790209822723, 43736250994213932, 43741346227560946, 43768918709149877, 43804965190850997, 43824742680363170, 43845830923819643, 43849529750761337, 43850070806140147, 43884591508937020, 43903236731190787, 43906936732662404, 44109811156013894, 44148150035428484, 44228383042753852, 44231657547370993, 44244686904980325, 44289584059164077, 44300215387369036, 44313377212308026, 44314399291491419, 44333276684353433, 44337017490100631, 44343526901873248, 44359495899871212, 44390195545750503, 44423114373562880, 44515764760905092, 44527457212005962, 44582693893808262, 44585068818542539, 44715484943475352, 44791081553473890, 44861311184384502, 44905689560868361, 44943217373703383, 44968528267733868, 44994037555304977, 45022690691244932, 45032619719820401, 45032660943038510, 45037078150178737, 45037206076073039, 45038511556684248, 45138840116204666, 45175246993381699, 45192624822174080, 45244104555432655, 45269184996567886, 45312329221154778, 45331633426389312, 45383072951506299, 45408713937092245, 45449904560115875, 45472737681837641, 45500306017522382, 45510829201064796, 45550028689396605, 45572379431220530, 45594300898677645, 45661290078030065, 45697149366617639, 45709874991976044, 45760972254542872, 45762186178724432, 45798991113239189, 45803365912440289, 45815233097849112, 45819696124018691, 45847539653769112, 45847851631846409, 45852076024105150, 45868521353171193, 45879624669749482, 45890505916793698, 45981240892488809, 46032883118496373, 46043312779256962, 46046246817404937, 46098140510968112, 46123509738392071, 46126015924293571, 46151623352286480, 46336094941202487, 46374187716821846, 46408756346197730, 46440320924851703, 46464584715917949, 46487296182757271, 46536688397590243, 46577654930798342, 46619785236302490, 46657622367810040, 46704315274621476, 46751138856108073, 46757456630835882, 46786987467593816, 46797418819848318, 46882107628167123, 46911098007536621, 46939982066047071, 46946191649902537, 46951486361846911, 46990990445107361, 47008776164189220, 47013625843224205, 47017736792950678, 47025404515379367, 47048586334328315, 47099779610087142, 47102792825469902, 47131106336112275, 47139130580130899, 47177463884947744, 47184090956601121, 47225534461900896, 47229084160143053, 47268711804594060, 47280747010731721, 47326762600741216, 47331908555832110, 47370858365963103, 47379262193166972, 47383571332056942, 47410829689851103, 47416847136257997, 47512241560536204, 47608347364001397, 47615918309939414, 47615992656950371, 47694163325370629, 47736031568946701, 47839242339245035, 47919982788029432, 47966029366946123, 47995660973532990, 48096683241738385, 48097540607869417, 48097666628855793, 48207152127927413, 48212110442827872, 48224758689817740, 48267949205265254, 48323682559611983, 48336380247535001, 48393786839835887, 48410405529510653, 48425761309448883, 48439831459917389, 48465518651128902, 48479675565090878, 48513926351147994, 48524773864202626, 48532503199726481, 48533293216064060, 48536962658613557, 48543427939811052, 48571361419566922, 48689382662149804, 48707427457259924, 48841970087325711, 48867048427189449, 48868529824771657, 48896935591531235, 49001638836449248, 49005519411077431, 49196756727514261, 49207137488882593, 49222889877789585, 49227387712974831, 49348886708339830, 49363475055045628, 49373465850645094, 49383909742490086, 49399348521713178, 49425526869536557, 49462140656290039, 49481935298866833, 49492857708227807, 49587696135844870, 49590444841141866, 49609688375543762, 49621594129739304, 49710136674223866, 49731673550156059, 49767798335374068, 49773596151331789, 49777874453199987, 49794794558481397, 49824457877686287, 49860586827696139, 49876568295816008, 49999060887656783, 49999117456447694, 50055860286497695, 50060962101031729, 50069255513709891, 50069916361554733, 50103592067555310, 50116450141084746, 50120455777425149, 50155410911369505, 50182882685521714, 50223214943915990, 50233927600688595, 50345021908099980, 50355918447150475, 50369042540780847, 50385415437042749, 50441743389077491, 50469223566042709, 50539826096031262, 50600237190752040, 50616172469096947, 50624253707008688, 50666926969112164, 50816189946226036, 50817215703969363, 50842266958870038, 50856228989287270, 50879978771559366, 50903670751001235, 50916594862952657, 50922270695589686, 50926314177667507, 50928891614538969, 50970530353102779, 51001227031626500, 51043309389751512, 51153236156993843, 51160676908063717, 51182962616164707, 51183728040630882, 51192100071209851, 51212283153207030, 51241972937036703, 51293691741257016, 51296201010985353, 51338114661925441, 51351378923227221, 51357044223092558, 51449656578972448, 51488711156426567, 51601755543352955, 51701794903606377, 51713527817472061, 51714022510801446, 51745429049298447, 51803843386450729, 51804036418162698, 51865266843324171, 51874419485190820, 51892303471308819, 51898912648934790, 51905596076508144, 51975815657906293, 51991645140417453, 52106408121990718, 52149814709043065, 52161277235105489, 52284393269631831, 52294009135561212, 52316975463600026, 52329336407528680, 52369567934163854, 52409779439597848, 52454954263789975, 52457464709820078, 52537798134470579, 52550819867128036, 52553261555681842, 52556625213993633, 52559999780923985, 52583525226878714, 52597148623291819, 52599315144509757, 52653386486780145, 52697581786907848, 52755778647990130, 52761300619280813, 52768262187078731, 52776335680266338, 52787336646689443, 52795164527367037, 52801616574301148, 52818696602417235, 52823133829000695, 52849061351211821, 52860065894021629, 52869469970178927, 52880419737564623, 52962862605626591, 52965693205894926, 52994353965205857, 52997875198737275, 53048108770493826, 53090145020529698, 53111925878626364, 53246520925111743, 53246539024011248, 53293874844615988, 53330106729479676, 53377568156690906, 53379992945460383, 53388647594474705, 53430194212885681, 53491202540459650, 53518150153239455, 53525154268565282, 53526733548391315, 53587899351052976, 53611039887240896, 53622003522652603, 53632193569069797, 53636848211415873, 53647449145886290, 53650216483319763, 53677628388658383, 53702259183518988, 53731068365550122, 53811098394623541, 53815468980304177, 53860529153496212, 53868455738015210, 53879368874318859, 53910413088226517, 53917418291508999, 54124934701849785, 54142453741093334, 54170355423153658, 54178574173521968, 54216609218465872, 54239671555189639, 54244672160706789, 54258365051349394, 54270640161218131, 54278201806064317, 54350223050806294, 54366907124434334, 54370504577280922, 54378560096712916, 54391620320359583, 54436293514082930, 54467717513725777, 54485202653684576, 54485391138802637, 54514095844404382, 54529136460896522, 54572449935332654, 54587238376188814, 54613633737359604, 54684222990257746, 54685304387668154, 54718209594863104, 54749214410427751, 54778209712097261, 54805820260449117, 54817065448728580, 54826930273333001, 54835254207306034, 54901063347089180, 54903905601510236, 54915202916838903, 54931905725492289, 54932540060472347, 54934661214922162, 54986756074930871, 55017263856199947, 55103440607753472, 55118879270832172, 55188526863767268, 55223806748544067, 55252438291979227, 55263176233298943, 55266801486418110, 55283210617928397, 55322369248211771, 55329419162578143, 55335194580014819, 55339896852676666, 55364609080839979, 55387237110077768, 55389887271089029, 55401931270416438, 55442226634731483, 55498510885193087, 55498821382400869, 55512963719863878, 55517672214176780, 55656976876707828, 55684766721330021, 55822339338718540, 55903480497714841, 55909655895173208, 55913793319029864, 55922260141775907, 55990401421939631, 56016511575435318, 56098264363313356, 56107118727894602, 56141524329293459, 56150771191560835, 56186332359870205, 56194206731923232, 56211526661198022, 56234693458345208, 56252639610716129, 56277900880006532, 56358275400750991, 56381918407877282, 56413476078732237, 56423745587674075, 56519990215510113, 56545115832454118, 56558309526224820, 56583296336356515, 56602718949648246, 56629412185450118, 56634853556431340, 56671452442608317, 56681818520898677, 56690801656927494, 56740059997182323, 56754301692092982, 56768836112824809, 56791887484047537, 56837896275049439, 56891021827527553, 56899768864688059, 56959481008607682, 56977395583796362, 56979234952031543, 57004860034507559, 57027122799758453, 57068822068804634, 57074779821242887, 57091688397519443, 57122502488103737, 57165647204442823, 57168625990993502, 57230118662359758, 57267301881872954, 57347923816866340, 57353362377134226, 57356165762434178, 57398416139562258, 57400326050657149, 57410263137517988, 57414195762300538, 57421176881221477, 57423083694089366, 57460558670579544, 57531707882949262, 57560923556141508, 57607835170819686, 57611038778310703, 57621828628224469, 57665335411318558, 57666996011553546, 57678209113517471, 57692072065393127, 57700249058651095, 57713134067532279, 57719218633063489, 57784786518221229, 57788661100178813, 57812743342253629, 57816353452681926, 57819948787176431, 57826882657657482, 57987988556280495, 57989398607520604, 57996309102824932, 58052013130859279, 58053593004499625, 58056781655935130, 58058291555352747, 58080465779105972, 58172220508149666, 58269989202315606, 58276341922310923, 58282392989703253, 58298833228566225, 58366847772057631, 58491776278373490, 58596906730667805, 58619969866096950, 58627870162909359, 58631158635068558, 58634357520281354, 58634609023634837, 58643224698074046, 58806029433075585, 58819276582526951, 58820637652329480, 58839515898709442, 58851800838411104, 58875575857092087, 58882473176693796, 58922393248406616, 59025752244913925, 59058258453349550, 59060455291012986, 59079869794586380, 59197926440175406, 59227528038489296, 59251273311997869, 59353664882282245, 59437312198300623, 59462066687138118, 59462889694348929, 59518057705419198, 59530180098530689, 59629164118096274, 59670009784456508, 59687211212520200, 59692047789765232, 59782397964649665, 59797832590919354, 59805802880856718, 59813812037383094, 59863848076564729, 59905546509831531, 59919436450417288, 59947839493569608, 59949265400963187, 59955678274101010, 59988752101632498, 60010082329697535, 60020359730280401, 60026993765636214, 60031441905384581, 60041323199019164, 60059580957895619, 60138744416384829, 60158366516956360, 60161639377691436, 60203232662705391, 60269386332837077, 60335620122424293, 60484917542117734, 60527851129021383, 60536527261841950, 60679333978123600, 60710698025037151, 60881126506001976, 60895152686486557, 60931972148849344, 60958383691955403, 61003573953238702, 61033573029181029, 61038550608415426, 61169813392662111, 61172176613724924, 61336705433768980, 61344571815455264, 61350017447516115, 61358091706367246, 61369119516168301, 61454421680666290, 61491097927100430, 61522733354081411, 61617074502951818, 61648484345168819, 61651135025341247, 61680223984413531, 61691548089035630, 61695208356257990, 61719680982976738, 61777661722415899, 61822537825483785, 61859735981633849, 61887097886452419, 61923397236534140, 61949534531121227, 61984778952967019, 62091839898995433, 62100371654451115, 62144217697239867, 62259249642806696, 62327461168717180, 62360722806992646, 62398750707693046, 62455343683599931, 62471826695992697, 62472315916428918, 62513626034118218, 62533993389357967, 62562392496704111, 62579995842025821, 62581117444498119, 62593998464956979, 62632689733003217, 62640732317068597, 62648162033213148, 62650218182141772, 62658538703298335, 62729261820983877, 62801592418181508, 62866265318119471, 62967898436128902, 62986648120460534, 63025292155670934, 63031120153561937, 63053236557456997, 63054631649530254, 63138198588560067, 63171111014013721, 63227337871863579, 63253511749608236, 63281904744511826, 63322853131197583, 63430510192726590, 63438867004876277, 63447550021116532, 63452219824433989, 63474001305899201, 63483061607968809, 63525181034509635, 63537169764952006, 63550204924182817, 63600739746747654, 63656681939220846, 63708208750124302, 63741180253761517, 63802019344240316, 63823140582659785, 63823408631914243, 63859122285377342, 63904464208333954, 63911292176272114, 63978367421395634, 64060644878241815, 64068593657488490, 64098386494598408, 64133226178694838, 64188713507374685, 64200602839235659, 64332740297278749, 64343485808148511])"
      ]
     },
     "execution_count": 20,
     "metadata": {},
     "output_type": "execute_result"
    }
   ],
   "source": [
    "hll_empty.k"
   ]
  },
  {
   "cell_type": "code",
   "execution_count": 21,
   "metadata": {},
   "outputs": [],
   "source": [
    "hll_empty_1 = HyperLogLog(0.01)\n",
    "hll_empty_1.__setstate__( HyperLogLog.deserialize(hll_res_1) )"
   ]
  },
  {
   "cell_type": "code",
   "execution_count": 24,
   "metadata": {},
   "outputs": [
    {
     "data": {
      "text/plain": [
       "616903"
      ]
     },
     "execution_count": 24,
     "metadata": {},
     "output_type": "execute_result"
    }
   ],
   "source": [
    "HyperLogLog.get_intersection_card( [hll_empty,hll_empty_1] )"
   ]
  },
  {
   "cell_type": "code",
   "execution_count": 26,
   "metadata": {},
   "outputs": [],
   "source": [
    "def jaccard(ks):\n",
    "    ks = [set(i) for i in ks]\n",
    "    return len( set.intersection(*ks) ) / len( set.union(*ks) )"
   ]
  },
  {
   "cell_type": "code",
   "execution_count": 23,
   "metadata": {},
   "outputs": [],
   "source": [
    "hll_empty.update(hll_empty_1)"
   ]
  },
  {
   "cell_type": "code",
   "execution_count": 93,
   "metadata": {},
   "outputs": [],
   "source": [
    "hll_empty_1.update(hll_empty)"
   ]
  },
  {
   "cell_type": "code",
   "execution_count": 39,
   "metadata": {},
   "outputs": [
    {
     "data": {
      "text/plain": [
       "[4, 5, 1]"
      ]
     },
     "execution_count": 39,
     "metadata": {},
     "output_type": "execute_result"
    }
   ],
   "source": [
    "from random import sample\n",
    "sample([1,2,3,4,5],3)"
   ]
  },
  {
   "cell_type": "code",
   "execution_count": 27,
   "metadata": {},
   "outputs": [
    {
     "data": {
      "text/plain": [
       "0.5"
      ]
     },
     "execution_count": 27,
     "metadata": {},
     "output_type": "execute_result"
    }
   ],
   "source": [
    "jaccard( [ hll_empty.k, hll_empty_1.k[:1024] ] )"
   ]
  },
  {
   "cell_type": "code",
   "execution_count": 30,
   "metadata": {},
   "outputs": [],
   "source": [
    "def get_max_card(x):\n",
    "    return max([ hll.card() for hll in x])"
   ]
  },
  {
   "cell_type": "code",
   "execution_count": 31,
   "metadata": {},
   "outputs": [],
   "source": [
    "max_card = get_max_card( [hll_empty, hll_empty_1] )"
   ]
  },
  {
   "cell_type": "code",
   "execution_count": 32,
   "metadata": {},
   "outputs": [
    {
     "data": {
      "text/plain": [
       "1206728.4372859586"
      ]
     },
     "execution_count": 32,
     "metadata": {},
     "output_type": "execute_result"
    }
   ],
   "source": [
    "max_card"
   ]
  },
  {
   "cell_type": "code",
   "execution_count": 33,
   "metadata": {},
   "outputs": [],
   "source": [
    "def get_corrected_ks(x):\n",
    "    max_card = get_max_card( x )\n",
    "    return [ hll.k[:int(2048*hll.card()/max_card)] for hll in x  ]"
   ]
  },
  {
   "cell_type": "code",
   "execution_count": 34,
   "metadata": {},
   "outputs": [],
   "source": [
    "corrected_ks = get_corrected_ks( [hll_empty, hll_empty_1] )"
   ]
  },
  {
   "cell_type": "code",
   "execution_count": 35,
   "metadata": {},
   "outputs": [
    {
     "data": {
      "text/plain": [
       "0.511219512195122"
      ]
     },
     "execution_count": 35,
     "metadata": {},
     "output_type": "execute_result"
    }
   ],
   "source": [
    "jaccard( corrected_ks )"
   ]
  },
  {
   "cell_type": "code",
   "execution_count": 36,
   "metadata": {},
   "outputs": [],
   "source": [
    "def get_corrected_jaccard(x):\n",
    "    return jaccard( get_corrected_ks(x) )"
   ]
  },
  {
   "cell_type": "code",
   "execution_count": 94,
   "metadata": {},
   "outputs": [
    {
     "data": {
      "text/plain": [
       "0.4837929366231253"
      ]
     },
     "execution_count": 94,
     "metadata": {},
     "output_type": "execute_result"
    }
   ],
   "source": [
    "get_corrected_jaccard( [hll_empty, hll_empty_1] )"
   ]
  },
  {
   "cell_type": "code",
   "execution_count": 37,
   "metadata": {},
   "outputs": [],
   "source": [
    "def get_intersection_card(x):\n",
    "    hll_temp = HyperLogLog(0.01)\n",
    "    [hll_temp.update(hll) for hll in x]\n",
    "    return int( get_corrected_jaccard( x ) * hll_temp.card() )"
   ]
  },
  {
   "cell_type": "code",
   "execution_count": 38,
   "metadata": {},
   "outputs": [
    {
     "data": {
      "text/plain": [
       "616903"
      ]
     },
     "execution_count": 38,
     "metadata": {},
     "output_type": "execute_result"
    }
   ],
   "source": [
    "get_intersection_card( [hll_empty, hll_empty_1] )"
   ]
  },
  {
   "cell_type": "code",
   "execution_count": 97,
   "metadata": {},
   "outputs": [
    {
     "data": {
      "text/plain": [
       "600578.8455301118"
      ]
     },
     "execution_count": 97,
     "metadata": {},
     "output_type": "execute_result"
    }
   ],
   "source": [
    "hll_empty.card()"
   ]
  },
  {
   "cell_type": "code",
   "execution_count": 98,
   "metadata": {},
   "outputs": [
    {
     "data": {
      "text/plain": [
       "1206728.4372859586"
      ]
     },
     "execution_count": 98,
     "metadata": {},
     "output_type": "execute_result"
    }
   ],
   "source": [
    "hll_empty_1.card()"
   ]
  },
  {
   "cell_type": "code",
   "execution_count": 21,
   "metadata": {},
   "outputs": [
    {
     "data": {
      "text/plain": [
       "9570193"
      ]
     },
     "execution_count": 21,
     "metadata": {},
     "output_type": "execute_result"
    }
   ],
   "source": [
    "hll_empty.setstate_from_serialized( hll_res_sr, return_len=True )"
   ]
  },
  {
   "cell_type": "code",
   "execution_count": 27,
   "metadata": {},
   "outputs": [],
   "source": [
    "hll_empty_1 = HyperLogLog(0.01)"
   ]
  },
  {
   "cell_type": "code",
   "execution_count": 28,
   "metadata": {},
   "outputs": [
    {
     "data": {
      "text/plain": [
       "600579"
      ]
     },
     "execution_count": 28,
     "metadata": {},
     "output_type": "execute_result"
    }
   ],
   "source": [
    "hll_empty_1.setstate_from_serialized( hll_res_0, return_len=True )"
   ]
  },
  {
   "cell_type": "code",
   "execution_count": 29,
   "metadata": {},
   "outputs": [],
   "source": [
    "hll_empty_2 = HyperLogLog(0.01)"
   ]
  },
  {
   "cell_type": "code",
   "execution_count": 30,
   "metadata": {},
   "outputs": [
    {
     "data": {
      "text/plain": [
       "619104"
      ]
     },
     "execution_count": 30,
     "metadata": {},
     "output_type": "execute_result"
    }
   ],
   "source": [
    "hll_empty_2.setstate_from_serialized( hll_res_1, return_len=True )"
   ]
  },
  {
   "cell_type": "code",
   "execution_count": null,
   "metadata": {},
   "outputs": [],
   "source": []
  },
  {
   "cell_type": "code",
   "execution_count": 26,
   "metadata": {},
   "outputs": [],
   "source": [
    "hll_empty.update( *[hll_empty_1, hll_empty_2] )"
   ]
  },
  {
   "cell_type": "code",
   "execution_count": 27,
   "metadata": {},
   "outputs": [
    {
     "data": {
      "text/plain": [
       "9570192.670578469"
      ]
     },
     "execution_count": 27,
     "metadata": {},
     "output_type": "execute_result"
    }
   ],
   "source": [
    "hll_empty.card()"
   ]
  },
  {
   "cell_type": "code",
   "execution_count": 43,
   "metadata": {
    "scrolled": true
   },
   "outputs": [
    {
     "data": {
      "image/svg+xml": [
       "<svg height=\"1086pt\" viewBox=\"0.00 0.00 2149.99 1085.76\" width=\"2150pt\" xmlns=\"http://www.w3.org/2000/svg\" xmlns:xlink=\"http://www.w3.org/1999/xlink\">\n",
       "<g class=\"graph\" id=\"graph0\" transform=\"scale(1 1) rotate(0) translate(4 1081.7555)\">\n",
       "<title>%3</title>\n",
       "<polygon fill=\"#ffffff\" points=\"-4,4 -4,-1081.7555 2145.9896,-1081.7555 2145.9896,4 -4,4\" stroke=\"transparent\"/>\n",
       "<!-- 8181467940433868704 -->\n",
       "<g class=\"node\" id=\"node1\">\n",
       "<title>8181467940433868704</title>\n",
       "<polygon fill=\"none\" points=\"1014.4948,-1077.7555 960.4948,-1077.7555 960.4948,-1041.7555 1014.4948,-1041.7555 1014.4948,-1077.7555\" stroke=\"#000000\"/>\n",
       "</g>\n",
       "<!-- 4102370739684805393 -->\n",
       "<g class=\"node\" id=\"node2\">\n",
       "<title>4102370739684805393</title>\n",
       "<ellipse cx=\"987.4948\" cy=\"-957.6597\" fill=\"none\" rx=\"48.1917\" ry=\"48.1917\" stroke=\"#000000\"/>\n",
       "<text fill=\"#000000\" font-family=\"Times,serif\" font-size=\"14.00\" text-anchor=\"middle\" x=\"987.4948\" y=\"-953.9597\">hll_reduce</text>\n",
       "</g>\n",
       "<!-- 4102370739684805393&#45;&gt;8181467940433868704 -->\n",
       "<g class=\"edge\" id=\"edge1\">\n",
       "<title>4102370739684805393-&gt;8181467940433868704</title>\n",
       "<path d=\"M987.4948,-1006.0167C987.4948,-1014.6626 987.4948,-1023.4117 987.4948,-1031.2683\" fill=\"none\" stroke=\"#000000\"/>\n",
       "<polygon fill=\"#000000\" points=\"983.9949,-1031.335 987.4948,-1041.3351 990.9949,-1031.3351 983.9949,-1031.335\" stroke=\"#000000\"/>\n",
       "</g>\n",
       "<!-- &#45;5899247050116077511 -->\n",
       "<g class=\"node\" id=\"node3\">\n",
       "<title>-5899247050116077511</title>\n",
       "<polygon fill=\"none\" points=\"978.4948,-873.564 924.4948,-873.564 924.4948,-837.564 978.4948,-837.564 978.4948,-873.564\" stroke=\"#000000\"/>\n",
       "</g>\n",
       "<!-- &#45;5899247050116077511&#45;&gt;4102370739684805393 -->\n",
       "<g class=\"edge\" id=\"edge2\">\n",
       "<title>-5899247050116077511-&gt;4102370739684805393</title>\n",
       "<path d=\"M957.9309,-873.8167C960.811,-881.9846 964.376,-892.095 968.0222,-902.4355\" fill=\"none\" stroke=\"#000000\"/>\n",
       "<polygon fill=\"#000000\" points=\"964.7499,-903.6805 971.3762,-911.9474 971.3515,-901.3526 964.7499,-903.6805\" stroke=\"#000000\"/>\n",
       "</g>\n",
       "<!-- 824199549014158692 -->\n",
       "<g class=\"node\" id=\"node4\">\n",
       "<title>824199549014158692</title>\n",
       "<polygon fill=\"none\" points=\"1175.4948,-873.564 1121.4948,-873.564 1121.4948,-837.564 1175.4948,-837.564 1175.4948,-873.564\" stroke=\"#000000\"/>\n",
       "</g>\n",
       "<!-- 824199549014158692&#45;&gt;4102370739684805393 -->\n",
       "<g class=\"edge\" id=\"edge3\">\n",
       "<title>824199549014158692-&gt;4102370739684805393</title>\n",
       "<path d=\"M1121.1834,-872.8832C1098.1925,-887.4625 1064.7248,-908.6855 1037.0277,-926.2492\" fill=\"none\" stroke=\"#000000\"/>\n",
       "<polygon fill=\"#000000\" points=\"1034.8292,-923.4989 1028.2585,-931.8101 1038.578,-929.4105 1034.8292,-923.4989\" stroke=\"#000000\"/>\n",
       "</g>\n",
       "<!-- &#45;7117447556163950779 -->\n",
       "<g class=\"node\" id=\"node5\">\n",
       "<title>-7117447556163950779</title>\n",
       "<ellipse cx=\"1341.4948\" cy=\"-753.4683\" fill=\"none\" rx=\"48.1917\" ry=\"48.1917\" stroke=\"#000000\"/>\n",
       "<text fill=\"#000000\" font-family=\"Times,serif\" font-size=\"14.00\" text-anchor=\"middle\" x=\"1341.4948\" y=\"-749.7683\">hll_reduce</text>\n",
       "</g>\n",
       "<!-- &#45;7117447556163950779&#45;&gt;824199549014158692 -->\n",
       "<g class=\"edge\" id=\"edge4\">\n",
       "<title>-7117447556163950779-&gt;824199549014158692</title>\n",
       "<path d=\"M1298.6619,-776.1266C1264.4982,-794.199 1217.1761,-819.2321 1184.8415,-836.3368\" fill=\"none\" stroke=\"#000000\"/>\n",
       "<polygon fill=\"#000000\" points=\"1182.9341,-833.3863 1175.7313,-841.1561 1186.2073,-839.5739 1182.9341,-833.3863\" stroke=\"#000000\"/>\n",
       "</g>\n",
       "<!-- 3185277812022537593 -->\n",
       "<g class=\"node\" id=\"node6\">\n",
       "<title>3185277812022537593</title>\n",
       "<polygon fill=\"none\" points=\"1368.4948,-669.3725 1314.4948,-669.3725 1314.4948,-633.3725 1368.4948,-633.3725 1368.4948,-669.3725\" stroke=\"#000000\"/>\n",
       "</g>\n",
       "<!-- 3185277812022537593&#45;&gt;&#45;7117447556163950779 -->\n",
       "<g class=\"edge\" id=\"edge5\">\n",
       "<title>3185277812022537593-&gt;-7117447556163950779</title>\n",
       "<path d=\"M1341.4948,-669.6252C1341.4948,-676.9543 1341.4948,-685.8473 1341.4948,-695.0673\" fill=\"none\" stroke=\"#000000\"/>\n",
       "<polygon fill=\"#000000\" points=\"1337.9949,-695.1416 1341.4948,-705.1416 1344.9949,-695.1417 1337.9949,-695.1416\" stroke=\"#000000\"/>\n",
       "</g>\n",
       "<!-- 123133604730327542 -->\n",
       "<g class=\"node\" id=\"node7\">\n",
       "<title>123133604730327542</title>\n",
       "<polygon fill=\"none\" points=\"1614.4948,-669.3725 1560.4948,-669.3725 1560.4948,-633.3725 1614.4948,-633.3725 1614.4948,-669.3725\" stroke=\"#000000\"/>\n",
       "</g>\n",
       "<!-- 123133604730327542&#45;&gt;&#45;7117447556163950779 -->\n",
       "<g class=\"edge\" id=\"edge6\">\n",
       "<title>123133604730327542-&gt;-7117447556163950779</title>\n",
       "<path d=\"M1560.2286,-662.6887C1520.7413,-679.0768 1446.8041,-709.7625 1395.9037,-730.8873\" fill=\"none\" stroke=\"#000000\"/>\n",
       "<polygon fill=\"#000000\" points=\"1394.2592,-727.7803 1386.3647,-734.8462 1396.9425,-734.2456 1394.2592,-727.7803\" stroke=\"#000000\"/>\n",
       "</g>\n",
       "<!-- &#45;3281220640440516020 -->\n",
       "<g class=\"node\" id=\"node8\">\n",
       "<title>-3281220640440516020</title>\n",
       "<ellipse cx=\"1341.4948\" cy=\"-549.2768\" fill=\"none\" rx=\"48.1917\" ry=\"48.1917\" stroke=\"#000000\"/>\n",
       "<text fill=\"#000000\" font-family=\"Times,serif\" font-size=\"14.00\" text-anchor=\"middle\" x=\"1341.4948\" y=\"-545.5768\">hll_reduce</text>\n",
       "</g>\n",
       "<!-- &#45;3281220640440516020&#45;&gt;3185277812022537593 -->\n",
       "<g class=\"edge\" id=\"edge7\">\n",
       "<title>-3281220640440516020-&gt;3185277812022537593</title>\n",
       "<path d=\"M1341.4948,-597.6338C1341.4948,-606.2797 1341.4948,-615.0288 1341.4948,-622.8854\" fill=\"none\" stroke=\"#000000\"/>\n",
       "<polygon fill=\"#000000\" points=\"1337.9949,-622.9521 1341.4948,-632.9521 1344.9949,-622.9522 1337.9949,-622.9521\" stroke=\"#000000\"/>\n",
       "</g>\n",
       "<!-- &#45;5946855060725040951 -->\n",
       "<g class=\"node\" id=\"node9\">\n",
       "<title>-5946855060725040951</title>\n",
       "<polygon fill=\"none\" points=\"1316.4948,-465.1811 1262.4948,-465.1811 1262.4948,-429.1811 1316.4948,-429.1811 1316.4948,-465.1811\" stroke=\"#000000\"/>\n",
       "</g>\n",
       "<!-- &#45;5946855060725040951&#45;&gt;&#45;3281220640440516020 -->\n",
       "<g class=\"edge\" id=\"edge8\">\n",
       "<title>-5946855060725040951-&gt;-3281220640440516020</title>\n",
       "<path d=\"M1298.7914,-465.4338C1303.3554,-474.3948 1309.1104,-485.6939 1314.9044,-497.0698\" fill=\"none\" stroke=\"#000000\"/>\n",
       "<polygon fill=\"#000000\" points=\"1311.8802,-498.844 1319.5375,-506.1663 1318.1177,-495.667 1311.8802,-498.844\" stroke=\"#000000\"/>\n",
       "</g>\n",
       "<!-- &#45;8690575886577090171 -->\n",
       "<g class=\"node\" id=\"node10\">\n",
       "<title>-8690575886577090171</title>\n",
       "<polygon fill=\"none\" points=\"1404.4948,-465.1811 1350.4948,-465.1811 1350.4948,-429.1811 1404.4948,-429.1811 1404.4948,-465.1811\" stroke=\"#000000\"/>\n",
       "</g>\n",
       "<!-- &#45;8690575886577090171&#45;&gt;&#45;3281220640440516020 -->\n",
       "<g class=\"edge\" id=\"edge9\">\n",
       "<title>-8690575886577090171-&gt;-3281220640440516020</title>\n",
       "<path d=\"M1371.0587,-465.4338C1368.1787,-473.6016 1364.6136,-483.7121 1360.9674,-494.0526\" fill=\"none\" stroke=\"#000000\"/>\n",
       "<polygon fill=\"#000000\" points=\"1357.6381,-492.9697 1357.6134,-503.5645 1364.2397,-495.2975 1357.6381,-492.9697\" stroke=\"#000000\"/>\n",
       "</g>\n",
       "<!-- 5015067663472393224 -->\n",
       "<g class=\"node\" id=\"node11\">\n",
       "<title>5015067663472393224</title>\n",
       "<ellipse cx=\"1408.4948\" cy=\"-345.0854\" fill=\"none\" rx=\"48.1917\" ry=\"48.1917\" stroke=\"#000000\"/>\n",
       "<text fill=\"#000000\" font-family=\"Times,serif\" font-size=\"14.00\" text-anchor=\"middle\" x=\"1408.4948\" y=\"-341.3854\">hll_reduce</text>\n",
       "</g>\n",
       "<!-- 5015067663472393224&#45;&gt;&#45;8690575886577090171 -->\n",
       "<g class=\"edge\" id=\"edge10\">\n",
       "<title>5015067663472393224-&gt;-8690575886577090171</title>\n",
       "<path d=\"M1394.446,-391.3537C1391.5214,-400.9858 1388.5272,-410.8468 1385.885,-419.5488\" fill=\"none\" stroke=\"#000000\"/>\n",
       "<polygon fill=\"#000000\" points=\"1382.5265,-418.5632 1382.9701,-429.1488 1389.2246,-420.597 1382.5265,-418.5632\" stroke=\"#000000\"/>\n",
       "</g>\n",
       "<!-- 7598944533903937497 -->\n",
       "<g class=\"node\" id=\"node12\">\n",
       "<title>7598944533903937497</title>\n",
       "<polygon fill=\"none\" points=\"1435.4948,-260.9896 1381.4948,-260.9896 1381.4948,-224.9896 1435.4948,-224.9896 1435.4948,-260.9896\" stroke=\"#000000\"/>\n",
       "<text fill=\"#000000\" font-family=\"Times,serif\" font-size=\"14.00\" text-anchor=\"middle\" x=\"1408.4948\" y=\"-239.2896\">1</text>\n",
       "</g>\n",
       "<!-- 7598944533903937497&#45;&gt;5015067663472393224 -->\n",
       "<g class=\"edge\" id=\"edge11\">\n",
       "<title>7598944533903937497-&gt;5015067663472393224</title>\n",
       "<path d=\"M1408.4948,-261.2423C1408.4948,-268.5713 1408.4948,-277.4644 1408.4948,-286.6843\" fill=\"none\" stroke=\"#000000\"/>\n",
       "<polygon fill=\"#000000\" points=\"1404.9949,-286.7587 1408.4948,-296.7587 1411.9949,-286.7587 1404.9949,-286.7587\" stroke=\"#000000\"/>\n",
       "</g>\n",
       "<!-- 7598944533902854972 -->\n",
       "<g class=\"node\" id=\"node13\">\n",
       "<title>7598944533902854972</title>\n",
       "<polygon fill=\"none\" points=\"1523.4948,-260.9896 1469.4948,-260.9896 1469.4948,-224.9896 1523.4948,-224.9896 1523.4948,-260.9896\" stroke=\"#000000\"/>\n",
       "<text fill=\"#000000\" font-family=\"Times,serif\" font-size=\"14.00\" text-anchor=\"middle\" x=\"1496.4948\" y=\"-239.2896\">2</text>\n",
       "</g>\n",
       "<!-- 7598944533902854972&#45;&gt;5015067663472393224 -->\n",
       "<g class=\"edge\" id=\"edge12\">\n",
       "<title>7598944533902854972-&gt;5015067663472393224</title>\n",
       "<path d=\"M1480.7622,-261.2423C1471.2517,-272.2762 1458.6856,-286.855 1446.7028,-300.7572\" fill=\"none\" stroke=\"#000000\"/>\n",
       "<polygon fill=\"#000000\" points=\"1444.0066,-298.5245 1440.1289,-308.3842 1449.3088,-303.0947 1444.0066,-298.5245\" stroke=\"#000000\"/>\n",
       "</g>\n",
       "<!-- 7598944533912597697 -->\n",
       "<g class=\"node\" id=\"node14\">\n",
       "<title>7598944533912597697</title>\n",
       "<polygon fill=\"none\" points=\"895.4948,-260.9896 841.4948,-260.9896 841.4948,-224.9896 895.4948,-224.9896 895.4948,-260.9896\" stroke=\"#000000\"/>\n",
       "<text fill=\"#000000\" font-family=\"Times,serif\" font-size=\"14.00\" text-anchor=\"middle\" x=\"868.4948\" y=\"-239.2896\">9</text>\n",
       "</g>\n",
       "<!-- 8583238624387067932 -->\n",
       "<g class=\"node\" id=\"node72\">\n",
       "<title>8583238624387067932</title>\n",
       "<ellipse cx=\"868.4948\" cy=\"-345.0854\" fill=\"none\" rx=\"48.1917\" ry=\"48.1917\" stroke=\"#000000\"/>\n",
       "<text fill=\"#000000\" font-family=\"Times,serif\" font-size=\"14.00\" text-anchor=\"middle\" x=\"868.4948\" y=\"-341.3854\">hll_reduce</text>\n",
       "</g>\n",
       "<!-- 7598944533912597697&#45;&gt;8583238624387067932 -->\n",
       "<g class=\"edge\" id=\"edge64\">\n",
       "<title>7598944533912597697-&gt;8583238624387067932</title>\n",
       "<path d=\"M868.4948,-261.2423C868.4948,-268.5713 868.4948,-277.4644 868.4948,-286.6843\" fill=\"none\" stroke=\"#000000\"/>\n",
       "<polygon fill=\"#000000\" points=\"864.9949,-286.7587 868.4948,-296.7587 871.9949,-286.7587 864.9949,-286.7587\" stroke=\"#000000\"/>\n",
       "</g>\n",
       "<!-- 5320496152362812567 -->\n",
       "<g class=\"node\" id=\"node15\">\n",
       "<title>5320496152362812567</title>\n",
       "<polygon fill=\"none\" points=\"895.4948,-188.9896 841.4948,-188.9896 841.4948,-152.9896 895.4948,-152.9896 895.4948,-188.9896\" stroke=\"#000000\"/>\n",
       "<text fill=\"#000000\" font-family=\"Times,serif\" font-size=\"14.00\" text-anchor=\"middle\" x=\"868.4948\" y=\"-167.2896\">9</text>\n",
       "</g>\n",
       "<!-- 5320496152362812567&#45;&gt;7598944533912597697 -->\n",
       "<g class=\"edge\" id=\"edge13\">\n",
       "<title>5320496152362812567-&gt;7598944533912597697</title>\n",
       "<path d=\"M868.4948,-189.1583C868.4948,-196.8587 868.4948,-206.0153 868.4948,-214.573\" fill=\"none\" stroke=\"#000000\"/>\n",
       "<polygon fill=\"#000000\" points=\"864.9949,-214.5763 868.4948,-224.5764 871.9949,-214.5764 864.9949,-214.5763\" stroke=\"#000000\"/>\n",
       "</g>\n",
       "<!-- 7598944533900689922 -->\n",
       "<g class=\"node\" id=\"node16\">\n",
       "<title>7598944533900689922</title>\n",
       "<polygon fill=\"none\" points=\"1197.4948,-260.9896 1143.4948,-260.9896 1143.4948,-224.9896 1197.4948,-224.9896 1197.4948,-260.9896\" stroke=\"#000000\"/>\n",
       "<text fill=\"#000000\" font-family=\"Times,serif\" font-size=\"14.00\" text-anchor=\"middle\" x=\"1170.4948\" y=\"-239.2896\">4</text>\n",
       "</g>\n",
       "<!-- &#45;3312356592247195876 -->\n",
       "<g class=\"node\" id=\"node60\">\n",
       "<title>-3312356592247195876</title>\n",
       "<ellipse cx=\"1273.4948\" cy=\"-345.0854\" fill=\"none\" rx=\"48.1917\" ry=\"48.1917\" stroke=\"#000000\"/>\n",
       "<text fill=\"#000000\" font-family=\"Times,serif\" font-size=\"14.00\" text-anchor=\"middle\" x=\"1273.4948\" y=\"-341.3854\">hll_reduce</text>\n",
       "</g>\n",
       "<!-- 7598944533900689922&#45;&gt;&#45;3312356592247195876 -->\n",
       "<g class=\"edge\" id=\"edge46\">\n",
       "<title>7598944533900689922-&gt;-3312356592247195876</title>\n",
       "<path d=\"M1188.9091,-261.2423C1200.8436,-273.072 1216.889,-288.9765 1231.7965,-303.7531\" fill=\"none\" stroke=\"#000000\"/>\n",
       "<polygon fill=\"#000000\" points=\"1229.4342,-306.3397 1239.0004,-310.8937 1234.3621,-301.3681 1229.4342,-306.3397\" stroke=\"#000000\"/>\n",
       "</g>\n",
       "<!-- 5320496152350904792 -->\n",
       "<g class=\"node\" id=\"node17\">\n",
       "<title>5320496152350904792</title>\n",
       "<polygon fill=\"none\" points=\"1181.4948,-188.9896 1127.4948,-188.9896 1127.4948,-152.9896 1181.4948,-152.9896 1181.4948,-188.9896\" stroke=\"#000000\"/>\n",
       "<text fill=\"#000000\" font-family=\"Times,serif\" font-size=\"14.00\" text-anchor=\"middle\" x=\"1154.4948\" y=\"-167.2896\">4</text>\n",
       "</g>\n",
       "<!-- 5320496152350904792&#45;&gt;7598944533900689922 -->\n",
       "<g class=\"edge\" id=\"edge14\">\n",
       "<title>5320496152350904792-&gt;7598944533900689922</title>\n",
       "<path d=\"M1158.5323,-189.1583C1160.2435,-196.8587 1162.2783,-206.0153 1164.18,-214.573\" fill=\"none\" stroke=\"#000000\"/>\n",
       "<polygon fill=\"#000000\" points=\"1160.8169,-215.5738 1166.403,-224.5764 1167.6502,-214.0552 1160.8169,-215.5738\" stroke=\"#000000\"/>\n",
       "</g>\n",
       "<!-- 7598944533911515172 -->\n",
       "<g class=\"node\" id=\"node18\">\n",
       "<title>7598944533911515172</title>\n",
       "<polygon fill=\"none\" points=\"983.4948,-260.9896 929.4948,-260.9896 929.4948,-224.9896 983.4948,-224.9896 983.4948,-260.9896\" stroke=\"#000000\"/>\n",
       "<text fill=\"#000000\" font-family=\"Times,serif\" font-size=\"14.00\" text-anchor=\"middle\" x=\"956.4948\" y=\"-239.2896\">10</text>\n",
       "</g>\n",
       "<!-- 7598944533911515172&#45;&gt;8583238624387067932 -->\n",
       "<g class=\"edge\" id=\"edge65\">\n",
       "<title>7598944533911515172-&gt;8583238624387067932</title>\n",
       "<path d=\"M940.7622,-261.2423C931.2517,-272.2762 918.6856,-286.855 906.7028,-300.7572\" fill=\"none\" stroke=\"#000000\"/>\n",
       "<polygon fill=\"#000000\" points=\"904.0066,-298.5245 900.1289,-308.3842 909.3088,-303.0947 904.0066,-298.5245\" stroke=\"#000000\"/>\n",
       "</g>\n",
       "<!-- 5320496152366060142 -->\n",
       "<g class=\"node\" id=\"node19\">\n",
       "<title>5320496152366060142</title>\n",
       "<polygon fill=\"none\" points=\"1014.4948,-188.9896 960.4948,-188.9896 960.4948,-152.9896 1014.4948,-152.9896 1014.4948,-188.9896\" stroke=\"#000000\"/>\n",
       "<text fill=\"#000000\" font-family=\"Times,serif\" font-size=\"14.00\" text-anchor=\"middle\" x=\"987.4948\" y=\"-167.2896\">10</text>\n",
       "</g>\n",
       "<!-- 5320496152366060142&#45;&gt;7598944533911515172 -->\n",
       "<g class=\"edge\" id=\"edge15\">\n",
       "<title>5320496152366060142-&gt;7598944533911515172</title>\n",
       "<path d=\"M979.6722,-189.1583C976.2839,-197.0279 972.2407,-206.4185 968.4872,-215.1363\" fill=\"none\" stroke=\"#000000\"/>\n",
       "<polygon fill=\"#000000\" points=\"965.1627,-214.0074 964.4227,-224.5764 971.5921,-216.7756 965.1627,-214.0074\" stroke=\"#000000\"/>\n",
       "</g>\n",
       "<!-- 7598944533899607397 -->\n",
       "<g class=\"node\" id=\"node20\">\n",
       "<title>7598944533899607397</title>\n",
       "<polygon fill=\"none\" points=\"1975.4948,-260.9896 1921.4948,-260.9896 1921.4948,-224.9896 1975.4948,-224.9896 1975.4948,-260.9896\" stroke=\"#000000\"/>\n",
       "<text fill=\"#000000\" font-family=\"Times,serif\" font-size=\"14.00\" text-anchor=\"middle\" x=\"1948.4948\" y=\"-239.2896\">5</text>\n",
       "</g>\n",
       "<!-- 3174687405333954960 -->\n",
       "<g class=\"node\" id=\"node64\">\n",
       "<title>3174687405333954960</title>\n",
       "<ellipse cx=\"1948.4948\" cy=\"-345.0854\" fill=\"none\" rx=\"48.1917\" ry=\"48.1917\" stroke=\"#000000\"/>\n",
       "<text fill=\"#000000\" font-family=\"Times,serif\" font-size=\"14.00\" text-anchor=\"middle\" x=\"1948.4948\" y=\"-341.3854\">hll_reduce</text>\n",
       "</g>\n",
       "<!-- 7598944533899607397&#45;&gt;3174687405333954960 -->\n",
       "<g class=\"edge\" id=\"edge53\">\n",
       "<title>7598944533899607397-&gt;3174687405333954960</title>\n",
       "<path d=\"M1948.4948,-261.2423C1948.4948,-268.5713 1948.4948,-277.4644 1948.4948,-286.6843\" fill=\"none\" stroke=\"#000000\"/>\n",
       "<polygon fill=\"#000000\" points=\"1944.9949,-286.7587 1948.4948,-296.7587 1951.9949,-286.7587 1944.9949,-286.7587\" stroke=\"#000000\"/>\n",
       "</g>\n",
       "<!-- 5320496152349822267 -->\n",
       "<g class=\"node\" id=\"node21\">\n",
       "<title>5320496152349822267</title>\n",
       "<polygon fill=\"none\" points=\"1975.4948,-188.9896 1921.4948,-188.9896 1921.4948,-152.9896 1975.4948,-152.9896 1975.4948,-188.9896\" stroke=\"#000000\"/>\n",
       "<text fill=\"#000000\" font-family=\"Times,serif\" font-size=\"14.00\" text-anchor=\"middle\" x=\"1948.4948\" y=\"-167.2896\">5</text>\n",
       "</g>\n",
       "<!-- 5320496152349822267&#45;&gt;7598944533899607397 -->\n",
       "<g class=\"edge\" id=\"edge16\">\n",
       "<title>5320496152349822267-&gt;7598944533899607397</title>\n",
       "<path d=\"M1948.4948,-189.1583C1948.4948,-196.8587 1948.4948,-206.0153 1948.4948,-214.573\" fill=\"none\" stroke=\"#000000\"/>\n",
       "<polygon fill=\"#000000\" points=\"1944.9949,-214.5763 1948.4948,-224.5764 1951.9949,-214.5764 1944.9949,-214.5763\" stroke=\"#000000\"/>\n",
       "</g>\n",
       "<!-- 7598944533910432647 -->\n",
       "<g class=\"node\" id=\"node22\">\n",
       "<title>7598944533910432647</title>\n",
       "<polygon fill=\"none\" points=\"657.4948,-260.9896 603.4948,-260.9896 603.4948,-224.9896 657.4948,-224.9896 657.4948,-260.9896\" stroke=\"#000000\"/>\n",
       "<text fill=\"#000000\" font-family=\"Times,serif\" font-size=\"14.00\" text-anchor=\"middle\" x=\"630.4948\" y=\"-239.2896\">11</text>\n",
       "</g>\n",
       "<!-- &#45;7702780451819587836 -->\n",
       "<g class=\"node\" id=\"node73\">\n",
       "<title>-7702780451819587836</title>\n",
       "<ellipse cx=\"733.4948\" cy=\"-345.0854\" fill=\"none\" rx=\"48.1917\" ry=\"48.1917\" stroke=\"#000000\"/>\n",
       "<text fill=\"#000000\" font-family=\"Times,serif\" font-size=\"14.00\" text-anchor=\"middle\" x=\"733.4948\" y=\"-341.3854\">hll_reduce</text>\n",
       "</g>\n",
       "<!-- 7598944533910432647&#45;&gt;&#45;7702780451819587836 -->\n",
       "<g class=\"edge\" id=\"edge68\">\n",
       "<title>7598944533910432647-&gt;-7702780451819587836</title>\n",
       "<path d=\"M648.9091,-261.2423C660.8436,-273.072 676.889,-288.9765 691.7965,-303.7531\" fill=\"none\" stroke=\"#000000\"/>\n",
       "<polygon fill=\"#000000\" points=\"689.4342,-306.3397 699.0004,-310.8937 694.3621,-301.3681 689.4342,-306.3397\" stroke=\"#000000\"/>\n",
       "</g>\n",
       "<!-- 5320496152364977617 -->\n",
       "<g class=\"node\" id=\"node23\">\n",
       "<title>5320496152364977617</title>\n",
       "<polygon fill=\"none\" points=\"641.4948,-188.9896 587.4948,-188.9896 587.4948,-152.9896 641.4948,-152.9896 641.4948,-188.9896\" stroke=\"#000000\"/>\n",
       "<text fill=\"#000000\" font-family=\"Times,serif\" font-size=\"14.00\" text-anchor=\"middle\" x=\"614.4948\" y=\"-167.2896\">11</text>\n",
       "</g>\n",
       "<!-- 5320496152364977617&#45;&gt;7598944533910432647 -->\n",
       "<g class=\"edge\" id=\"edge17\">\n",
       "<title>5320496152364977617-&gt;7598944533910432647</title>\n",
       "<path d=\"M618.5323,-189.1583C620.2435,-196.8587 622.2783,-206.0153 624.18,-214.573\" fill=\"none\" stroke=\"#000000\"/>\n",
       "<polygon fill=\"#000000\" points=\"620.8169,-215.5738 626.403,-224.5764 627.6502,-214.0552 620.8169,-215.5738\" stroke=\"#000000\"/>\n",
       "</g>\n",
       "<!-- 7598944533898524872 -->\n",
       "<g class=\"node\" id=\"node24\">\n",
       "<title>7598944533898524872</title>\n",
       "<polygon fill=\"none\" points=\"2062.4948,-260.9896 2008.4948,-260.9896 2008.4948,-224.9896 2062.4948,-224.9896 2062.4948,-260.9896\" stroke=\"#000000\"/>\n",
       "<text fill=\"#000000\" font-family=\"Times,serif\" font-size=\"14.00\" text-anchor=\"middle\" x=\"2035.4948\" y=\"-239.2896\">6</text>\n",
       "</g>\n",
       "<!-- 7598944533898524872&#45;&gt;3174687405333954960 -->\n",
       "<g class=\"edge\" id=\"edge52\">\n",
       "<title>7598944533898524872-&gt;3174687405333954960</title>\n",
       "<path d=\"M2019.941,-261.2423C2010.5385,-272.2762 1998.1153,-286.855 1986.2687,-300.7572\" fill=\"none\" stroke=\"#000000\"/>\n",
       "<polygon fill=\"#000000\" points=\"1983.5914,-298.5027 1979.7694,-308.3842 1988.9193,-303.0429 1983.5914,-298.5027\" stroke=\"#000000\"/>\n",
       "</g>\n",
       "<!-- 5320496152353069842 -->\n",
       "<g class=\"node\" id=\"node25\">\n",
       "<title>5320496152353069842</title>\n",
       "<polygon fill=\"none\" points=\"2078.4948,-188.9896 2024.4948,-188.9896 2024.4948,-152.9896 2078.4948,-152.9896 2078.4948,-188.9896\" stroke=\"#000000\"/>\n",
       "<text fill=\"#000000\" font-family=\"Times,serif\" font-size=\"14.00\" text-anchor=\"middle\" x=\"2051.4948\" y=\"-167.2896\">6</text>\n",
       "</g>\n",
       "<!-- 5320496152353069842&#45;&gt;7598944533898524872 -->\n",
       "<g class=\"edge\" id=\"edge18\">\n",
       "<title>5320496152353069842-&gt;7598944533898524872</title>\n",
       "<path d=\"M2047.4573,-189.1583C2045.7461,-196.8587 2043.7113,-206.0153 2041.8096,-214.573\" fill=\"none\" stroke=\"#000000\"/>\n",
       "<polygon fill=\"#000000\" points=\"2038.3394,-214.0552 2039.5866,-224.5764 2045.1727,-215.5738 2038.3394,-214.0552\" stroke=\"#000000\"/>\n",
       "</g>\n",
       "<!-- 7598944533909350122 -->\n",
       "<g class=\"node\" id=\"node26\">\n",
       "<title>7598944533909350122</title>\n",
       "<polygon fill=\"none\" points=\"760.4948,-260.9896 706.4948,-260.9896 706.4948,-224.9896 760.4948,-224.9896 760.4948,-260.9896\" stroke=\"#000000\"/>\n",
       "<text fill=\"#000000\" font-family=\"Times,serif\" font-size=\"14.00\" text-anchor=\"middle\" x=\"733.4948\" y=\"-239.2896\">12</text>\n",
       "</g>\n",
       "<!-- 7598944533909350122&#45;&gt;&#45;7702780451819587836 -->\n",
       "<g class=\"edge\" id=\"edge67\">\n",
       "<title>7598944533909350122-&gt;-7702780451819587836</title>\n",
       "<path d=\"M733.4948,-261.2423C733.4948,-268.5713 733.4948,-277.4644 733.4948,-286.6843\" fill=\"none\" stroke=\"#000000\"/>\n",
       "<polygon fill=\"#000000\" points=\"729.9949,-286.7587 733.4948,-296.7587 736.9949,-286.7587 729.9949,-286.7587\" stroke=\"#000000\"/>\n",
       "</g>\n",
       "<!-- 5320496152359564992 -->\n",
       "<g class=\"node\" id=\"node27\">\n",
       "<title>5320496152359564992</title>\n",
       "<polygon fill=\"none\" points=\"760.4948,-188.9896 706.4948,-188.9896 706.4948,-152.9896 760.4948,-152.9896 760.4948,-188.9896\" stroke=\"#000000\"/>\n",
       "<text fill=\"#000000\" font-family=\"Times,serif\" font-size=\"14.00\" text-anchor=\"middle\" x=\"733.4948\" y=\"-167.2896\">12</text>\n",
       "</g>\n",
       "<!-- 5320496152359564992&#45;&gt;7598944533909350122 -->\n",
       "<g class=\"edge\" id=\"edge19\">\n",
       "<title>5320496152359564992-&gt;7598944533909350122</title>\n",
       "<path d=\"M733.4948,-189.1583C733.4948,-196.8587 733.4948,-206.0153 733.4948,-214.573\" fill=\"none\" stroke=\"#000000\"/>\n",
       "<polygon fill=\"#000000\" points=\"729.9949,-214.5763 733.4948,-224.5764 736.9949,-214.5764 729.9949,-214.5763\" stroke=\"#000000\"/>\n",
       "</g>\n",
       "<!-- 7598944533897442347 -->\n",
       "<g class=\"node\" id=\"node28\">\n",
       "<title>7598944533897442347</title>\n",
       "<polygon fill=\"none\" points=\"1713.4948,-260.9896 1659.4948,-260.9896 1659.4948,-224.9896 1713.4948,-224.9896 1713.4948,-260.9896\" stroke=\"#000000\"/>\n",
       "<text fill=\"#000000\" font-family=\"Times,serif\" font-size=\"14.00\" text-anchor=\"middle\" x=\"1686.4948\" y=\"-239.2896\">7</text>\n",
       "</g>\n",
       "<!-- &#45;2217084630350874495 -->\n",
       "<g class=\"node\" id=\"node65\">\n",
       "<title>-2217084630350874495</title>\n",
       "<ellipse cx=\"1730.4948\" cy=\"-345.0854\" fill=\"none\" rx=\"48.1917\" ry=\"48.1917\" stroke=\"#000000\"/>\n",
       "<text fill=\"#000000\" font-family=\"Times,serif\" font-size=\"14.00\" text-anchor=\"middle\" x=\"1730.4948\" y=\"-341.3854\">hll_reduce</text>\n",
       "</g>\n",
       "<!-- 7598944533897442347&#45;&gt;&#45;2217084630350874495 -->\n",
       "<g class=\"edge\" id=\"edge55\">\n",
       "<title>7598944533897442347-&gt;-2217084630350874495</title>\n",
       "<path d=\"M1694.3611,-261.2423C1698.0319,-269.7597 1702.6129,-280.3894 1707.2675,-291.1897\" fill=\"none\" stroke=\"#000000\"/>\n",
       "<polygon fill=\"#000000\" points=\"1704.1837,-292.8777 1711.3558,-300.6759 1710.6121,-290.1072 1704.1837,-292.8777\" stroke=\"#000000\"/>\n",
       "</g>\n",
       "<!-- 5320496152351987317 -->\n",
       "<g class=\"node\" id=\"node29\">\n",
       "<title>5320496152351987317</title>\n",
       "<polygon fill=\"none\" points=\"1709.4948,-188.9896 1655.4948,-188.9896 1655.4948,-152.9896 1709.4948,-152.9896 1709.4948,-188.9896\" stroke=\"#000000\"/>\n",
       "<text fill=\"#000000\" font-family=\"Times,serif\" font-size=\"14.00\" text-anchor=\"middle\" x=\"1682.4948\" y=\"-167.2896\">7</text>\n",
       "</g>\n",
       "<!-- 5320496152351987317&#45;&gt;7598944533897442347 -->\n",
       "<g class=\"edge\" id=\"edge20\">\n",
       "<title>5320496152351987317-&gt;7598944533897442347</title>\n",
       "<path d=\"M1683.5042,-189.1583C1683.932,-196.8587 1684.4407,-206.0153 1684.9161,-214.573\" fill=\"none\" stroke=\"#000000\"/>\n",
       "<polygon fill=\"#000000\" points=\"1681.4224,-214.7859 1685.4719,-224.5764 1688.4117,-214.3976 1681.4224,-214.7859\" stroke=\"#000000\"/>\n",
       "</g>\n",
       "<!-- 7598944533908267597 -->\n",
       "<g class=\"node\" id=\"node30\">\n",
       "<title>7598944533908267597</title>\n",
       "<polygon fill=\"none\" points=\"132.4948,-260.9896 78.4948,-260.9896 78.4948,-224.9896 132.4948,-224.9896 132.4948,-260.9896\" stroke=\"#000000\"/>\n",
       "<text fill=\"#000000\" font-family=\"Times,serif\" font-size=\"14.00\" text-anchor=\"middle\" x=\"105.4948\" y=\"-239.2896\">13</text>\n",
       "</g>\n",
       "<!-- 6516671981740289545 -->\n",
       "<g class=\"node\" id=\"node77\">\n",
       "<title>6516671981740289545</title>\n",
       "<ellipse cx=\"193.4948\" cy=\"-345.0854\" fill=\"none\" rx=\"48.1917\" ry=\"48.1917\" stroke=\"#000000\"/>\n",
       "<text fill=\"#000000\" font-family=\"Times,serif\" font-size=\"14.00\" text-anchor=\"middle\" x=\"193.4948\" y=\"-341.3854\">hll_reduce</text>\n",
       "</g>\n",
       "<!-- 7598944533908267597&#45;&gt;6516671981740289545 -->\n",
       "<g class=\"edge\" id=\"edge74\">\n",
       "<title>7598944533908267597-&gt;6516671981740289545</title>\n",
       "<path d=\"M121.2274,-261.2423C130.738,-272.2762 143.304,-286.855 155.2868,-300.7572\" fill=\"none\" stroke=\"#000000\"/>\n",
       "<polygon fill=\"#000000\" points=\"152.6808,-303.0947 161.8608,-308.3842 157.983,-298.5245 152.6808,-303.0947\" stroke=\"#000000\"/>\n",
       "</g>\n",
       "<!-- 5320496152358482467 -->\n",
       "<g class=\"node\" id=\"node31\">\n",
       "<title>5320496152358482467</title>\n",
       "<polygon fill=\"none\" points=\"116.4948,-188.9896 62.4948,-188.9896 62.4948,-152.9896 116.4948,-152.9896 116.4948,-188.9896\" stroke=\"#000000\"/>\n",
       "<text fill=\"#000000\" font-family=\"Times,serif\" font-size=\"14.00\" text-anchor=\"middle\" x=\"89.4948\" y=\"-167.2896\">13</text>\n",
       "</g>\n",
       "<!-- 5320496152358482467&#45;&gt;7598944533908267597 -->\n",
       "<g class=\"edge\" id=\"edge21\">\n",
       "<title>5320496152358482467-&gt;7598944533908267597</title>\n",
       "<path d=\"M93.5323,-189.1583C95.2435,-196.8587 97.2783,-206.0153 99.18,-214.573\" fill=\"none\" stroke=\"#000000\"/>\n",
       "<polygon fill=\"#000000\" points=\"95.8169,-215.5738 101.403,-224.5764 102.6502,-214.0552 95.8169,-215.5738\" stroke=\"#000000\"/>\n",
       "</g>\n",
       "<!-- 7598944533907185072 -->\n",
       "<g class=\"node\" id=\"node32\">\n",
       "<title>7598944533907185072</title>\n",
       "<polygon fill=\"none\" points=\"220.4948,-260.9896 166.4948,-260.9896 166.4948,-224.9896 220.4948,-224.9896 220.4948,-260.9896\" stroke=\"#000000\"/>\n",
       "<text fill=\"#000000\" font-family=\"Times,serif\" font-size=\"14.00\" text-anchor=\"middle\" x=\"193.4948\" y=\"-239.2896\">14</text>\n",
       "</g>\n",
       "<!-- 7598944533907185072&#45;&gt;6516671981740289545 -->\n",
       "<g class=\"edge\" id=\"edge73\">\n",
       "<title>7598944533907185072-&gt;6516671981740289545</title>\n",
       "<path d=\"M193.4948,-261.2423C193.4948,-268.5713 193.4948,-277.4644 193.4948,-286.6843\" fill=\"none\" stroke=\"#000000\"/>\n",
       "<polygon fill=\"#000000\" points=\"189.9949,-286.7587 193.4948,-296.7587 196.9949,-286.7587 189.9949,-286.7587\" stroke=\"#000000\"/>\n",
       "</g>\n",
       "<!-- 5320496152361730042 -->\n",
       "<g class=\"node\" id=\"node33\">\n",
       "<title>5320496152361730042</title>\n",
       "<polygon fill=\"none\" points=\"220.4948,-188.9896 166.4948,-188.9896 166.4948,-152.9896 220.4948,-152.9896 220.4948,-188.9896\" stroke=\"#000000\"/>\n",
       "<text fill=\"#000000\" font-family=\"Times,serif\" font-size=\"14.00\" text-anchor=\"middle\" x=\"193.4948\" y=\"-167.2896\">14</text>\n",
       "</g>\n",
       "<!-- 5320496152361730042&#45;&gt;7598944533907185072 -->\n",
       "<g class=\"edge\" id=\"edge22\">\n",
       "<title>5320496152361730042-&gt;7598944533907185072</title>\n",
       "<path d=\"M193.4948,-189.1583C193.4948,-196.8587 193.4948,-206.0153 193.4948,-214.573\" fill=\"none\" stroke=\"#000000\"/>\n",
       "<polygon fill=\"#000000\" points=\"189.9949,-214.5763 193.4948,-224.5764 196.9949,-214.5764 189.9949,-214.5763\" stroke=\"#000000\"/>\n",
       "</g>\n",
       "<!-- 7598944533906102547 -->\n",
       "<g class=\"node\" id=\"node34\">\n",
       "<title>7598944533906102547</title>\n",
       "<polygon fill=\"none\" points=\"367.4948,-260.9896 313.4948,-260.9896 313.4948,-224.9896 367.4948,-224.9896 367.4948,-260.9896\" stroke=\"#000000\"/>\n",
       "<text fill=\"#000000\" font-family=\"Times,serif\" font-size=\"14.00\" text-anchor=\"middle\" x=\"340.4948\" y=\"-239.2896\">15</text>\n",
       "</g>\n",
       "<!-- 8636209507819360131 -->\n",
       "<g class=\"node\" id=\"node78\">\n",
       "<title>8636209507819360131</title>\n",
       "<ellipse cx=\"384.4948\" cy=\"-345.0854\" fill=\"none\" rx=\"48.1917\" ry=\"48.1917\" stroke=\"#000000\"/>\n",
       "<text fill=\"#000000\" font-family=\"Times,serif\" font-size=\"14.00\" text-anchor=\"middle\" x=\"384.4948\" y=\"-341.3854\">hll_reduce</text>\n",
       "</g>\n",
       "<!-- 7598944533906102547&#45;&gt;8636209507819360131 -->\n",
       "<g class=\"edge\" id=\"edge76\">\n",
       "<title>7598944533906102547-&gt;8636209507819360131</title>\n",
       "<path d=\"M348.3611,-261.2423C352.0319,-269.7597 356.6129,-280.3894 361.2675,-291.1897\" fill=\"none\" stroke=\"#000000\"/>\n",
       "<polygon fill=\"#000000\" points=\"358.1837,-292.8777 365.3558,-300.6759 364.6121,-290.1072 358.1837,-292.8777\" stroke=\"#000000\"/>\n",
       "</g>\n",
       "<!-- 5320496152360647517 -->\n",
       "<g class=\"node\" id=\"node35\">\n",
       "<title>5320496152360647517</title>\n",
       "<polygon fill=\"none\" points=\"359.4948,-188.9896 305.4948,-188.9896 305.4948,-152.9896 359.4948,-152.9896 359.4948,-188.9896\" stroke=\"#000000\"/>\n",
       "<text fill=\"#000000\" font-family=\"Times,serif\" font-size=\"14.00\" text-anchor=\"middle\" x=\"332.4948\" y=\"-167.2896\">15</text>\n",
       "</g>\n",
       "<!-- 5320496152360647517&#45;&gt;7598944533906102547 -->\n",
       "<g class=\"edge\" id=\"edge23\">\n",
       "<title>5320496152360647517-&gt;7598944533906102547</title>\n",
       "<path d=\"M334.5135,-189.1583C335.3691,-196.8587 336.3865,-206.0153 337.3374,-214.573\" fill=\"none\" stroke=\"#000000\"/>\n",
       "<polygon fill=\"#000000\" points=\"333.8659,-215.0241 338.4489,-224.5764 340.8231,-214.251 333.8659,-215.0241\" stroke=\"#000000\"/>\n",
       "</g>\n",
       "<!-- 7598944533905020022 -->\n",
       "<g class=\"node\" id=\"node36\">\n",
       "<title>7598944533905020022</title>\n",
       "<polygon fill=\"none\" points=\"455.4948,-260.9896 401.4948,-260.9896 401.4948,-224.9896 455.4948,-224.9896 455.4948,-260.9896\" stroke=\"#000000\"/>\n",
       "<text fill=\"#000000\" font-family=\"Times,serif\" font-size=\"14.00\" text-anchor=\"middle\" x=\"428.4948\" y=\"-239.2896\">0</text>\n",
       "</g>\n",
       "<!-- 7598944533905020022&#45;&gt;8636209507819360131 -->\n",
       "<g class=\"edge\" id=\"edge77\">\n",
       "<title>7598944533905020022-&gt;8636209507819360131</title>\n",
       "<path d=\"M420.6285,-261.2423C416.9578,-269.7597 412.3767,-280.3894 407.7221,-291.1897\" fill=\"none\" stroke=\"#000000\"/>\n",
       "<polygon fill=\"#000000\" points=\"404.3775,-290.1072 403.6339,-300.6759 410.8059,-292.8777 404.3775,-290.1072\" stroke=\"#000000\"/>\n",
       "</g>\n",
       "<!-- 5320496152355234892 -->\n",
       "<g class=\"node\" id=\"node37\">\n",
       "<title>5320496152355234892</title>\n",
       "<polygon fill=\"none\" points=\"486.4948,-188.9896 432.4948,-188.9896 432.4948,-152.9896 486.4948,-152.9896 486.4948,-188.9896\" stroke=\"#000000\"/>\n",
       "<text fill=\"#000000\" font-family=\"Times,serif\" font-size=\"14.00\" text-anchor=\"middle\" x=\"459.4948\" y=\"-167.2896\">0</text>\n",
       "</g>\n",
       "<!-- 5320496152355234892&#45;&gt;7598944533905020022 -->\n",
       "<g class=\"edge\" id=\"edge24\">\n",
       "<title>5320496152355234892-&gt;7598944533905020022</title>\n",
       "<path d=\"M451.6722,-189.1583C448.2839,-197.0279 444.2407,-206.4185 440.4872,-215.1363\" fill=\"none\" stroke=\"#000000\"/>\n",
       "<polygon fill=\"#000000\" points=\"437.1627,-214.0074 436.4227,-224.5764 443.5921,-216.7756 437.1627,-214.0074\" stroke=\"#000000\"/>\n",
       "</g>\n",
       "<!-- 5320496152354152367 -->\n",
       "<g class=\"node\" id=\"node38\">\n",
       "<title>5320496152354152367</title>\n",
       "<polygon fill=\"none\" points=\"1435.4948,-188.9896 1381.4948,-188.9896 1381.4948,-152.9896 1435.4948,-152.9896 1435.4948,-188.9896\" stroke=\"#000000\"/>\n",
       "<text fill=\"#000000\" font-family=\"Times,serif\" font-size=\"14.00\" text-anchor=\"middle\" x=\"1408.4948\" y=\"-167.2896\">1</text>\n",
       "</g>\n",
       "<!-- 5320496152354152367&#45;&gt;7598944533903937497 -->\n",
       "<g class=\"edge\" id=\"edge25\">\n",
       "<title>5320496152354152367-&gt;7598944533903937497</title>\n",
       "<path d=\"M1408.4948,-189.1583C1408.4948,-196.8587 1408.4948,-206.0153 1408.4948,-214.573\" fill=\"none\" stroke=\"#000000\"/>\n",
       "<polygon fill=\"#000000\" points=\"1404.9949,-214.5763 1408.4948,-224.5764 1411.9949,-214.5764 1404.9949,-214.5763\" stroke=\"#000000\"/>\n",
       "</g>\n",
       "<!-- 5320496152357399942 -->\n",
       "<g class=\"node\" id=\"node39\">\n",
       "<title>5320496152357399942</title>\n",
       "<polygon fill=\"none\" points=\"1554.4948,-188.9896 1500.4948,-188.9896 1500.4948,-152.9896 1554.4948,-152.9896 1554.4948,-188.9896\" stroke=\"#000000\"/>\n",
       "<text fill=\"#000000\" font-family=\"Times,serif\" font-size=\"14.00\" text-anchor=\"middle\" x=\"1527.4948\" y=\"-167.2896\">2</text>\n",
       "</g>\n",
       "<!-- 5320496152357399942&#45;&gt;7598944533902854972 -->\n",
       "<g class=\"edge\" id=\"edge26\">\n",
       "<title>5320496152357399942-&gt;7598944533902854972</title>\n",
       "<path d=\"M1519.6722,-189.1583C1516.2839,-197.0279 1512.2407,-206.4185 1508.4872,-215.1363\" fill=\"none\" stroke=\"#000000\"/>\n",
       "<polygon fill=\"#000000\" points=\"1505.1627,-214.0074 1504.4227,-224.5764 1511.5921,-216.7756 1505.1627,-214.0074\" stroke=\"#000000\"/>\n",
       "</g>\n",
       "<!-- 7598944533913680222 -->\n",
       "<g class=\"node\" id=\"node40\">\n",
       "<title>7598944533913680222</title>\n",
       "<polygon fill=\"none\" points=\"1801.4948,-260.9896 1747.4948,-260.9896 1747.4948,-224.9896 1801.4948,-224.9896 1801.4948,-260.9896\" stroke=\"#000000\"/>\n",
       "<text fill=\"#000000\" font-family=\"Times,serif\" font-size=\"14.00\" text-anchor=\"middle\" x=\"1774.4948\" y=\"-239.2896\">8</text>\n",
       "</g>\n",
       "<!-- 7598944533913680222&#45;&gt;&#45;2217084630350874495 -->\n",
       "<g class=\"edge\" id=\"edge56\">\n",
       "<title>7598944533913680222-&gt;-2217084630350874495</title>\n",
       "<path d=\"M1766.6285,-261.2423C1762.9578,-269.7597 1758.3767,-280.3894 1753.7221,-291.1897\" fill=\"none\" stroke=\"#000000\"/>\n",
       "<polygon fill=\"#000000\" points=\"1750.3775,-290.1072 1749.6339,-300.6759 1756.8059,-292.8777 1750.3775,-290.1072\" stroke=\"#000000\"/>\n",
       "</g>\n",
       "<!-- 5320496152363895092 -->\n",
       "<g class=\"node\" id=\"node41\">\n",
       "<title>5320496152363895092</title>\n",
       "<polygon fill=\"none\" points=\"1832.4948,-188.9896 1778.4948,-188.9896 1778.4948,-152.9896 1832.4948,-152.9896 1832.4948,-188.9896\" stroke=\"#000000\"/>\n",
       "<text fill=\"#000000\" font-family=\"Times,serif\" font-size=\"14.00\" text-anchor=\"middle\" x=\"1805.4948\" y=\"-167.2896\">8</text>\n",
       "</g>\n",
       "<!-- 5320496152363895092&#45;&gt;7598944533913680222 -->\n",
       "<g class=\"edge\" id=\"edge27\">\n",
       "<title>5320496152363895092-&gt;7598944533913680222</title>\n",
       "<path d=\"M1797.6722,-189.1583C1794.2839,-197.0279 1790.2407,-206.4185 1786.4872,-215.1363\" fill=\"none\" stroke=\"#000000\"/>\n",
       "<polygon fill=\"#000000\" points=\"1783.1627,-214.0074 1782.4227,-224.5764 1789.5921,-216.7756 1783.1627,-214.0074\" stroke=\"#000000\"/>\n",
       "</g>\n",
       "<!-- 7598944533901772447 -->\n",
       "<g class=\"node\" id=\"node42\">\n",
       "<title>7598944533901772447</title>\n",
       "<polygon fill=\"none\" points=\"1300.4948,-260.9896 1246.4948,-260.9896 1246.4948,-224.9896 1300.4948,-224.9896 1300.4948,-260.9896\" stroke=\"#000000\"/>\n",
       "<text fill=\"#000000\" font-family=\"Times,serif\" font-size=\"14.00\" text-anchor=\"middle\" x=\"1273.4948\" y=\"-239.2896\">3</text>\n",
       "</g>\n",
       "<!-- 7598944533901772447&#45;&gt;&#45;3312356592247195876 -->\n",
       "<g class=\"edge\" id=\"edge47\">\n",
       "<title>7598944533901772447-&gt;-3312356592247195876</title>\n",
       "<path d=\"M1273.4948,-261.2423C1273.4948,-268.5713 1273.4948,-277.4644 1273.4948,-286.6843\" fill=\"none\" stroke=\"#000000\"/>\n",
       "<polygon fill=\"#000000\" points=\"1269.9949,-286.7587 1273.4948,-296.7587 1276.9949,-286.7587 1269.9949,-286.7587\" stroke=\"#000000\"/>\n",
       "</g>\n",
       "<!-- 5320496152356317417 -->\n",
       "<g class=\"node\" id=\"node43\">\n",
       "<title>5320496152356317417</title>\n",
       "<polygon fill=\"none\" points=\"1300.4948,-188.9896 1246.4948,-188.9896 1246.4948,-152.9896 1300.4948,-152.9896 1300.4948,-188.9896\" stroke=\"#000000\"/>\n",
       "<text fill=\"#000000\" font-family=\"Times,serif\" font-size=\"14.00\" text-anchor=\"middle\" x=\"1273.4948\" y=\"-167.2896\">3</text>\n",
       "</g>\n",
       "<!-- 5320496152356317417&#45;&gt;7598944533901772447 -->\n",
       "<g class=\"edge\" id=\"edge28\">\n",
       "<title>5320496152356317417-&gt;7598944533901772447</title>\n",
       "<path d=\"M1273.4948,-189.1583C1273.4948,-196.8587 1273.4948,-206.0153 1273.4948,-214.573\" fill=\"none\" stroke=\"#000000\"/>\n",
       "<polygon fill=\"#000000\" points=\"1269.9949,-214.5763 1273.4948,-224.5764 1276.9949,-214.5764 1269.9949,-214.5763\" stroke=\"#000000\"/>\n",
       "</g>\n",
       "<!-- 4519420024744298554 -->\n",
       "<g class=\"node\" id=\"node44\">\n",
       "<title>4519420024744298554</title>\n",
       "<ellipse cx=\"868.4948\" cy=\"-58.4948\" fill=\"none\" rx=\"58.4896\" ry=\"58.4896\" stroke=\"#000000\"/>\n",
       "<text fill=\"#000000\" font-family=\"Times,serif\" font-size=\"14.00\" text-anchor=\"middle\" x=\"868.4948\" y=\"-54.7948\">from-delayed</text>\n",
       "</g>\n",
       "<!-- 4519420024744298554&#45;&gt;5320496152362812567 -->\n",
       "<g class=\"edge\" id=\"edge29\">\n",
       "<title>4519420024744298554-&gt;5320496152362812567</title>\n",
       "<path d=\"M868.4948,-117.0487C868.4948,-126.0044 868.4948,-134.882 868.4948,-142.7713\" fill=\"none\" stroke=\"#000000\"/>\n",
       "<polygon fill=\"#000000\" points=\"864.9949,-142.8314 868.4948,-152.8314 871.9949,-142.8314 864.9949,-142.8314\" stroke=\"#000000\"/>\n",
       "</g>\n",
       "<!-- 54368625722894345 -->\n",
       "<g class=\"node\" id=\"node45\">\n",
       "<title>54368625722894345</title>\n",
       "<ellipse cx=\"1138.4948\" cy=\"-58.4948\" fill=\"none\" rx=\"58.4896\" ry=\"58.4896\" stroke=\"#000000\"/>\n",
       "<text fill=\"#000000\" font-family=\"Times,serif\" font-size=\"14.00\" text-anchor=\"middle\" x=\"1138.4948\" y=\"-54.7948\">from-delayed</text>\n",
       "</g>\n",
       "<!-- 54368625722894345&#45;&gt;5320496152350904792 -->\n",
       "<g class=\"edge\" id=\"edge30\">\n",
       "<title>54368625722894345-&gt;5320496152350904792</title>\n",
       "<path d=\"M1146.776,-116.7193C1148.0551,-125.7128 1149.3247,-134.6387 1150.4536,-142.576\" fill=\"none\" stroke=\"#000000\"/>\n",
       "<polygon fill=\"#000000\" points=\"1147.0202,-143.2928 1151.8935,-152.7003 1153.9505,-142.3071 1147.0202,-143.2928\" stroke=\"#000000\"/>\n",
       "</g>\n",
       "<!-- &#45;2172747137750061521 -->\n",
       "<g class=\"node\" id=\"node46\">\n",
       "<title>-2172747137750061521</title>\n",
       "<ellipse cx=\"1003.4948\" cy=\"-58.4948\" fill=\"none\" rx=\"58.4896\" ry=\"58.4896\" stroke=\"#000000\"/>\n",
       "<text fill=\"#000000\" font-family=\"Times,serif\" font-size=\"14.00\" text-anchor=\"middle\" x=\"1003.4948\" y=\"-54.7948\">from-delayed</text>\n",
       "</g>\n",
       "<!-- &#45;2172747137750061521&#45;&gt;5320496152366060142 -->\n",
       "<g class=\"edge\" id=\"edge31\">\n",
       "<title>-2172747137750061521-&gt;5320496152366060142</title>\n",
       "<path d=\"M995.2136,-116.7193C993.9345,-125.7128 992.665,-134.6387 991.536,-142.576\" fill=\"none\" stroke=\"#000000\"/>\n",
       "<polygon fill=\"#000000\" points=\"988.0392,-142.3071 990.0961,-152.7003 994.9694,-143.2928 988.0392,-142.3071\" stroke=\"#000000\"/>\n",
       "</g>\n",
       "<!-- &#45;1053622154995246930 -->\n",
       "<g class=\"node\" id=\"node47\">\n",
       "<title>-1053622154995246930</title>\n",
       "<ellipse cx=\"1948.4948\" cy=\"-58.4948\" fill=\"none\" rx=\"58.4896\" ry=\"58.4896\" stroke=\"#000000\"/>\n",
       "<text fill=\"#000000\" font-family=\"Times,serif\" font-size=\"14.00\" text-anchor=\"middle\" x=\"1948.4948\" y=\"-54.7948\">from-delayed</text>\n",
       "</g>\n",
       "<!-- &#45;1053622154995246930&#45;&gt;5320496152349822267 -->\n",
       "<g class=\"edge\" id=\"edge32\">\n",
       "<title>-1053622154995246930-&gt;5320496152349822267</title>\n",
       "<path d=\"M1948.4948,-117.0487C1948.4948,-126.0044 1948.4948,-134.882 1948.4948,-142.7713\" fill=\"none\" stroke=\"#000000\"/>\n",
       "<polygon fill=\"#000000\" points=\"1944.9949,-142.8314 1948.4948,-152.8314 1951.9949,-142.8314 1944.9949,-142.8314\" stroke=\"#000000\"/>\n",
       "</g>\n",
       "<!-- &#45;3279647865104381596 -->\n",
       "<g class=\"node\" id=\"node48\">\n",
       "<title>-3279647865104381596</title>\n",
       "<ellipse cx=\"598.4948\" cy=\"-58.4948\" fill=\"none\" rx=\"58.4896\" ry=\"58.4896\" stroke=\"#000000\"/>\n",
       "<text fill=\"#000000\" font-family=\"Times,serif\" font-size=\"14.00\" text-anchor=\"middle\" x=\"598.4948\" y=\"-54.7948\">from-delayed</text>\n",
       "</g>\n",
       "<!-- &#45;3279647865104381596&#45;&gt;5320496152364977617 -->\n",
       "<g class=\"edge\" id=\"edge33\">\n",
       "<title>-3279647865104381596-&gt;5320496152364977617</title>\n",
       "<path d=\"M606.776,-116.7193C608.0551,-125.7128 609.3247,-134.6387 610.4536,-142.576\" fill=\"none\" stroke=\"#000000\"/>\n",
       "<polygon fill=\"#000000\" points=\"607.0202,-143.2928 611.8935,-152.7003 613.9505,-142.3071 607.0202,-143.2928\" stroke=\"#000000\"/>\n",
       "</g>\n",
       "<!-- &#45;6225586231731745837 -->\n",
       "<g class=\"node\" id=\"node49\">\n",
       "<title>-6225586231731745837</title>\n",
       "<ellipse cx=\"2083.4948\" cy=\"-58.4948\" fill=\"none\" rx=\"58.4896\" ry=\"58.4896\" stroke=\"#000000\"/>\n",
       "<text fill=\"#000000\" font-family=\"Times,serif\" font-size=\"14.00\" text-anchor=\"middle\" x=\"2083.4948\" y=\"-54.7948\">from-delayed</text>\n",
       "</g>\n",
       "<!-- &#45;6225586231731745837&#45;&gt;5320496152353069842 -->\n",
       "<g class=\"edge\" id=\"edge34\">\n",
       "<title>-6225586231731745837-&gt;5320496152353069842</title>\n",
       "<path d=\"M2067.4011,-115.0718C2064.657,-124.7185 2061.9166,-134.3523 2059.5027,-142.8381\" fill=\"none\" stroke=\"#000000\"/>\n",
       "<polygon fill=\"#000000\" points=\"2056.1117,-141.9672 2056.742,-152.5433 2062.8446,-143.8825 2056.1117,-141.9672\" stroke=\"#000000\"/>\n",
       "</g>\n",
       "<!-- &#45;7800132121229831887 -->\n",
       "<g class=\"node\" id=\"node50\">\n",
       "<title>-7800132121229831887</title>\n",
       "<ellipse cx=\"733.4948\" cy=\"-58.4948\" fill=\"none\" rx=\"58.4896\" ry=\"58.4896\" stroke=\"#000000\"/>\n",
       "<text fill=\"#000000\" font-family=\"Times,serif\" font-size=\"14.00\" text-anchor=\"middle\" x=\"733.4948\" y=\"-54.7948\">from-delayed</text>\n",
       "</g>\n",
       "<!-- &#45;7800132121229831887&#45;&gt;5320496152359564992 -->\n",
       "<g class=\"edge\" id=\"edge35\">\n",
       "<title>-7800132121229831887-&gt;5320496152359564992</title>\n",
       "<path d=\"M733.4948,-117.0487C733.4948,-126.0044 733.4948,-134.882 733.4948,-142.7713\" fill=\"none\" stroke=\"#000000\"/>\n",
       "<polygon fill=\"#000000\" points=\"729.9949,-142.8314 733.4948,-152.8314 736.9949,-142.8314 729.9949,-142.8314\" stroke=\"#000000\"/>\n",
       "</g>\n",
       "<!-- &#45;7323843633537727112 -->\n",
       "<g class=\"node\" id=\"node51\">\n",
       "<title>-7323843633537727112</title>\n",
       "<ellipse cx=\"1678.4948\" cy=\"-58.4948\" fill=\"none\" rx=\"58.4896\" ry=\"58.4896\" stroke=\"#000000\"/>\n",
       "<text fill=\"#000000\" font-family=\"Times,serif\" font-size=\"14.00\" text-anchor=\"middle\" x=\"1678.4948\" y=\"-54.7948\">from-delayed</text>\n",
       "</g>\n",
       "<!-- &#45;7323843633537727112&#45;&gt;5320496152351987317 -->\n",
       "<g class=\"edge\" id=\"edge36\">\n",
       "<title>-7323843633537727112-&gt;5320496152351987317</title>\n",
       "<path d=\"M1680.5768,-117.0487C1680.8953,-126.0044 1681.2109,-134.882 1681.4914,-142.7713\" fill=\"none\" stroke=\"#000000\"/>\n",
       "<polygon fill=\"#000000\" points=\"1677.9959,-142.9621 1681.8492,-152.8314 1684.9915,-142.7133 1677.9959,-142.9621\" stroke=\"#000000\"/>\n",
       "</g>\n",
       "<!-- &#45;9191802445635448362 -->\n",
       "<g class=\"node\" id=\"node52\">\n",
       "<title>-9191802445635448362</title>\n",
       "<ellipse cx=\"58.4948\" cy=\"-58.4948\" fill=\"none\" rx=\"58.4896\" ry=\"58.4896\" stroke=\"#000000\"/>\n",
       "<text fill=\"#000000\" font-family=\"Times,serif\" font-size=\"14.00\" text-anchor=\"middle\" x=\"58.4948\" y=\"-54.7948\">from-delayed</text>\n",
       "</g>\n",
       "<!-- &#45;9191802445635448362&#45;&gt;5320496152358482467 -->\n",
       "<g class=\"edge\" id=\"edge37\">\n",
       "<title>-9191802445635448362-&gt;5320496152358482467</title>\n",
       "<path d=\"M74.0856,-115.0718C76.744,-124.7185 79.3987,-134.3523 81.7371,-142.8381\" fill=\"none\" stroke=\"#000000\"/>\n",
       "<polygon fill=\"#000000\" points=\"78.3806,-143.8325 84.4116,-152.5433 85.1291,-141.9728 78.3806,-143.8325\" stroke=\"#000000\"/>\n",
       "</g>\n",
       "<!-- 3173385551447325179 -->\n",
       "<g class=\"node\" id=\"node53\">\n",
       "<title>3173385551447325179</title>\n",
       "<ellipse cx=\"193.4948\" cy=\"-58.4948\" fill=\"none\" rx=\"58.4896\" ry=\"58.4896\" stroke=\"#000000\"/>\n",
       "<text fill=\"#000000\" font-family=\"Times,serif\" font-size=\"14.00\" text-anchor=\"middle\" x=\"193.4948\" y=\"-54.7948\">from-delayed</text>\n",
       "</g>\n",
       "<!-- 3173385551447325179&#45;&gt;5320496152361730042 -->\n",
       "<g class=\"edge\" id=\"edge38\">\n",
       "<title>3173385551447325179-&gt;5320496152361730042</title>\n",
       "<path d=\"M193.4948,-117.0487C193.4948,-126.0044 193.4948,-134.882 193.4948,-142.7713\" fill=\"none\" stroke=\"#000000\"/>\n",
       "<polygon fill=\"#000000\" points=\"189.9949,-142.8314 193.4948,-152.8314 196.9949,-142.8314 189.9949,-142.8314\" stroke=\"#000000\"/>\n",
       "</g>\n",
       "<!-- 2060534501321849504 -->\n",
       "<g class=\"node\" id=\"node54\">\n",
       "<title>2060534501321849504</title>\n",
       "<ellipse cx=\"328.4948\" cy=\"-58.4948\" fill=\"none\" rx=\"58.4896\" ry=\"58.4896\" stroke=\"#000000\"/>\n",
       "<text fill=\"#000000\" font-family=\"Times,serif\" font-size=\"14.00\" text-anchor=\"middle\" x=\"328.4948\" y=\"-54.7948\">from-delayed</text>\n",
       "</g>\n",
       "<!-- 2060534501321849504&#45;&gt;5320496152360647517 -->\n",
       "<g class=\"edge\" id=\"edge39\">\n",
       "<title>2060534501321849504-&gt;5320496152360647517</title>\n",
       "<path d=\"M330.5768,-117.0487C330.8953,-126.0044 331.2109,-134.882 331.4914,-142.7713\" fill=\"none\" stroke=\"#000000\"/>\n",
       "<polygon fill=\"#000000\" points=\"327.9959,-142.9621 331.8492,-152.8314 334.9915,-142.7133 327.9959,-142.9621\" stroke=\"#000000\"/>\n",
       "</g>\n",
       "<!-- &#45;3448785116319939987 -->\n",
       "<g class=\"node\" id=\"node55\">\n",
       "<title>-3448785116319939987</title>\n",
       "<ellipse cx=\"463.4948\" cy=\"-58.4948\" fill=\"none\" rx=\"58.4896\" ry=\"58.4896\" stroke=\"#000000\"/>\n",
       "<text fill=\"#000000\" font-family=\"Times,serif\" font-size=\"14.00\" text-anchor=\"middle\" x=\"463.4948\" y=\"-54.7948\">from-delayed</text>\n",
       "</g>\n",
       "<!-- &#45;3448785116319939987&#45;&gt;5320496152355234892 -->\n",
       "<g class=\"edge\" id=\"edge40\">\n",
       "<title>-3448785116319939987-&gt;5320496152355234892</title>\n",
       "<path d=\"M461.4128,-117.0487C461.0944,-126.0044 460.7787,-134.882 460.4982,-142.7713\" fill=\"none\" stroke=\"#000000\"/>\n",
       "<polygon fill=\"#000000\" points=\"456.9981,-142.7133 460.1405,-152.8314 463.9937,-142.9621 456.9981,-142.7133\" stroke=\"#000000\"/>\n",
       "</g>\n",
       "<!-- &#45;4833781103012327662 -->\n",
       "<g class=\"node\" id=\"node56\">\n",
       "<title>-4833781103012327662</title>\n",
       "<ellipse cx=\"1408.4948\" cy=\"-58.4948\" fill=\"none\" rx=\"58.4896\" ry=\"58.4896\" stroke=\"#000000\"/>\n",
       "<text fill=\"#000000\" font-family=\"Times,serif\" font-size=\"14.00\" text-anchor=\"middle\" x=\"1408.4948\" y=\"-54.7948\">from-delayed</text>\n",
       "</g>\n",
       "<!-- &#45;4833781103012327662&#45;&gt;5320496152354152367 -->\n",
       "<g class=\"edge\" id=\"edge41\">\n",
       "<title>-4833781103012327662-&gt;5320496152354152367</title>\n",
       "<path d=\"M1408.4948,-117.0487C1408.4948,-126.0044 1408.4948,-134.882 1408.4948,-142.7713\" fill=\"none\" stroke=\"#000000\"/>\n",
       "<polygon fill=\"#000000\" points=\"1404.9949,-142.8314 1408.4948,-152.8314 1411.9949,-142.8314 1404.9949,-142.8314\" stroke=\"#000000\"/>\n",
       "</g>\n",
       "<!-- 8148021330101046279 -->\n",
       "<g class=\"node\" id=\"node57\">\n",
       "<title>8148021330101046279</title>\n",
       "<ellipse cx=\"1543.4948\" cy=\"-58.4948\" fill=\"none\" rx=\"58.4896\" ry=\"58.4896\" stroke=\"#000000\"/>\n",
       "<text fill=\"#000000\" font-family=\"Times,serif\" font-size=\"14.00\" text-anchor=\"middle\" x=\"1543.4948\" y=\"-54.7948\">from-delayed</text>\n",
       "</g>\n",
       "<!-- 8148021330101046279&#45;&gt;5320496152357399942 -->\n",
       "<g class=\"edge\" id=\"edge42\">\n",
       "<title>8148021330101046279-&gt;5320496152357399942</title>\n",
       "<path d=\"M1535.2136,-116.7193C1533.9345,-125.7128 1532.665,-134.6387 1531.536,-142.576\" fill=\"none\" stroke=\"#000000\"/>\n",
       "<polygon fill=\"#000000\" points=\"1528.0392,-142.3071 1530.0961,-152.7003 1534.9694,-143.2928 1528.0392,-142.3071\" stroke=\"#000000\"/>\n",
       "</g>\n",
       "<!-- 5915523817297115029 -->\n",
       "<g class=\"node\" id=\"node58\">\n",
       "<title>5915523817297115029</title>\n",
       "<ellipse cx=\"1813.4948\" cy=\"-58.4948\" fill=\"none\" rx=\"58.4896\" ry=\"58.4896\" stroke=\"#000000\"/>\n",
       "<text fill=\"#000000\" font-family=\"Times,serif\" font-size=\"14.00\" text-anchor=\"middle\" x=\"1813.4948\" y=\"-54.7948\">from-delayed</text>\n",
       "</g>\n",
       "<!-- 5915523817297115029&#45;&gt;5320496152363895092 -->\n",
       "<g class=\"edge\" id=\"edge43\">\n",
       "<title>5915523817297115029-&gt;5320496152363895092</title>\n",
       "<path d=\"M1809.3308,-117.0487C1808.6939,-126.0044 1808.0626,-134.882 1807.5015,-142.7713\" fill=\"none\" stroke=\"#000000\"/>\n",
       "<polygon fill=\"#000000\" points=\"1804.0044,-142.6083 1806.7861,-152.8314 1810.9867,-143.1049 1804.0044,-142.6083\" stroke=\"#000000\"/>\n",
       "</g>\n",
       "<!-- 6114627046632735804 -->\n",
       "<g class=\"node\" id=\"node59\">\n",
       "<title>6114627046632735804</title>\n",
       "<ellipse cx=\"1273.4948\" cy=\"-58.4948\" fill=\"none\" rx=\"58.4896\" ry=\"58.4896\" stroke=\"#000000\"/>\n",
       "<text fill=\"#000000\" font-family=\"Times,serif\" font-size=\"14.00\" text-anchor=\"middle\" x=\"1273.4948\" y=\"-54.7948\">from-delayed</text>\n",
       "</g>\n",
       "<!-- 6114627046632735804&#45;&gt;5320496152356317417 -->\n",
       "<g class=\"edge\" id=\"edge44\">\n",
       "<title>6114627046632735804-&gt;5320496152356317417</title>\n",
       "<path d=\"M1273.4948,-117.0487C1273.4948,-126.0044 1273.4948,-134.882 1273.4948,-142.7713\" fill=\"none\" stroke=\"#000000\"/>\n",
       "<polygon fill=\"#000000\" points=\"1269.9949,-142.8314 1273.4948,-152.8314 1276.9949,-142.8314 1269.9949,-142.8314\" stroke=\"#000000\"/>\n",
       "</g>\n",
       "<!-- &#45;3312356592247195876&#45;&gt;&#45;5946855060725040951 -->\n",
       "<g class=\"edge\" id=\"edge45\">\n",
       "<title>-3312356592247195876-&gt;-5946855060725040951</title>\n",
       "<path d=\"M1280.9795,-392.845C1282.382,-401.7941 1283.8056,-410.8785 1285.0771,-418.992\" fill=\"none\" stroke=\"#000000\"/>\n",
       "<polygon fill=\"#000000\" points=\"1281.6403,-419.6681 1286.6464,-429.0056 1288.5559,-418.5843 1281.6403,-419.6681\" stroke=\"#000000\"/>\n",
       "</g>\n",
       "<!-- &#45;6391042277713099273 -->\n",
       "<g class=\"node\" id=\"node61\">\n",
       "<title>-6391042277713099273</title>\n",
       "<ellipse cx=\"1730.4948\" cy=\"-549.2768\" fill=\"none\" rx=\"48.1917\" ry=\"48.1917\" stroke=\"#000000\"/>\n",
       "<text fill=\"#000000\" font-family=\"Times,serif\" font-size=\"14.00\" text-anchor=\"middle\" x=\"1730.4948\" y=\"-545.5768\">hll_reduce</text>\n",
       "</g>\n",
       "<!-- &#45;6391042277713099273&#45;&gt;123133604730327542 -->\n",
       "<g class=\"edge\" id=\"edge48\">\n",
       "<title>-6391042277713099273-&gt;123133604730327542</title>\n",
       "<path d=\"M1691.0409,-577.4452C1669.0978,-593.1116 1642.0773,-612.403 1621.1413,-627.3504\" fill=\"none\" stroke=\"#000000\"/>\n",
       "<polygon fill=\"#000000\" points=\"1618.9683,-624.6013 1612.8634,-633.2605 1623.0358,-630.2983 1618.9683,-624.6013\" stroke=\"#000000\"/>\n",
       "</g>\n",
       "<!-- 6602390085230318480 -->\n",
       "<g class=\"node\" id=\"node62\">\n",
       "<title>6602390085230318480</title>\n",
       "<polygon fill=\"none\" points=\"1757.4948,-465.1811 1703.4948,-465.1811 1703.4948,-429.1811 1757.4948,-429.1811 1757.4948,-465.1811\" stroke=\"#000000\"/>\n",
       "</g>\n",
       "<!-- 6602390085230318480&#45;&gt;&#45;6391042277713099273 -->\n",
       "<g class=\"edge\" id=\"edge49\">\n",
       "<title>6602390085230318480-&gt;-6391042277713099273</title>\n",
       "<path d=\"M1730.4948,-465.4338C1730.4948,-472.7628 1730.4948,-481.6559 1730.4948,-490.8758\" fill=\"none\" stroke=\"#000000\"/>\n",
       "<polygon fill=\"#000000\" points=\"1726.9949,-490.9501 1730.4948,-500.9502 1733.9949,-490.9502 1726.9949,-490.9501\" stroke=\"#000000\"/>\n",
       "</g>\n",
       "<!-- &#45;8934949399076510259 -->\n",
       "<g class=\"node\" id=\"node63\">\n",
       "<title>-8934949399076510259</title>\n",
       "<polygon fill=\"none\" points=\"1920.4948,-465.1811 1866.4948,-465.1811 1866.4948,-429.1811 1920.4948,-429.1811 1920.4948,-465.1811\" stroke=\"#000000\"/>\n",
       "</g>\n",
       "<!-- &#45;8934949399076510259&#45;&gt;&#45;6391042277713099273 -->\n",
       "<g class=\"edge\" id=\"edge50\">\n",
       "<title>-8934949399076510259-&gt;-6391042277713099273</title>\n",
       "<path d=\"M1866.2123,-464.2696C1842.7223,-478.9826 1808.2353,-500.5838 1779.9048,-518.3287\" fill=\"none\" stroke=\"#000000\"/>\n",
       "<polygon fill=\"#000000\" points=\"1777.9461,-515.4256 1771.3292,-523.7 1781.6619,-521.3579 1777.9461,-515.4256\" stroke=\"#000000\"/>\n",
       "</g>\n",
       "<!-- 3174687405333954960&#45;&gt;&#45;8934949399076510259 -->\n",
       "<g class=\"edge\" id=\"edge51\">\n",
       "<title>3174687405333954960-&gt;-8934949399076510259</title>\n",
       "<path d=\"M1925.6477,-387.4962C1919.6983,-398.5399 1913.4497,-410.1392 1908.0596,-420.1446\" fill=\"none\" stroke=\"#000000\"/>\n",
       "<polygon fill=\"#000000\" points=\"1904.8541,-418.7152 1903.1927,-429.179 1911.0168,-422.0352 1904.8541,-418.7152\" stroke=\"#000000\"/>\n",
       "</g>\n",
       "<!-- &#45;2217084630350874495&#45;&gt;6602390085230318480 -->\n",
       "<g class=\"edge\" id=\"edge54\">\n",
       "<title>-2217084630350874495-&gt;6602390085230318480</title>\n",
       "<path d=\"M1730.4948,-393.4423C1730.4948,-402.0882 1730.4948,-410.8373 1730.4948,-418.6939\" fill=\"none\" stroke=\"#000000\"/>\n",
       "<polygon fill=\"#000000\" points=\"1726.9949,-418.7606 1730.4948,-428.7607 1733.9949,-418.7607 1726.9949,-418.7606\" stroke=\"#000000\"/>\n",
       "</g>\n",
       "<!-- 6381529339738983692 -->\n",
       "<g class=\"node\" id=\"node66\">\n",
       "<title>6381529339738983692</title>\n",
       "<ellipse cx=\"785.4948\" cy=\"-753.4683\" fill=\"none\" rx=\"48.1917\" ry=\"48.1917\" stroke=\"#000000\"/>\n",
       "<text fill=\"#000000\" font-family=\"Times,serif\" font-size=\"14.00\" text-anchor=\"middle\" x=\"785.4948\" y=\"-749.7683\">hll_reduce</text>\n",
       "</g>\n",
       "<!-- 6381529339738983692&#45;&gt;&#45;5899247050116077511 -->\n",
       "<g class=\"edge\" id=\"edge57\">\n",
       "<title>6381529339738983692-&gt;-5899247050116077511</title>\n",
       "<path d=\"M826.5285,-778.7054C853.8398,-795.5028 889.3777,-817.3599 915.5707,-833.4695\" fill=\"none\" stroke=\"#000000\"/>\n",
       "<polygon fill=\"#000000\" points=\"914.0654,-836.6526 924.417,-838.9102 917.7326,-830.6901 914.0654,-836.6526\" stroke=\"#000000\"/>\n",
       "</g>\n",
       "<!-- 9094629707309839939 -->\n",
       "<g class=\"node\" id=\"node67\">\n",
       "<title>9094629707309839939</title>\n",
       "<polygon fill=\"none\" points=\"645.4948,-669.3725 591.4948,-669.3725 591.4948,-633.3725 645.4948,-633.3725 645.4948,-669.3725\" stroke=\"#000000\"/>\n",
       "</g>\n",
       "<!-- 9094629707309839939&#45;&gt;6381529339738983692 -->\n",
       "<g class=\"edge\" id=\"edge58\">\n",
       "<title>9094629707309839939-&gt;6381529339738983692</title>\n",
       "<path d=\"M645.6979,-668.0032C669.9045,-682.802 705.9265,-704.8241 735.3418,-722.8072\" fill=\"none\" stroke=\"#000000\"/>\n",
       "<polygon fill=\"#000000\" points=\"733.8807,-726.0161 744.2382,-728.246 737.5319,-720.0438 733.8807,-726.0161\" stroke=\"#000000\"/>\n",
       "</g>\n",
       "<!-- &#45;6091737182502555619 -->\n",
       "<g class=\"node\" id=\"node68\">\n",
       "<title>-6091737182502555619</title>\n",
       "<polygon fill=\"none\" points=\"812.4948,-669.3725 758.4948,-669.3725 758.4948,-633.3725 812.4948,-633.3725 812.4948,-669.3725\" stroke=\"#000000\"/>\n",
       "</g>\n",
       "<!-- &#45;6091737182502555619&#45;&gt;6381529339738983692 -->\n",
       "<g class=\"edge\" id=\"edge59\">\n",
       "<title>-6091737182502555619-&gt;6381529339738983692</title>\n",
       "<path d=\"M785.4948,-669.6252C785.4948,-676.9543 785.4948,-685.8473 785.4948,-695.0673\" fill=\"none\" stroke=\"#000000\"/>\n",
       "<polygon fill=\"#000000\" points=\"781.9949,-695.1416 785.4948,-705.1416 788.9949,-695.1417 781.9949,-695.1416\" stroke=\"#000000\"/>\n",
       "</g>\n",
       "<!-- &#45;1325850715737530528 -->\n",
       "<g class=\"node\" id=\"node69\">\n",
       "<title>-1325850715737530528</title>\n",
       "<ellipse cx=\"785.4948\" cy=\"-549.2768\" fill=\"none\" rx=\"48.1917\" ry=\"48.1917\" stroke=\"#000000\"/>\n",
       "<text fill=\"#000000\" font-family=\"Times,serif\" font-size=\"14.00\" text-anchor=\"middle\" x=\"785.4948\" y=\"-545.5768\">hll_reduce</text>\n",
       "</g>\n",
       "<!-- &#45;1325850715737530528&#45;&gt;&#45;6091737182502555619 -->\n",
       "<g class=\"edge\" id=\"edge60\">\n",
       "<title>-1325850715737530528-&gt;-6091737182502555619</title>\n",
       "<path d=\"M785.4948,-597.6338C785.4948,-606.2797 785.4948,-615.0288 785.4948,-622.8854\" fill=\"none\" stroke=\"#000000\"/>\n",
       "<polygon fill=\"#000000\" points=\"781.9949,-622.9521 785.4948,-632.9521 788.9949,-622.9522 781.9949,-622.9521\" stroke=\"#000000\"/>\n",
       "</g>\n",
       "<!-- &#45;5486485994563253903 -->\n",
       "<g class=\"node\" id=\"node70\">\n",
       "<title>-5486485994563253903</title>\n",
       "<polygon fill=\"none\" points=\"776.4948,-465.1811 722.4948,-465.1811 722.4948,-429.1811 776.4948,-429.1811 776.4948,-465.1811\" stroke=\"#000000\"/>\n",
       "</g>\n",
       "<!-- &#45;5486485994563253903&#45;&gt;&#45;1325850715737530528 -->\n",
       "<g class=\"edge\" id=\"edge61\">\n",
       "<title>-5486485994563253903-&gt;-1325850715737530528</title>\n",
       "<path d=\"M755.9309,-465.4338C758.811,-473.6016 762.376,-483.7121 766.0222,-494.0526\" fill=\"none\" stroke=\"#000000\"/>\n",
       "<polygon fill=\"#000000\" points=\"762.7499,-495.2975 769.3762,-503.5645 769.3515,-492.9697 762.7499,-495.2975\" stroke=\"#000000\"/>\n",
       "</g>\n",
       "<!-- &#45;8157765947695002679 -->\n",
       "<g class=\"node\" id=\"node71\">\n",
       "<title>-8157765947695002679</title>\n",
       "<polygon fill=\"none\" points=\"864.4948,-465.1811 810.4948,-465.1811 810.4948,-429.1811 864.4948,-429.1811 864.4948,-465.1811\" stroke=\"#000000\"/>\n",
       "</g>\n",
       "<!-- &#45;8157765947695002679&#45;&gt;&#45;1325850715737530528 -->\n",
       "<g class=\"edge\" id=\"edge62\">\n",
       "<title>-8157765947695002679-&gt;-1325850715737530528</title>\n",
       "<path d=\"M828.1983,-465.4338C823.6342,-474.3948 817.8792,-485.6939 812.0852,-497.0698\" fill=\"none\" stroke=\"#000000\"/>\n",
       "<polygon fill=\"#000000\" points=\"808.8719,-495.667 807.4521,-506.1663 815.1094,-498.844 808.8719,-495.667\" stroke=\"#000000\"/>\n",
       "</g>\n",
       "<!-- 8583238624387067932&#45;&gt;&#45;8157765947695002679 -->\n",
       "<g class=\"edge\" id=\"edge63\">\n",
       "<title>8583238624387067932-&gt;-8157765947695002679</title>\n",
       "<path d=\"M854.446,-391.3537C851.5214,-400.9858 848.5272,-410.8468 845.885,-419.5488\" fill=\"none\" stroke=\"#000000\"/>\n",
       "<polygon fill=\"#000000\" points=\"842.5265,-418.5632 842.9701,-429.1488 849.2246,-420.597 842.5265,-418.5632\" stroke=\"#000000\"/>\n",
       "</g>\n",
       "<!-- &#45;7702780451819587836&#45;&gt;&#45;5486485994563253903 -->\n",
       "<g class=\"edge\" id=\"edge66\">\n",
       "<title>-7702780451819587836-&gt;-5486485994563253903</title>\n",
       "<path d=\"M740.9795,-392.845C742.382,-401.7941 743.8056,-410.8785 745.0771,-418.992\" fill=\"none\" stroke=\"#000000\"/>\n",
       "<polygon fill=\"#000000\" points=\"741.6403,-419.6681 746.6464,-429.0056 748.5559,-418.5843 741.6403,-419.6681\" stroke=\"#000000\"/>\n",
       "</g>\n",
       "<!-- &#45;5127725868563901706 -->\n",
       "<g class=\"node\" id=\"node74\">\n",
       "<title>-5127725868563901706</title>\n",
       "<ellipse cx=\"384.4948\" cy=\"-549.2768\" fill=\"none\" rx=\"48.1917\" ry=\"48.1917\" stroke=\"#000000\"/>\n",
       "<text fill=\"#000000\" font-family=\"Times,serif\" font-size=\"14.00\" text-anchor=\"middle\" x=\"384.4948\" y=\"-545.5768\">hll_reduce</text>\n",
       "</g>\n",
       "<!-- &#45;5127725868563901706&#45;&gt;9094629707309839939 -->\n",
       "<g class=\"edge\" id=\"edge69\">\n",
       "<title>-5127725868563901706-&gt;9094629707309839939</title>\n",
       "<path d=\"M428.7835,-568.6003C473.1587,-587.9615 540.6537,-617.41 582.0347,-635.4648\" fill=\"none\" stroke=\"#000000\"/>\n",
       "<polygon fill=\"#000000\" points=\"580.6409,-638.6752 591.2062,-639.4663 583.4403,-632.2593 580.6409,-638.6752\" stroke=\"#000000\"/>\n",
       "</g>\n",
       "<!-- &#45;3326309419741354024 -->\n",
       "<g class=\"node\" id=\"node75\">\n",
       "<title>-3326309419741354024</title>\n",
       "<polygon fill=\"none\" points=\"251.4948,-465.1811 197.4948,-465.1811 197.4948,-429.1811 251.4948,-429.1811 251.4948,-465.1811\" stroke=\"#000000\"/>\n",
       "</g>\n",
       "<!-- &#45;3326309419741354024&#45;&gt;&#45;5127725868563901706 -->\n",
       "<g class=\"edge\" id=\"edge70\">\n",
       "<title>-3326309419741354024-&gt;-5127725868563901706</title>\n",
       "<path d=\"M251.6366,-464.5002C274.4042,-479.0282 307.5104,-500.1532 334.9786,-517.6806\" fill=\"none\" stroke=\"#000000\"/>\n",
       "<polygon fill=\"#000000\" points=\"333.3658,-520.8033 343.6785,-523.232 337.1313,-514.9023 333.3658,-520.8033\" stroke=\"#000000\"/>\n",
       "</g>\n",
       "<!-- 1558951801644589890 -->\n",
       "<g class=\"node\" id=\"node76\">\n",
       "<title>1558951801644589890</title>\n",
       "<polygon fill=\"none\" points=\"411.4948,-465.1811 357.4948,-465.1811 357.4948,-429.1811 411.4948,-429.1811 411.4948,-465.1811\" stroke=\"#000000\"/>\n",
       "</g>\n",
       "<!-- 1558951801644589890&#45;&gt;&#45;5127725868563901706 -->\n",
       "<g class=\"edge\" id=\"edge71\">\n",
       "<title>1558951801644589890-&gt;-5127725868563901706</title>\n",
       "<path d=\"M384.4948,-465.4338C384.4948,-472.7628 384.4948,-481.6559 384.4948,-490.8758\" fill=\"none\" stroke=\"#000000\"/>\n",
       "<polygon fill=\"#000000\" points=\"380.9949,-490.9501 384.4948,-500.9502 387.9949,-490.9502 380.9949,-490.9501\" stroke=\"#000000\"/>\n",
       "</g>\n",
       "<!-- 6516671981740289545&#45;&gt;&#45;3326309419741354024 -->\n",
       "<g class=\"edge\" id=\"edge72\">\n",
       "<title>6516671981740289545-&gt;-3326309419741354024</title>\n",
       "<path d=\"M207.5436,-391.3537C210.4682,-400.9858 213.4624,-410.8468 216.1046,-419.5488\" fill=\"none\" stroke=\"#000000\"/>\n",
       "<polygon fill=\"#000000\" points=\"212.7651,-420.597 219.0195,-429.1488 219.4631,-418.5632 212.7651,-420.597\" stroke=\"#000000\"/>\n",
       "</g>\n",
       "<!-- 8636209507819360131&#45;&gt;1558951801644589890 -->\n",
       "<g class=\"edge\" id=\"edge75\">\n",
       "<title>8636209507819360131-&gt;1558951801644589890</title>\n",
       "<path d=\"M384.4948,-393.4423C384.4948,-402.0882 384.4948,-410.8373 384.4948,-418.6939\" fill=\"none\" stroke=\"#000000\"/>\n",
       "<polygon fill=\"#000000\" points=\"380.9949,-418.7606 384.4948,-428.7607 387.9949,-418.7607 380.9949,-418.7606\" stroke=\"#000000\"/>\n",
       "</g>\n",
       "</g>\n",
       "</svg>"
      ],
      "text/plain": [
       "<IPython.core.display.SVG object>"
      ]
     },
     "execution_count": 43,
     "metadata": {},
     "output_type": "execute_result"
    }
   ],
   "source": [
    "dask.visualize( *L, format='svg', filename='tree-reduce-graph' )"
   ]
  },
  {
   "cell_type": "code",
   "execution_count": null,
   "metadata": {},
   "outputs": [],
   "source": []
  },
  {
   "cell_type": "markdown",
   "metadata": {},
   "source": [
    "#### making a function"
   ]
  },
  {
   "cell_type": "code",
   "execution_count": 45,
   "metadata": {},
   "outputs": [],
   "source": [
    "def get_tasks( res ):\n",
    "    L = res.to_delayed()\n",
    "    while len(L) > 1: # tree reduction\n",
    "        new_L = []\n",
    "        for i in range(0, len(L), 2):\n",
    "            lazy = dask.delayed( hll_reduce )(L[i-1], L[i])  # add neighbors  \n",
    "            new_L.append( lazy )\n",
    "        L = new_L                       # swap old list for new\n",
    "    return L"
   ]
  },
  {
   "cell_type": "code",
   "execution_count": 46,
   "metadata": {},
   "outputs": [],
   "source": [
    "def hll_serialize(x):\n",
    "    return x.serialize()"
   ]
  },
  {
   "cell_type": "code",
   "execution_count": 47,
   "metadata": {},
   "outputs": [],
   "source": [
    "def get_serialized_hll( series ):\n",
    "    '''returns serialized hll from dask series as dask delayed object'''\n",
    "    res = series.map_partitions( hll_count_series , meta=('this_result','f8'))\n",
    "    L = get_tasks(res)\n",
    "    S = dask.delayed( hll_serialize )(L[0])\n",
    "    #return dask.compute( *L )[0].serialize_registers()\n",
    "    return S"
   ]
  },
  {
   "cell_type": "code",
   "execution_count": 48,
   "metadata": {},
   "outputs": [
    {
     "name": "stdout",
     "output_type": "stream",
     "text": [
      "CPU times: user 26.4 ms, sys: 0 ns, total: 26.4 ms\n",
      "Wall time: 22.2 ms\n"
     ]
    }
   ],
   "source": [
    "%time hll_serial = get_serialized_hll( ddf['trip_id'] )#.compute()"
   ]
  },
  {
   "cell_type": "code",
   "execution_count": 49,
   "metadata": {},
   "outputs": [
    {
     "name": "stdout",
     "output_type": "stream",
     "text": [
      "CPU times: user 672 ms, sys: 103 ms, total: 775 ms\n",
      "Wall time: 19.4 s\n"
     ]
    },
    {
     "data": {
      "text/plain": [
       "554279"
      ]
     },
     "execution_count": 49,
     "metadata": {},
     "output_type": "execute_result"
    }
   ],
   "source": [
    "%time len ( hll_serial.compute() )"
   ]
  },
  {
   "cell_type": "code",
   "execution_count": null,
   "metadata": {},
   "outputs": [],
   "source": []
  },
  {
   "cell_type": "markdown",
   "metadata": {},
   "source": [
    "#### custom groupbys"
   ]
  },
  {
   "cell_type": "code",
   "execution_count": 20,
   "metadata": {},
   "outputs": [],
   "source": [
    "def groupby_approx_counts( ddf, x, countby='trip_id' ):\n",
    "    '''\n",
    "    input: takes in dask dataframe and item to group by, as well as item to count by\n",
    "    output: tuple containing: list of unique values in the item to group by, a list of dask delayed objects with the serialized hll object\n",
    "    '''\n",
    "    results = []\n",
    "    uniques = ddf[x].unique().compute().tolist()\n",
    "    for value in uniques:\n",
    "        results.append( get_serialized_hll( ddf[ ddf[x]==value ][countby] ) )\n",
    "        \n",
    "    serial_objs = dask.compute( *results )\n",
    "    \n",
    "    return x, uniques, serial_objs\n"
   ]
  },
  {
   "cell_type": "markdown",
   "metadata": {},
   "source": [
    "    the knowledge_dict with hll creates \"a data structure to store and explore\""
   ]
  },
  {
   "cell_type": "code",
   "execution_count": 22,
   "metadata": {},
   "outputs": [],
   "source": [
    "knowledge_dict = {}"
   ]
  },
  {
   "cell_type": "code",
   "execution_count": 27,
   "metadata": {},
   "outputs": [],
   "source": [
    "knowledge_dict[field] = {}"
   ]
  },
  {
   "cell_type": "code",
   "execution_count": 21,
   "metadata": {},
   "outputs": [
    {
     "name": "stdout",
     "output_type": "stream",
     "text": [
      "CPU times: user 1.48 s, sys: 225 ms, total: 1.71 s\n",
      "Wall time: 42.4 s\n"
     ]
    }
   ],
   "source": [
    "%time field, values, serial_objs = groupby_approx_counts( ddf, 'gender', countby='trip_id' )"
   ]
  },
  {
   "cell_type": "code",
   "execution_count": null,
   "metadata": {},
   "outputs": [],
   "source": [
    "knowledge_dict[field] = {}"
   ]
  },
  {
   "cell_type": "code",
   "execution_count": 26,
   "metadata": {},
   "outputs": [
    {
     "name": "stdout",
     "output_type": "stream",
     "text": [
      "CPU times: user 5.67 s, sys: 749 ms, total: 6.42 s\n",
      "Wall time: 2min 23s\n"
     ]
    }
   ],
   "source": [
    "%time field, values, serial_objs = groupby_approx_counts( ddf, 'month', countby='trip_id' )"
   ]
  },
  {
   "cell_type": "code",
   "execution_count": 28,
   "metadata": {},
   "outputs": [],
   "source": [
    "for i, val in enumerate( values ):\n",
    "    knowledge_dict[field][val] = serial_objs[i]"
   ]
  },
  {
   "cell_type": "code",
   "execution_count": 29,
   "metadata": {},
   "outputs": [
    {
     "data": {
      "text/plain": [
       "dict_keys(['gender', 'month'])"
      ]
     },
     "execution_count": 29,
     "metadata": {},
     "output_type": "execute_result"
    }
   ],
   "source": [
    "knowledge_dict.keys()"
   ]
  },
  {
   "cell_type": "code",
   "execution_count": null,
   "metadata": {},
   "outputs": [],
   "source": []
  },
  {
   "cell_type": "code",
   "execution_count": 32,
   "metadata": {},
   "outputs": [
    {
     "data": {
      "text/plain": [
       "b'x\\x9cd\\x9d\\x05X\\x14\\xdf\\xd7\\xc7\\xa9\\xdd\\xd9\\x04,\\x14\\x11\\x1bD\\xec\\xc0DQ\\xb1\\xc7n\\xecD\\x10\\xfd)&\\x06\\x06\\x8a v\\xa1\\x88\\x85\\xdd\\x8a-J\\xd8\\x8d`\\x8b\\x89\\xdd\\xdd\\xf9~wg\\xce\\x9c\\xe1\\xff><\\xea\\xc7\\xdd\\x89\\x1b\\xa7\\xef\\x9da\\xb2}x\\xa8\\x8dW\\x17\\x8d\\x8d\\x8dM\\x9f\\xc1\\xc3\\x82\\xfa\\x84\\xda6\\xf1{\\x96wr\\x91#\\x17\\x87w\\xb1\\xc5\\x87\\xc3B\\xedDG+\\r\\t\\xb5oiS\\xcf\\x8a-C\\x1dz\\x84j\\xbcD\\xad(\\xe0\\xc7\\x84\\x7f-d\\xc4\\x1f\\x0b\\x19\\xac\\xff\\xeaE\\x9d\\xa8\\xb1\\xfeO\\x8b\\x7fuV\\xd2\\xe1\\xc7`=F/\\x1fo\\xf9\\xd1\\xe1\\x8f\\xde\\xfac\\xf9\\xd6`=Kg=J\\xa7\\x1c\\xa1\\xb7^Uo\\xfd\\xa3\\xc1\\x8f\\x11?\\x0e\\xd6\\xbb\\xea\\xacw3\\xcbGjTgk\\xe4\\xfb\\xe9\\xe5\\xf3\\xb4\\xf21Z\\xb9}\\x16v\\xc0Qz\\xb9ez\\xeb9Zk\\xbb\\x0cr_\\xb4\\xf2\\xf1:\\xf9zz\\xa5E\\xd2w\\x1a\\xf98A\\xee\\xa1\\x11\\xff:\\xc8\\xa4Q\\xfaFw7\\xc8\\x9fX\\xce3Y\\xd9(\\x7f\\xa3\\xb5\\xf6\\x8b\\xee&\\xdd\\xc1 \\x9f\\xa7WZE\\xe3j!\\xb3<>\\xd4r\\xad\\xb5\\xef&\\xeb\\xfft\\xd6s\\xa4~Im3Y\\xc7U\\xb0\\xfe\\xad\\x91\\xafa\\x14\\x9d\\xe4\\x991Y\\xbf\\x93Z\\xe4d\\xbd\\x92^\\x9eGK\\xdb\\x1d\\xad\\xf7\\xd0\\xc9\\xf7\\x95\\xc6@c\\xfd\\xa3\\xb7\\x9e\\xad\\xee\\x9f4&f\\xf9\\xbe\\x969rPF\\x9c\\xc6\\xded=\\x92\\x8e\\xb0\\xfc\\xa1q\\x96\\xc6\\x9f\\xae\\xa1\\xb7\\x8e\\xa6 \\xb7Q#\\xf7W:R\\'\\x8f\\xb8\\xcez\\x94 \\xf7\\x88\\xfe\\x08\\xd6O\\x8d2k\\xad\\x12*(\\xe7\\xd1\\xbc\\n\\xf2\\x18i\\xe5+I\\xb2\\xa5\\x93\\xe7V\\x1ai\\xa3\"\\x87F\\xf9_\\x92/\\x96q\\xcbg\\x0e\\xd6\\xb17)2(\\xc9\\x89A%\\x95\\xd2X\\x1a\\xe4\\xf90+W!\\x995\\xc8\\xed\\x11\\xe4\\xdeH}\\xd1(R!\\xf5\\xd0 k\\x90`=C\\x1ay\\x07\\xb9o\\x92\\x86\\x99\\xacW\\xa6^Hw\\xd5)\\x1a\\xa4\\x91\\xe5C\\x905S\\x8b\\xb3I\\xcb\\xe8\\x8a\\x06Y\\xfa\\x05k\\xaf5\\xd6s\\x0c\\xd6\\x16heI\\xa3qf=\\x954\\x8d\\xc6E\\xa7j%\\xcd \\xddE\\x90GIo\\x9daAi\\x8dt\\xb4F\\xd1\\x07\\xa3\\xb5=\\x06Y\"\\xb4\\xb2\\xfc\\xd2\\xe8h\\xe5\\xb9\\xd3+\\xf2A\\xfa-\\xf5)\\xa7\\xf5 }\\x95f\\xdbl\\x1d}\\x8d\\xd5.hUw\\xd0*-\\xd4+\\xf7\\x94\\xf4H#_\\x9f$\\x8eZ\"I\\xac\\x93\\xac\\x03f\\xc5J\\xd0\\xb9Ze.\\xf5\\xf2\\x8chd\\xdd!\\x8bbP\\xfac\\x90-\\x874>Ze\\x9e$)\\xa0q\\x97\\xf4@\\xb2\\x07\\x06\\xc5\\x82\\xd2(H\\x12g\\x92\\xb5\\xc2\\xd2\\x02G\\xfc\\xe8\\xad\\xb2i\\x94\\xaf\\xe5\\xa0\\x92n\\x1a#\\xad\\xe8,\\xf7Z#K\\x90t=\\x8d\\xb5U\\xd2\\xe7&\\xd9\\xd6\\xe9e\\x99\\xa5;\\n\\xf28j\\xe4y4\\xc9\\xf2oR\\xec\\xa9V\\xb6\\xc2$-\\xa4\\x05\\xf4C\\x1aERI6F\\x90\\xcf\\xd1\\xcb:\\xa3QZ\\xae\\x95m\\x0f\\x9f!X\\xefKVD/\\n\\xaas,G:\\xca\\xa3\\xae\\x95\\xdb\\xabQ\\xe4S\\xedkHJ$\\xe9\\x95\\xe6F\\xb2Vz\\xe5\\xce\\xd2U\\x1d\\x14\\x89\\xd6\\xca=0\\xc9w%9\\xd4\\xc9\\xed\\xd2\\xc9\\xdeE#\\xdbe\\x9du&$ip\\x94\\xfbJ\\xdeP\\xab\\\\A/\\xb2\\xcfa\\xabH\\xbd2\\xca^P+\\xb7\\x94u\\xcb\\xa0\\x1a#\\xd2)\\x83r6\\x8d\\xa7Qu\\x17j?\\xae:\\xc0K\\x96P\\xadl/t\\xf2\\x19\\x82\\xdcR\\xadu<\\xb4V\\xe9\\xd3\\xcb6\\xc1A>\\x9f\\xb4]\\xd22\\x92\\x06A\\x19%\\xc9\\xda\\xeb\\xacg\\x18\\xe4\\xab\\t\\xb2U\"\\x9bo\\xb0\\xfe\\x18\\x95\\xcf\\xd8V\\t\\xca\\xdf$qdk$\\xcf(\\xd95\\xb3l\\xbf\\xd8\\xefZ\\xbeqT4\\xc7 \\x92\\x9d\\xd3*\\xb3%\\xcd\\'Y\\x14:R\\xfa\\xd4\\x98C2\\xc9\\xdbRTc\\xb0\\x8e\\x10\\xcb\\xb04\\x9f\\xa4\\xf9\\x1ay\\xe6\\xa5\\xd1\\xd7(V\\xca\\xa0\\xe8\\x84N\\xd6)\\x8duL)\\x02\"y\\x90l\\x8f\\xd47\\xbd\\xa8S\\x8d\\x00\\x8d\\xaa\\xe5z\\x0e\\xd6Q\\xd5[-\\x1a\\x8f\\xaaIn\\xb1^9G\\xa3\\x92;\\x8e\\x87\\xb4rOt\\xd634\\xb2\\xbc\\xb3fQ\\x1fh\\xac5\\xca\\xd8\\x90~RLD\\x1eN\\xf2\\x97\\x0e\\xcahI#\\xe0\\xa2\\xb2el\\xaf\\xa51u\\x12%\\xef\\xea rd%\\x8d\\xaeQ\\x91a\\x8e\\xb7\\x04\\xb9\\x9d\\xec\\xdd\\xd8\\xd3I^\\x87\\xa3\\t\\xb23F\\xf9\\x1c\\xf2L\\x82|o\\x92Q\\x8an\\xe8\\x0c\\x8b\\xc6\\x9b\\xe5\\x96\\x0b*\\xa9\\xd0*\\xf7\"\\xcb\\xab\\x97-\\x1bI\\x86N\\xa4\\x88M\\x90\\xa3\\x12\\xadl\\r5\\x8a}\\xb0\\xdc\\xd5\\xacH\\xa0^eC\\x88\\xd5\\xf1\\x08\\xc7\\x07\\x82,m\\x16)\\xe3\\xe8\\x81b\\x14\\x9dr&\\xd9e\\xb2\\x9b4od[\\xcc\\xb2\\x0c\\xd0lH\\xd75\\xca\\xb3I\\x11\\x90I\\xf1{l\\xa1X*\\x05en$\\xa9\\xa31\\xd0\\xab\\xec\\x8e\\x14;\\x90\\x15\\xd5\\xab\\xe6H\\xa7h\\x9ctwM\\x0e\\r\\xe08\\x9d\\xe6\\xddA$\\x1f\\xc7V\\x86\\xbc\\xa8^\\x19}\\xb2=|&\\xcd\\xad^\\x96\\x18\\x83\\xac!\\x06\\xd9\\x06R\\xe6 \\x9di\\x94\\xf5\\x94\\xe2BA\\xd6,\\xf6\\t\\x14I\\xd2UX+5\\x8a\\x05\\xd0Z}.]\\x89\\xda\\xa9Q\\xa2\\x01\\x8e\\xff9w!}\\xd2\\xca\\xa3AD\\xfd\\'\\x9f\\xa0\\xf6\\xd9Z\\xc5\\x9b\\x90]\\xd6\\xc9\\xda\\xea\\xa4\\xba\\x0b\\x9fI\\xbe\\xdb\\xa0\\xf4\\x89\\xac\\x02\\xc7lZY\\x824\\x8a]\\x90\\xc6\\xcfA$\\xfb\\xac\\xb1\\xfeO\\xaf\\xc8\\x00]G\\x90\\xa3H\\xd2\\x0f\\x9d|\\x1d\\xd2!A\\x19Wu\\x8f\\r*\\xed\\xa5\\xd8_\\x8a\\xfc\\x8c\"\\xdb\\x0e\\xd2S\\xbd\\xaa\\x9d\\xd4f\\x96\\x08\\xa32c$\\xe3&\\xe5h\\xb2\\x12F\\xab\\x7f`\\xa9\\xd5YG\\xdb\\xa0\\xf4Og\\xd5Q\\x8dHQ3\\xc5\\x01\\x14?IQ\\x17\\x8d\\xba\\x14Y\\x90\\xd4h\\xe4\\x190\\x89d%I\\xca9?\\xd4[}\\x9fVn\\xa1:\\xd33\\xaa,\\x81A\\x89\\xe7Y\\xbb5\\xd6\\xbb\\x1b\\x15}\\xe6X\\x85\\xe2)I\\xa2\\xcd\\xd6;p>\\xe8\\x00\\x8f\\xceQ\\x96\\xa4mF\\xd9:\\x19\\x14\\xcd\\xd0\\xcb\\xfa\\xad\\x93\\xfd\\x8d\\xa0\\xcc-yL\\xc9\\x82J}r\\xb2\\x8e\\x8aY\\xd6z\\xf6\\xb74\\xefz\\x91c\\x08\\xf27lo\\xf4\\x8a\\xc7\\xa7\\xf8\\xc6h\\xbd\\xa2t4\\xf9F\\x92oG\\x91<&\\xc5(\\x14\\xc1\\x18\\xe4\\xd8_P\\x8d\\x84I\\xe4x\\x96r\\t\\x83\\xa2\\x87\\x14\\xfd\\xb0\\x1c\\xeaD\\xca$\\xd4\\x19*\\xc7<4:\\x82\\xdc\\x12\\x8a\\xa1\\xc8;\\xeadk)\\xcd\\xbaQe=\\x8d\\x8a\\xe6H\\xf2\\xcd\\x99\\x0eg.\\x06U\\xc4G1,[/\\xbd,\\xd5\\xe4\\xb9\\xc8\\x1a\\x1b\\xe4\\xd1${\\xc0\\x95\\n\\x8e\\xb3\\xb4\\xb2\\xff\\xa7\\x1c\\xdd\\xa4\\xe8\\x8bA\\xf6\\xd3d\\xcbu\\xb2\\xa5\\xd3\\xcb\\xb2\\xccy\\x04\\x8d\\x8bQ\\xf6\\x81\\x1a\\xe5\\x8e\\x06yV\\xf9\\xaa\\xa4\\x15\\xe4\\x13\\xf4\\xb2LQ\\x0c\\xadQ\\xd9G\\x8e\\xc2)\\xcf1\\xcb\\x1a\\'\\xa8\\xe4\\x82-`\\xce\\xf9r\\x92\\xed\\x8aF9\\x87cv\\xba\\x17\\x7f\\xce\\xf6\\x9f\\xac/\\xb5\\x9dz\\xacW\\x8e\\xe1^\\x08\\xf2u8j\\x95d\\x8dfH\\xa7\\x1a[\\x07k\\x9fMJ\\xbb9j\\xd7\\xca\\xd7\\xe7\\xc8\\x9f\\xac\\x97I\\xbe\\xa6\\xd1\\xaaC<\\xd6,W\\x14=J\\xd6\\xc2h\\xb5f\\x96\\x99sT\\xee\\xa5\\x91gJ\\xb2P\\x0eJDEV\\xdf\\xa0\\xd2\\x07\\x8d2\\xc7\\x94\\x1b\\x93D\\x19\\x95V\\xf3\\xb8PM\\x8beLj\\xb7I\\x8e\\x13u\"W\\x178\\xb6U\\xd7w8\\n\\xa1\\xb9\\xc99\\xaf:\\xa5\\xf5\\x06E\\xf3);\\xa0\\x1a!\\x9fO\\xf6\\x9b\\xac<\\xc9/\\xe9\\x8a^i\\r\\xcf\\x97V\\xd4\\xa9\\xe6O\\xea\\x1b\\xc5\\xa9Fe\\x0e\\xb8}\\x1a\\x91rp\\xf6\\xa7F\\x91<,W\\x02\\xe9\\x0c\\xca\\xb1X_\\x8d\\xb2\\xbdt\\x10)W\\xe4\\x98\\xd1(R\\x1e\\xaaS,%Uw\\xc8\\xb2\\xe4\\xac*\\x19\\x159\\xa6\\xfc\\x82\\xc6\\x84\\xeb2TC\\xe1^S\\xcd\\x85\\xb5\\x92c@\\xaau\\x90}\\xe3*\\x0b_A/k5K\\x8aV\\xb9\\x12[D\\x8a\\x1b\\xd4\\xf3\\xcdQ\\xa2&\\x87]\\xe6\\xabh\\xad\\xb6\\x90s}\\xcaE\\xa4+R\\xb5\\x90\\xabD\\xec7\\xa5c\\xc8\\xd6\\xe8\\x94\\xd1\\xd4\\xc8\\x91(e\\x03\\x82\\xaau\\xdc>\\xca!I\\xf6\\x8c\\xaa\\x11\\xa1\\x9e\\x19d\\xcf\\xc6\\xf9\\x92A$\\x1f\\xce\\xb1\\xbf\\xa3\\xc8\\xf5G\\x9a\\r\\xb2fF\\x91}\\x01\\xf9l\\xfd\\xff\\x9b\\x1b)/3\\x88dQH\\xdb\\xb8\\n\\xc5vK\\xfd\\xafF\\xb9\\x9b\\xd5\\xfa\\xc3\\xa3\\xebdKm\\xb0f\\xd2T\\x8d\\x15DA\\x19\\x13\\xfa\\x9fA\\xd17u\\xfeb\\x12\\xc93\\x9bD\\xaaPj\\xe56\\x90E\\xa4\\xba\\xa2\\xf4)e\\xd8\\x82\\xc8\\xb50u\\x16\\x9a[9\\x87\\xa5\\x84\\xf2\\x17\\xce\\xfb(w\\xa6\\xb8\\xcc R\\x1dX+\\xffK\\xd50\\xb6gd\\xcf\\xf5\\xaa\\xeb\\xb26\\xeasx\\x1d\\x83H\\xf1\\xacA\\xd6\\x10\\x93*\\x9e \\x1f\\xab\\x11\\xa9\\x1eB5-\\xca\\x1b\\x1cTZ\\xc5\\xb9!\\xe9\\x8eF\\xce\\x8cI\\x03\\xb8>\\xccuH\\x8e{(\\x9f\\xd6)sCzL\\xf5V\\xf2\\x1a$a\\\\\\x8d\\x90Z`R\\xbc\\x89\\xa0\\x8c\\x8b\\x14\\x0b\\xea\\x94q\\xa6\\x9a\\x1c\\xc72$\\xef\\xea\\xfc\\xc8$\\xb7\\x87\\xe5^\\x8aDiE\\x81\\xb2^\\xca\\x84\\xe8*\\x9c\\xf3S\\xb5\\x88\\xad\\x16\\xc9?\\xc5\\x05\\x82,k\\xe4\\'\\xa9\\x9d\\xb4\\xce\\xc1q0\\x1d\\xcf\\xf9\\x12\\xdb\\x1b\\x1a1\\xc9\\xf3\\xe9\\x15/M\\x993\\xc9\\xaaN\\x19=\\x8e$\\xf5\\xcaw<\\x86|\\x07\\x83\\xac\\r4\\x06f\\x91c\\x18\\xaa\\xa7Q\\xa5\\x9c\\xe3W\\xed\\xff\\xb4L-G\\xea{H\\x99\\x81t\\'\\xaa\\x8c\\xb2\\x17\\xa5\\x99\\xe7([\\x9a7\\x83|\\x96F\\x15%\\t\\xf2\\xea\\x93$\\x7f$+4w4#\\xea\\xec\\x91m\\xb4\\xdej\\xdft\\xb24r\\r\\x80t\\x9c+\\'j/D\\xf3E\\xba\\xc8\\xb5+\\xce\\n)\\xa2\\x90f\\xd3A\\xd6:\\xcaF5\"\\xad\\xf8q\\x9ccT\\xea\\x1fFULfTf\\x8af\\x82\\xe3l\\x8aI\\xc9r\\x19d\\xab\\xc0\\xd6\\xd0,G\\xac\\x9cY\\xb0\\xb4R;\\x1dd\\x193\\x88\\x14\\xa1\\xa8c\\x7f\\xd2]\\xa3<\\x8a\\xf4\\x8d\\xd4g\\xce\\xaf\\x049v\\xa2\\xa8Y\\'\\xdbL\\x8a\\xbd\\xf5\"e\\t\\xd28pm\\x9d\\xb2(\\x83\\x9c9Z\\xbe\\xc9m\\xbd\\x8e\\x93\\xa8\\xae\\x16\\x92]\\xd1)c-(=\\x11\\x94\\xc80g\\xb6jV\\xb4A\\x9aA\\xf6%\\xd2\\x95ym\\x81+u\\x82\\xec\\xcd(G\\x94\\xfeO\\xab\\xa5\\x14\\x0bH2j\\x12\\xd9\\xeb\\x93.\\xa9c\\x15\\x1aE\\xf5j\\xae \\xc7\\xa8R\\xfbHFi|\\x04\\x9129uor\\xfaP^\\x17\\xa3\\xdcZ\\xd2>\\x93H\\x19\\xa5I\\xd6\\xab\\x9ck\\x16\\xb4\"E#\\xe4 \\xaak\\x02,eZY\\xc2h]\\xc1A\\x8eqh\\xed\\xd5$\\xe7\\xe2\\x1a\\xd5\\xd1dG4r%S+\\xcb\\x84F\\xb6\\x94zY\\x12y\\xadGj\\x91\\xa3\\x92\\xf3p\\x9d\\xc2\\xa0\\x8c\\x87$\\xff\\x96\\xbbQ\\x9d\\xd8\\xe2\\xbf5\\xf0\\xe8\\x92\\xae\\x18\\x15\\x19\\xa3\\xe8D\\x1a%\\x07y\\x9e8\\x922\\xab\\x8eb\\xa9\\xa68\\xc9,r.\\xc0\\x11\\x8b\\x83H\\xeb\\x10\\xe4\\xcdu\"\\xd9F\\x8a\\x0c9:\\xa7\\x8a\\x04g$\\x96s\\x9cD)\\x06#Y\\xe2|\\x99\\xab\\x0c\\xe4\\x89\\xc8\\xf6\\x93vJs*\\xa8F\\x8bW9hu\\x97\\xfab\\x16iE^j\\x05\\xf5H\\xa7\\xb4\\x95\\xeaed\\xf9\\xd4s\\xce\\x15i\\x9d\\xdc^Za\\xa3~\\x92,\\xf2J\\x9cA\\xf6\\xef\\xbcr$\\xf5\\xcc$\\x92W\\xa5\\x96\\x93\\xf6\\x19\\x95\\x9eR=\\x94\\xfaJ\\xb6]P\\xac\\x87\\xba\\xad\\x14\\x07Q\\x96I3e\\x129F\\xd7(6HP\\xcd\\x90^$\\xafI\\xab\\xcbd_i\\xdf\\x04EIF\\xc5\"\\xd1\\xec\\x18\\x15]&ON\\x91\\x83\\xb3\\xc8\\xfb3\\x1c\\xe5{Q\\x0fI\\x9bI\\xd7\\x05\\xd9V\\x19\\x14O\\'\\xc5\\xb4f\\x91#j\\x8e29\\x1b\\xe7\\xaa\\x8f\\xa3\\xfc=\\xc5~R}A\\xba\\x93Y\\xe93W/I\\x06\\x0c\\xb2\\xb6r\\x94L\\xb3\\xab^\\xe9\\xd6Z\\xb5[+\\xdbW\\xa3\\x9c\\xb7\\xab\\xab\\x15\\x06\\xc5f\\x93\\xed\\x91\\xd6\\xf28r\\xd2(\\xfd\\xe7U\\x0f\\xb2g\\xb4:\\xc4\\xfeQ]\\xdd4*v\\x83\\xe4\\x84\\xb5S\\'\\nr\\x0f\\xc8\\x83\\xf0Z\\xb0\\xb3b;\\xb9zE}\\xa7\\xb5w\\xf6\\xf4T\\x97\\xe4J\\xb0I\\x19\\x11u\\xceh\\xb4\\xae\\xe9\\xd2\\x0e\\x06\\xcej\\xa9vI\\x1eA+\\xff\\xab\\x17i=\\x87\\xd7LM\\xaa{\\xf2\\xea\\'E\\x9bd\\xady\\xf7\\t\\xcf\\x9c\\xde:\\xfa\\xd2\\xbe\\x08\\xf6\\xcb\\xa4o\\x1cE\\xd2\\xdcq\\xc6C\\x99\\x00\\xf9<A\\x96\\x1b\\x9a\\x7f\\x961ZI\\x90$\\x8d\\xec=i\\x1bE:\\xe4\\xb3\\xc8\\xc3\\t\\xca\\xe8\\xa9sXu\\xfc\\xcc\\x19\\xa8$\\xf5&\\xe5;\\x8e\\xff\\xc8/:\\x89\\x94\\xbb\\x18E\\x8ej\\xd9\\x92\\xf2\\x8cST\\xa9\\xde\\xdd\\xa4\\x95\\xe3P\\x8a\\xe4hv\\xb5\"\\xed\\xa5\\x12\\x94\\x16Q\\xedM\\x1d\\xf1s\\x06\\xa9\\xaefr\\xad\\x89s\\x05\\xa9\\xd7\\x1a\\x91\\xea~\\xd4w)\\x8b\\x14\\xac\\x1a\\xc26\\x83\\xe6Z\\xea\\x91\\x83\\xc8V\\x9ez\\xc11\\x18\\xc7\\x91F%\\xbb =e+\\xcb\\xd6[:\\xc3A\\xa4U2\\xb3H\\x91)\\xb5\\x8f\\xd6\\xd68n\\xd4X\\xe5\\x89\\xb2\\x00\\x8e\\x89\\xa8\\xf7:9?\\xe7>\\xd1\\xa8\\x19E\\xce\\xb5\\xb4J\\xbfh\\x8f\\x0b\\xdb_\\x92-u\\xde\\xc91\\x04U\\x0f\\xb4\"\\xd9\\x16\\x8a\\x92\\x8d\\xa2z\\x85^\\xce\\xfc\\xadUw\\x93\\xc8\\xf1\\t\\xed(\\xe3\\xb8[\\x9d\\xc3Q\\xf6\\xc85\\x16\\xb6+4\\xf7\\x1a%\\xca\\x934\\x91G\\x8d\\xaei\\x90\\xff&\\xdb\\xaf\\x91\\xcf\\xe2\\x0c\\x8bj\\xd0\\xe4\\xb9\\xb5\\xca=h\\'\\x02Uf\\xc8\\x8fJz\\xa8W\\xe6\\x9c\\xb2\\x14\\xc9b\\x98e\\xd97+3Nkj\\xea\\xfd.R\\xfcI\\x11\\xb9\\xe5\\xc7$r|\\xc2\\x1a\\xa2\\x8e\\xbd8\\x92%[D\\x91\\x91\\xe4%I\\xd7\\xa8.E+\\xdb\\xec\\x9d\\xb9*\\xac\\xce\\x89IC\\xb9\\x96\\xa6S\\xcd\\x14\\xc7\\x02F\\xab6\\xf0\\x9e3\\xf2X\\x94\\xbdhD\\xae\\x95\\x98\\x149\\xa3\\x95\\x0e^C1(q\\'e\\x8bdoIO\\x8c\\xcalp\\x96L>\\x83,)\\xfdk\\x90\\xb5LP\\xf4I\\xa3\\xf4\\x9624\\x8eS4\\x8aFP\\x96E-gi\\xa5\\xda3\\xc9\\xa4I\\xd1\\x1d\\xa9\\'&e\\x94\\x0c\\xb2\\x9c\\xe8\\x94\\x7f\\xf5\\x8a\\xbe\\xd0\\xaa\\xa5Ai\\xa9\\x83\\xc8VF+\\xdb\\x05\\x8a\\x07(\\xe7\\xe0\\x9cO\\xddJ\\xf2E\\x1c\\x9bQ--g=\\x82|\\x1a\\xad\\xb6S\\x85\\x9e\\xbd6\\xed\\'\\xe1,\\x9cvTJ\\xba\\xac\\xf6\\xcc\\xb4{A/\\xd2\\xda\\x1dW\\xb9\\xd5\\xd2\\xc9\\xf5\\x7f\\xaa\\xd9\\xb3u%\\r\\x94\\xe2li%\\xcb\\xf2\\x89\\x83\\xc8k5d\\x97\\xd511Y3\\xe9,\\xdaQ\\xa0\\x8eOx\\x1f\\x00Yu\\x9a!\\x8e\\xb8\\xe8s\\xcaa\\r\\x8a\\xdcr\\xe5O\\xbdZ.\\xc8\\xd6J\\xa7TZ\\xa8Z\\xa8Uf\\x96\\xf3\\x07u\\xdc+(W2\\xab\\xe4S\\xaf\\x8c\\x0c{\\xf2\\x9c\\x16\\x97W[\\xb8\\x06\\xc8\\xd5~j\\xabI\\xd5\\')\\xc3\\xa2\\n\\x1b\\xd5\\x18L\\x8a\\xf4r\\xcd\\x96,*I\\x92\\x93\\xd2\\x0f\\xae\\xbeq\\x9eA\\x15j\\xb2\\xb7R\\xeb\\xa45c\\xcb\\xf9fE\\xd2\\x1cT\\xda\\xc9\\xf5\\x02\\x07\\xd9\\xf2s\\xe5\\xc0,K\\x17]\\x99\\xf6\\xcc\\xd0\\xcehI\\xe2\\xb8\\x15N\"\\xf9oA\\x8eR\\xc9:ql U\\x7f\\xa8\\rTo#\\x9bF>\\x88\\xf3a\\x9dHk\\x84fQPyK\\xb2\\xa5\\x14o\\x08\\xb26RU\\x80\\xee\\xc8\\x11\\x1d\\xc7\\x82\\\\\\xc3&\\xcbbV\\xfc\\x0b\\xaf\\n\\xd0\\xeci\\x941\\xd6)\\xbdV\\x1fG\\xf9;W\\xd9H\\x03XrX2(r\\xa3\\xfcYPfF\\x1a3\\xb2\\xe5\\x1ay\\xa6\\xb9\\x15\\xec\\xd99W\\xa2\\x1e\\xf0\\xca\\x80F\\xd1I\\xb2\\xa4\\xea\\xf8N\\xdd>\\xc1\\x9a\\xa3K\\xdfQ\\xacM\\xf6\\x98F\\x91\\xeenR\\xe9\\x02k\\x9a\\xc6\\xaai\\x06\\xe5\\xea\\xb4\\xff\\x90\\xd7\\xfc\\x04\\x91V\\xea\\xb8\\x02I}\\x97\\xb4\\x93\\xd7SI\\x8a\\x1c\\x15\\xb9\\xa4\\xfd\\x89\\x06%fR\\xc7\\xedFy4\\xcc\"\\xd9Z\\xb2\\xf1<\\xde\\\\\\xdf1\\x8a\\xac\\x1d\\x92\\x06\\xe5\\xb4!\\x0e\\xa2T\\x07\\xcc\\xb9\\xbb\\x8c\\xf3&\\xcaU\\xb9\\xd2\\xc7\\xb5S\\xcb\\xb7TYsPvl\\xb2\\xa5\\xa15F\\x9d<\\x86\\xb4\\xfbZ\\x92D\\x07Er\\xc8\\x82\\x92md\\xaf\\xaaW\\xc6\\x80[LU\\x18\\x9a=\\xca\\xe9\\xb8w9#p\\xd2\\xd7\\xff\\xadOPuZ:\\xde\\xa0\\xc8\\x89\\x93\"]\\x8erKH\\xde)\\xba\\xe0\\xca\\x14\\xafpi\\x95\\xf9t\\x14\\xc9oj\\x15\\xa2XC+\\xef\\xe7!?A6\\x8d{\\xa8\\xaem\\xf3}\\xcd\\xca\\xfcIw\\xe0\\xe8V\\x93\\xc3\\xfe\\xa9\\xb3%\\x1a\\x07\\xb2y\\x1a\\x912B\\xf2#\\\\\\xa9\\xe0\\xfd\\xf0F\\xb9J\\xcd#g\\x90?\\xa7\\x1a)\\xdd\\x9b\\xec\\xb3V4\\xaa\\xee\\xc2q\\x8e^\\x89Mh\\x9d\\x83\\xe2\\x02\\xd2c\\xda9\\xc1\\x9e\\x93t\\x9a\\xe3\\x11\\xda+\\xc1:J\\xb9\\x13yD\\xf5\\x8a\\x8bQa\\x92!\\x1a\\x05\\xda\\xfb\\x9cK\\x94b:\\xa3H\\xeb\\xee\\x82\\xbc\\xe3\\x9b*\\x13\\xeaH\\xc2`\\xad4\\x18\\xe56\\xf3j\\xbdz\\xdd\\xd1\\xa0h1\\xcfA\\xce\\x1d\\xbe\\xeah\\x87\"~\\x8a\\xe7\\xf4\\xaa+\\xa9\\xf3\\x06A\\xb9\\xabzg\\x0f\\xef\\xd2\\xe2l\\x8a\\xf6\\xb5\\t\\xaa\\xb6K\\xab\\x82:y\\x05A\\xab\\xb4\\xc0(\\xe7u\\xbc\\x17\\x90F_\\xaf<\\x17\\x92\\xf3\\x19\\x02\\x8d\\xf2\\xa9zE\\xca R\\xce$i\\x89:Br\\x14i\\x97\\xab\\xd4{\\xf2\\xde\\x1c+qt\\xcc{\\xde(&\\'/f\\x90\\xdb\\xaeSY0I\\x8a%\\x7f\\xcd{\\xb8Iv\\xc8bp\\xecBy\\x12g\\xdc4[\\xd4\\x17\\xb2m\\xa4\\x9dz\\x91va\\x90_%\\xcd0*#\\xa5\\x11\\xd5;\\xc1t\\xca\\xe8\\xd3\\xf8s\\x9d\\x92+1\\x14\\xe5\\x1a\\x15\\xfb\\xc6q\\x97 {\\x13\\xb2\\x0bF9b\\x94\\xac\\x06\\xad\\xe0K}7)=\\xd3)\\xbd\\xc8iki]\\x93\\xf7\\xfb\\xb1\\xdf\\xa5\\x1a\\x8a\\xb4\\xe6C\\xd6C]\\xb5\\xd1\\xcb\\xdfq$H1\\xb0A\\xa4\\xf5$\\xa9\\x9f\\x0e\"\\xd7\\xc4h\\xf7\\x9dVi\\x8d\\xba\\x9e\\xcc\\xdeKj\\x99Y\\xf1&\\x9a\\x1c\\xf7\\xe1\\n\\x0fE\\x19\\xf4\\x94\\x01\\xe7}\\xd2\\xbe9\\x8e\\x87\\xa9N+X\\xd7\\xd1I\\xaax\\xee\\x04EF\\xc8\\xbbS\\x8c\\xc75X\\x83\\xc8\\xf1\\x86\\xba\\x92n\\x92\\xa5\\xdc`\\xf5l:\\x91\\xf6\\x17\\x92$Q\\xec\\xc0\\xb5@\\xda\\x01\\xc9:\\xcd1-\\xef)\\xe4j\\x91:\\xde\"y\\xd0\\x89\\xf4\\xe4\\x96:\\xab\\xd3\\xc9:Eci\\x90\\xe7\\x9c\\xd7\\x0e)\\x07\\xa35\\x15z6F\\x1d\\xcdke\\x0b\\xc9\\x9e\\x9a\\xb2\\x13\\x8a\\x17,\\xe79\\x89\\xbcb.(g\\xb1\\xd5\\xe5l\\x80\\xf5\\x80\\xfd\\xb6V\\xd1[u\\xbd\\x9a\\xfd\\x07\\xdb\\x13\\x9ao)\\x02\\x91\\xa4\\xceQ\\xe4U\\x02\\x92y\\xba\\xa6V\\x1e\\x07\\x92\\x1c\\xda\\xd1\\xc3Q%\\xf9kA\\x19i\\xaa\\xf8\\x91\\x8c\\xd2\\x8a)\\xed\\x045\\x89\\\\+\\xa4\\xb9tV,\\x80Q\\xb6\\x99\\x14\\x13R\\xe4\\'\\xdd#\\xbf2C\\x92\\x9f\\xd3(#B\\xe3D{U\\xa4\\xd6P=\\x9fj\\xb2\\x1ckq\\xfeK6Yo\\x8d\\xcci\\xf5\\x8f\\xae\\xc2\\x91.\\xf5B+\\xfbO\\x07%J\\x91\\xc6Z\\xed\\xf1\\xc9\\x0b\\x9b\\x95\\xea\\x96Ni7[t\\xb32\\x93d_\\xd5\\x95E\\x8a\\x80\\xb9RL\\x92\\xc19:y-\\xa9o\\x94\\xf9Q.\\xcb\\x16_\\xc8qe\\xad\\xec\\x1f(z\\xe2\\n4\\xfbD\\xbd<\\xea\\x9cs\\t\\xb2v\\xb2\\xb5%\\xbf\\xe7\\xa0h\\x82z\\x7f\\x01\\xf9\\x1d\\xda[\\xa7~\\xb6\\x822A\\xde\\xb7\\xc4\\xd1\\x99^9\\x9b\\xf6;\\xf2~\\x1c\\xael\\x90\\x9f\\xa6Y\\xa2=fdG%;B+\\xe8R\\xdcL\\x15a\\x1ea\\xbdjTh\\x0c\\xc9k:\\x8a\\x14\\x93H\\xbd6\\xc9{\\'\\xf5\"\\xdbUA\\xb9\\x1a\\xc7\\x1a\\x1c\\x9d\\xf1\\xbeX^i\\xa0=\\xe7\\xb4\\x9b\\x8d\\x9f\\x14\\xd4\\x8aT\\x9f&[\\xae\\x11\\xe9iH\\x9d\\xaa\\xd5\\x1aYC8R\\xe1\\xd6\\xb3\\x06\\x93\\x07w\\x10y\\x9d\\x8a%X\\x8aV\\xcc\"Us(\\x13\\xe3x\\x91#JZ;\\xa4(A\\xd2&z\\xae\\x94\\xebh\\xe4Wh$\\xf4r\\xa6\\xa2UFG\\'\\x8f\\x1aUP9#\\xd7\\x88\\x1a\\xe5\\x1a\\x14\\x87\\x92\\xce\\xd1\\n\\xa8FT\\xdb\\'\\x1ay\\x9db\\'y\\xcd\\x97\\xe2\\x0f\\xda\\xf7Ec\\xcdY\\x92\\xbaR \\xe5\\xbbR{\\xa8R@\\x16\\x9d\\x9f\\x98S\\xe7B\\x145R\\\\C;#)^\\xa3\\'b9\\xa2\\xa3;\\xf1sk|m\\xde--\\x8d\\x0f\\xef|\\xe4#)2a\\xed\\xe7\\xbd\\x06\\x0e\\xf2y\\xa4\\xcd\\xd2s\\'\\xb9D\\x8a\\xb4(\\x16\\xd6)\\xf7R\\xdb\\x10\\xe9\\xce\\xf2\\xf3V\\xf2^w\\xb2\\xcdFQ\\x1d\\xdbi\\x94\\xd1\\xe6\\xba\\xa94\\xb6FQP\\xec\\x04\\xc5\\xf7\\x1a\\xe5\\xff\\x82H;(\\xd8\\xfe\\xe8\\x15\\xcd\\xe7\\xfd\\x96|<ye\\xae\\xe0\\x19T\\xbd\\xd1+m&_\\xc7V\\x87\\xe2\\x01\\xda\\x0b(\\x8d\\'=Y!(\\xf7\\xd4+=q\\x96\\xc7@\\xd2\\x13\\xaeM\\xd0}8\\x0e\\xd2*\\xf6\\x81\\xa2=\\x9ag\\x96\\x16\\x92Z\\xc9\\x16r\\xad\\x96\\xe3\\x07\\xca\\x81i]R\\xd2r\\xb2\\xa4\\x9c\\xcfP|\\xc9\\xabH\\x1caP\\xdc\\xa8~\\xaaM\\xab\\x1cM6H\\x1aw\\xae\\xbfS\\xa4IO\\'\\xf1[\\x05(\\nc\\xcbCw\\xd7\\x8a\\xb4R\\xca\\xb95\\xafP\\x91>j!m\\x82\\xd2j\\x1aa\\xf6\\x13\\x82\\xb2\\x12\\xc0Y\\xb8V\\xe4\\x1a\\x0fK:=\\xffG\\xd5d\\x83b\\xe7hw\\xa2\\xb4+\\x90\\xd6\\x89\\xd5\\xb91\\xe7\\xc5<\\x9a\\x162\\x8b\\xbc\\xab]\\xa3\\xec\\x1b\\xe1\\xb9\\xe0H\\x9a\\xaarT\\xcd\\x15\\xe4*#\\xd7\\xc3\\xa5Y5\\x8b9\\xf7v\\xab\\xf7\\x87\\x93=P\\xc7LT\\xe9\\xa4\\x1d}\\xea\\xbd%\\xea\\xdd\\x08$yl1\\xc8f\\x93}R\\xcf\\x13\\xef\\xa6\\xa5HO\\x9d\\xf5\\xd2\\xca\\x03\\xd5\\xea\\xa9\\x05\\xb4\\xeaN\\xfd \\xdbH+\\x18\\x82r\\x0cy5\\xcb\\xbd\\x9d\\x95\\xff\\tr?\\x04\\xf9\\x89\\x0c\\x92.\\xbdH\\xf9<\\xf9d\\x8bN9*2\\xc6{\\xe4\\xd4\\xfbJ8o\\x94\\xe6\\xd2,\\x8f\\x86V\\x8e5X\\xb3-\\x7f\\xcc\"\\xed7\\xe2\\x9a\\x03\\x8f\\x94$\\xa3F9_\\x93F\\xdeb\\xcf\\xb9\\xb6\\xa2\\x95\\x8f\\xa0\\x0c\\x96\\xf6\\xe0H=7+\\xd2\\xcaR\\xaa\\x91w\\xf0r]\\x81\\xd7\\xbd\\xcd\"\\xaf\\x97\\x90\\xdf\\x94F\\xd1I\\xe4\\xa8\\x8d\\xd6\\xf3(\\x96\\xe1\\\\\\x81,6\\xd5\\x99\\xc9.\\x1a\\xadm\\xd4\\xe78\\x9e\\xa3\\t\\xae.\\x93\\x9d\\xd1*\\xdfs^M\\x1aG\\xbd\\xa1\\x1c\\x96f\\xc0$\\xff-\\xf5\\\\\\xbd\\x17\\x89w\\xc6\\x08\\x8a\\x8f\\xe7\\xfc\\x87$\\x92v\\x0cK\\xfa#=\\xc9,\\xed\\x0c#Ye+\\xc1\\xd5Fz\\x86D:\\x9b\\x9e\\x9d\\x91\\xe2_\\xaaKKQ\\xa1\\x83\\xc8\\x96\\x8a2F\\xd6t\\xc9\\xba\\xf2\\xaa\\x1e\\xc5\\xfa\\xea\\x0cH\\xbd\\x83\\x88\\xfam/\\xeaD\\xf5n\\x0e\\xa9\\'Fy\\x07\\x01Y\\x18IFh\\x95\\x83Z@6\\xd7(\\xb2\\x86Ju\\x03\\x8e\\xd6\\xa8B\\xaaS\\x8e\\xa6\\xfd\\nd\\x95\\x1cE\\xae]\\xa9\\xf3\\x7fu\\xa5\\xcd\\xa0\\xc8\\x0e\\xd7uiU\\x8arY\\xa3<\\x9eTA\\xa4\\xd8\\x80\\xf62\\xd1n-K\\x8e\\xce\\xcf\\x98q\\xa4\\xca\\x16\\x89l\\x9eQ\\xd4\\xc8\\xf2H\\x91\\x8eV\\xd4\\xcb\\xcfFK\\xd7\\xe2\\x9d\\x05d\\xddtJ6\\xcc\\xab\\t\\x06Q\\xadEj\\xdbN\\x16R:\\x83jP$WR\\xaf\\xd8\\x02\\x91\\xc4H\\xd2nT\\xf4\\x85r`\\xce\\xb8\\xe8\\xd9Tu\\xdc\\xca6\\x85\\xab\\x83\\xfc\\t\\xd9t\\x8d\\xaa\\xa7\\x82\\xa2\\xab\\x14\\xf3\\xe7\\xdc\\xc3,=9\\xc4o7\\xa1\\x95i\\xd6\\x10\\x92\\x03\\xaaMQ\\xa6\\xcc\\xeb\\xa6\\x1cqid\\x89\\x15\\x94\\x96\\xd1\\x0eRA\\xe9\\xa3dO-\\xdf\\xf2\\xd3Q\\xeaq%\\x7f\\xe3$R\\x05I+\\xaf\\xa2\\xe9\\x15I\\xe1z\\xb1Z\\xce(\\x0e\\xd2(W\\xe6\\xb1\\x90\\xd8\\xa4\\xf2n\\xf49=7\\xc2\\xd91\\xe7=${TI\\xa6\\xf3\\x8cJ{i\\xdf\\xb1F\\xa4U\\x14\\xce\\t\\xd5}\\xa69\\xe59\\xe4\\xd1\\xa5\\xd6\\x0b\\xca\\x9dh\\x07dN\\x8f\\xc8\\x11:_O\\xa7\\x8c(\\xefu\\xd0\\xe4\\xb0jZUK(\\x874\\x8a\\xe4\\xa7t\\xaa\\xe3\\x04YO\\xa5\\xaa.\\xd7\\x08\\xb8\\x1eE\\xbe\\\\]\\xa1\\xa0\\xe7\\xa4s\\xd6\\x9d\\x1dT}\\'m\\xe1\\xaa\\x14\\xcd\\x9b\\xfa\\x89 \\xe1\\x7f\\xda\\xa4\\x17Y\\xfa)\\xb2\\xd5\\x89\\x14\\x1f\\xf2\\n\\x12\\xbfs\\x85c5]\\x8e{\\x93\\x0f\\xa2^kTcB\\x9e\\x92c7\\xf6|ZU\\x9b\\xe8\\\\\\xf6\\x11\\x0e\"\\xaf\\x81p/\\xa8BB=\\x912U~\\xe3\\r\\xb7\\x89w-\\xabW\\xfb\\xb4\\xb2-&\\xed\\xa2\\xddG\\xf4v\\xa0\\x9c\\x15\\n)\\x13\\x96\\xce\\xa7]\\x14T/\\xe4\\x11\\xe2\\xd5t\\x928^\\xed\\xa2\\x1d\\xb0:\\xa5\\xfd\\xd2\\xb9\\xecY\\xd5\\x91:G\\xe1\\x14e\\xb3\\xec\\xaa\\xdf\\x96%\\xa8ZI\\xcc\\xbd0\\xc8\\x997\\xef\\n\\x91\\xfe6\\xa9l\\x9f$\\xc7$\\xab\\xf4^\\x10z\\xfe\\xd9\\xf2\\xad\\x93<b\\xb4\\x13\\x91w\\xae\\xab\\xf7\\xbb\\x90\\x05\\xa6\\xc8\\x86\\xfaH\\xb9\\x00\\xd9^\\x8a\\xdbI2y\\xf7\\x80\\xf47\\xbf=\\x82\\xde\\xccC\\x99\\xbdQ\\xd4\\xaa\\xe4X\\xa7\\x9cK\\xba\\xc0ZL\\xf9\\x9a\\x832\\xdf\\xdcb^\\xc3\\xa1\\'\\xabi\\xd7/\\xb5\\x802z\\x1as\\xa3H\\xfe\\x8a\\xa3\\x0e\\xca\\x1b\\xf5\\xca\\\\\\xd0.e\\x8aD)B\\xe4\\x19\\xe7\\x99%\\xcdTGE\\x14+P\\xbf8f\\xd4\\xc9\\x96Y#\\xeb;[Mi\\xe5\\x86\\xce\\xa0\\xbe\\x9aDz\\xf2\\x815\\x89\\xf4\\x0b\\x9f[\\xdf0\\xc3\\xd5h\\x8a}\\xc9W\\xd1\\xd5L\"g\\x88\\xb4\\xf3\\x9d\\xa3\\x0e)\\xc6\\xd4\\xe4\\xe8\\x1fE\\x90\\x92fi\\x15\\xeb$\\x88\\\\]\\xca-\\xaa\\xd7\\x94tr\\xd5\\xdc$\\x8f\\xbb\\x832\\x0f\\x9c\\xa5\\xf3\\xf3\\x1cR\\xacE\\xde^#\\xc7Z\\x0e\\xa2N\\xb9+\\xc7\\r\\xd2Z\\x1d\\xd5Cs\\xda\\x19I*xu\\x87v\\x0fr\\xe4\\xf1\\xbf\\x16\\xc0,\\xd2\\xdb\\x88t\"\\xe7`\\x06U\\x1f\\xd8\\x82\\xf1j\\x06\\x8d$\\xbdg\\xc0A4(cA\\xfb4\\xc9[\\x18\\xe5\\x91\\xa1\\x18\\x8b\\xd6\\xaex\\xe7\\x86\\xa4\\xef\\x06yLH\\x8f\\xf8\\xed8\\\\\\xdf\\xa1\\xd9\\xe7]fz\\x95\\x84\\xaa\\xf7\\x08\\x90\\xcf\\xa6\\'g\\rVi\\xd2\\xc8\\x16W\\x10s\\xe6\\xddd\\xa1\\r\"U\\xc6\\xc8#j\\xe5Oh\\xa5\\x94\\xe3S\\xad\\xd2r\\xaa\\xb0\\xd2[X\\xf8m<\\xe4\\xd7\\xa9\\xb6\\xc7\\xb3O\\xfb\\x19i\\xbd\\x83s\\x7fz\\xea\\x8dl\\x18\\xe5\\xf7\\xe4\\x1d\\xc9bR|\\xc0\\xfb\\x8e\\xd5\\xf6@\\xfd4:\\xc5a\\xea\\xba\\x9a\\xd4\\x07G\\x91\\xa3+\\xa3\\xdc^\\x8a\\xeer\\xae\\xd5\\xd2>$\\x93\\xaa\\x9d\\x14\\x11I\\x11\\xa8\\x94}J\\xf7s\\x14)\\xba\\xe4]\\xc3\\xf4\\xee\\x11\\xce\\xcb\\xd4o\\xf50\\xc8rJQ\\x12gB\\x1cu\\x90\\x06P,J{s\\xb4\"\\xf99\\x8e\"\\xf5\"\\xbd\\xe3\\xcf(\\xcb\\x92\\xd46z\\x1a\\x87\\xb2 \\xbe\\xbfN\\xe4\\xdc\\x98kGj\\x1fN9\\xae\\x94\\x7f\\xd1\\x1a\\x8f\\xda\\xf3i\\x94\\x8cZj1\\xed\\xbfVK;U\\x9eX\\xf6h\\xaf&\\x8d\\x86\\xb4.N;;$\\xabB\\xef=\\xe3\\xe8FmKi\\xdc\\x84\\x1c\\xad\\x97V\\xc3\\xa9\\xe5&\\xe5\\x9e\\x9c\\xb3i\\x95\\xddh\\x92\\xbd\\xe0\\x1c\\x87\\xaee\\x90m\\x82Q&\\xa3R;\\xe1}\\x88T\\xef3\\x88\\x14\\r\\xd05\\xb8\\xfa\\xa0SF\\x80{\\x993\\xc22+z\\xa1Q\\xb5SP\\xfaL\\x96P\\x928\\xde\\xc3\\xce\\xb5\\x00\\x9d,\\xc7\\x9c;\\x93\\xc7\\xa2\\x88\\x8d\\xf6\\x12\\xd3xI;\\x00iMO#\\xcb2\\xad\\x90\\x1aD\\xb5\\xed\\xa3\\xf6\\xd0\\x9b\\xa4\\xa4Y\\xe1\\x9dS\\xd2(\\x98\\x14\\xcd\\'\\x9d\\xe6\\xbc\\x8d\\xb4\\x94\\xfc\\xac\\xfa\\xe9H\\xd2(\\x8e\\xfai\\xe5\\x9fd\\x92rW\\xae\\xae\\xa9\\xab\\x16\\x82\\xd2k\\x92R\\xdaI.\\xc8\\xbe\\x82\\xa5\\x83\"G\\xca\\xab\\xc9\\x17jE\\xcae8\\x9b\\x96\\xdaC\\x1aG\\xbbk)k6\\xc8;\\xe3\\x05E\\xb3\\xa5\\xf3hm\\x86\\xbc\\x07k\\xb0z\\xedP\\xf2\\x04\\xf4\\xfe\\x15\\xf5\\xbb\\x10h\\xdet\\xd6\\x1c\\x9d\\xf4G\\x10\\xb9\\xbe\\xa2Q\\xa2)\\x93\\xe2M\\xa4\\x19\\xd2+\\xbd\\xa6w;\\xe9Tc%\\xc5Y\\x92m`[\\xe8\\xa0\\x8a\\x11h\\x07:\\xc5v\\xfc\\rg:\\xea\\xa8\\x86G\\x9dc\\x1a~\\x9f\\t\\xaddr\\xbdE\\xea\\x8f\\xb3H\\xeb\\xbd\\x9c!\\xb1\\xccp\\x16\\xce\\xf5F\\xd2c\\x8ai(w\\xe25\\x08\\xb22$Ad\\xd3x\\x178\\xc5\\xf3\\xbc\\x9b\\x81\\xac*\\xf7\\x81ba\\xce \\xd4\\xfb\\x08i\\xff\\x874[\\x0e\\xf2h\\xf2,K\\xedT\\xef1a\\r\\x17\\xe4^\\x1ae\\xebk\\x96cV\\x8d\\\\m\\xe3\\'\\xecYo\\xc8\\xeb\\x91mPgxz%/\\x92\\xf4\\xc4$\\xd2[\\x9dh\\xc5\\x8b\\xaeFOZ\\x92F\\xe8D\\xda\\xd5@3\\xa2\\xce\\x1eyO(\\xe9\\xbe\\xa4K\\xd2\\xee\\x1b\\xd2\\n\\xcan\\xd4\\xb9\\x17E \\xd4[\\xfe\\x1f\\xd9Q\\xb6-\\xf4N\\xba\\x9cz\\xcdo\\x8e\\xd4)}P\\xd7\\x11\\xd4\\xf5\\x08\\x8drg\\xda\\x03\\xc4\\x96[]\\x05v\\xce\\xa1S\\x06Q/\\xcb\\xbbA\\x91\\x1d\\x8ar\\xd4\\xb6\\x92\\xf6\\xca\\xb1\\xf4\\xd1\\x9eDz\\xae]mGx\\'0\\xf9w\\xce\\x83\\xf4J\\xdeCZJQ\\x04\\xed\\xe21\\x8b\\xec\\x13\\xc8R\\xb1\\xd5\\x10\\x94+\\xea\\xe4\\x91\\xe7g\\x92\\x8c\\xaa\\xd9\\xe2X\\x8e\\xde9@\\x96\\x92=\\x9fQ\\x91$\\xb3\\xd57:)\\xd7\\xa7\\xfd\\x15\\x0e\\x8a\\xef\\xa0\\xdcBk\\x9d+\\xaaXR\\xacA\\xf9\\x11\\xbdQ\\x8b\\xdf`\\xa3\\xce&x\\xdeH\\x9a8\\x06\\'\\x9df)\\xd2\\x8a\\xb4\\xa6\\xe8\\xa8H\\xa7\\xa3\\xe2\\xcf\\xb9\\xc2FU\\x0f\\xaaq\\xd2\\xcel\\x1as\\x83\\xc8y;\\xb5\\x89\\x9f\\x98\\xa4\\x95X\\xae=\\x93\\xfd\\xe3\\'\\xa8\\xfe\\xb7\\xaeC\\xd5\\x17\\xc9\\x03j\\xe5+\\xd2\\x1e^\\xbd\\xa8^\\xd5\\xa7\\xc8\\x83\\xf6=hU\\xd6\\xc9\\xa0\\x8c/\\xb5U\\xaf\\xb4\\x8d\\xd75i\\x97&\\x8d\\x01\\xd9d\\xae\\xc6\\xf3\\xbeDI^\\xd5\\xdfHq\\x97\\x83\\xe2\\xfb\\xd8;\\xf0j4\\xf9Y\\x1aG\\x83\\xdc\\x12\\xa3Ho\\x8e\\xa3\\xbbkd\\xdd\\x95<==\\x1fCr\\xc9Y\\xa4\\xda\\xdf\\xe9E\\xb2/\\xd2xjT\\xd6A#\\x1a\\x94y\\xb0\\x1cO;\\'\\xa8>IQ\\x15\\xd7t\\r\\xf2;\\x85\\xf9\\x19c\\xb6\\xb4\\xf4d\\n\\xe5r\\xea]*\\x94=Jr\\xe8\\xa0\\x9cK2Ek%\\xce\\xca\\x15\\xb9\\nC\\xed\\xe6]e\\xec\\xc1ub\\x1eE\\xaa\\xe9\\rhf\\xebY\\x8e\\xa2V\\xe4\\xa8\\x90d\\x81\\xe3xA\\xce\\xd1\\xf5\\xaa\\xabJm\\xa6\\xe8U\\x8a1\\xa5HT\\x8a\\x03\\xf9mBZ\\x91\\xdeL\\xcb\\xadQ\\xe7\\x03\\x9c\\xc5\\xd1\\x9dM\"\\xc5\\x84\\x949\\x19\\x94\\x18\\x8f\\xa4\\x9a\"\\x1c\\xb2\\x1f\\xb4b\\xaa\\xf6\\xe29w\\xd0r\\x96\\xc5;\\xdcX\\xa2)\\xaa\\xe5yRg)$\\xadfe\\x04I\\xb7\\r\\x8aG\\xe6\\x1e\\x0b\\xa2 ?\\x9f\\xaf\\xde\\x17\\xa7\\x11Y\\x8f\\xb9\\xa2J\\xcf\\x89JsgT\\xdaHq\\x02\\xfdO\\xbdR\\xc6O\\xd4q\\xf6\\xcc1\\x896\\xc7Hs\\xc5\\\\\\xa7:\\x82\\xe6\\x95f\\xccI\\xd4\\x89<\\x1b\\xf4t\\x1e\\xb5\\x82V\\x8e\\x8c\\xca\\xba\\xbeI\\xb6\\xe1$\\xcb\\x14\\xa1\\xd1\\xd99\\xfd\\x13WX\\xa8j\\xc7k+\\xfc\\x0c\\x04\\xcb\\x0c\\x8d\\x99\\xe4Us\\x89TY\\xe78\\x8ev+p\\x1d5g\\xae\\xa9\\xce\\xfa\\xb4\\xca\\xf9\\xea\\xbd\\x90\\x9cqSn\\xcb\\xd9?\\xfdm\\xccaM\\xa5\\xb1W\\xdb8z\\x0b\\x92\\x94\\xa1\\xaa\\xc7Y]\\xa9\\xa7\\x1cV\\x9d\\xab\\xe6\\xf4\"\\xfa\\x1c\\xe7H\\xb1\\x16\\xe7R\\xfc\\xc4\\xaeV\\xfe\\x8e\\xde\\xadA\\xcf>\\x90\\xe7\\xd0+\\x95\\x0c\\xaa\\x99\\xd3\\x13\\x88,\\x1f\\x9c\\x9f\\x19\\xe5\\xca\\x9dZ\\xabh/=\\x8d5\\xd5\\x84\\xf5\\xff3GZ\\xc5\\xa3\\xf0\\xae\\t\\xea\\x1d\\xd7\\xfd)o\\x97\\xce\\xa3\\xba4\\xd5d\\x1c\\x14\\t\\xe4\\xdd\\x96\\x82\\xdcV\\x93\\xc8\\xeb\\xad\\xd2\\xd5\\x9dE\\xaa\\x1b\\xd2\\x1a\\x80\\xda\\xc6\\xd0\\xee\\x13\\xcaR8\\x97\\xe5\\xbd\\xb7$\\xcd\\x14M\\xd3\\x11\\xfcV\\x11\\xce\\x18y\\x8e8\\xff\\x95\\xea#\\xf4\\xce\\x1b\\xcaB9\\x82\\xa1\\xfd*t\\x15i\\x94\\x1c\\x14\\xab*\\xb5\\x89l\\x1b\\xad\\x9cZ>\\xe3\\xe7\\xbd\\x05\\x91\\xf6\\x8eq\\x86N\\xed\\xe5\\xfa3E\\xdc\\x94\\xb1\\xd1\\xb3\\x15\\x1c\\xbdHk\\x9b\\\\\\x11V?\\xdd\\xae\\x13\\xd5~\\x95\\xbd\\x03E\\xf2f\\xf9^\\x14\\x1fJ5$u\\x06I\\x19\\xa3\\xa4O\\xf4\\xd6s\\xca\\x91y}K\\xab\\x1c\\xa3\\x8e\\x089?\\x95\\xf2,\\x83Hy\\x16[]\\xdeY\\xa3\\x11i_\\x1a\\xdb^\\xf5\\xef? y\\xa5\\xa3\\xc9\\x0b\\xd1Xp\\x1cN\\xd6\\x93\\x9e\\x16\\xa4\\xd1\\xe1\\xf8\\x8e\\xb4\\x8bVxxo\\x12I\\x0e\\xd9dI\\x1a(\\x0eV\\xd7\\xdfs\\xcb\\xb2d\\x16\\xb9b@\\x110\\xedg\\xa3=\\x03\\xea\\xa7\\xc6\\xd5\\xd6\\x9c\\xa3p\\x8e\\xd8\\xa9\\x07,\\xa9&eN\\xf9\\xf92\\xfa\\xce\\xa8\\x90V5\\xea\\xd4Sk\\xacn\\xf5\\xe8\\x92\\x15\\xe1=\\xa7\\x9c\\xc1\\xd1\\x0fI\\x0b\\xd7\\xfc\\xe8\\xbaTs$\\x1d1\\xab\\xb4U\\x92|I_\\r\\xb2U\"\\t\\xa5\\xdfHB>5\\xb7\\xc8\\xd9\\x9bVug\\xb6)\\xea\\xf8\\\\#RVFz/\\xe4\\xb8+K\\x12\\x1d\\xc1O\\x8f\\x92o\\x96r\\x15\\xca>\\xd4{\\x7f\\xd97\\xf0\\xf3:\\xec\\xb9\\xa4<\\x83<\\x14K-\\xf5\\x8bZ\\xa8W\\xdd\\x9d2sz\\x0e\\x94\\xb3=\\x9as\\xdaUEo\\xba\\xd4\\xca\\x12\\xc8oC\\xa4\\xb5+\\x9d,5\\xf4,\\xb5Q\\xe47\\x00QO\\xe9\\xfd|\\xf4>*\\xde\\x03A-b+b\\x90\\xff\\xef \\xdf\\xc9\\xa8\\xb2\\xa84\\xbb&\\x91\\x9e\\x8a\\xd3[\\xf7\\xb4P\\r\\x81l+UT\\x0c\\xff\\xd3_\\xd6)\\xadj\\x1c\\xc96\\x91\\xce\\x90\\xf5\\x14T6\\x98\\xea\\x05\\\\\\xdf\\x97l\\n\\xbdQ\\x91\\xb34\\xf5\\xfb\"-\\xc7\\x9bD\\xf2L\\x94\\xa3\\x92\\xd4\\x92o&\\x9d\\xe6\\x95)\\x8a\\xec\\xe9\\xbaj=\\xd1\\x89\\xbc\\x9e\\xc6U\\t\\xd2\\x06\\xf2\\xad\\xd2H\\xe7VdK]\\x15\\x92*\\x8d\\xd2\\xdf\\x1a\\xa5\\n\\xc3\\xd99\\xc5>\\xc6\\x1c\\xfd\\xa6\\xef\\xb4\"\\xd7-\\xd5UX\\x92w\\x83H\\xbf\\xb9\\'\\xa7vP\\xe4@rH\\xcf\\x7f\\x1bE\\xaeE\\xb3\\x14\\xd3S\\x95\\xf4\\x0c\\x0b\\xd5\\x98\\xb8\\x8a\\xab\\x9e]z\\x9b6}\\xcaq#e\\x10\\xa4/fQ\\xa3\\xea\\xa1\\xdaoq\\xdbx\\xe7\\xb4`=\\xc3\\xac\\xca\\x95(\\xa7\\xa4\\xca&\\xd5\\xa7\\xc8\\n\\x92Lk\\x94\\xb6q\\xfc\\xc0+\\xfd\\xea\\'E8+\\xb0hN\\x1e\\xc5~\\xd3\\xfeUzB\\x84\\xd6Zi\\x8d\\x95\\xebJFy,i\\x9ch\\x071\\x8d\\x8d\\x93\\xc86\\x9cj\\xdf\\\\\\xd9\\xb7|\\xe2,R4@R\\xa0\\x11\\xf9w\\xb6\\xd0s\\x9f\\xe4\\xf98\\xb3\\xa1\\xdc\\\\\\xbd\\x0e\\xcb\\xef\\x02$_\\xc7\\x96\\x90\\x9ei\\xe2}m\\x1c}\\xf3\\xb8SUK\\x1d\\x1d\\x92\\x8d\\xe6\\xe7:\\xc8\\xfb\\xf1z\\xa4\\x83(\\xa8z\\xcd\\xba!(\\xadVg_\\x14\\xbf\\xa8s-A\\xb1y\\xe45\\xa8&D;\\xb4x\\xfc\\xe8\\x1d\\x14\\x06E\\xafy\\x874E\\x13\\xd2\\x1a/e\\xa8$\\x87\\xea\\xd5b\\xf6D\\x92\\xbd\\x96j\\x0fd\\xcb\\x8c*\\x19\\xd7(\\x95/\\xaek\\xb0\\x0ej\\xad\\xf3@\\xbfSK\\xba.\\xeb-\\xd5!\\xa4k\\x91W\\xe3|\\x82\\xf2*\\xb6NT\\xd7\\xe5Y\\xa5\\xb5s\\xb6\\xdc\\\\ESg\\xb2\\xbc~b\\xfd\\xad>\\xd6\\xbd\\xee\\xfc\\xfbLh\\x1e\\xa8\\xe2\\xa0\\xced\\xa9zD\\xf5\\x9f\\\\\\x8av\\xd0QR\\\\Aoe\\xa68\\x82<2\\x8d\\x07=\\xb5B13\\xe5+\\xbc\\x0f\\xcc\\xa8\\xbc%\\xdd,_[\\xfa=\\x12\\xf4\\x06\\x0cA\\x19g^\\x8f\\xa4\\xfc\\x98\\xdf6\\xf0\\xbf\\x92Lo=\\x15T\\xad\\xa5\\xfdK4\\x82\\xea\\x1d\\x95\\xbc\\n,\\xe5lT\\x7fW\\xdbZ\\x9dj\\x8c96V\\xfb\\x1b\\xf6\\xf5\\x9c\\xc1S^\\xad~\\xcf\\xabA\\xf9\\x8c\\xf7\\xd0P~\\xc7\\x96\\x8a*T\\xeaU^\\xa9\\xe2#\\xe5\\x98\\xec\\x89\\xe8\\x9d\\\\\\x1c\\xc7jD~\\x0f\\xaf\\xde\\x9a\\x97\\xab\\xf3M):\\xe4\\xdcL]\\xd7\\xb0\\xfc\\xeb Rn+(\\xf7\\xa7\\xf54i}@\\xa7\\xdc\\x91|4ym\\xde\\xed\\x91SC\\x05\\xd5lH\\xb3\\xcb\\x99\\x0e\\xc5\\xeczY\\x17\\x0c\\xb2t\\xd1\\x1b\\x90\\x8c\\x8a\\xa7\\xe0=\\x944C\\x82\\xc8\\xcfVr+\\xd5\\xb1\\x1c\\xef{\\x12D\\x8e\\xfcuJ\\xef\\xd5o\\xb62\\x88\\x14\\x1d\\xe9\\x94\\x96\\xf3\\x9e9^\\xb3\\xa3\\xdf\\x95\\xc3o\\xfft\\x10\\xb9R\\xa0\\x8eP\\xa51\\xe3u:\\xf5Y\\x14{\\xa8W\\x04\\xa9=\\xec\\xc3\\xe9}\\xcb\\x1cQQ\\xcd\\x8f\\x9e\\x18%\\xe9%]\\xa3\\xe3y\\xad\\x8f\\x9e\\xdb\\xa1\\x1d\\x1b\\xf4\\xb47\\x8d\\x13\\xc7/z\\xe5|\\xcb7\\xf4\\xe6=\\xa9\\xef\\xfc&u\\xde\\xfdL{w\\xc9\\x96\\x90\\xa5\\x92\\xf6\\x19\\x98E\\xf5.Oj+\\xb5\\x93\\xab\\x06Z\\x91v_\\xd3\\xaeh\\xf6\\xc9\\xd2{\\xba\\xd8f\\n\\xb2l\\xa8-$U\\x15\\xf8\\xed\\xc4zY\\x92)\\xe2\\xe2\\xdd\\xd4T[\\xa2\\xd8\\xc3r\\xbcYT\\xff\\x1e\\x08\\xaa9p$\\xa8\\x97\\xf5\\xda\\xa8\\x1a7\\xbd\\x12sje\\t\\xa0]\\x1e\\x06\\x91vg\\x1b\\x94\\xd1c\\xbbG\\xf2Fq\\xb0 \\xf2\\x1b\\x99\\xd5OK\\xb1\\x0f\\xe3*\\xbd$\\x9b\\xd2\\xfc\\x18E~\\xdeU\\x1a}\\xcez\\xd87\\x91\\xc7\\xa3\\xf7\\xfaS%\\x81+?\\\\9\\x17\\x94\\x19\\xa4]\\t\\x14Q\\x93_\\xe6\\x9dyt\\x9d\\\\\\xca\\x88\\x1bTW\\xe3\\xcc\\x84V\\xe7\\xe8\\xc9!\\xda1\\xceY\\x18\\xc5\\xc8\\xec%$\\x1b \\xf9\\x7f\\xb2m\\xd2\\x1d\\xf8\\x8d\\x99\\\\A\\xd3\\x88\\xb4\"B\\x917k\\xbbY\\xd5f\\xb5v\\x90\\xccQ;x\\xb5Q\\xabh\\x08\\x7f\"\\xd5\\xc1\\xf9\\xf9\\xeb\\x9c\\xbb\\xd9\\xe9]\\xb8\\x96V;\\x8a\\xfc\\x86\\x07\\xad\\xd2\\x02\\xda\\x03hT\\xd9M\\xadHo\\xa4\\x91\\xb29\\xda\\xad\\xa0\\x93#<\\xbd\\xc8\\x99\\'\\xaf\\x8bh\\xe4\\xb9\\x94\\xc6\\xd9\\xa0T\\xdd\\xa5\\x08\\x91W\\xd0\\xb8\\x16JO>\\x90\\x1cQ\\r\\x96b\\x18\\xad2.:\\xa5]\\xa4\\x1f\\x82HO\\x7f\\x93\\x0cs4C1\\xaf`\\xfd}\\xa0\\x92N\\x9bD\\x9d\\xf2;\\xb0\\xf8\\xfd[\\xfc\\xd6\\x1a\\xe9w\\x1e\\xd0\\x1e\\xce\\x9c\\x11\\x83\\xa0\\x8c\\xb5\\x14\\x0bH\\xb6\\x88v2P\\x1d\\x9f\\xe2\\x00\\x92\\x12\\xf5SHT\\x15\\xe5\\xf7\\x84h\\xe4\\x91U\\xef\\x93\\xe3\\xbd\\x85ZE\\x07x\\xbc8\\xc6\\xe3()\\xe7\\xd3\\xe7\\xe4\\xc5\\xf8\\xe9y\\xf2Rz\\xe5\\x0c\\xaa\\x03P\\x0e\\xc3\\xabgd\\xdb4\"\\xbd\\xf9R\\'\\xf2oO\\xa3y\\xd0(\\xf3\\xcd-\\xe7\\xd5l\\xadH5@\\xae?\\x92o\\xa6j9\\xe7\\xc19W\\x94\\xc9\\x9fr\\x1e\\xcbQ7W\\xa34\\xb2\\xdcH\\x99*\\xfd\\xa6#\\xf5.v\\xa9\\xf5&\\x91}\\x96\\x83\\xe23)\\n\\xa1y\\xa0\\x9d\\xbd\\xd2[\\x15h\\'\\x12{p\\xe994\\xd2H\\xca\\x8d8\\xe7uT<=I\\x8aIT\\xbf\\xe3G\\xab\\xc8\\x03W\\xcd\\r\\xf2\\xaa\\x19\\xf5\\x8f\\xdf\\xed\"\\x8d\\x10}K\\xbaDUX\\xb3b\\x13y\\xfd\\x9e+O\\xa4\\t\\x1c\\xb7QDkRb\\x14\\xaa[kDzC\\x81^\\xd6\"ZOd\\xfb\\xa4\\x13\\xc9\\xe6\\x93\\x8eHmU\\xbf\\t\\x86\\xdeC\\xc9{\\x07\\x1d\\x95\\xf1\\xe29\\xd4\\x8a\\xe4\\xe3\\xa4\\x1d\\xa6l\\xd3hO\\x06Ea\\x92vR\\\\oV\"\\x1aA\\xd5&ZC\\xa0U\\x16Z{\\xe4\\xac\\x81\\xf6\\xd3\\xf0\\x1e^I{\\x9d\\x94\\xef\\xc9\\xbb\\x18U\\xfb\\n\\xc8zs\\x95\\x81\\x88\\xb3s\\x8aP8BV\\xc7\\xdf\\xbc\\xbb3\\xe7\\xee_\\xf2\\x90:\\xabM\\xe7\\x0c\\x89V:\\x04y<\\xa5\\xe7\\x02\\xc9\\x0fk\\x95\\xbf\\xc9Fs\\xe5\\x83b\\x8a\\xff\\xdd\\xcb\\x95\\xb3\\x12H;+ie\\x83\\xf4P\\x8a\\xd2(G\\xe1(E\\xfa=\\x95FY\\x9b\\xf8\\xfd <\\xf2\\xea}9\\xbc\\x06J\\x16^\\'Rf\\xa0\\x97g\\x95\\xdf A\\xb6\\xc2\"\\xb1\\xb9\\x14i\\xa4o\\xf8iY\\xb2\\xb1\\x14k\\x9aD\\x8e{i\\x0f2g\\xa7$\\x9blS8\\x87\\xd0(\\xe3%\\xad\\xcar\\xec\\xcb\\xb6\\x8cj\\x89\\xe4\\x0f(\\xc3Tg\\xcf\\xac\\x9f\\xb4/\\x8bW\\x92\\xa595(\\xb3\\xa5\\x17\\xa9.\\xc7ON\\x93\\x85\\xa4j\\x95\\xd4+\\xcb\\xb5\\xa8\\xe6\\xacQ4\\xcd$\\xb7\\x99j\\x8e\\x1c\\xf3\\xf0n.\\xc9Z\\xd2\\xd3\\x13z\\x91\"\\'\\xf6\\xf9\\x1c+\\xd1\\xee\\r\\xce\\xbd\\xd4\\x95I~w\\xb9Q\\xb1\\xaf\\xb4?\\x8c\\xb2n\\xfa\\xad4\\xd6v\\xc3\\xa3SFM1\\x02W\\x8b\\xe8w\\x92\\xd2\\xddH*\\r\\xca\\x8e)\\xad2\\xc2\\xec\\xf19\\x0f\\xe1\\x98\\x92\\xd7*\\xb5\"{r\\xd2\"z\\xd7\\xaaI\\x8e1\\xc9\\xc2j\\x94\\xder\\xa5\\x93\\xe4Vj\\x87T\\xfba\\xcbLo\\x0e\\xa4=\\xbd\\xd4+\\x8e6\\xd9B\\xab\\x9f\\xbe\\xd0\\x8b\\xe4\\x07s\\xe6m4v\\x9c\\xdb\\x91FHQ\\x03\\xcd\\x8aQ\\xe9\\xadF\\x8e\\xa9H_I\\x16\\xc9\\xd2\\x93N\\xf1o\\xfa\\xa01\\xe5LBZ\\xcd\\xd1\\xcb\\xde\\x88\\x9fY\\xd4\\x8a\\xea\\xdd\\x8dd\\xc1\\xf5J/\\xd4+4$\\xf7d\\x9dYN\\x9cT3\\xca\\x91\\x0b\\xfd>\\'\\x1a-z_\\x04g\\xa1\\x1c\\xcf\\xf1\\xb58\\x03\\xe0\\xa7\\xbb\\xd5?:eF\\xa5\\xb6J\\x11#\\xfbO\\xbdj\\xa6\\xe8\\x18\\xaa^\\xd1Z\\xaf\\xf4\\x7f\\x8e\\x05\\xa8*B\\xf5\\x00\\x8a\\xc9\\xc8.\\xd0\\xfb\\x8c\\xa4\\xf1\\xd0\\xa8F\\x82t\\x9e~\\xbf\\x8d\\xd5\\xc2\\r\\xe8bkcc\\x13\\x12\\xaa\\xed\\x11*x\\xc5h\\xe7\\x15r\\xd4>\\xb2\\x8f\\xd1\\xe6i\\xd4\"y\\xa2\\x10\\xa3=\\xb6c\\xee\\xc1\\xe2%c\\xb4M\\xf6\\xe5\\xbb\\xff\\xa1B\\x8c6\\xeb\\xd9\\xac\\x95\\x19b\\x8c\\xf6\\xbf\\xbd3\\x07\\x0cn\\x11\\xa35\\xee\\xd9\\xd2\\xf3L\\xcb\\x18\\xad\\xad)\\xbc\\x89s\\xeb\\x18m\\xcb\\x8d\\xfa\\xb5K\\xba\\xe2:\\x8e.\\xc5:w\\x8b\\xd1\\x8e\\x18\\x1ev\\xb4\\xd1\\xa4\\x18ap\\xc0\\xfd!\\xf5\"mb\\x84\\x0b\\xfb7Tt\\x8c\\x03x\\x14\\x99T`\\xda>\\xc0\\xad\\xb1\\xedwvL\\x01\\xacMN\\xf3\\xabx\\x01P\\xa8\\xe2\\x81\\xf4\\xd0k\\x80nE\\xdd>\\xdd\\xfc\\x03\\x10\\x8bi\\x96\\xe4u\\xb4\\x8d\\x116\\xbf-\\xf0\\xa1\\xb5\\x0f\\xe0\\xe0\\xaa\\x9e#c\\x1a\\x00\\xe2^W\\xde\\xdf\\xbb5\\xe0^\\xc6\\xe9\\xceg\\xda\\x02V\\xe5JzZ\\xaa\\x07\\xa0H\\xe8\\xa2o\\xf5\\'\\x01\\x9e\\x1c{q\\xee\\xd0\\x0c\\xc0\\x84B\\xcd\\xe3s\\xef\\x02\\x9c\\x9f\\x1f\\xeabL\\x05D\\xf8\\xc4\\x8d(\\xfd\\x0e\\xd0/\\xc4\\xb7\\xde\\xcd/\\x80\\x85s\\x16\\x9b\\x1a\\xe7\\xb5\\x8b\\x11J\\xbd\\xa96\\xd2\\xa9\\x10\\xe0\\x92\\xfb\\xad/\\x0fZ\\x00n\\xfd\\xec\\xf8\\xd4\\x7f\\x08\\xe0\\xfe\\xef\\x9f\\xbdw\\x8e\\x06T;;\\xbfP\\xf8\\x04@x\\x81\\x8a\\xbf6EY\\xe0\\xf2\\xcb\\x83\\xb5\\x17\\x03>\\xb7.u\\xa1\\xf8:@\\xb1\\xe8\\xc1\\x15\\xffn\\x02<\\x98\\x1c\\x95\\xd6}\\x0b\\xa0\\xc0c\\x8f\\x89\\xf9.\\x02^\\xda\\xd4v?e\\x81b\\x9a\\x82\\xee\\xab\\xdf\\x00\\xc2\\xfe\\x85u\\xad\\xe9h\\x1f#\\x9c^=\\xa8m\\x0bg\\xc0\\xef\\xf8\\xe4\\x9fW\\xf3\\x02BG\\x158\\x16\\x9c\\x1f\\xe0QpL\\xed&\\x1e\\x80&\\x9d\\xda\\xfeW\\xbd\\x16\\xe0{\\x93\\x07\\xd9},\\xe0\\xe5\\x19w\\xe2\\xbe/\\xa0\\xea\\x8a\\x933\\x96\\xb7\\x05\\x04\\xbd\\xfd\\xd473\\x040\\xd5\\xaeI\\xbaG4`\\xf4\\xad\\x9f\\tk\\x0f\\x03\\x1ef{\\x8b\\r\\x8f\\x01\\xcej\\x1b\\xfeyq\\nP8\\xa6\\xf8\\xe5\\x1ew\\x00\\xe9\\xef>VZ\\xfd\\x00\\xb0$\\xf6q\\x87{\\xaf\\x01\\xdbn\\x16H\\xb9\\xf6\\x160\\xdf\\xf7b\\xfeW\\xb6\\x0e1BRd\\x9f\\xca\\xfe\\x85\\x01\\xe9\\xe5\\xf7\\'\\x1d\\xf0\\x04\\xfc\\x1c]p\\xc0\\xf9\\xaa\\x80\\xb07\\xa3\\xfbLn\\x0b\\x88\\xbb4T8\\xd2\\x13\\xb0\\xda\\xbf\\xe2\\x8e\\xce\\xbd\\x00?\\\\\\x8b\\x8e_\\xd0\\x1bP^\\x97y\\xe8\\xf1@\\xc0\\x99\\x83\\xe7\\xa7\\xdd\\x19m9\\xc6\\x10u\\xbdC< \\xd3\\xae\\x81\\xde1\\x01\\xb0t\\xf3\\x91\\xf1{\\xf7\\x02&\\x17]=\\xfbF2\\xc0=\\xab\\xda\\xd7|\\'\\x00\\xadS\\'D\\xf48\\x03\\xe8]\\xebP\\xd5\\x12\\xef\\x00+n\\xfe9\\xd9\\xfe\\xbb\\xe5:\\xa3\\xb2#:\\xe7\\xd3\\xc4\\x08\\xed\\xa6\\xf5\\x9f\\xd2\\xa9\\x16 b\\\\\\xff\\xc35\\xbb\\x03\\xea/\\\\~\\xe1\\xde\\x00\\xc0\\xec\\x89\\xe5\\xdf\\'\\x0e\\x03t\\xb4\\x7fz\\xd1}\\x02\\xa0\\xd6\\x9d\\x99q\\x8d\\xd6\\x01\\xaex\\xb5\\\\\\xd6n=@\\xfc\\xd7\\xa4\\xc9\\x9e\\x1d\\x80\\xa0\\xdd\\xae\\xdf\\xfb\\x1d\\x05\\xe4\\xcb\\\\j\\xdb\\'\\x030bf\\x9e\\xa8\\x84;\\x80S=|\\xea&>\\x05\\xf4\\x1f\\xbd\\xe8\\xebe\\x0b\\\\\\xb6\\x1b$t\\xff\\x00\\xd8\\xa7\\xdf\\xe9\\x7f\\xeb\\x13 \\xaa\\xa1\\xe9\\xd4\\xb0/\\x80\\xc7\\xf3\\x1c\\x9bM2hc\\x84C\\xf9\\x07mlT\\x0f\\xf0ir\\xb5\\xa4\\xc8\\xfa\\x80>\\x89=~U\\xed\\x0e\\xa8\\xd4\\xee\\xc2\\xf0O\\x81\\x80\\x07\\xed+\\xf6\\xfe\\xbe\\x08\\xb0q\\xd3}m\\xfd8\\xc0\\x08\\xdd\\xed\\xd6\\x9fV\\x01\\xf2e%\\xae8\\xbe\\x16p\\xf5\\xcd\\xbcY\\xcf\\xd7\\x03\\xbey\\x16:\\x17|\\x08\\xd0\\xb4t\\x9eg\\xfaT\\x80\\xbb\\x97\\xdb_\\xed\\x1d\\xc0\\xae\\xa2\\xe5f?|\\x01X0\\xea\\xc88\\xedG\\xc0\\x9a\\xff67/\\xfe\\r\\x10\\xb0\\xfc\\xd1\\x83\\xb2\\xf5\\x04\\xcc\\xe0\\xcd\\xdc\\x99\\xe9M\\x00\\x1e\\xdb5\\xcd<Z\\x02\"\\x9d\\xca\\x0f\\x1b\\xda\\x15`<\\xf4\\xae\\xde\\xc6`@\\x8c\\xd6\\xcd\\xffh\\x08\\xe0\\xcc\\xcb\\xec\\x7f\\xe3\\xe6\\x03Fl\\xaf\\xa8\\x8d\\xde\\x078\\xbf65\\xee\\xfb!\\x80w\\xea\\xb3xM2\\xe0\\xf3q\\xcf_\\xb5\\x8f\\x02\\xde=\\xfc]\\xfd\\xea1\\x80\\xdewK\\xe7\\xd8\\xb3\\x80\\xe8\\xd0\\x81gB2\\x01;\\xf77y\\xda:\\x1b00\\xa1\\xcee\\xbf\\x97\\x80\\x88\\xa5\\xf9ww\\xfd\\x05x\\x95kP\\xd5\\xea\\xbf\\x01a+f\\x1d\\xd8\\x90W\\x17#$\\x9e\\r\\xe96\\xa4$ \\xc5fd\\xa9Ye\\x00\\x7f\\xdbo\\x7f\\xb5\\xaf\\xac\\xe5\\x93 \\xed\\xe7ou\\x01\\x15\\x9fNu\\xfb\\xdc\\x18 \\xf6\\x1c\\xd82\\xb1-\\xa0\\xca\\x92r3\\xeb\\xb6\\x07Tu\\xf4\\xf9\\x1a\\x18\\x02\\xf8\\x99\\xe7\\x9a\\xf3\\xd2\\xa1\\x807\\xeb\\x9c\\x1c{\\x8d\\x00\\x04v\\xda\\xffb\\xf8\\x0c\\xc0\\xb7B\\xbb\\xf2\\xc6.\\x03\\x14\\x9by 0)\\x1d\\xf0\\xbc\\xc6\\xac\\xd2C\\x9f\\x00\\x06\\xbf]qv\\xe5K\\xc0\\xe9\\xd6\\x8f\\x8f\\xfdx\\x0f\\xc8\\xfdV\\xff\\xe5\\xa1V\\x8f\\x0eV\\xbe\\xa1)\\x98\\x0bP\\xd2\\xb7\\xff\\xd8)\\xf9\\x00\\xa6\\xfa\\xa5\\xce\\xb5\\xf7\\x06t\\x0en\\xb5nU]\\xc0-M\\xf4\\x86\\\\\\r\\x01\\xdfF\\xba\\x1f\\xf7l\\x0b8u}\\xdd\\xa0\\x95\\x9d\\x00\\xf6\\xb5S^\\xd8u\\x06\\x94\\xc8\\xccs{F4\\xc0y\\xd4\\x06\\xf1\\xc7\\x02@w\\xbb\\x177>\\xad\\x06T/|!n\\xd1\\x16@\\x8bq!-On\\xd7[\\x0c\\xc8\\x82\\x0eQ\\xc7\\x01\\x9b\\xe7\\xdc\\xba\\x1e|\\x13p~G\\x996\\xa5\\x1f\\x03\\xae^\\xdf\\xd8\\xe0\\xeeo\\xc0\\xa6\\x8d\\xe1\\x8f\\xeb\\x944\\xe0\\x98\\xdew\\xaeo\\xaf\\x0c\\x08]\\xd7\\xf1[9?\\xc0\\xf2\\xa8\\xb3\\xf9\\x1e5\\x06$\\'d\\xdf4\\xb6\\x04\\\\M\\xec\\xf2\\xa9]\\x17@\\xa9\\x89.eV\\x0f\\x06\\xcc~\\xd3\\xb2\\xc4\\xe9\\x08\\xc0\\xaf\\xd3u\\n4\\x8b\\x06\\xac\\xc8\\xbdn\\xf1\\x07\\x0b$d^\\x1f\\xd5q\\x16\\xc0\\xdd\\xefq\\xe7\\x13\\x16x\\xb25\\xdf\\x9e\\xc6\\xab\\x01\\x153\\xceNi\\xb7\\x01\\x90Z\\xc8g\\xdd\\x87\\xc3\\x00m`\\xbbI=\\x8e\\x00\\xbc\\x92\\xc6\\xf5,s\\x11\\xb0 :\\xaa\\x8a\\xf1\\x12\\xa0\\xf7\\xdcU\\x1ew\\x1fZ\\xae|\\xb6\\xf1\\xa3~\\x8f\\x01\\x85\\xf3\\xac\\xacz\\xff\\x0f\\xe0V\\xfa<\\x83\\xbd\\x9b\\x11\\x82\\xd4\\xa9\\xd4\\xed\\x12\\x85\\x00\\xe5\\xeb\\x8bC\\x0c\\xd5\\x00/\\x07w.\\x7f\\xb6&\\xa0\\xca\\xef\\x1d\\xc3\\x9cE\\xc0\\x95\\xd4\\xc9>\\x9b\"\\x00{\\xd3\\x13W\\x1dN\\x02\\x8c{\\x1b\\xbc(\\xdf\\x11@#\\x1b\\xdf\\x80Fg\\x00?w\\x15\\xea\\x7f\\xf69\\xe0\\xf1\\x856\\xcd\\n\\xfc\\x05\\x9c^:1\\xb8\\xae\\x8d\\tn\\xc2;O\\xaf\\x9d\\x16\\xf0\\x9a\\xb7\\xa5IV\\x1e\\xc0\\xe5\\x07\\xc2\\xd3\\xf1\\xf9\\x00\\xa3\\xc2\\xa7\\xa6?.\\x02\\x88?\\xa9;T\\xa7\\x18 \\xb8V\\xfa\\xdc\\xb5\\xc5\\x01\\xdd\\x1aDD\\x0f\\xae\\x0c(:\\xe3\\xec\\x06/?\\xc0\\xc3\\xf8\\xad5\\xcb\\xf6\\x00\\x94s{2\\xc0\\xb6\\x17`\\xfc\\xdb[\\xb5\\xc6\\xf6\\x05T\\xf9\\xb7\\xb8\\xe2\\xcc\\xe1\\x80I\\xd9K\\x85n\\xa3\\x01.\\xa5\\x07\\xc6\\xce\\x89\\x05\\x94,W\\xb1g\\xe9\\x8d\\x80\\xbe;\\xff\\x9c\\xfav\\x01\\x90]\\xe5]\\xfb\\x8f\\x0f\\x01\\x0es\\xab\\xc4\\xcd\\xd4\\x99\\xa1\\x0e\\x9eK\\xc6\\xff,\\x08\\x88\\ro\\xff\\xd2\\\\\\x04`\\xfb\\xa3R\\xe3\\x16>\\x80\\xa4\\xbeE\\x7fl\\xb0\\xc0\\xd6\\t>\\xb5\\xfek\\x08(\\xb1ur\\xc0\\xf4V\\x80\\x91\\xf7\\xdd\\x97\\xdbt\\x00\\x88Qk\\xc2\\x02\\xbb\\x03\\xba^\\xdc\\x7f\\xbbJ\\x18\\xe0tT\\xf3\\n\\xb7\\x17\\x01\\xfe\\xee\\xbf7\\xc65\\x0e\\x90\\xcb\\xa7\\xf9\\xe39\\xc7\\x01\\xe9\\xb5KM[\\x7f\\x1f`\\x93\\xabX\\xfew\\x9f\\x01\\xe5rWMz\\xf1\\x05\\xb0d\\xee\\xc2\\x944\\xad#LS\\xd2\\xef\\xd9\\xbe:@\\xd1\\x8f\\x97\\x06k\\x9c\\x01E\\xec\\xbag7\\xcf\\x0b\\x98\\xe4\\xf2\\xf8\\xd1\\xa5B\\x807\\x9b}\\xf6\\xda\\xd4\\x02<\\xbf3\\xe8t\\xac/\\xe0\\xf4\\xb3\\xfd\\xa3S\\xeb\\x00\\xea\\x07\\xa6/o\\xd0\\x02\\xd0\\xa7\\xf1M\\x87\\xc9\\xe3\\x00+\\x8e\\xfe\\xeb\\xbb\\xc2\\x02M\\xa6=\\x8d?5\\x1fp\\xe0\\xf7\\xb2%\\x95\\xb6\\x00|\\x7f\\xac~\\x96\\x94\\x08\\x18|2\\xc5h\\xdc\\x03\\xf0\\xfb=p\\xcc\\xa1\\xf3\\x80\\xa7)3\\x16l\\xb8\\x0081\\xedgj\\xfc%\\xc0\\xec\\x1d?\\xda~\\xcc\\x00LX\\xb3\\xeb\\xf8\\xcf\\x07\\x80\\xc3\\x8d~\\xda\\x07=\\xb64\\xb5t\\xa3\\xa1\\xf3?\\x01\\xba\\xbcr+\\xd7\\xaf\\x94\\x13\\xcc\\xf2\\xb1\\xde%\\xeb\\x97\\x03\\x1cl\\xdd\\xb1B\\xaf\\xe6\\x80\\xcc\\x1bY\\xa6\\xab-\\x01\\xb3C\\xe7;]o\\x05\\xb8\\x96\\xb0\\xe5\\xd4\\xf7v\\x96c\\x16z\\x9c\\x18\\x1a\\x02\\xb0yX\\xb3\\xc3\\xf0!\\x80\\xc2\\xfd\\xab\\xe7yj\\x819\\xd9\\xad\\xb7\\xf8\\x8e\\x02tn\\xb2\\xcdcu\\x18\\xa0Z\\xc2\\xf0=)\\xb1\\x80\\x9f\\x8b\\xcd\\x9ee\\x96\\x02:\\xf6iw\\xb2\\xf8n\\xc0\\x98\\xe1\\x86%\\x87\\xf6\\x02\"\\x1e\\xe6\\xed\\xf7\\xf4\\x0c`Sp\\x89\\xb4\\x1aW\\x01C\\x87\\xa5\\xae\\xdcy\\x0fp/\\xd4~U\\xf8\\x13\\x80\\xf1\\xe3\\xed\\xb1\\x07\\xdf\\x02\\xfa\\\\\\x9f\\xb9\\xaf\\xd4/\\xc0\\xd2\\x19\\x85\\xb7~\\xb2u\\x86\\r\\xcf\\xe8-\\xf6\\xb1\\x03\\xd8\\x0eY\\xe5\\xe3n\\x02\\x1c}\\xbd3\\xa5\\x83# \\x97\\xe7\\xbc\\'\\xf1\\xa5\\x00\\x8d3\\x1b<\\x19\\xe0\\x07x9\\xe4\\xef\\xe1\\xd8a\\x00\\xfb1N\\xc9\\xbf\\xc7\\x02\\x1e\\x96\\x1ds~\\xc6x@\\xd8\\xf4nO\\x9fN\\x00\\\\\\xfc\\xe2\\xf1\\xa3\\xc4T@ec\\x8d\\xe7O\\xa6\\x01\\xb6$:\\x1d\\x1a=\\x07\\xb0\\xabJ\\x95\\x16e\\x96\\x01J\\xd6\\xf5x\\xb3t;\\xe0\\xf3\\xa1\\xcfG\\xf5)\\x80\"\\xee\\x86\\x11u\\xb2\\x00m^\\x8e\\x88\\xcdz\\x07\\x98\\xd1~\\xf0\\xb5\\xb3\\xdf\\x00\\xa9\\x99?O\\x1f\\xf9\\r\\xc8\\xaa2.\\xaf\\xd7\\x1f\\xc0\\xf5_;g\\xb9ir\\xc5\\x08\\'\\xeb6{9\"\\x0f\\xa0\\xc3\\x8e\\xc9\\xe1k+\\x03\\xb4a\\xed\\x12\\x1c\\xfc\\x00\\xc5{\\x9d\\xce\\xff\\xb8>\\xa0\\xd9\\xc8U\\xffMl\\x00X\\xdb\\xb0\\xd3\\xcb\\x1f\\xfe\\x80\\x98\\xef\\x1f\\x1b\\x87\\x8d\\x00d\\xf7u=\\xb4x$\\xe0\\x99!\\xe0\\xd3\\xd8\\t\\x80\\x96\\x17:\\x8d\\xdbf\\x81<\\x13W7\\xdb7\\t`\\x9f\\xe6\\xfb\\xc1f*\\xe0@\\xa9YE\\xbf.\\x06\\xd4\\x98\\xf0\\xe2O\\xdan\\xc0\\xd66e\\xdc\\xbf\\x1f\\x00\\x0c[\\xd9\\xe5\\xc1\\x9d#\\x80\\xe5C\\x86\\xc69\\x1e\\x03\\x0c\\x14\\x06nt>\\x0f\\x18\\xe1\\xaeyQ\\xe0*`T\\xf0\\xef\\xafc>\\x02JN/\\x9b\\x19\\xf5\\xcd\\xd2\\xf8_\\xed\\x96\\x8e\\xd0\\xe7\\x86\\x05\\x98ps\\xc4>\\x17@\\x9d\\x9a\\xad#\\xca\\x15\\x01\\xc4\\x1a#\\x9b\\x8e\\xac\\r\\x883G\\xb5J\\xae\\x07\\xa8\\xd5r\\xda\\x98\\x15\\xfe\\x80\\xaa_\\xae\\xff\\xf3\\xe9\\r\\xf8;O\\xf7\\xd9w\\x10\\xe0\\xb1M\\xcd\\xb4\\x0e\\x13\\x00\\x9b\\xc7\\xcd\\xcf\\x1a=\\x05\\xf0\\xf5X\\x87\\x8c\\xb7\\x0b\\x00\\xe3\\x0e\\x9f*\\xed\\xb9\\xc4r\\xcc\\x89\\xf8R\\xc5V\\x02.\\x96x\\xe2\\xd9c\\x1b\\xc04/\\xef\\x97\\xa5\\x89\\x80\\x19\\xbe\\xdeg\\xf2\\xa7\\x00j\\x8f\\xd8U\\xa4\\xf8\\x15@\\xb5\\xc2\\x8d\\xae\\\\\\xbe\\x03\\x18\\xffiv\\xc7\\xca\\x0f\\x01\\xf9\\xde\\xad\\xbf3\\xf61`\\xfa\\xd4\\xf3\\xcb<>\\x00\\xba<\\xf3\\xdc\\\\\\xc9&O\\x8c\\xf0\\xba\\xed\\xe1\\xd7\\xdb\\\\\\x00?\\xec\\xcb\\x06N\\xf0\\x06\\xecZ\\x7f\\xc9\\xfb\\xa8?\\xc0\\xa5W\\xd5\\xb4\\xdc\\x8d\\x00W\\xbc\\xb7_i4\\x18\\xe0h\\x9f:{\\xc80\\xc0\\xe4\\xcf\\xd3\\x07\\x99G\\x00\\x86\\xdf\\xd1\\xf6q\\x19\\t\\xd0\\xec\\xd9Pd\\xe6<\\xc0\\xd7\\x8bw\\xca\\x99wX\\xae\\x1c\\xe9\\xd3o\\xf8!\\xc0\\xc8\\x16Y\\x93\\x07\\x9e\\x048\\x99\\xef\\rJ\\xbc\\x00(\\x9f\\xfcy\\xee\\xd4\\x0c\\xc0E\\xfdM\\xcf\\xd7Y\\x80\\xd4\\x8ab\\xdb\\xa1\\xd9\\x80G\\x17\\x9c\\xb2\\x8e\\xbf\\x02\\xe4+wI\\xf3\\xc5&/&\\xee\\xed\\xf0\\xa5S\\n\\x03\\x8a\\x85\\xbf\\x98\\xdb\\xc0\\x07\\xf0r\\xeb\\xbc\\x15\\xa5\\xeb\\x02\\x96\\x84m[]\\xbe9 ~\\xd6\\xc9%\\xa7\\xfa\\x03N\\r\\x08{y,\\x14PeM\\xf3\\xe2\\xb5\\xa7\\x00rO\\xb8\\xd8=f)\\xe0S\\xb3\\x8e\\x8d\\xff\\xc6\\x03\\x9c\\xfe\\xbdz\\x93k\\x03@\\xb7\\xb2z\\xf2\\xd4\\x1d\\x80\\x8d\\xf7?\\xbf\\xff\\xb7\\x0f\\xe0}\\xdb\\xed\\xde\\xcaS\\x80U\\r\\x07\\xb5.}\\x1ePu\\xf5\\xdc\\xf6]\\x1f\\x00\\xea\\x0c>\\xd3\\xcd\\xee+\\xc0c~M\\xcd\\xf5\\x1f\\x80\\xa7\\x15:\\x9d\\xba\\xf2\\x13P\\xf1R\\xc4\\xc0Wv\\xf9\\xa0h\\xc7\\x0b\\xcd\\xb17\\x00~\\xde7\\xcfmn\\x06\\xd8\\xdc\\xaffg\\xe3\\x0c\\xb8\\xbb\\xcc\\xb1\\xce\\xe7\\x92\\x80\\xd42\\xd5\\x16\\x0c\\xf3\\x04l\\xab~\\xbcWU\\x7f@x\\xde*\\xe7\\xc3\\x1a\\x01\\x0cm\\x17w>\\xd8\\x0cp\\xe9y\\x9d\\x05\\xb9\\xbb\\x03\\xceE\\x7f\\xb4_\\xdf\\x17p@\\xef\\xd7\\xe8G?\\xc0\\xb4\\x04C\\xfb\\t#\\x01\\xee\\xa3\\xc7\\xbd=9\\x11\\xd0\\xeef\\xf4\\\\\\xafY\\x80&\\x83\\x8a\\'\\xffY\\x05p\\tu\\xed\\x91\\x9e\\x0c(\\xf9\\xda\\xe9\\xf3\\xe0\\x0b\\x80\\xcb\\x17z,\\xfe{\\x130\\xb5\\xe0\\xb4U}\\xb3\\x01\\x1d\\x16\\xd4\\xd4,{\\x048ZW\\xa7\\xfdb\\x81\\x1a?\\xddmw\\xfe\\x01\\x8c?t\\xa9\\xd1~;\\x97\\x18\\xa1a\\xd9/~%\\xf5\\x80\\x1b\\xfb\\xef\\xed\\xfc\\x97\\x1b \\xb6\\x98\\x1c\\xe7R\\x00\\xd0\\xed\\xf9\\x9e\\xee\\xc1^\\x80\\x98M\\xbf\\xb2C\\xaa\\x03\\xca<\\xbcn\\xec\\xd1\\x04\\xb0\\xd4\\xd3fI\\x8d\\x96\\x80\\xf3]\\xf7n\\xd1D\\x00&\\x04_8\\x7fq9\\xa0\\xc3\\xc1>\\x1a\\x9b\\xd5\\x80\\x9ey\\x17\\xad\\xbc\\xbd\\r\\x10v\\xe9\\xae\\xd3\\xddC\\x80\\xaf\\xd5\\x13Rs_\\xb0\\xdc\\xeb\\xc9\\xdb.\\x01\\xef,\\x07\\xdb\\x96=\\xb5\\xe9\\x03`\\xe5\\xe4\\xd1\\xba\\xef\\xff\\x00\\x97W\\xad\\xdc\\x96\\xad\\xcd\\x1f#\\xcc{`Hm\\xae\\x03\\x8c\\x9c{\\xd5\\xab\\x95\\x01\\xd0h\\xf8\\xd8\\x1f\\x97\\\\\\x00yk\\xd6qp\\xf3\\x02\\xec\\xfb\\xb6\\xe4\\xc8\\xd6\\xca\\x80\\xf3v-\\xe66\\x9b\\x0c\\xf0q1\\xf6(1\\x15\\xb0}\\xf8\\xa5\\xe8_\\xd3\\x00\\x13\\xf6\\x8ep/\\x19\\x05(37\\xe0X\\xd0L@\\xc7\\x8d\\x05t\\xe3\\x0f\\x00:\\xfc\\x12g\\xa7\\x9f\\xb0\\\\\\xd0\\xf9K\\xe9co\\x00[\\x1b\\\\\\xbe}\\xfc\\x1d \\xe6\\x9e\\xff\\xd3+\\x7f\\x00\\xa3\\x7f\\xec\\x18m\\xaf+\\x80\\xd4,z\\xb8\\xdfyG\\x80{\\xb3\\xec\\xcaB~@\\xa3\\xe8\\xbf\\xfd\\x16\\x14\\x07\\x8c\\x14\\xe6\\xaf.\\xee\\r\\x88\\xae?\\xd13\\xa22\\xa0\\xd7\\xa5\\xcdQ\\xf7\\xaa\\x01v\\x0f\\xf3\\xab\\xba\\xae\\x05\\xe0\\xf2\\xac}n=\\x02\\x00\\r\\xfa\\xff}\\xb4\\xa7\\'\\xa0Z\\xc9\\x19o\\xf7\\x07\\x02\\xb6\\x9a\\x1a\\xce\\t\\x1b\\\\\\xc0br\\x13&\\xee\\x9f\\x00\\x18~\\xfc\\xe5\\x8d\\xff\\xa6\\x03\\x82VnY\\xbdc\\x1e\\xe0\\x9c\\xed\\xf3 \\x8f\\xe5\\x80\\x1e\\xa6\\xdf\\xe5\\x12\\x12\\x00\\x19\\xb3\\xde\\xbcj\\xb0\\x01\\xb0 \\xc1e\\xd2\\xa8\\xed\\x80\\xfd\\xa9\\x03#\\x86\\x1f\\xb54u\\xf8\\xa4\\xd7\\xa3\\xce\\x02nv:waa:\\xe0\\xb0!.<\\xf7-\\x80\\xcd\\xb3/\\xe5KZ\\xa0\\xeb\\xb9\\x17}g\\xdc\\x01\\xdc\\xad\\x13\\xb74\\xe4\\t\\xe0A@\\xe1%s\\x05\\xd7\\x18aP\\xa3\\xeb#]\\x1c\\x01\\'\\xba\\xba\\xdbf\\xe5\\x07\\xd4\\x1f\\xedz\\xa3]UW\\x8b@>=\\xd2\\xbc6 p\\xf4\\x92\\xcaS;\\x03\\x06\\x98\\x9a\\x9a\\xdd\\xbb\\x036\\r\\xcf\\xd3\\xc1\\xa9\\x17 \\xb2\\xdb\\xd9\\x8eu\\x87\\x01\\xca>\\xed}\\xaa\\xdbt\\x80\\xee\\xd5\\x93\\xbc\\x85w\\x01z\\xc7\\xd7\\xb3_w\\xda\\xd5\"c\\xee\\xdd\\x97^\\x05,\\xac\\xe5\\xbe0\\xc9X\\x10)\\xde]\\xbbf\\xb3M\\x00\\x83\\x7f\\xc2\\xe0of\\xc0\\x89K;\\xf2\\xbf*\\x08H\\x8e\\xcf5o\\x8d\\x1b\\xc0\\xadA\\xc6\\xe1\\xf4Z\\x80j\\x0f\\xd7\\xf8~\\xf5\\x07\\x0cw\\xfcts\\\\\\x07@ZP\\xd9q.\\x81\\x80\\x96\\x95\\x9c6\\x0e\\x1b\\x01\\x98\\xd7mb\\xd2\\x9c9\\x80\\x93o\\n\\xadi\\xb8\\x0e0(=\\xf3\\x9d\\xc3z\\xc0\\xd0\\xcb\\x85\\xfc\\xfc\\xb7\\x02v\\x95Y\\xfe\\xb3\\xed\\x0e\\xc0\\xe39)ww\\x9d\\x07\\x1c~\\x1a_S\\xff\\x04\\xf0,m\\xe2\\xbc\\xfb\\xaf\\x00\\xd3\\x02j\\xd8\\x9f\\xfe\\x04\\xf0\\xc8~\\xd2\\xb8\\xf9\\x17\\xc0\\x8a\\xf6\\xc7\\xdaL\\xf8\\tH_\\xd1\\xba\\xea\\xe5\\xdf\\x00\\x87a\\xbf\\x13\\xbd\\xfe\\x00b\\x02Z\\xb6m\\x96\\xdf\\r#\\x7f~\\xcf\\x15\\xa11`\\x8a\\xfe\\xf9\\xfe[-\\x01\\x8bO6\\x0fZ\\xd8\\x1e\\xd0&\\x8f\\xad\\xa7\\xb9\\x0b`\\xc4\\r\\x8f\\x99{z\\x00~\\x16Y2y_?@\\xc9\\xeb\\x0f\\xba\\xaf\\x0c\\x02D\\xd5\\x1f\\x9bw\\xc40@\\xdd\\x0f\\xfb\\xb3\\x9c\\xc6\\x01\\x8a?\\xabq\\xf7\\xfe\\x0c@\\xa1\"\\x9df^]\\x00xt\\xb5L\\xd2\\xb3\\xcd\\x80{\\xb5n\\xd4>\\xbc\\x17P\\xb1j\\xd9A;\\xce\\x00\\xda\\xe6j\\xd0\\xdf\\xe16\\xa0_\\xc6\\xa4\\xba!\\xf7\\x01~\\xb9?.\\xa8\\xf6\\x1a\\xe0\\xdaei\\xb4\\xe1\\x03`e\\xd2\\xdd\\x7fi?\\x00\\xee/\\xe6\\x0f\\xdd\\x9d\\xa7\\x10\\xe2\\x84vEf^u\\x05\\xbc\\x89w\\xacV\\xbb\\x08``\\xca9[\\x9b\\xda\\x00\\xe3s\\x87_\\xa7|\\x01n\\xb6\\xba\\xd3y\\x1a\\x02\\xb6\\x8f\\xf5^\\xb4\\xab\\x13\\xa0\\xea\\xa2\\xe1\\xfa\\xdc=\\x00+\\x82\\x03\\xe6\\xac\\x0b\\x07d\\xf4\\x9a\\xbc~\\xf4$\\xc0\\xce\\n\\xfb\\x96\\xb6\\x9d\\x0c\\xb8\\xe6\\xde\\xaf\\xc1\\x9b\\xd9\\x80\\xe1)\\xef\\x0e\\x14\\x98\\x078\\xea\\x9e~\\xe9\\xd7f@\\xc4\\x99\\xad\\xa9\\xb3\\xf7\\x02\\xc2+:\\xe8\\xcc\\x87\\x01.\\x8bV\\xb4\\xcc<\\x06H\\xedU:\\xf7\\xcew\\x80\\xb3\\x93\\x9b\\xd9\\xae\\xfb\\x02H\\x9e\\xb5\\xdcp\\xb4\\x98;\\x1c\\xc7\\x87i{\\xb2,\\x10>\\xec\\xcf\\xaf\\xbd\\x15\\x00\\xb3\\x96\\xce<\\xbf\\xaf\\x16`\\xb2[\\xe4\\x95\\xd8:\\x80\\\\\\xd7\\x8e/i\\x13\\xe2n\\x89r+}\\xaa\\x19\\x0b\\xf8\\xb4\\xa7F\\xe5\\xc6\\xab\\x01\\x87\\x92\\x8b\\xf4\\xaf\\x9a\\x00\\xb86\\xd9u}\\x99\\xed\\x80\\xcc\\xa6\\xf3\\xceyd\\x00\\xce7\\xec\\xb6\\xd8\\xf5\\x01\\xe0[\\xfe\\xc4|y>\\x00Z?\\xcf\\xba\\xf8\\xc4\\xad0\\xb4[hq\\xed\\x8d\\x05\\xa6~8\\xfb<\\xa5\\x10 f\\xd6\\xb3\\xc0\\xda\\xc5\\x00\\x0f\\xdfe\\xb8/)\\t\\xb8+\\xba\\x0b{\\xaa\\x03\\xbetY\\xf0\\xa8z\\x07@\\xcb\\xa8(c|o\\x80\\xfeq\\xb9\\xc1\\xe7\\xfa\\x00\\x06\\xdcq\\xee\\xb2\\xa6/`\\xba\\xef\\xde\\xd0b\\xd1\\x80\\x1e\\x17\\x03Gm\\x9b\\t\\xe8\\xe2\\x14\\x92Zb\\x16\\xa0b\\xca\\xde\\x88\\xe2[\\x00\\xd7\\x1a\\xfcN\\x8b>\\t0o{\\xa0\\xeb\\x90\\t\\xe8\\xe72\\xff}\\x89\\x07\\x80\\x17\\xd3N\\x15\\xeb\\xff\\x1e0vo\\xed=\\xfe\\xceE\\xe0\\xbb\\xf7&w\\xaa\\xe3\\x07\\x08\\xca{{\\x86\\xc9\\x1f\\xe0\\xae\\xaf\\x9e\\xcb\\xd5\\x02\\t\\t\\xf9\\xea,\\xeb\\x04\\x98y\\xdd}\\xcc\\xe9\\x1e\\x80\\xc0\\x90|\\x9d\\xe6\\xf4\\x04\\xe4\\xbdy7%\\xbe/\\xe0U\\x87I}\\x03\\xc3\\x01C2b=\\xb2\\'\\x01\\x8e\\xed+h\\xd3l&\\xe0\\xc5\\x84\\x0e\\xef\\xdb&\\x03\\x8e\\x96\\xfe\\x16\\\\\\xf6\\x9a\\xe5\\xe0c\\x91\\xd7k\\\\\\x07L]2\\xeej\\xf2\\x03@\\xad\\xed\\x81.\\xb6\\xfa\\xa2\\xe8E\\xbe\\xa8\\xfa\\x1ey\\x00\\x8d\\xfb\\x0e^g,\\x04H(\\xe8\\xd9\\xd0T\\x04\\xf0\\xb8\\xe8\\r;\\xbb\\xda\\x80\\x95\\x17\\x97\\xf8wj\\x00\\x98]u\\xd4\\xc7\\x91\\x8d\\x00}\\xf7\\xd5_\\x16\\xdc\\x18p\\xb0\\xaf1vD\\x00`\\xe8\\xad\\xbb\\x1f\\xe7\\x0e\\x05L\\x1e\\xf7\\xef\\xf9\\xfb\\xad\\x00\\xd3#\\x8f\\xe3\\xf6{\\x00\\xc3\\xc2[\\xfa8\\x9f\\x07\\x84\\xec\\x1aS\\xb3\\xc8{\\xc0\\xa4\\xb3\\x8f\\xdc\\xdc\\xec\\x8bA\\xe3\\x8c\\xe5}6\\x17\\x07L\\xd0\\x1ck\\xa2\\xaf\\x0f\\xd8u\\xe2~\\xcb\\x0b\\x9d\\x01\\x9bs\\xdb5\\x18\\xdb\\x05P&aR\\xed\\\\\\xbd\\x00\\xd5\\xc5\\xee?:\\x07\\x01\\xec\\xf4\\x05vl\\xb1@\\xee\\xc0\\xf9\\xee\\xd9c\\x00\\xc7}\\x1b\\x15\\xfb\\x1e\\rH\\x8b\\xf0\\x8d\\xab1\\x1bp\\xe4\\xf8\\xc2#\\xb1+\\x00\\xb3nNZ\\xef\\x9d\\x0c\\x98\\xdb\\xc7\\x98U>\\rPx\\xcc\\x8d\\xf5N\\'\\x00\\xcb\\xc23\\xca\\x9f\\xcd\\x04\\xe4:<\\xbb\\xc5\\xdb+\\x80\\xdb\\x1d\\x03C\\xbb\\xdf\\x04\\x14\\r\\xfb\\xda?\\xed)\\xe0t\\xb7\\x7f\\x8e\\x86\\x17\\x80\\r\\xc3j\\xee\\xab\\xf4\\n0\\xbcN\\xd6\\xfeIo\\x00\\x03\\xa67\\xd8\\x9f(\\x14\\x8f\\x11\\xce\\xd4]S\\xbc\\x92\\x13\\xe0N\\x8b\\xfc\\xda\\xe7\\xb9\\x00\\x1f\\x85C\\xbd\\xe2\\\\\\x006e*]\\x0c\\xf2\\x04h\\xbc\\xcb\\xfcXd\\x81\\xb5M>/\\xbd[\\x1e\\xe0\\xe2z\\xc5\\xfdUu@\\xda\\xe7\"\\xdb6\\xf9\\x02\\xec\\xbd\\xf7\\xd6\\tk\\x04\\xf8\\xf0\\xd6\\\\\\xb0Lk@l\\xcd_/\\x8au\\x00\\xf8u(5\\xb9|7@\\x81\\xd2W\\xbf\\xaf\\xee\\x058\\xd9\\xf2\\xc8\\xe1\\xb0 @\\xfa\\xc8\\xc1\\xf7\\xf7\\r\\x06\\x84<XQ2f\\x18\\xa0\\xd8\\xd1\\xe8\\xc8\\xf1c\\x00\\xdd\\'<\\xaaZ4\\x0eP\\xfeo\\x9fn\\xed\\xe2\\x01\\xeb\\x86\\xad\\xbb\\xb6\\xf9\\x88\\xe5\\xf4#W^\\x85_\\x00\\x0c\\xf6\\x99\\xd5\\xedQ\\x91\\x12\\x08\\xd5\\x9a|\\xa9W=\\x10pp\\x97\\xdf\\xc9\\xba\\x1683oy\\xf4\\x93!\\x80\\xc5\\x1e\\x83\\xbb\\xf5X\\x0c8Rz\\xf0\\xd8Uk\\x00\\xaf\\x8a\\xd7\\xb1\\xb9q\\x15\\x90\\xb6\\xdc\\xe3y\\x9a\\xa1$\\xe6\\xfd\\xc7\\xae\\xca\\xeey\\x00%\\',\\xfa4\\xa2,\\xe0\\xc0\\xeb\\xf2\\xc9\\x1b\\xda\\x01bV.9\\xfe\\xa1=`Jz\\xf9\\xdb+{\\x02f\\xa4\\xdd2\\xac\\xeb\\x05X\\xb8\\xed_\\xfa\\xd8\\xfe\\x80}\\xa6\\xbc;\\xcb\\r\\x06\\xd8w\\x88\\xed\\x9b<\\x12PhC\\xd1=\\xa7\\'\\x02\\xe6\\xc58\\xe7\\xf1\\x89\\x04|\\xa8\\xdf<\\xf2\\xc0V\\xc0\\xb5u\\xd5\\xbb5L\\x04\\x14\\x19\\x99]\\xf3\\xd5^@\\xedG\\xb7o\\xee?\\n\\xc8\\xd8S\\xa9K\\xc9\\x0c\\xc0\\xe21\\x95zO\\xcb\\x02\\xfc\\xf8\\x9a\\xbc4\\xfc\\x1e\\xc0\\xbb\\xc9\\xc7\\x08\\xe3#\\xc0\\x88\\x83v\\x87\\x9a=\\x01D\\x18J\\xe6\\xaf\\xfc\\x12\\x10\\xdd\\xf5a\\xa3\\x02o\\x00\\x15\\xbf\\xcd\\xdf\\\\\\xcc\\xd6\\x03\\x02\\xd0\\xb4YX\\x05\\x1d\\xe0\\xd6\\xa9\\x8a\\xef3\\xdd\\x00\\x89\\xeb\\xae\\xeek[\\x04pnS\\xd3%\\x8b\\x1a\\x02\\xbc>\\x1f\\xc8;\\xa1\\x13 !\\xed`\\x9fB\\x01\\x96\\xb32\\xc7\\xb7\\xdf\\xd1\\x15\\xe0\\xb4\\x7fN\\x93\\x9e\\xc3\\x01CO}\\x19s!\\x06\\xf0\\xa4\\xe9\\xb0\\x94\\xb23\\x01\\xb1\\xef\\xbb\\xf8\\x8c\\x99\\x05(Y\\xfc\\xf4\\xb5\\xd89\\x80oNy\\x12\\xbf&[\\x0e>Q7\\xa9M\\xa6\\xe5\\xe0+v\\xed\\x8e]\\x06\\xf8\\x99\\xfe.\\xbd\\xf4\\t\\x90\\xf9\\xeck\\x89\\xba\\x95<a\\xb5\\xee<M\\xf7\\xe9\\x03\\x18qe\\xcf\\x8eg\\x16x\\xbfcV\\xd3\\xe5A\\x80\\xc7\\x91\\x99o6\\x86Y\\xbez\\xf1\\xa2Z\\xee\\x05\\x9e\\x16\\x85\\r\\xf3\\tY\\x08\\xc8\\xe8\\xbb\\xfa\\xec\\xa8%\\x80\\xca\\xed.\\x19\\xa6\\xac\\x06\\x14O\\x1c~a\\xc3:\\xc0\\xbeZ\\xe7f~\\xd9\\x08\\x98r\\'\\xa5\\x9e\\xeb!\\x80wC\\x9f\\xec\\xa9g\\x01\\xaf\\x9a\\xe8\\xab,y\\n\\x08\\xf8\\xb5\\xd9\\xae\\xdds\\xc0\\x8fl\\xa7\\xfe_^\\x03\\x1e\\x948\\x99V\\xe0;\\xa0uRr\\xe4\\x0eC)\\x08R\\xca\\xa4/\\xcfM\\x80\\xc0\\xc7\\x97\\\\s\\x97\\x01\\xe4/\\xb1\\xe7\\xfb\\xaa\\x1a\\x80c\\'\\xdax6\\xac\\rH\\xb1\\xcb\\x08\\x1c\\xd8\\x06\\xa0\\xd9\\xfa\\xbd\\xd0\\xf9\\xbe\\x80\\xc2]\\xb7n\\x8d\\x1f\\n8\\x99\\xe7e\\xc3\\xc2\\x13\\x006#\\x8a\\xae\\xb4\\x8d\\x07\\xcc\\xde\\xd7\\xe2\\xb8K\\x02\\xa0\\xe3\\xca\\xb1\\xe7^m\\x04t\\xed\\xd5\\xa1\\xf2\\xa8\\xe3\\x80\\xf3\\xdb\\xcd\\x1f\\xcf\\x9f\\x04\\xb8_\\xd9\\xf8\\xe8\\xd6}@\\xd3\\xa8s\\x9d\\xde\\xbd\\x03l\\xda\\xf09\\xa0\\x81\\xc9\\x0b\\x0e\\xa8\\xab\\xdb\\xb6\\x92\\xf9\\x01on\\xa5\\xf6\\xbf\\xe2\\x0e\\xc8\\xdf0>\\xeb\\x89\\x1f`\\xe0\\xc8\\x88\\xd5\\xd7;\\x01^\\xb4\\x0e=\\xf2\\xa7\\x1b n\\xeb\\x9e\\x8d\\x7f\\xbb\\x03N\\xe5)\\x98|\\xaf?\\xc0Q\\xdb;_\\x97\\t\\x80\\x01gs\\x95\\xfb\\xbb\\x02P\\xa9\\xcey\\xe77\\x1b\\x01\\x13M\\x0e\\x07\\xf2\\x1f\\x06<\\xf3\\xee0ty:\\xa0\\xb8\\xdf\\xe3\\xba\\xe52\\x01\\xedN\\x06g\\x05\\xdc\\x04\\x9c\\x19=\\xaf\\xeb\\xdf7\\x80\\xdf\\xfe\\x87\\x8e\\xb4|\\x0f0\\\\\\xbe\\xee\\xa3+P\\x1a^xw\\xe8\\xe5\\xce\\x16\\xa8\\x9fU|\\xac\\x8b/\\xc0g\\xbb\\xf7\\x84;\\xfe\\x80\\xc4(\\xfb\\x81\\xa3\\x9a\\x03\\x16\\x95hn\\xf3\\xab\\x17`X\\xdc\\xcaI\\x86\\x19\\x80\\x05\\xef\\x0e\\\\*d\\x81\\x16%+\\xee{\\x1c\\x03\\xd0Evh{z\\x11\\xc0ce\\x9df\\xcb\\x96\\x01\\xf6\\x96II\\xdc\\xba\\x120\\xf8\\xd9\\xf5=-\\xd6\\x01.7(\\x94\\xab@\\n\\xa0\\xd1\\xb2I\\xb5\\x9d\\x8e\\x02\\x06%\\x9e\\xdf\\xd2\\xec6\\xc0\\xcdgMM_\\x8d7\\xb2l\\xfd\\xd1g\\xaf\\x8d\\x80\\xeaK\\xd2\\x93G\\xe6\\x05\\xd4\\r\\x8c\\xf4\\xbfV\\x1cP\\xce\\xe5\\xa3\\xb0\\xcb\\x17p\\xf7\\xec/\\x8f)M\\x00n\\xa5\\x1f\\xb7\\x1e\\xd7\\x11\\xd0\\xb9\\x8a\\xee\\xe1\\x8d\\xce\\x00g\\xdb\\x0b3\\xfc\\xfa\\x032\\xcf\\xbc,\\x16\\x1e\\nhSdB\\xbfSc\\x007\\x9c\\xcaN\\xf5\\x99\\r\\xf8\\x1d9c\\xc5\\xcc\\xb3\\x96\\xebt]\\xfc\\xf5X\\x06 Lx_\\xec\\xd4_oKn\\x9eTe\\xdc?K3:|H\\xee*\\x94\\x81\\x85<]\\xcds\\x8b\\x1b $\\xadw\\xd3l\\x0f\\x80w\\x9d\\xc4\\x88\\x11e\\x00)\\x0fno=\\\\\\x11Ph\\xf9\\x83\\x8e\\xfb}\\x01\\x1b/\\xb6[\\xaa\\x0b\\x04\\xcciu\\xc0\\xa6Q\\x10`TT\\xeb\\xaa!\\xa3\\x00\\xbf\\x97\\x96sh3\\x0e\\xa0\\xbd3\\xf3\\xf7\\xa3)\\x00\\xc7\\x03E\\xbc\\xda.\\x05\\xb4~\\x14o\\xbbh7`\\xdf*\\xa1\\xf8\\xecS\\x80\\x9bQ\\xaeW/\\x9f\\x06\\xcc\\x0e\\xaf\\xef\\x15r\\x06\\xf0\\xeb\\xd7\\x8d\\xd7\\x8b\\xae\\x00\\xcaG\\x0ex7\\xeb\\x1f\\xe0\\xcb\\xb36\\xd9\\xdb5ec\\x84\\xab\\xf3;\\xbb=-\\x00\\x18\\xe7\\xbcw`\\x8c+ \\xb1\\xf8\\x80\\x80Y\\xee\\x80\\xdd\\xbf\\x12\\xbe\\xe4)\\x0f\\xa8\\xb0\\xe3o\\r\\xe7*\\x80\\xf6kZ~zR\\rP\\xa5r\\x83C5f\\x00\\xde\\xff\\xfc4/\\xf7:\\xc0\\x17\\x97\\x03\\xba\\xf4-\\x80\\x88#\\x7f\\xb7D\\x1f\\x01\\x14\\xd84p\\xd7\\x84\\xcb\\x80\\xfe\\x1eKV\\xaf\\xcc\\x06\\x84\\xb7\\x1b\\x905\\xe6-`\\xe8\\xcf\\xe2O\\xab\\xbd\\x03\\x84\\xc4\\xfc\\xf7\\xc4\\xcdT\\x0e\\xea\\xf9\\xc0)#;?\\xa0\\xfe\\xc6\\xbf7N\\xd4\\x07\\xdcO\\xdb1k\\\\\\x0f\\xc0\\xa6=\\xcf\\xebV\\r*g\\xc94k\\xea\\xeb\\x0f\\x06\\xa4\\xb7\\rh\\xb2t(`u\\x9f}\\x15\\xd6\\x8e\\x07L^4\\xa8S\\x99\\x19\\x80\\xe7\\xc5\\xe6f\\xa7\\xac\\x06\\xech\\x9a8\\xc9e#\\xe0\\xc6\\xc3\\x15\\xd9>;\\x00\\xe1kW\\xfe\\x19w\\xd8r\\xf0\\xfe\\x05\\x81\\xbbO\\x01\\xba|Ya~u\\x1e\\xf0\\xeeW\\x939E\\x1f\\x01\\xa2R\\xba\\r\\xfbk*\\x0f\\xd3\\xbd\\xb0\\xcb\\xd5u\\x8e\\x80\\\\\\xdew\\x8e%\\xe5\\x06\\x9c\\xac\\xee\\xb7vX>\\xc0\\xf6M\\xb6#\\xaf\\xb8\\x00\\x9c\\x7f>r\\xabZ\\x04png\\xf1\\xb2\\xfd\\x8b\\x02\\x84r\\x0f\\x1f\\xac\\xad\\n\\xb8\\xe1Q\\xcdp\\xaf.\\xe0K\\xd0\\xdd\\x95\\x95\\x9a\\x00*m\\xfc\\xba\\xa3\\x9b\\x05\\x16?\\xf9\\xf2\\xa6X[\\xc0\\xf15\\xb1\\x07\\xf3O\\x05\\x14y\\x93\\xd5\\xbe\\x8d\\x05\\xe6~j;wh<`\\xc3\\xf1x\\xd3\\x85D@\\x8fS\\xc1\\xee-\\x8e\\x00\\xba\\xde\\x9f\\x9a\\x99v\\x12\\xb0f\\xcf\\x971\\xd9\\xe9\\x80$\\x1f\\xffr\\x7f\\xee\\x02\\n\\x8fO/3\\xfb\\x03`\\xc0\\xae\\xe5>\\xf6\\x9f\\x00\\xaf\\x9c\\x17\\x1c\\xdc\\xf8\\x1d\\xd0\\xdd)\\xdb\\xf3\\xd2o\\xc0\\xe77\\xb5\\x1eo1T\\x80\\x88\\xc6Oi\\xb4\\xd7\\x0c\\xd8\\xd4\\xa3\\xcf\\x84cE\\x00m\\xf7\\x99/\\xe5*\\x0ex|c\\xed\\x1c\\xcfJ\\x80\\x85\\x99\\xc5o\\x0e\\xaa\\x0e(\\xed\\x1d,\\xf8\\xfa\\x01\\x1a\\xdf\\xadx\\xb9b\\x00\\xe0R\\xd8\\xcb\\xcb\\x0b{\\x00\\xde\\x8c\\xdf\\x99Rp0 \\xb2\\xab\\xcd\\xf9\\xd2Q\\x80\\xe1\\xc5{\\x9fO\\x8c\\x06\\xec\\x8d\\xca\\xd3\\xb0\\xee\\n@\\xf7^\\x8f\\xc7\\xf5[\\x0fH|\\xe9S\\xaa\\xc9F\\x80\\x9b\\xd1\\xc3n\\xbe\\x05\\xda\\x95\\xe8\\xdb^w\\x1a\\xd0\\xf0k\\xe8\\x9a\\x85\\x9f\\x00\\xf9z.\\xbcv\\xdc\\xa1\"\\xacVJ\\xe7U\\x0ef@\\xa5\\xc3\\x05B*\\xe7\\x06\\x18+\\x8e.\\x93\\xe4\\x02\\xa8\\xef\\x11\\xe4\\xba*?\\xe0\\xbak\\x952\\xfe%\\x003\\xe6\\x14\\xbaS\\xa8\\x05\\xa0\\xd7zq\\x836\\x00 \\x84M]\\xf6k \\xe0\\xcc\\xf5\\xb1\\xc1-\\x83\\x00\\x87\\x8a\\xaf]\\xe72\\x1d0\\xd1qU\\xd9\\xa1\\x8b\\x01\\xef~f\\r\\xea\\xbd\\x1d\\x90\\xf4>\\xccm\\xec%\\x80\\xe3\\xb5\\xd8\\x0bk-\\x90\\x99\\x11\\xd6\\xfaV\\x06 \\xaa\\xce\\x91\\x13i\\x0e\\x95`7\\x86tp\\xee\\xef\\x03\\xf8l\\x1f\\xb3-\\xa86\\xe0z\\xc3$\\xf3:\\x11\\xd0g\\xf6\\xc1\\x8aq\\xad\\x01\\xfe\\xdf\\x04\\xbb\\xa0\\x1e\\x00\\xbf\\xb7\\xda\\xbb\\x9f\\x06\\x03v\\xba_\\x88*\\xf2\\x1f\\xa0q\\xaf\\xe7\\xaf\\x17\\x8d\\x06\\x9cmsh\\xfe\\xeeh@\\xe5\\xf6\\x0b\\x0bz,\\x00T\\x19\\xf8\\xa4\\xc4\\xb3E\\x80\\xde\\x1bf\\xfa\\x04/\\x06\\xec\\xf3\\x1a\\xdak\\xd0r\\xc0\\xc3RSb\\xe6\\xad\\x03L\\x8dY}\\xf2\\xe4z\\x80\\xc7\\xb97\\xde\\x13\\xf6\\x00v\\x94~:\\xd5e/\\xe0U7\\xdb!v\\xfb,\\x17\\xcc\\x0cJ\\nN\\x02Li\\x13=\\xfa\\xf8I\\xc0\\xed\\xd3e\\x9b\\xd4\\x7f\\x06\\xb0\\x9f\\xdcj\\xd0\\xc9\\x97\\x80G\\x0b\\xba\\x8c\\xa9\\xfc\\xc7\\xd2\\x9d|\\x86JF}e\\x04\\xe4w\\x9a\\xd7\\xd6\\xb7\\x00\\xbc\\xf5\\xbdn\\xb0\\xef\\x02X\\xe1\\xf2\"\\xd0\\xbb/\\xa0\\xa5i\\\\\\xa3YC\\x01\\x8f\\xdd\\x8fLZ\\x10\\x06\\x98\\xd6\\xbd\\x95\\xe9\\xf2D@L\\x89\\xaew:\\xc7\\x01V\\x8d/\\xba\\xbb\\xd3F\\xc0\\xbe\\xb1e7\\xdeI\\x05\\x94\\x98\\xf24\\x9f\\xdbQ@\\x1f\\x9f8\\xfd\\xcc\\xe3\\x80\\xc6\\xddwu\\xa9|\\x13\\xf0\\'u\\xcf\\xc6\\xf3\\xef\\x01\\x9a\\xdfY/w\\xfc\\x04d\\x95\\x15\\xb35\\xb6U\\x90\\x8c\\xc4\\x15\\x13\\xdf\\x17\\x06\\xc44\\xfdb\\xeb\\xe3\\x05\\xf8W\\xe3\\xe0\\xf5\\x8e\\xed\\xabX*\\xff\\xa3\\x7fV\\x0e\\x06\\x18[\\x15\\x1d\\x94\\xbd\\x10\\xb0+\\xf1\\xc1\\x8a=\\x8b,\\x07_\\xed\\xbc\\xf5\\xceb\\x80\\xf7\\xce\\x82-o\\xaf\\x00,\\\\\\xed\\x15\\x17\\xb2\\x19\\xb0\\xff\\xe3\\x80\\x86\\x1e\\xdb\\x00\\x11\\x97k6\\xff\\x95\\x08Xv\\xaf\\xf4\\xbe\\xa6{\\x01\\xe72\\xed\\xceu8\\x01\\xc8~7\\xe6\\xf7\\x9a\\xd3\\x80\\x01\\xbeg\\xeb\\x9e<\\x0bh_\\xf9\\xd9\\x07\\x07cUD;s\\xfa\\xe7\\x1e\\x9a\\x07\\x10#\\x8e9\\xd4\\xb54\\xa0\\x93\\x98t\\xffNY\\xc0\\xf4\\xed\\xd7\\x1d#\\xca\\x036\\xc7\\xd4\\xfe\\xba)\\x10Pl\\xbck\\xe2\\xe9\\x81\\x80\\xfes\\xaam\\xd0\\x04\\x01\\xb6\\x16tl\\xf75\\x04p\\xe4\\xb3\\xa9_\\xf1\\xc1\\x80r[\\x9e\\x8d<1\\x040\\xed\\xcc\\xaa&eB\\x01u\\xd22\\xba\\x94\\r\\x07T\\xdcr\\xb8\\x9c\\xcft\\x80\\xc7\\x01\\xaf*\\x1d\\x16\\x01\\xec\\xfb\\xf6\\x9a}j-\\xa0\\xd9\\xdd\\xd5GK\\xef\\x02,^fW\\xb3\\xdb>\\xc0\\xa0g1\\xbf\\x0b%Y\\xbej\\xe4_\\xadF* \\xc5y\\xe1\\xed7\\'\\x01C6\\xbe]\\xe7\\x7f\\x16\\x90\\xf6\\xe2^x\\xeae\\x80f\\x86\\xe7\\xa0-\\x0f\\x01\\xfec_6\\xba\\xfe\\x0b\\xf0\\xec\\xf8\\xd7\\xedE\\xfe\\x00\\x02\\xe6d\\x05\\xaf\\xb7\\xf1\\x81\\xe9\\xbe\\xe7\\xbf1\\xca\\x0ep\\xfeM\\xe9V\\x9ef@#\\x9f\\xf9\\xdf\\xcb\\x15\\x06\\xcc.?w[sO\\x80\\xf1S\\xaa\\xd7\\xb3\\xea\\x80\\xfe\\xdbj\\xf6\\x99\\xd1\\x18\\xf0b\\xf9y\\xd7j\\x81\\x80\\xce\\x99\\xa7z\\x06[\\xa0\\xd5\\xe8\\x01\\xbd\\xaeN\\x07\\xe4-`\\xa8\\xab\\x99\\r\\xb0m\\x1d\\xec\\xf1$\\x0e\\xb0vn\\xa7\\xa0\\xb4#\\x80\\x9d\\xa9+\\xbdo\\xa5\\x02\\xb2\\xb7^\\xb9\\xe8|\\x01p!\\xee\\xec\\xf9\\x057\\x01\\xf9\\x1c\\x87\\x95\\x12\\xb3\\x00\\x83=w/\\\\\\xf0\\x08\\xd0\\xe0D\\\\\\xd1\\xe0\\'\\x80\\xe7;\\x1be\\x0f\\xb5\\xaf\\x06-\\x98\\xd4\\'\\xe0\\x8b\\x0106\\xb6\\xfb\\xb9\\x98\\xfc\\x80\\xebv\\xe5\\x9b\\xd9\\x96\\x06\\xb4\\x1c\\xbbda\\xa2\\x05*\\xfe\\xee\\xb9a\\xb0\\x0f@\\xec~\\xda_\\xe7\\x0fh\\xdd\\xe6I\\x89\\xd4\\x86\\x80\\xe8\\x8f\\x86\\x0fU\\xdb\\x01\\xf6\\x7f\\xf9Y\\xb1o\\'\\xc0\\xc2\\x84\\x11\\xe7\\rC,\\x9ft\\x8d\\x08;7\\x02P\\xf2\\xd2\\xef\"\\xcbG\\x03\\xce\\xaf\\xaf\\xd9\\xa0D$`\\x8e\\xcd\\xc1e}\\xa3\\x00\\xf3c+\\xb7\\x0e]\\x04\\xd8:fl\\xfd\\x80\\x04\\xc0\\x07c\\xfd\\x98f\\xbb\\x00\\xcf\\x84\\xf3\\xda\\xe6{\\x01{&\\xech\\xf47\\x19\\xd0)\\xaa\\xe0\\x13\\x87\\x93\\x00\\xa1\\x9e\\xf3\\x9e^\\xa7\\x01\\xfb\\xae\\xf6\\xf8W\\xe2\\x0b\\xa0\\xe8\\xda\\x12+\\xee\\xf6\\xaa\\x8e\\x9e\\xee\\xf9:\\xfd\\xf3\\xc8\\xea\\x96x>\\xb1\\x8d\\xddx\\xc0\\xeaK\\xbf\\xe3[FV\\x1f\\x80\\xd8\\xca+\\xd5\\xdf\\xc7y\\x06>+\\x19\\xe9e\\xfbq\\x16\\xa0b\\xfd\\x9f\\xfb\\x82w\\x03tqW\\x07\\t\\x07\\x00\\xcf}\\x07%f%\\x01\\x9e\\x8dJ\\t\\xab\\x97\\x02HL\\xfd\\xb4Rs\\x150\\xd5\\xac}^\\xf8\\'`W\\xb3\\xd2\\xd9]\\xecj@E\\n\\x9c\\x9d\\x9ae\\x0f\\xd8\\x1fu\\xedY\\xbf2\\x80c\\x9a\\xdd\\xc9\\xad\\xcb\\x01\\xf2\\x948\\x11\\xb7\\xb8\\x06`d\\xaf=\\xae\\x05\\xdb\\xd6\\xb0l69fLX\\x04\\xb0\\x0b\\xee~\\xc5;\\x16\\xd0\\xe6\\xd0\\x03\\xd7\\x02\\x1b\\x00E\\x87\\x16\\xdc9\\xcd\\x02\\xa1St\\x17\\xcel\\x03L\\xcf\\xebs\\xab\\xef\\x19\\xc0\\xe1Avu\\xf2<\\x05\\xfc\\xd9q|\\xd2\\xbdg\\x80\\x8e_/\\xb8O\\xf8\\x00X\\xfa\\xa3\\xdd\\xb7\\xc9\\x7f\\x01\\x8fF>\\xaa\\xf9\\xd3\\xa6&nz\\xa4s\\xc6&[@\\xec3\\xf7/\\xcb\\xf5\\x80\\x85\\x13:\\x14\\x9d\\x91\\x0fp\\xa5D\\xdd\\xe25\\xca\\x01:\\xc7T8\\x9a\\xd8\\x13\\x10\\xf5\\xe5\\xc9\\x86\\x8f\\x93\\x00\\xc6\\x83\\xc7\"\\x9al\\x04\\xf4\\xa9\\xee6/d\\x17\\xa0z\\xde\\xfc\\xdfB\\x0f\\x03\\xf6O.\\xb1\\xa9\\xefy\\xc0\\xc5\\xfc?\\xda\\xef\\xcf\\x00\\xbc\\x8a\\x9b\\xec\\xfd\\xf76\\xe0\\x8e\\xfdk\\x9b\\x80w\\x00\\x8f\\xe7\\xfbn\\x95\\xf9\\t\\xe8\\x126A[\\xbd`\\xad\\x18at\\xfd\\xde\\xe3\\xd7y\\x02ZMiY\\xafy=\\x80~`\\xd8\\xb6o\\xed\\x00+\\xa2;\\xba\\xbd\\x18\\x01\\xa8\\x18^\\xc3;#\\x0cp\\xe2Z\\xd5\\xfe\\x93#\\x00AK\\xe7=\\xeb3\\x0b0\\xb0\\xc3\\xf8\\xb2v_\\x01O\\xc6W\\xf2o\\xf5\\x1bP\\xd7\\xa6\\xbe\\xc6\\xdf\\xab6\\xb4\\xe7\\xe4\\xcb\\xe6\\x05\\xca\\x03\\xe6\\xe69\\xeao\\xdf\\x1a\\x10\\xf8\\xbc\\xfc\\xe7:\\x16h\\xd9\\xbe\\xe8\\x93\\x11m\\x00\\x8b\\x9d\\x8c\\x83Vu\\x05\\x9c\\xea\\xff\\xe1g\\\\o\\xc0\\xd1\\x80\\t\\xb1\\xed\\xfb\\x01\\xc6N0;\\xec\\xd8\\n\\xe8\\xb1\\xee\\xf4\\xa4\\xd5\\'\\x01]j\\xc6\\xc7G\\x9e\\x02\\xe4\\xfb\\x9a\\x144\\xf62\\xc0-a[\\xc3\\xfb\\xaf\\x01\\xd5\\xfbu\\\\\\xd2\\xbb\\xbe/\\xb2\\x87\\xf9\\xa5\\xddK7\\x01,X\\xd7o\\xf2\\xb9\\x96\\x80\\x8a\\xfb\\x8b\\xa5\\x84u\\x04t\\x8b\\x8b/\\xd4\\xb6\\x17 3\\xb8d\\x81\\xcf\\xfd\\x00]\\x1f\\x8e\\x0cX<\\x1a0\\xa7B\\xbf\\xb6M\\xc6\\x00Ju\\xdf\\xf5d\\xd7D\\x80k\\xe9J+\\x1c\\xa7\\x00\\x0c\\xadnG\\x8e\\x8d\\x02\\xb8\\xad\\x08~\\x930\\x0f0\\xf7\\xc6\\x8e\\xc8i\\x1b\\x00M\\xd7n\\x7f\\xed\\xbb\\x0b\\x90\\x1e\\xe1\\xe4\\xba\\xf1\\x1c\\xc0\\xe9\\xcf\\xd0\\xe7\\xb5\\xee\\x00nm\\xec\\xe7v\\xee\\x1e\\xa0\\xf5\\xd1\\xfa\\xa1\\xef?\\x01.\\x1eXv\\xa7\\xbfm\\x9d\\x18aL\\xd2\\x9b\\x1ao\\xb4\\x80\\xf2\\rN\\x1en_\\x05\\xa0\\xfb\\xe9\\xd5\\'\\xaa!`\\xda\\xde\\xd5\\x1e\\x83\\x1a\\x01\\x9e\\xd4\\xb8_\\'\\xbe?`\\xc8\\x0b\\x0f\\xf7\\xb7C\\x01eNW<\\xb3q\\x06\\xa0\\xe1\\xe9;\\xd7\\xd7\\xcd\\x05\\xac\\x1f\\xfa\\xaay\\xc7E\\x80\\xc8\\x85F\\xb1l,\\xc0\\xbb\\xbc\\xcb\\xf5Zk\\x00\\xc5\\x06T\\xfb\\xdeq\\x13\\xa0Z\\xed[\\x81+2\\x01\\xabW?\\xdf\\x12\\xf6\\x12\\x100\\xac\\xfa\\x83\\xf1\\x9f\\x00?v\\xff\\xf8\\x1b\\xad\\xa9\\x0b\\x81\\x8c\\xfb\\xd96\\xc8\\x03\\xf0\\xbd\\xcb\\x93:\\x7f\\xab\\x00&\\x0b\\xb1=\\x07U\\x07\\x1c\\x9a\\xf9o\\x9c\\x7fm\\x80\\xa7\\xeb%\\x7fO\\x7f@\\xcb\\xdb\\xa7\\x837\\xb6\\x00\\x18\\x13_\\\\\\x0e\\xef\\x07(b3\\xf7\\xe3\\xd0\\xfe\\x80\\xe8\\xa2/\\x1f>\\x1c\\x04\\x10\\xbb-\\x8f85\\x18\\xb0\\xde\\xafRL\\xbf1\\x80\\xf0\\xf6\\x05\"\\x8a\\xcf\\x00\\xb4\\xef\\xe6\\xbb6v\\x01\\xe0\\xe7\\xc5\\xfe\\xdaO\\x8b\\x01S3{\\xf5?\\xb8\\x04\\x90Xl_\\xdb\\x99q\\x80\\xe4~eW\\x8e\\xd9\\x0c\\xd8\\xb2\\xa1\\xf4\\xfdU[\\x01\\xf9\\x0e5\\x9e\\x18\\xbf\\x03\\xd0\\xb5D]\\xfb!\\x87\\x01\\xfa\\xfd\\xc7N\\xdd\\xba\\x00\\xb0-~x\\xc0\\xc0\\x0c@\\xd1\\xb1-\\xfd\\x1bd\\x02\\\\\\xdf5\\xa8W\\xe89\\xa0Z\\xcc\\xc6\\xf6\\xad_\\x00\\xca\\xf6\\xd9\\xd8}\\xb3\\x05\\xc4\\xf9\\x97v$\\n~1\\xc2_m\\xc9\\xce]\\xf3\\x03\\xfc\\x8fV\\xee\\xe0R\\x12Pja\\x8d|\\x8dk\\x03\\x96|:\\xb8\\xe5\\x9f?`y\\xad\\xb7I\\x91\\xbd\\x01_\\xaf\\x17[Z?\\x10`\\xfc\\xf5\\xfe\\xe5\\t\\x0bTy4\\xc8\\xfd\\xe6p\\x80\\xdf\\xb6O\\xbd\\xd3V\\x01\\xe2\\xa7f-\\xba\\x9c\\x0883\\xec}\\xbd\\xd2\\xa9\\x80\\xe0EK\\xe3\\x7f_\\x04\\xe8*\\xbc\\xa9_\\xf1.`K%\\xdf\\xf0_O\\x00\\xef\\xce4\\x18\\xf6\\xee\\x15\\xa0\\xd3\\xa3\\xae\\x9d\\xef\\xe6\\xae\\x87\\xf8bO\\x95\\n\\r\\x8a\\x03Bj}\\xac\\x13\\xed\\rx?\\xef\\xca\\x879e\\x00\\xd5B\\xca~\\xf8V\\x1dpai\\xcf+\\xe6\\xba\\x80\\xbb\\x9bV\\xdd\\xed\\xd9\\x10p\\xfam\\xb3:\\xc5\\x1a\\x03\\xde\\xbe\\xb4\\x7fn\\xe8\\x01\\xf0;\\x12\\x10\\xb1%\\x100x\\xe7\\x98_!\\x83\\x00\\xcd~\\xaf\\x1f\\xd4v\\x12\\xe0fW\\xe7]\\xed#\\x01]Z\\x0c(\\xb5s& \\x97ao\\x852\\xb3\\x01\\xfa\\r}\\xe7?\\x8a\\xb3\\x1c\\xd3\\xb3\\xff\\xa4|\\xf1\\x80\\xabU\\xbb\\xeb|,\\xe0$\\x04\\x1d\\xbdy\\xd6\\xd2\\x9e\\n\\x8f\\xc6}\\xbd\\th:.\\xb6g\\xc9;\\x809E79\\x0e\\xca\\xb6@D\\xe3z\\x1b_\\x00\\xda\\x14\\xfe\\xb3u\\xbbP\\x1fY\\xda\\xf6*?\\xfex\\x01t\\xe3\\xdb\\xce\\xc8\\xf2\\x06\\xfc\\x99\\x14v\\xe0|E\\xc0\\xccU\\xe5w/i\\x08\\xf8\\xee\\xb4h\\xc0\\x8f\\xae\\x00!m\\xca\\xb7\\x9d\\xdd\\x01\\xb5/\\xd5\\xbd\\xa6\\x0b\\x04\\xd8\\xae\\xfc\\xea\\xe5\\x14\\x03\\x08\\x0b\\xf9\\x179b+\\xc0\\xc7y|\\xfb!\\x89\\x80\\xa0M\\x07K\\xad;j9\\xa6\\xc7\\x86\\xb8\\xa7\\x97\\x01kg\\xda_\\xcb\\xf3\\x03Pvsh\\xbb\\xa2v\\r`\\x91\\xdc.W\\xda\\xef\\x00H\\xd3U8\\xb9M\\x0bh\\x94\\xe4~\\xeapn\\xc0H\\xfb*\\x91a\\xf9,\\xc7\\x0c\\xda\\xb2\\xad\\x8f\\x0b\\xe0\\xf9\\xd1dS\\x8db\\x80za!\\x11G-\\xd0q\\xd4\\xf5\\xf7Y\\xbe\\x80\\xb0G\\xc5*\\xd4\\xef\\r\\xc8\\x0c\\xbd\\xe8}x\\x1a\\xa0\\xaf\\xcf\\xfc\\x8d\\xe3c\\x00\\xb1\\xe7tu\\x9fY\\xa0E\\xdb\\\\\\x81\\x07\\xe6\\x00\\x86\\xa4\\xdd\\xa9Yj\\xb5\\xe5:\\xd5f\\xb9\\xd9m\\x06<\\xca\\xa8\\x95V\\xf8 \\xa0\\x89\\xc3\\x92\\xba3\\x0e\\x01<\\xd3\\xef\\xef\\xbb\\x99\\x0c\\xb8\\xbda\\xfa\\xbb\\xd1\\xcf\\x01\\x95\\x0f\\xf5\\xab\\xe3\\xf1\\x02p\\x7fWl\\xa7a\\xaf\\x00\\x11\\xdf7\\xfc^\\x94\\xcb\\x1f_\\xfd\\x0eo\\xd2\\xdb\\x15\\x90?#\\xd1\\xfd[!\\xc0\\x96\\xf0a\\xf1\\x7f*\\x03\\x8a\\xa7\\x94\\xdcr\\xa3\\x01@\\xb8\\xd8\\xe3\\xc4\\xea\\xd6\\x80\\x94\\x9b\\x86\\x84s\\x1d\\x00E\\xeb\\x1cZ\\xd6\\xa2; =\\xbe^\\xcb\\xdd\\x83\\x00\\xfd\\x8a\\x1e\\xfe1\\xea?\\xc0\\x9f\\xbf\\x03\\x82\\x0f\\xec\\x04\\xfcJ\\x7f\\xf4_\\x8d\\xb3\\x80\\xc2\\x17\\x8e\\xccr\\xc9\\x02\\xdc\\x88:^\\xc4\\xe9\\x1d`\\xfb\\xeee\\xc5\\x8f\\x0b\\r\\xd1\\xf7$\\xcf\\x88\\xe0|\\x00\\xc7n\\xef\\xbe\\xba\\x15\\x03\\xd4\\xca3ly\\xdd\\x8a\\x80C=\\xd6\\xf9\\x1d\\xf1\\x03L\\xdf\\xf8\\xca\\xde=\\x18P\\xb0\\x9e\\xd6#\\xcb\\x02}o-q\\xbe<\\r0b\\x80\\x9d\\xed\\x98\\xbd\\x80#3\\x9f\\x1b\\xe6\\\\\\x03\\xf8\\xd5\\xca\\xb3(\\xe3:\\xa0b\\'\\x8f\\xcd\\x8fn\\x02\\x1e.~\\x90\\xecz\\x07p\\xabF\\xe2\\x9c\\t\\xf7\\x01N3\\x1a\\xf4|\\xf7\\x19\\xf0\\xd8!84\\xf8;\\xe0h\\x1e/\\xd7\\x84\\xbf\\x80\\t\\x01\\xf5\\x9f9z7\\xc2\\xf0v\\xd5\\r\\x98W\\x150\\xa7\\xcdQ\\x87\\n\\xd5\\x00\\xab\\xf3mzx\\xb56\\xe0\\xcc\\x9e\\x8e\\xd9!u\\x01\\x19-=\\x82\\xee\\xfb\\x01Ny7\\x9e\\xf9\\xa9\\x0f\\xe0\\xbfR}j\\xbdY\\x06\\xf87\\xb0\\xc7\\xa9n\\t\\x80\\xf9\\x0e\\xbfW~\\xdf\\x0c(\\xbb\\xfb\\xfc7\\xa7\\x83\\x80\\xa3\\x19\\x99s\\xae\\x9c\\x034w\\xd8\\xd1\\xae\\xc1M\\xc0\\x8d\\xa3\\xe7\\x90\\xbd\\x02\\xb2n\\xd5Z3\\xeb! \\x9f\\x7f\\xfd\\xf35?Yn\\xf1\\xaf\\xf4\\x9as?\\x00\\xbe\\xe3\\x96\\xd9\\xba\\xfe\\x06\\xd4N\\xd8\\x9dR\\xa0jc\\x98\\x02S\\xebd\\xcf\\x06\\x80\\xa0=\\xd5\\xc7^m\\x04x\\xb0ob\\xd0\\x8b\\x1e\\x00\\xef\\xf4a-\\x9e\\x06Z\\xbe\\xaa\\x99\\xd6\\xe5W0\\xa0u\\xd3.eBB\\x00E\\xbe^\\xcf\\xdc2\\x04`\\x18\\xe6q\\xb3\\xe8>@\\xb7W\\xaf\\x1bg\\x9d\\xb0\\x9c\\xe5\\xdf\\xe3\\x8a\\xef\\x1d\\xc0\\xf7\\x15\\x8f5\\xab\\x7f\\x01J~2\\xd5+dh\\x12#\\x8c\\xbb41\\xfe\\xa13`g\\xe0\\xda\\xc6\\x91\\xde\\x80\\x0f\\xc7F\\x14\\xea[\\x05p\\xf2q\\xe4\\x82\\\\\\xf5\\x00\\xc9\\x9f\\xde$\\x95\\xae\\x0fh\\xee\\xb9\\xd9nPk\\xc0\\xab\\xc0\\xd7Y\\xe3z\\x03~\\x1c\\xee\\xf2\\xbcz\\x1f\\xc0\\xb2\\'!\\xcbm\\x87\\x03\\xa2j\\xeb\\xaf\\xcf\\x1f\\x01\\xf8#<\\xdasq\\x9c\\xe5\\xf4\\xc1^a\\xed\"\\x01\\xd1\\x99\\x1d}<\\xa3\\x01W\\xd6\\x87\\x7f\\xb4B\\xf6,\\xfb\\xe2m\\x96\\x02&\\x9d\\xb8y\\xb7n\\x02\\xa0\\xcc\\x1c\\xef\\xfaak\\x01!5\\xdc\\x86\\x85\\xed\\x028\\x84\\xbc\\xf3L=\\x0e8\\xb1\\xb5\\xb4>\\xf5\\x04@8V\\xb3c\\x91\\xc7\\x96\\x0bN\\xbe~z\\xab\\x05\\xc6.\\xb9\\xfd\\xb5\\xc7K@\\x91\\xc0\\x9d\\x89\\xc9\\x16\\x88\\xea\\xb4\\xf4\\xf3\\xado\\x80>\\t\\x8f+8\\x19\\x9b\\xc6\\x08\\xb97-\\x8eY\\x98\\x17\\x90\\xb9\\xc3c@\\x84+\\xe0\\xfa\\x92>\\x19\\x07\\xca\\x03\\\\s\\t\\xa3\\x9aU\\x01,\\xbd\\xf1\\xf4\\xd6\\x83(@qS\\x0b]\\xd8\\n\\xc0\\xad\\x93W[\\xe7[\\x05(\\xf7cA\\xcc\\xd8\\xcd\\x80F\\x0f~\\xcfq\\xbf\\x0284?\\xb7\\xb1\\xde\\x1f\\xc0\\xf3\\xae\\xdb_L\\xb7\\xc0\\xc2\\xa9\\xc7\\x07\\xba\\xd94\\x83\\x90\\xbc\\xee~\\xeb]\\xa5f\\x96\\xe5\\xf1\\xcch\\xad\\x0f\\xc0\\'9d\\xedy\\x11\\xe0x\\xcc\\xfd\\xfd\\xd2 \\xc0\\xf6\\xd0}\\xbe-C\\x01\\xa9\\x05N\\x14I\\x88\\x00l\\xdaR\\xd9yY4\\xe0\\xe3\\xec\\n\\xf5\\x82\\xd6\\x01\\x02\\x96\\x05\\x0ez\\xb9\\x03\\xe0\\xfe<\\xb2\\xd3\\xb6\\xfd\\x80\\xfb\\xef\\x8au\\xf9\\x93\\x02p~\\xb7|t\\x95\\xdb\\x80e\\x1fL\\x13[e\\x03t3g|\\x0b\\xff\\txU\\'=\\xb4\\xf1_@\\xe9\\x1a\\xdbV\\xd6\\xd57G\\xce\\xb1^\\xf7uda@|\\xf5\\x0ei\\x7fK\\x036G\\xed\\xce\\x9f\\xde\\x18\\x90+\\xef\\xa6\\x1d\\xae\\xcd\\x00\\xc6m\\xdb\\xcc\\x05\\xba\\x03\\x96e,*\\xff\\xb1\\x0f\\xa0\\xed\\x98)\\x91\\xcb\\xfa\\x01\\xa6W\\x8b\\xf7k8\\x080\\xe6\\xcf\\x81b\\x9aa\\x80\\xaaq\\x01c\\x1dC\\x01\\x1f\\xff\\xf6\\x89=0\\n\\xf0=\\xf5i\\xc12\\x13\\x01c\\x0b\\xb4\\x9c\\x94\\x10i\\xb9E\\xd5y\\x8b>\\xc5\\x012\\xdd\\x92\\x1e\\xe4\\xdd\\tXS\\xe7\\xfd\\xd5\\xbe\\xa7\\x01\\x85s\\xc5\\x8c\\t~\\x08\\xd8\\xb1r\\xdc\\xc5e_\\x01)K\\x9av\\xeb\\xff\\x03p\\xc6\\xefZ\\xe7\\x13\\xf6\"\\xd4\\xc1\\xafl\\xc9\\xea%\\x01\\x83\\x03\\x1f\\xf4\\xd9\\xee\\x05x}\\xb5h\\xdc\\x8b\\xf2\\x80/\\x1b\\xc6\\xc5\\x9c\\xac\\x0b\\xe8\\xbd5\\xf7\\x8c\\xf2-\\x00\\x8b7\\x05\\xee\\xd3\\x06\\x00t\\x83\\xbf-\\\\\\x1c\\x08X[\\xe3\\xed\\xdavC\\x00\\xfd\\xeb\\xb5>4`\\x0c\\xa0\\xce#S`r\\x14`\\xf9K\\xfd\\xb3z\\x0b\\x00\\xf9J5.c\\x17\\x07h\\xef\\xfc;\\x9f\\xd7&\\xc0\\xaa\\x01m\\xbd3N\\x03\\xd6o\\xcb.:\\xfd\\n\\xe0\\xd5\\xa7e>\\ro\\x02\\x86/\\xefW>2\\x0b`\\x1b\\xbd\\xff\\xbf5\\xd9\\x80\\x04;\\xff\\xc0Q\\xcf\\x01\\xb9\\x84\\r\\x19\\xad_\\x01~w[\\xb9\\xcd\\xf9;\\xc05\\xfe\\xe7\\x87T\\xa1\\x05B\\xe2\\xf9\\xf6\\x1d\\xce8\\x01\\xfc\\xbe}([\\xb1\\x18\\xa0r\\x99\\x12\\t[=\\x00\\xa3\\xca\\x0fH\\xaaR\\x1e0\\xb2\\x99\\xdd\\xbb^U\\x01+\\x9a\\x96\\x89J\\xf5\\x05l6\\x0f\\xca\\xaa\\xe7\\x07\\xb8^\\xaf\\xcb\\rSW@\\xb1\\xc6\\xe3\\x17\\x0f\\xee\\x050\\xef\\xfa\\xd1}D\\x7f\\xc0\\xbf\\xee\\x9d\\x1c\\xb3&\\x01<\\x8b-\\x19qo.\\xa0\\xd3\\xa9[e}c\\x01\\x85\\x05c\\xdf6\\xcb\\x01\\xa9\\x115\\xf6\\xe5N\\x00\\xac\\xfcu\\xc4\\xf6\\xe2\\x01\\x80~\\x9c\\xdd\\xb1\\xfe\\x87\\x01\\xe15z\\x8f1\\x9d\\x06\\x1c\\xff^\\xc6k\\xfb]\\xc0\\xa6\\xf6\\xff\\x1c\\xc6|\\x03\\x1c\\xf6\\xdc\\xb4\\xd4\\xc6\\xaee\\x8c\\xf02i\\x9c\\xd9\\xc6\\x08\\x98T\\xd9\\xee\\xb7\\xde\\x04\\xb8_\\xf2h\\xb1\\x14\\x17\\xc0\\x8ap\\xdd\\x92\\xe4\\xc2\\x80\\x9e\\xf63_\\x8d\\xf2\\x06\\xf8\\x9ei\\xbe<\\x7f\\x1b@\\xa9`\\xb7\\xd0U=\\x00}\\xeb\\xb8\\xbf\\xf8=\\n\\xf0\\xfdL@p\\xc24\\xc0\\x11\\xc7\\x1b\\x0bgM\\x07\\x84\\xeam\"\\x7fG\\xb7\\xb4\\xd4\\xa4\\x9fF\\xb6\\x9a\\tHhu\\xbc_\\xbb\\x05\\x00\\xaf\\xf7Y\\xae\\x85\\xd7\\x00\\xe6M9\\xfc\\xef\\xc4:@\\xabVg\\x9bm\\xca\\x02\\x18\\x9e,:\\xb3\\xe5.`M%\\xefm\\x1f\\x1f\\x01\\x1a\\xce\\xea\\xb6\\xe7Z\\xbeV\\xb0\\xbds\\x0e\\xbf^\\xef\\x058\\xb8\\xa5Xphy\\xc0\\xf3?\\xd7zv\\xa8\\x0b\\xd8\\xb3:\\xa8oP\\x1b\\xc0\\xb7Ui\\x7fR:\\x03\\xbc\\xf2\\xfb\\x8d\\xd98\\x08`\\xf3e\\x90\\xf0v\\x12 m\\xef\\x9a\\xbd\\xa7\\xa7\\x03\\xae-*0m\\xff,\\x80\\xbeLj\\x05\\xbb\\x85\\x80\\n\\xcf+\\xdcwH\\x06,\\xdd?a]\\xeb4\\xc0\\x8d\\xc0\\x8fg\\'?\\x07lh\\xb0vz\\x1d]k8\\xd6Ro\\x84\\xbb&\\xc0\\x8e\\xe6\\xa7\\xbf\\xc6\\xe4\\x06$w\\xb9\\xd1\\'\\xa4+\\xc0ue\\xad\\x9e\\xb9\\xc6\\x03\\xfc\\xa7\\xcew\\xcb\\x9e\\x08\\xe8t64\\xfe\\xbd\\x05|\\x02:L\\x98:\\x03PqR\\xf5\\x82\\xdb\\xe7\\x03&\\x8f\\xf6\\xdblX\\th\\xbd42:{\\x03`\\x99\\xd1\\xab_V\\xa2\\xe5\\x82\\xa5\\x87\\x8e\\x1b\\x95\\x06\\xb8?\\xbf\\xf9\\xc9\\x7fG\\x01\\xe5\\xe6\\xd8\\xfe\\xdbz\\x0e\\xd0\\xf4K\\xe7\\xb4\\x94,@\\xfb\\xa4\\x19\\xa3\\\\\\xef\\x00\\x12~\\xdd\\xbeW\\xff\\x11\\xa0\\xcf\\xdb\\x9dG\\xceY\\xa1o\\xf5\\x84e_\\x01\\xf5v\\x15Io\\xf5\\x0f\\xd0\\xd9\\xeft\\x81I^m\\xe0\\xa9\\xaf\\xce\\xa8Q\\xba\\x15\\xe0\\x8eK\\xcc\\xc5\\xeac\\x00\\x8bC\\x9aw\\x8c\\x88\\x02L\\xfd\\xf8\\xea\\xa2W<\\xe0`\\x96!e\\xaf\\x05f\\x1c|r/m=\\xa0c\\xe6\\xc3[\\xb1\\x9b\\x00\\x9f\\xf5\\x8b\\x97\\xbc:\\x0b\\xa8p\\xe0\\xd3\\xca\\x98g\\x80\\x12;\\xba-8\\xfe\\xd2\\x02\\x83\\xf2\\xc7v\\xfe\\x04\\x08\\x9f\\xbemCsM[\\x98\\xd3\\xb4\\xc2\\xc1\\xfbs\\x03JT\\xdb\\xbf\\xd5\\xa5\\x02\\xe0\\xc3\\x8f\\x9e\\xcb\\xeeU\\x014\\x18\\x9cV\\xbazu\\xc0\\x9b\\xf6\\xff\\x06tn\\r\\xb0K^r\\xd9\\xb7\\x1d\\xa0\\xda\\xc8\\xd0\\x88\\x88^\\x80|\\xf3K,\\xcd3\\x1d\\xd0\\xb7A\\xbe;\\xe7g\\x03\\xde\\x0f^\\xd7\\xb1\\xc1~@\\xe6\\x98Ys\\xf7\\x1d\\x028u}h\\x1a\\x96\\x02(\\xecqxn\\xa5T\\xc0\\xd2?\\xa7\\x83\\xff\\xa6\\x01\\x92kF\\xbf\\x1dp\\x1e\\xb0r\\xee\\xe1r\\xfa\\x8b\\x80\\x8b\\xa5\\r}_\\xde\\x02\\xb4\\xd8rt\\x93\\xe1\\x0e\\xe0O\\r1<\\xc5\\xae\\x9d\\xc5\\x02|I:\\xee\\x06xp\\xfb\\xc6\\xf5$\\xcfv\\x96\\xbd<\\xe5\\xd7g\\x97\\x02$\\x17\\xda9\\xab\\x977\\xe0\\xfe\\xec\\xb1./|\\x01/\\xff\\xf5\\xfa\\x15\\xe9\\x0fh?\\xb7\\xfa\\x97b\\x8d\\x00\\x1bl\\xd7\\xc6^\\xef\\x0f\\xb8\\x1e}\\xf1k\\xfc\\x1c\\xc0\\x7f\\x9e\\x01\\xe3\\xb7/\\x02\\\\i]\\xc9\\xe5\\xfd2\\x801\\xa8\\xdd\\xb7B\\xbb\\x00\\xd5\\x8ey\\xfe\\xcbL\\x04\\x94*Zcp\\xf93\\x80\\x95auG\\x7f\\xc8\\x02|X\\xfe\\xe1l\\xcdl\\xcb\\xdd\\xbft\\x1a\\xdc\\xec\\x11\\xa0]\\xcb\\x0e\\r}\\xbf\\x00\\x86\\x9d\\xbbv\\xb0\\xaf\\x05.l|R\\xa6s\\xbe\\xf6p[\\x97\\x8a\\xb4:X\\x01\\xf0\\xaf\\x83!$\\xa4\"@\\\\\\xdbu\\x8aoM\\x80f\\x9cCxR\\x17\\x80\\xdd\\xc2\\xdb\\xab\\xdau\\x05\\xbc\\xea\\xf73\\xa6\\xd0\\x7f\\x80\\xd5\\xf7o\\xac\\xdd:\\x1aP\\xe3\\xde\\'\\x9f9a\\x80Z]?\\xdf86\\x1eP1j\\xe8\\xf3m\\xe1\\x80e\\x05K\\xed\\x12g\\x02\\xbe&\\x8c-7e\\x11\\xa0\\xa6\\xfb\\xc8L\\xb7T\\xc0\\xeb\\xda\\xb96\\x87Y`e\\xa1\\xf6\\xe5\\xa7X x\\x97\\x8b\\xb9\\xd5%\\xc0\\xc9[+\\xd3\\r\\xd7\\x00\\xb6\\xa5~:\\xf6y\\x0c8\\xfec\\xa8\\xe7\\xa6\\x9f\\x80\\xe5-\\xbb\\xf7,\\xf9\\x070\\xa6]\\x86\\x7f\\xa4s\\x07\\xccW\\xaf\\xd0\\x83\\x85\\xf2\\x02\\xde\\xda_\\xecP\\xbd\\x1c y\\xf4\\xc7\\xedw\\xea\\x01\\x1e\\x1e|\\xdehx3\\xc0\\xd0\\xf0\\x86g\\xb6\\xb7\\x05T\\x1b\\xffh\\xc7\\xab\\xf6\\x80\\xd4\\xb6N\\xbb\\x87\\xf5\\x01\\xac\\x1d\\x97\\xee\\xe3\\xf2\\x1f\\xc0\\xb6f\\xec\\xa2a\\x91\\x80`\\xa3\\xa9\\xfe\\xab(\\xc0\\xb16s\\xba\\x95Z\\x08\\xb8\\xf1\\xe9\\xf6\\xa1k+\\x00cG\\xd6\\x9f\\xdfo\\x15\\xa0\\xe8\\xe8-;\\x85\\xed\\x1d,[\\x03BW?N\\x02\\xecz1\\xe3\\xc4\\xdd\\xc3\\x80\\x91n\\x95=K\\x9c\\x01\\x04\\x847\\x8fhg\\x01\\xaf\\xb5>\\x97J\\xdd\\x05|~W7\\xb0\\xee3@\\xd3<\\x19\\x9b\\xcd\\x1f\\x00\\x8d\\xb7O\\x8f\\x9f\\xa4\\xed\\x88\\x04\\xbc\\xd4\\x89\\xeb\\xf9\\x9d\\x0037\\xefm\\xeb\\x9a\\x0b\\xe0]{\\x99\\x936/ \\xcf\\xcdg\\x1d\\x83\\xaa\\x02n\\xcf\\xcfprm\\x0c8\\xe89\\xcb\\xebX;@\\xb9\\xce/>\\x04w\\xeehq[\\xad\\xfe>\\x1d\\x0b\\xd0w4\\xbcM\\x0e\\x07D\\x1b2\\xf2\\xfd\\x88\\x01\\x14\\n\\xb2\\xb9\\x1b\\x14\\x0f\\xb0\\xf7\\xea\\x1e[\\xe9\\x00\\xe0\\x92c\\xc5z\\xf7\\x8e\\x00R<|\\x1cs\\x9f\\x02D\\xb8\\\\phq\\x11p\\xad\\xcb\\xd2\\xd82w\\x01\\x17*TM\\xae\\xf3\\x1eP\\xcd\\xa6\\xf1\\xce\\x97\\x16\\xf0]5\\\\w\\xfd\\x03\\xe0N\\x93\\xd8\\xf4\\xcd\\xb6\\x9d \\xe1\\x05\\x13:O\\xaf\\x02\\x187q\\xed\\x8a\\x80\\xe6\\x80\\xe6\\xe9#\\xba\\x97h\\x0b\\xe8\\x15\\x15t\\xbfGW\\xc0\\xf0\\xaa\\xd5\\x03\\x87\\x8c\\x03\\x14-\\x92qp\\xf9x\\xc0\\xf2\\x94\\x93u:\\x87\\x03\\xeen\\xd4=\\xec\\xb4\\x10\\xd0>\\xdf\\x93\\xc9g\\x8f\\x01^\\xe7\\xd9\\xe1\\xf6\\xf3\\x02\\xa0\\xe1\\xaf\\xa0\\x07\\t\\xaf\\x00\\x93\\xaaL}>\\xfa\\x1d .\\xde\\xfb\\xe1\\xe6\\xbf\\x00\\xaf\\x13\\x9b\\x7f\\x19\\xed;C\\xe6\\r\\x89]o\\x14\\x00x\\xb7{\\x19\\xf5\\xc7\\x15\\xd0G\\x08\\xf9\\xd5\\xb5\\x10@w\\xfbsb\\xab\\x9a\\x80e\\xfb\\x0f\\xed\\xfeZ\\x07P\\xbaMh\\xef\\xd7\\r\\x00Q;b{\\xd5o\\x08H9\\x9f|\\xf6\\xa9\\x05\\x9c\\xc2\\x87\\x9e\\x9d\\xd1\\x0c\\x10\\xb9i\\x9b\\x9f\\xa6/\\xe0\\xf1\\xca!\\xfb\\x1b\\x87\\x006\\xed\\xfdP\\xf6f\\x1c`\\xfb\\x9f\\xc1\\xe1i\\xdb\\x01\\x9f\\x03j8\\xff\\xda\\r\\x18\\xfdx\\xcb,\\xdb\\xa3\\x80\\xb5\\xbd\\xde\\x88\\xd7\\xd2\\x01\\x9e\\xfd\\x1anY\\xfc\\x0fp\\xf7\\xc0\\x87\\x15\\xc9\\xb6]0qonD\\x9b\\xec\\x00~\\xe3\\xbb\\x97\\x19f\\x0f\\x18\\x1b\\xf3}`\\xba\\x13\\xa0\\xf8\\xfe\\x13\\x1d\\xaf\\xb9\\x01:\\xc5\\x06\\xe4)Q\\x04\\xe0;\\xf1B\\xc1z\\x15\\x00\\x03\\x92&\\xfa\\x8d\\xab\\x06\\x18\\xea\\x7f2zn\\x17\\xc0.\\xe7_\\x97]B\\x00\\x11\\xd7\\xf6\\xac\\x9f\\xbd\\x08P\\xb7\\xee\\x9e\\x89\\x0f\\xd7\\x02\\xde\\x8e=\\xd6}\\xcd&\\xc0\\xd3\\xc1U\\x0f\\x1f\\xdc\\x06\\xe8\\x92\\xbb\\xef\\x85\\x9d{\\x00\\xa7_\\x89\\x01\\x93R\\x00\\x13\\x9f\\x08\\xfb\\xd7\\\\\\x07\\x18\\x8b\\x05\\xc4_\\xbd\\x03X\\xe6\\xdd\\xf6\\xd1\\xaa\\xbb\\x80\\tU\\xed\\xbe\\xee\\xcf\\x1b\\x00\\x1dl\\x7f7s\\x83; d]\\xc2\\xd8\\xbc\\x95\\x00\\xee\\x7f\\xcb\\x8e\\x0b\\xad\\x19`\\xd9Z\\xd2\\xbcHv\\x10\\xe0T\\xf1\\xe8\\x02uC\\x00M\\xdf\\xac\\xd6\\xd4\\xf9\\x0f\\x906\\xc3\\xb9p\\xdb)\\x80a/S\\xcf\\xd4\\x9b\\x018\\x9a\\xf7D\\x9b\\x06\\x0b-\\x17<R\\xa7s\\xd9\\x15\\x80\\xe9%\\xd2J\\xae\\xdb\\x08\\xd8\\x9f0\\xc1v\\xc2A@\\x1f\\xe7!v\\x93,\\xf0\\xb6\\xca\\xd6\\xd5\\x0b2\\x00\\x89A\\xfa\\xdc{\\xbe\\x02.\\xccLrM\\xfd\\x07\\xa8w\\xcd&o\\x03\\xa7\\xae\\x88[\\xce\\xd6\\xff0\\xc3\\x19\\xd0\\xa0\\xdc\\x7f\\x17\\xbe\\xd6\\x05xLl10\\xb1!\\xa0\\xdb\\xdac\\xbfG\\xf5\\x02\\x9c=\\x9e\\xde\\xa6I\\x08\\xe0\\xf1\\xf2\\xe0\\x117\\xc6\\x03&<w\\xbaP-\\x1a0\\xa4k\\x8b-\\x15f\\x03NUx\\x9d\\xd1<\\x1e\\xe0\\xa9\\xf3;q<\\x19\\x10\\x97\\xf2\\xa9s\\x89t\\xc0\\xe7\\x9a\\xcd\\xb6\\x1e\\xfb\\xbf\\x8e\\xed<\\x9c\\xaa\\xe7\\x8f\\x03x\\x96+Id)dI\\x14\\x12\\x92]!\\xe5\\xda\\xf7\\xa5\\xc5\\x9e\\xed\\xda\\xbbH%DT\\x88\\xdcHH\\x97/\\xa1\\xa2\\xeemA\\x8b\\x88\\x16\\x14\\xc9\\x16\\xc9RD\\x11\\xa9${\\xc9\\xef}~\\xff\\xbd\\x9e9\\xf3\\x999\\xcfy\\xe6\\xcc\\xf9\\xcc3sZ\\x01\\x13\\xe3\\xa3[\\xb7\\xf5\\x03\\xd2:\\xd1\\xdf\\x1a>8\\x11\\xdb\\x1d\\x97x\\x06\\x86\\x80\\\\\\xd2\\xf5\\x1d\\xf4\\x1f\\xc0@\\xeb\\xe8\\x93qVg<\\x16Q\\xa3\\xce\\x87\\xbc\\x80\\xba\\x0c\\x93d\\'\\x04h\\xba6\\x08\\xd7\\xc8\\x00lk$H\\xaf4\\x81\\x9a\\x93\\x17\\xe4\\xdb\\xf7\\x00\\x19K\\x8d\"\\xdf\\r\\x80dZ\\xd2\\xf4\\x88\\x05 \\xa9\\x9cV\\xa9b\\x0545\\xfe:\\x9db\\r\\x9c\\xf8\\x91\\xd6\\xe6\\xe2\\x03\\xb4\\xf0\\x1d5\\xce\\xa0\\x02<\\xbf\\xa6\\xe6\\xd2C\\x80\\xae\\x88\\xe2\\x19\\xc3P\\x80.[\\xf5t6\\x0c\\xe8\\xbe8p\\x82\\x91\\xecL\\x1c\\xbd\\xb9\\xa3\\xb1?\\x15\\xe0\\xdcCV\\xffG#\\xc2KM\\xace\\xd3\\x01\\xf2A7\\xdbD\\x06 \\xaa\\xd5 \\xf1\\x89\\xc0V\\x9evFM\\x03P:umD\\xb0\\x19H/_\\x7f\\xf8`7\\xc0\\x987)S|\\x0f\\xc8t\\xec\\xe99\\xc7\\xeb\\x82\\x9cdRp\\xaaI\\x008f}\\xb1\\xb7P\\x0cxkW\\xff\\xa6B\\n\\xf8Ux\\xa9\\xf8\\x92\\x1c\\xb0\\xe3\\x11\\xdf\\xa1\\x03*\\x80f\\xc5w\\x8a\\xa1\\x03@\\xe7,\\xbd\\x9a\\x1b\\xeeB$\\x15\\x12\\xc6[\\x8f\\x03\\xea<_\\x93z\\xdf\\x01\\xa6\\x9b\\xaa\\x17^|\\x04\\x92\\xd9G\\xc2f\\x86\\x89v\\xc8\\x91\\xf7L\\x7f\\x02\\xc1\\xf5\\x11\\xf1NKD\\xa7\\xccE\\xadV\\x0eW\\x0c\\x00\\xe1\\x81\\xea$~\\xa0\\xf5\\xf9\\xb5\\xa7\\xdb\\x04\\x80\\x88\\x8d\\xff\\x91\\x9e\\x0b\\x01*\\xd1\\xc51C\\x048\\x94\\x03\\x94RE\\x80\\x98#\\x1f=\\x99\\xb2\\x80SCX\\xd7A\\'\\xa0@\\xa3=N\\xc3\\x0b\\x88\\xbc\\xb3\"\\x9e3\\x08\\xd8\\xa6\\xd4#\\xf9#\\x0b\\xe8\\xf4\\xe2\\x8cV\\xbd\\x02$\\x0eJ\\x1a\\x9c\\xcfu%vG\\x8d\\xda-\\x8a\\x81\\xdfJ\\xf5\\xad#\\x83@\\xc8\\xcb\\xd9\\xb4\\x84\\t`\\xc15]\\xadh\\x12\\xf0\\xd8\\xbeqBl\\x16X}{\\xda|\\xcd_ \\xcb\\xbb\\x92\\xef9\\x81y\\xf9\\xd7\\x06\\xde\\x02n(\\x11\\x19\\xd1\\xd9!\\x0eL\\xdc\\xb1;\\x94\\xb1\\x85\\x80\\xe3\\x97\\xc8,s\\xc0\\xec\\xa6\\xda\\xb3G\\xfb\\x80\\xf9\\xb5\\x9c\\'\\x17\\xbd\\x01q\\xb3?\\xd5\\xcf\\x0e\\x03\\xdd\\xea\\xdc\\xadC\\xe1\\x80\\xe7\\x13\\xda\\x81\\x19\\x02Z\\xd9v\\x17\\x9db\\x00\\xd1w\\xa6\\x9cU\\xe9\\xc0u\\xa9A]\\x89B \\x92c>;\\xf7\\x06\\xf0Y\\xb5C\\xcf\\xeb.\\x11n\\xe5{\\xa7\\xb2\\x12\\xd8F\\xbaV&\\xd6\\t\\xa4P=\\x16\\x8d\\xfb\\x00\\x9b^N\\x15w\\x02\\'\\xd3}\\xeeU\\x0f\\x03\\x9f\\x1e7*\\x93>\\x037\\xb3\\x0b\\xe4VO\\x00e\\x1a]\\xb7\\x18\\xeb\\xdd\\xf1\\xd1t\\xd6\\xd3\\xf4\\x12\\x03\\xf6\\xd2\\xdd\\x03\\xcfk\\x02.\\x85\\xdc\\xf3\\x1eZ\\x80}\\xea=OW3\\xe0\\x1f\\x9bY\\xd3m\\x02.\\xb1\\x91\\xdeg\\xac\\x01CJ\\xf3\\xcc>;\\x80w\\xa7\\xb7B#\\x81\\xe2[\\x8e{\\xc3\\x1d\\x01m\\xa5\\xf9\\xfb\\xfd.\\x00\\x1bG\\x84oi \\xd0\\x1f\\xfd_\\xc1b\\x08\\x10]7p?0\\x12pfl\\xeesI\\x04\\xde\\xb6\\xd8\\x04k\\xd1\\x80X\\xbb\\xdb\\x93\\x1b\\xb3\\x80\\x80\\x7f\\xd5v_\\x9e\\x11}\\xad\\xb4\\xdeg2\\n0d7q\\xb9L\\x12wh}6\\xf5\\xfd\\x94;\\xb1\\x90\\xef\\x19\\x8e\\x9f\\x06R/-\\x8f\\x97\\xcc\\x00\\xb54\\x99(%\\x96C\\xc8\\xf9\\xcb\\xf3ztE\\x00\\x15\\xfe#[\\xab\\x15\\x80\\xc9\\xa4\\x1b\\xce|\\x06@\\xc3R\\xc4!w#\\xe0\\xfc.\\xd7\\x1e.S`\\x841\\xe8\\xab\\xb5\\x0f\\xa0\\x08\\xe6iQ}\\x81\\xd9\\xb5\\xa9\\x1fL\\x8f\\x02\\x999o\\xd6\\x14F\\x02!\\n\\xcd<\\xebc\\x80Eq\\x95`\\xd5T \\xf9\\xde\\x8e\\xbbM\\xe9\\xc0\\x9e\\xb90\\x15\\xfb\\x0c`c\\xd89\\x11\\xae\\xcb@R\\xe6T\\xb3g\\x13\\x90\\x13\\xc7\\xa7\\x93\\xd3\\x02|\\x8b\\xeb\\xbe^\\xff\\x0e\\x10g\\x89\\x95b\\xfb\\x06X0o\\xd5\\x8fN\\x01\\x833\\x8e\\xd7\\xf9\\xa7\\x81G\\xa5\\xcc(\\x0f\\x1e\\x8f\\xe4\\x95\\xec\\x07\\xbfg\\xe9j\\x02C\\xabz~K\\xec\\x02\\xcc{\\xd2\\xa7E\\x9d\\x80\\x12\\x81JJ\\xbe\\x1f\\xc0\\xa3\\x1a\\x14\\xb77\\x12\\xb0\\xb7\\xbc \\xec\\x17\\x03|\\xad\\x15w\\xad\\xbb\\x004\\xd76\\x0fL\\xe7\\x01\\xc1\\x065I\\xdc\\x0c\\xa0\\x81}\\x03\\xd5\\xb9\\x1cH\\xd4\\xbb\\x92\\xcc|\\x0c\\xe4\\x90\\x03X]Z\\x01;}\\xaduN\\xc3\\xc0&\\xf6k\\xf2\\xbf\\xe6\\x81\\x07\\\\\\x8c!\\xa5?\\xc0\\xc7\\xa1~w\\x96e P\\xe7\\xd6\\x97,\\x92\\'\\x06\\xdb\\x7f\\x83\\xd9\\x8c\\x95\\xc0%\\xab\\x8fo\\xdaD\\x81\\xfa\\x7f{r\\xfb\\xc5\\x80-\\x16\\xc1G)J\\x80\\xec\\xf6g\\x9d\\x1b-\\x81\\x84}w\\x03cl\\x01\\x7f\\xc7\\x82\\\\n\\np\\xc8\\xfc\\xee\\xcb\\xb0\\x00\\xa0\\xaa\\xdc\\xcda_  f\\x91\\x9dn\\x16\\x02\\x9cf:fTF\\x03Y\\x9d\\xc6\\xfdq\\xb1\\x9e\\xc4\\xc9\\x9d\\xea\\n\\xce\\xd3\\xc0\\xd5.\\xe5t\\xed\\\\\\x80\\xd4c9\\xab\\x7f\\x83\\x08\\xd7\\xcdM\\xca+\\x07\\xaa%\\x84d\\xb9\\x1f\\x10\\x18\\xb4\\xfd\\xe0C\\xf2\\xc2\\x13\\x1b\\xe5\\xd1X#\\x03\\x04\\x1d\\xd3\\xbf\\xb7N\\x15\\x88\\xfe[p\\x9a\\xa2\\x06$O\\x8f\\x9f1\\xd9\\x058X\\xe6\\xfa.\\xebz\\x11\\xa9\\x1a\\xddrA\\x0fP\\x9cRK\\xd7\\xb2\\x00\\x9a\\xdf\\xd2\\xe3K\\x1c\\x80\\xfdb6Sa\\xbe\\xc0\\xae\\xaaM\\x07|\\xcf\\x00\\xe9\\x07\\x1eJ\\xf1\\xde\\x00\\xee\\t$OzW\\x00E\\x94\\xf4\\xcfRu\\x80ho\\x8e\\xc3\\xa7&\\xc0\\xc0C\\xdc\\xff&\\x9b7\\xf1Wq\\rg\\xb24\\xd0;q$\\xdcG\\x1e\\x08\\xd5\\x1d\\xeb\\xdb\\xa9\\x0flc\\x9f\\x0bZi\\x0e\\xc8\\xaf\\xe8o\\xfbb\\x0bd\\xe6\\xcf-\\xf8\\x1f\\x00R\\xe8\\xd1nN\\x14\\xa0Y\\x9d_+4\\x00\\xb8\\xbcb\\xb3\\xd9\\xc2q\\x80\\xa7\\xccHF1\\x06\\xf8\\x99\\xc2)u\\x83\\x06|\\xe4\\xafr\\xa4d\\x02kIo\\xc7\\x96\\xae\\x01G\\x8e\\x9b::\\xb5\\x02\\x11\\x96\\x8d153Dec]m\\xea<Q\\x12\\xcb\\x95\\x9d\\xb2\\xc6\\'y\\xe5\\xd8\\x9f\\xf7\\x06\\x12|\\x80\\xc9\\xf8!\\x9dAq\\xe0\\xdf*!a\\x1bK\\xe0]\\x91\\xcfK\\xa7 ``O]I\\x10\\x15\\xf8\\xee\\x9b\\xda \\x18JD\\xdd\\xa9\\xbb\\x1f\\x9d\\x008M\\xc5\\xb1Y\\x9e\\x03\\x8a\\x926eL\\x12\\x08+\\x0cSU\\xcf\\x06Rh\\x8f4O\\x14\\x01\\xb4\\xd9\\xcds\\xd4n`\\xc1\\xe3\\x1fMg\\x12\\x08\\xd6\\xebu2\\x98\\x07\\xe6\\x04\\xc6V|\"\\xe0d/d&\\xb1\\x048>\\x17~\\xa1@\\xa06.u\\xba\\x9a\\x8d\\x82\\xf0~\\xb9Q+Y\\xe0\\x1c]\\xa1\\xd6F\\x01\\xd89\\xb4]\\xed\\x86\\x01\\x10\\xbb\\x81\\x96\\xcf0%J\\x1e-sDx\\x00\\x9e\\xa5gl\\xdf\\x05\\x00\\x9cL\\xe6\\x16\\x8f \\xc0W\\xcc\\x8b7+\\x04\\xe8\\xdd\\xfd\\xe6\\xb0_$\\xc0b\\x15s\\xfee\\x1c\\xf0\\xa0\\xbe)|\\xe0\"P)Ik\\xdb_\\t\\xec\\xb8=\\xdc\\xe1\\xf6\\x18\\xf0\\x89\\xee\\xbb\\x14\\xd4\\x00\\x18/\\x84\\xfc\\\\\\xf1\\x1a\\xe0\\xaa)\\xa4\\xc76\\x03_\\x03r\\x16\\xab\\xdb\\x00]\\x85\\x80\\xb1e\\x02\\x15\\xfck}\\xe4\\xde\\x03t\\xd2\\xca\\x8b6\\x83@\\x89QKE\\xfe\\x1c\\xf0\\xc2XtI\\x8f\\xd7\\x17K\\xce\\xddG\\xefdI\\x02c\\x01\\xf7\\x17\\xbb\\x8d\\x00\\xfab\\xc8:Ck@]RzJ\\xc1\\x16\\x90>&\\xbd\\x99\\xe7\\x10\\xb0\\xb4S[O\\x92\\n|~\\xc3\\xd7\\x95I\\xe0tVg\\xf1h\\x12\\xc0\\xd5\\x9f\\xcbYq\\x1e \\xdf\\xea\\xbb\\x1cK\\x07\\xc4N\\xe7\\xb0&\\xe4\\xfb\\x12\\x87[\\xbf\\x16v\\xdc\\x05\\x1a\\xb8\\xd4\\xc6d\\xee\\x03m\\xa9\\xb4\\xb4\\xe6j\\x80c\\x90\\xcfvs\\x1f0\\xe5\\xc3h\\x8f\\x1a\\x00\\\\<3\\xbe-\\x0c\\x03B\\xa7f\\xca>\\xfe\\x00\\xbeY6D)N\\x01\\xb44r\\x1b\\xf3\\x0fp\\x80l^n\\xc0\\xee\\x87%\\xa7g\\x88\\x9247\\xf0\\xde3\\xee\\xbc\\x87\\x12\\xd0\\xa6o\\xfd\\xaaE\\x07\\x18:k\\x986\\xaf\\x0b\\xc4\\xb5\\xae\\xd1\\xca\\xd8\\rl\\x8b\\x142\\xa2\\x18\\x019\\xef\\xd5~\\xf2:\\x03&K\\x0f\\x87\\x12\\x82\\x00=\\'\\xaf\\x0fu\\x046\\xabV\\xc50\\xa8\\xc0\\xc43\\x91\\x89\\x98\\x13\\xc0\\xbc\\xa1<{M<\\x10q\\x99\\xe6\\xd7\\x9f\\x08\\xac>\\x13\\x1eq\\xff\\x1c`}V\\xc9Y=\\x07\\xb0[\\xfc\\xfc7\\xee\\x0e\\xa0>Z=\\x9eY\\x01\\x94\\xed:\\xfei\\xe4)\\x10\\xaa\\x14s\\xeaC7@\\xa5\\x97}\\xdb\\xd2O\\xdc\\x8f\\xb3=\\xbf\\xf2\\x00\\xb0\\x835T)\\x7f\\x08h:\\xe9\\xdb\\xc1\\x1c\\'\\xa2\\xde\\x16\\xdar\\xce\\x02u\\xe5\\x9ci{\\x97\\x01\\xb3Ak\\xca\\x07>\\x7fL_\\xb3\\xd9\\xf4\\xba-\\x80~\\x89v\\xc6\\x90.\\xd05\\x90\\xf6\\x90I\\x06l\\x92k\\x9d\\x95\\xcd\\x81\\xb5\\x05\\xd6\\x02\\x0e\\xd6\\x00\\x9fB\\x9a\\xa2\\x953\\xd0\\x18\\xdf\\xee\\xa8\\xe5\\t\\xc4\\xc4\\x18\\x92m#\\x00n=\\xd69\\x07\\x1ap\\xa0!\\xc2P\\xef\\n\\xb0\\xb7\\x8b\\xbf\\xdf\\xad\\x18h\\xab\\xf8D\\xef(\\x03Vi\\xa5\\xbdP|\\t\\x14L\\xac3\\x8c\\xeb\\x06\\xe8\\x8d\\x1d\\xad\\x8a\\x1f\\x01;S\\x96\\xdd\\xdd\\xa4\\x00L\\x05\\x14\\xee\\xfdE\\xc2\\x80\\xc1\\xb4\\xbf\\xfb\\x9c&\\xb0U\\x81\\xc7q\\xd1\\t\\xe0P\\x99\\xca\\xd5v\\x01\\xca\\xfe>\\xa9\\xe8\\xf7\\x00N\\x15\\xa8\\xb5\\xa4P\\x80\\x91\\xc0c\\x8f\\xa5\\xfc\\x00s\\x99\\x94\\xfa\\xe6\\x00\\xc0\\x99\\xcc\\x1e%\\x9cB4\\xe8Bu\\x8fK\\x05\\xe8\\x07\\xb9\\'J\\xae\\x00\\xf5\\xfe9\\x1b\\xb2\\x19\\xc0k\\xf1\\xd5\\'\\x995@^\\xde\\x8f\\xc3\\x92\\xcf\\x80\\x81\\xeff\\x92}\\xaf\\x81#\\xb3U7\\x9f\\xf6\\x02\\xbb^\\x05\\xbd\\xd6c\\x0f\\xc4{\\x9a1e4\\xc1\\td\\xbc\\xa0\\x16\\xfd\\xe2\\x02\\x8cgg3\\x0b\\xf8\\x81|v\\xf2\\xed\\xbbb\\xc0\\t\\r6\\xb2\\xa4>\\x10\\xa9&w\\xa2\\xd4\\x128W[tR\\xd3\\x06\\x90\\xb6\\x9f?\\x9cm\\x0b\\xb0482e\\xbc\\x00\\xdau2\\xc3\\xe6\\x14\\xb0\\xbeRj\\xdd\\xd8\\x05@\\xc4\\xe4\\xc1\\xd3\\xc75@\\x14\\xa9\\xe3\\xef\\xee: \\xf4\\xdeZ\\x0f\\xd9a@g\\xf9!Sy\\x16\\x08\\xa4\\x06\\xd7\\xeb\\xf1\\x04%\\xaf|\\xe8\\xdd\\xd7\\xd9L\\xe0\\xe7\\xba\\x03\\xef\\xe4\\x05\\x01\\xb3\\x07\\xd9r\\xe7\\xd6\\x01V\\xe3*e\\x9d\\xaa\\x00\\x95\\xd4$8I@wA8\\xa8\\\\\\x1b\\xa8bQ\\xe1~d\\x10D\\xfcTJ\\x16Q\\xb2\\x04\\x14\\x86\\x8f\\xeb\\x1c\\xa4\\x00\\xfa\\xac\\x14\\xeb0*\\x90\\xf3\\xe6\\xef\\xbd\\xe1p\\xe0jj\\x12E\\'\\x8a\\xb8\\xe4\\xff5O2\\x1e\\xb8\\xfc\\x81\\x16\\xdcU\\n\\x9cRnkky\\x0c\\x08\\xda\\xdf\\xdc+Z\\x07\\xa4\\x0bL\\xbeV#`\\xee\\xf6B\\xa3\\xb5\\x01\\xd8\\xd0\\xb6m\\xb9\\xb1\\x11X\\xd6\\x1d\\xb4\\xe3\\x18\\x07\\xee\\x1f\\x19\\xd2\\xefb\\rF\\xb6\\xe32m\\xb1\\xb4\\x1d\\xe8\\xbd\\x1b*}B\\x0b\\xf8S\\x11\\xb1o0\\x14`\\x8b\\xe0\\x08\\xd6I\\x04D\\xc9\\x1e\\xce_\\xd3\\x01\\xd2\\x88u\\xeb\\xd3+@\\xfeo\\xed\\'\\xd1\\xaf\\x803\\x17\\xfc\\x02s\\xe6\\x01\\xaf\\x89\\x0b\\x9f5\\xb9\\x0f#\\xb5n\\xb6\\x9a(\\x12\\x04\\xce]!\\x87W\\xfe\\x1f6;\\x0f\\xb2\\x89\\x01\\xfe*\\x15\\xbd\":\\xc0\\x8e\\xab\\x83\\x1e\\xdb<\\x81\\x01\\xc58\\xed\\'\\x91\\xc0j\\xbb\\x1e\\x8b\\xe6x\\x80\\xdfV\\xa3\\xa0\\xa8\\x18(7\\xbd\\x16Fk\\x04\\x02\\xc2\\x8e\\xc7\\x9c\\xe9\\x04\\xcccu\\xa4\\x97G\\x89:\\xbe\\xbb\\xc7\\xecg\\x80O\\xeb\\xea\\xeaLE\\xa8\\xc4I\\x99\\xf33\"M\\t\"T\\x8c\\xd6\\xdan\\xf7\\xe3\\xd2\\x00+\\xe5xq\\xaf>\\xa01u\\xed\\xdfF3`B\\x8e\\xc4Ro\\x01t\\xfd4\\x16\\xd4\\t\\x01njE\\x89\\x99\\xd1\\x80\\xb2\\x01\\xb9\\xfdm\\x17\\x89\\xa8Q\\xb3F\\xb3l\\xe0\\x0e\\xdf\\xcc\\x0c/\\x03\\xf0\\\\\\xfa\\xc2_\\xf5\\x04(\\xecM\\xce{Z\\x0b<g{\\xe9\\xdaS\\x07<\\xd9\\xf5k\\x9fH7\\xa0\\xa5\\x1dR[\\xd4\\x03X\\x1f\\x0b.w\\x1b\\x03\\x12.H\\xaeU\\xfe\\x01\\\\\\xea\\x9e\\x14^\\xf5\\x1bx\\xf5\\x98\\xf7\\xb6\\xe2\"\\xf0s\\x05S\\x8a&\\x14\\x82)v\\xb5\\x91\\x85\\x9c\\x08P\\x1e)k\\xe7\\xb5\\x11\\x90\\xba\\xbc\\xc2w\\xc6\\x94\\x80\\xe3-\\xb2\\x835p=\\xd3\\xc6\\xff\\xd2Q`\\xb2B\\xbe($\\x11\\xa8/c\\xcb\\xf1\\xac\\x00\\xdaw\\n1U\\x1f\\x03,\\xc3\\x9d\\xb7\\xefW\\x035\\n\\xcf\\xbf\\xd5\\xb6\\x03\\xee\\xd2\\xe6-\\xbb\\x06\\x81\\xbe\\xc3\\x87\\xea\\xfc\\xc6\\x80U\\xce\\xb2g\\x13\\x17\\x81R\\xc5W\\xe9\\xc9\\x04\\x14\\rS\\xa26\\x19\\x86b\\x8a\\xa5\\x84\\xaa\\xf3\\xd9\\x025N;.\\xf3\\xec\\x07bn+\\xf8\\xbc\\x8f\\x00\\x8e\\xb1Ht\\x0f\\x13\\xe0K\\xe8\\x8d\\x10\\xcf\\x04\\xee\\xfe\\xe9\\xdf\\xfe&\\x07\\x88\\x17\\x9e\\xba*\\x97\\x0b|U\\xf17yM@\\xf7WP\\x83d\\t@_\\x1d\\xc4*}\\x13\\xe0\\x91\\xcd\\xbf^R\\x05\\xc8/\\x04\\xda\\x8d\\x13\\xb0\\xaf5\\xb9\\xa5R\\x1d\\xeasT\\xe9\\x7f\\xb9\\xa3\\xe1\\x9c'"
      ]
     },
     "execution_count": 32,
     "metadata": {},
     "output_type": "execute_result"
    }
   ],
   "source": [
    "knowledge_dict['month']['6']"
   ]
  },
  {
   "cell_type": "code",
   "execution_count": 30,
   "metadata": {},
   "outputs": [],
   "source": [
    "hll_test = HyperLogLog(0.01)"
   ]
  },
  {
   "cell_type": "code",
   "execution_count": 31,
   "metadata": {},
   "outputs": [],
   "source": [
    "hll_test.__setstate__( HyperLogLog.deserialize(knowledge_dict['gender']['Female']) )"
   ]
  },
  {
   "cell_type": "code",
   "execution_count": 53,
   "metadata": {},
   "outputs": [],
   "source": [
    "hll_test_2 = HyperLogLog(0.01)\n",
    "hll_test_2.__setstate__( HyperLogLog.deserialize(knowledge_dict['month']['7']) )"
   ]
  },
  {
   "cell_type": "code",
   "execution_count": 54,
   "metadata": {},
   "outputs": [
    {
     "data": {
      "text/plain": [
       "360552"
      ]
     },
     "execution_count": 54,
     "metadata": {},
     "output_type": "execute_result"
    }
   ],
   "source": [
    "HyperLogLog.get_intersection_card( [hll_test, hll_test_2] )"
   ]
  },
  {
   "cell_type": "code",
   "execution_count": 59,
   "metadata": {},
   "outputs": [],
   "source": [
    "def get_min_card(x):\n",
    "    return min( [ hll.card() for hll in x ] )\n",
    "\n",
    "def containment(x):\n",
    "    int_card = HyperLogLog.get_intersection_card(x)\n",
    "    return [int_card / len(i) for i in x]"
   ]
  },
  {
   "cell_type": "code",
   "execution_count": 60,
   "metadata": {},
   "outputs": [
    {
     "data": {
      "text/plain": [
       "[0.15116641294217137, 0.2791739192378451]"
      ]
     },
     "execution_count": 60,
     "metadata": {},
     "output_type": "execute_result"
    }
   ],
   "source": [
    "containment([hll_test, hll_test_2])"
   ]
  },
  {
   "cell_type": "code",
   "execution_count": 61,
   "metadata": {},
   "outputs": [
    {
     "data": {
      "text/plain": [
       "0.10865771885734353"
      ]
     },
     "execution_count": 61,
     "metadata": {},
     "output_type": "execute_result"
    }
   ],
   "source": [
    "HyperLogLog.get_corrected_jaccard([hll_test, hll_test_2])"
   ]
  },
  {
   "cell_type": "code",
   "execution_count": null,
   "metadata": {},
   "outputs": [],
   "source": []
  },
  {
   "cell_type": "code",
   "execution_count": null,
   "metadata": {},
   "outputs": [],
   "source": [
    "# hll_test2 = HyperLogLog(0.01)\n",
    "# hll_test2.setstate_from_serialized_list( [ knowledge_dict['month']['1']], \n",
    "#                                                   #knowledge_dict['month']['1'] ], \n",
    "#                                                 operation='or',\n",
    "#                                                 return_len=True  )"
   ]
  },
  {
   "cell_type": "code",
   "execution_count": 38,
   "metadata": {},
   "outputs": [],
   "source": [
    "data_list = []\n",
    "\n",
    "for month in knowledge_dict['month']:\n",
    "    for gender in knowledge_dict['gender']:\n",
    "        hll_test = HyperLogLog(0.01)\n",
    "        hll_test.__setstate__( HyperLogLog.deserialize(knowledge_dict['gender'][gender]) )\n",
    "        hll_test_2 = HyperLogLog(0.01)\n",
    "        hll_test_2.__setstate__( HyperLogLog.deserialize(knowledge_dict['month'][month]) )\n",
    "        card_int = HyperLogLog.get_intersection_card( [hll_test, hll_test_2] )\n",
    "        data_list.append( [month, gender, card_int] )"
   ]
  },
  {
   "cell_type": "code",
   "execution_count": 39,
   "metadata": {},
   "outputs": [
    {
     "name": "stdout",
     "output_type": "stream",
     "text": [
      "|    |   month | gender   |   card estimate |\n",
      "|----|---------|----------|-----------------|\n",
      "|  0 |       1 | Female   |           51188 |\n",
      "|  1 |       1 | Male     |          222455 |\n",
      "|  2 |       2 | Female   |           59210 |\n",
      "|  3 |       2 | Male     |          246677 |\n",
      "|  4 |       3 | Female   |           93464 |\n",
      "|  5 |       3 | Male     |          340408 |\n",
      "|  6 |       4 | Female   |          141403 |\n",
      "|  7 |       4 | Male     |          476394 |\n",
      "|  8 |       5 | Female   |          212724 |\n",
      "|  9 |       5 | Male     |          668272 |\n",
      "| 10 |       6 | Female   |          321649 |\n",
      "| 11 |       6 | Male     |          871597 |\n",
      "| 12 |       7 | Female   |          360552 |\n",
      "| 13 |       7 | Male     |          930521 |\n",
      "| 14 |       8 | Female   |          356013 |\n",
      "| 15 |       8 | Male     |          952413 |\n",
      "| 16 |       9 | Female   |          313715 |\n",
      "| 17 |       9 | Male     |          879395 |\n",
      "| 18 |      10 | Female   |          246669 |\n",
      "| 19 |      10 | Male     |          759524 |\n",
      "| 20 |      11 | Female   |          141407 |\n",
      "| 21 |      11 | Male     |          509001 |\n",
      "| 22 |      12 | Female   |           76642 |\n",
      "| 23 |      12 | Male     |          321145 |\n"
     ]
    }
   ],
   "source": [
    "df_inter = pd.DataFrame( data_list, columns=['month','gender','card estimate'] )\n",
    "df_inter['month'] = df_inter['month'].astype(int)\n",
    "df_inter = df_inter.sort_values(['month','gender']).reset_index(drop=True)\n",
    "print( df_inter.to_markdown(tablefmt=\"github\") )"
   ]
  },
  {
   "cell_type": "code",
   "execution_count": 41,
   "metadata": {},
   "outputs": [
    {
     "name": "stdout",
     "output_type": "stream",
     "text": [
      "CPU times: user 413 ms, sys: 55.6 ms, total: 469 ms\n",
      "Wall time: 10.1 s\n",
      "|    |   month | gender   |   trip_id |\n",
      "|----|---------|----------|-----------|\n",
      "|  0 |       1 | Female   |     50003 |\n",
      "|  1 |       1 | Male     |    221712 |\n",
      "|  2 |       2 | Female   |     60649 |\n",
      "|  3 |       2 | Male     |    245326 |\n",
      "|  4 |       3 | Female   |     92346 |\n",
      "|  5 |       3 | Male     |    345583 |\n",
      "|  6 |       4 | Female   |    144702 |\n",
      "|  7 |       4 | Male     |    476986 |\n",
      "|  8 |       5 | Female   |    216973 |\n",
      "|  9 |       5 | Male     |    652611 |\n",
      "| 10 |       6 | Female   |    319679 |\n",
      "| 11 |       6 | Male     |    858546 |\n",
      "| 12 |       7 | Female   |    355774 |\n",
      "| 13 |       7 | Male     |    923731 |\n",
      "| 14 |       8 | Female   |    356374 |\n",
      "| 15 |       8 | Male     |    948329 |\n",
      "| 16 |       9 | Female   |    314032 |\n",
      "| 17 |       9 | Male     |    875939 |\n",
      "| 18 |      10 | Female   |    244807 |\n",
      "| 19 |      10 | Male     |    752905 |\n",
      "| 20 |      11 | Female   |    145102 |\n",
      "| 21 |      11 | Male     |    498454 |\n",
      "| 22 |      12 | Female   |     78234 |\n",
      "| 23 |      12 | Male     |    316438 |\n"
     ]
    }
   ],
   "source": [
    "%time ddf_gb = ddf.groupby(['month','gender'])['trip_id'].count().compute().reset_index()\n",
    "ddf_gb['month'] = ddf_gb['month'].astype(int)\n",
    "print(  ddf_gb.to_markdown(tablefmt=\"github\") )"
   ]
  },
  {
   "cell_type": "code",
   "execution_count": null,
   "metadata": {},
   "outputs": [],
   "source": []
  },
  {
   "cell_type": "code",
   "execution_count": 42,
   "metadata": {},
   "outputs": [
    {
     "name": "stdout",
     "output_type": "stream",
     "text": [
      "|    |   month | gender   |   card estimate |   card actual | percent diff   |\n",
      "|----|---------|----------|-----------------|---------------|----------------|\n",
      "|  0 |       1 | Female   |           51188 |         50003 | -2.37%         |\n",
      "|  1 |       1 | Male     |          222455 |        221712 | -0.34%         |\n",
      "|  2 |       2 | Female   |           59210 |         60649 | 2.37%          |\n",
      "|  3 |       2 | Male     |          246677 |        245326 | -0.55%         |\n",
      "|  4 |       3 | Female   |           93464 |         92346 | -1.21%         |\n",
      "|  5 |       3 | Male     |          340408 |        345583 | 1.5%           |\n",
      "|  6 |       4 | Female   |          141403 |        144702 | 2.28%          |\n",
      "|  7 |       4 | Male     |          476394 |        476986 | 0.12%          |\n",
      "|  8 |       5 | Female   |          212724 |        216973 | 1.96%          |\n",
      "|  9 |       5 | Male     |          668272 |        652611 | -2.4%          |\n",
      "| 10 |       6 | Female   |          321649 |        319679 | -0.62%         |\n",
      "| 11 |       6 | Male     |          871597 |        858546 | -1.52%         |\n",
      "| 12 |       7 | Female   |          360552 |        355774 | -1.34%         |\n",
      "| 13 |       7 | Male     |          930521 |        923731 | -0.74%         |\n",
      "| 14 |       8 | Female   |          356013 |        356374 | 0.1%           |\n",
      "| 15 |       8 | Male     |          952413 |        948329 | -0.43%         |\n",
      "| 16 |       9 | Female   |          313715 |        314032 | 0.1%           |\n",
      "| 17 |       9 | Male     |          879395 |        875939 | -0.39%         |\n",
      "| 18 |      10 | Female   |          246669 |        244807 | -0.76%         |\n",
      "| 19 |      10 | Male     |          759524 |        752905 | -0.88%         |\n",
      "| 20 |      11 | Female   |          141407 |        145102 | 2.55%          |\n",
      "| 21 |      11 | Male     |          509001 |        498454 | -2.12%         |\n",
      "| 22 |      12 | Female   |           76642 |         78234 | 2.03%          |\n",
      "| 23 |      12 | Male     |          321145 |        316438 | -1.49%         |\n"
     ]
    }
   ],
   "source": [
    "df_merge = df_inter.merge( ddf_gb, on=['month','gender'] ).rename(columns={'trip_id':'card actual'})\n",
    "df_merge['percent diff'] = 100*(df_merge['card actual'] - df_merge['card estimate'])/ df_merge['card actual']\n",
    "df_merge['percent diff'] = df_merge['percent diff'].round(2).map(lambda x:str(x)+'%')\n",
    "print( df_merge.to_markdown(tablefmt=\"github\") )"
   ]
  },
  {
   "cell_type": "code",
   "execution_count": null,
   "metadata": {},
   "outputs": [],
   "source": []
  },
  {
   "cell_type": "code",
   "execution_count": 129,
   "metadata": {},
   "outputs": [],
   "source": [
    "data_list = []\n",
    "\n",
    "for month in knowledge_dict['month']:\n",
    "    for gender in knowledge_dict['gender']:\n",
    "        hll_test = HyperLogLog(0.01)\n",
    "        hll_test.__setstate__( HyperLogLog.deserialize(knowledge_dict['gender'][gender]) )\n",
    "        hll_test_2 = HyperLogLog(0.01)\n",
    "        hll_test_2.__setstate__( HyperLogLog.deserialize(knowledge_dict['month'][month]) )\n",
    "        card_int = HyperLogLog.get_corrected_jaccard( [hll_test, hll_test_2] )\n",
    "        data_list.append( [month, gender, card_int] )"
   ]
  },
  {
   "cell_type": "code",
   "execution_count": 130,
   "metadata": {},
   "outputs": [
    {
     "name": "stdout",
     "output_type": "stream",
     "text": [
      "|    |   month | gender   |   jaccard |\n",
      "|----|---------|----------|-----------|\n",
      "|  0 |       1 | Female   | 0.092428  |\n",
      "|  1 |       1 | Male     | 0.112873  |\n",
      "|  2 |       2 | Female   | 0.0659048 |\n",
      "|  3 |       2 | Male     | 0.092337  |\n",
      "|  4 |       3 | Female   | 0.0546939 |\n",
      "|  5 |       3 | Male     | 0.0565052 |\n",
      "|  6 |       4 | Female   | 0.0323404 |\n",
      "|  7 |       4 | Male     | 0.0502658 |\n",
      "|  8 |       5 | Female   | 0.0229682 |\n",
      "|  9 |       5 | Male     | 0.0348837 |\n",
      "| 10 |       6 | Female   | 0.0178333 |\n",
      "| 11 |       6 | Male     | 0.0310529 |\n",
      "| 12 |       7 | Female   | 0.113228  |\n",
      "| 13 |       7 | Male     | 0.116043  |\n",
      "| 14 |       8 | Female   | 0.0924609 |\n",
      "| 15 |       8 | Male     | 0.119137  |\n",
      "| 16 |       9 | Female   | 0.102261  |\n",
      "| 17 |       9 | Male     | 0.118926  |\n",
      "| 18 |      10 | Female   | 0.0275506 |\n",
      "| 19 |      10 | Male     | 0.0419682 |\n",
      "| 20 |      11 | Female   | 0.0538026 |\n",
      "| 21 |      11 | Male     | 0.0643777 |\n",
      "| 22 |      12 | Female   | 0.0796887 |\n",
      "| 23 |      12 | Male     | 0.0978824 |\n"
     ]
    }
   ],
   "source": [
    "df_jac = pd.DataFrame( data_list, columns=['month','gender','jaccard'] )\n",
    "df_jac['month'] = df_jac['month'].astype(int)\n",
    "df_jac = df_jac.sort_values(['month','gender']).reset_index(drop=True)\n",
    "print( df_jac.to_markdown(tablefmt=\"github\") )"
   ]
  },
  {
   "cell_type": "code",
   "execution_count": 139,
   "metadata": {},
   "outputs": [
    {
     "data": {
      "text/html": [
       "<div>\n",
       "<style scoped>\n",
       "    .dataframe tbody tr th:only-of-type {\n",
       "        vertical-align: middle;\n",
       "    }\n",
       "\n",
       "    .dataframe tbody tr th {\n",
       "        vertical-align: top;\n",
       "    }\n",
       "\n",
       "    .dataframe thead th {\n",
       "        text-align: right;\n",
       "    }\n",
       "</style>\n",
       "<table border=\"1\" class=\"dataframe\">\n",
       "  <thead>\n",
       "    <tr style=\"text-align: right;\">\n",
       "      <th></th>\n",
       "      <th>jaccard</th>\n",
       "    </tr>\n",
       "    <tr>\n",
       "      <th>gender</th>\n",
       "      <th></th>\n",
       "    </tr>\n",
       "  </thead>\n",
       "  <tbody>\n",
       "    <tr>\n",
       "      <th>Female</th>\n",
       "      <td>0.446467</td>\n",
       "    </tr>\n",
       "    <tr>\n",
       "      <th>Male</th>\n",
       "      <td>0.553533</td>\n",
       "    </tr>\n",
       "  </tbody>\n",
       "</table>\n",
       "</div>"
      ],
      "text/plain": [
       "         jaccard\n",
       "gender          \n",
       "Female  0.446467\n",
       "Male    0.553533"
      ]
     },
     "execution_count": 139,
     "metadata": {},
     "output_type": "execute_result"
    }
   ],
   "source": [
    "df_jac_gb = df_jac.groupby( 'gender' ).agg( {'jaccard':'sum'} )\n",
    "df_jac_gb / df_jac_gb.sum()"
   ]
  },
  {
   "cell_type": "code",
   "execution_count": 142,
   "metadata": {},
   "outputs": [
    {
     "data": {
      "text/html": [
       "<div>\n",
       "<style scoped>\n",
       "    .dataframe tbody tr th:only-of-type {\n",
       "        vertical-align: middle;\n",
       "    }\n",
       "\n",
       "    .dataframe tbody tr th {\n",
       "        vertical-align: top;\n",
       "    }\n",
       "\n",
       "    .dataframe thead th {\n",
       "        text-align: right;\n",
       "    }\n",
       "</style>\n",
       "<table border=\"1\" class=\"dataframe\">\n",
       "  <thead>\n",
       "    <tr style=\"text-align: right;\">\n",
       "      <th></th>\n",
       "      <th>jaccard</th>\n",
       "    </tr>\n",
       "    <tr>\n",
       "      <th>month</th>\n",
       "      <th></th>\n",
       "    </tr>\n",
       "  </thead>\n",
       "  <tbody>\n",
       "    <tr>\n",
       "      <th>1</th>\n",
       "      <td>0.121379</td>\n",
       "    </tr>\n",
       "    <tr>\n",
       "      <th>2</th>\n",
       "      <td>0.093556</td>\n",
       "    </tr>\n",
       "    <tr>\n",
       "      <th>3</th>\n",
       "      <td>0.065743</td>\n",
       "    </tr>\n",
       "    <tr>\n",
       "      <th>4</th>\n",
       "      <td>0.048839</td>\n",
       "    </tr>\n",
       "    <tr>\n",
       "      <th>5</th>\n",
       "      <td>0.034203</td>\n",
       "    </tr>\n",
       "    <tr>\n",
       "      <th>6</th>\n",
       "      <td>0.028903</td>\n",
       "    </tr>\n",
       "    <tr>\n",
       "      <th>7</th>\n",
       "      <td>0.135550</td>\n",
       "    </tr>\n",
       "    <tr>\n",
       "      <th>8</th>\n",
       "      <td>0.125101</td>\n",
       "    </tr>\n",
       "    <tr>\n",
       "      <th>9</th>\n",
       "      <td>0.130771</td>\n",
       "    </tr>\n",
       "    <tr>\n",
       "      <th>10</th>\n",
       "      <td>0.041101</td>\n",
       "    </tr>\n",
       "    <tr>\n",
       "      <th>11</th>\n",
       "      <td>0.069871</td>\n",
       "    </tr>\n",
       "    <tr>\n",
       "      <th>12</th>\n",
       "      <td>0.104984</td>\n",
       "    </tr>\n",
       "  </tbody>\n",
       "</table>\n",
       "</div>"
      ],
      "text/plain": [
       "        jaccard\n",
       "month          \n",
       "1      0.121379\n",
       "2      0.093556\n",
       "3      0.065743\n",
       "4      0.048839\n",
       "5      0.034203\n",
       "6      0.028903\n",
       "7      0.135550\n",
       "8      0.125101\n",
       "9      0.130771\n",
       "10     0.041101\n",
       "11     0.069871\n",
       "12     0.104984"
      ]
     },
     "execution_count": 142,
     "metadata": {},
     "output_type": "execute_result"
    }
   ],
   "source": [
    "df_jac_gb = df_jac.groupby( 'month' ).agg( {'jaccard':'sum'} )\n",
    "(df_jac_gb / df_jac_gb.sum())"
   ]
  },
  {
   "cell_type": "code",
   "execution_count": null,
   "metadata": {},
   "outputs": [],
   "source": []
  },
  {
   "cell_type": "code",
   "execution_count": 37,
   "metadata": {},
   "outputs": [],
   "source": [
    "data_list = []\n",
    "\n",
    "for month in knowledge_dict['month']:\n",
    "    for gender in knowledge_dict['gender']:\n",
    "        hll_test = HyperLogLog(0.01)\n",
    "        hll_test.__setstate__( HyperLogLog.deserialize(knowledge_dict['gender'][gender]) )\n",
    "        card_1 = len( hll_test )\n",
    "        hll_test_2 = HyperLogLog(0.01)\n",
    "        hll_test_2.__setstate__( HyperLogLog.deserialize(knowledge_dict['month'][month]) )\n",
    "        card_2 = len( hll_test_2 )\n",
    "        hll_test.update( hll_test_2 )\n",
    "        card_int = len(hll_test)\n",
    "        data_list.append( [month, gender, card_1, card_2, card_int] )"
   ]
  },
  {
   "cell_type": "code",
   "execution_count": 38,
   "metadata": {},
   "outputs": [
    {
     "name": "stdout",
     "output_type": "stream",
     "text": [
      "|    |   month | gender   |   card_gender |   card_month |   card_union |   card_int |\n",
      "|----|---------|----------|---------------|--------------|--------------|------------|\n",
      "|  0 |       1 | Female   |       2385133 |       274193 |      2614730 |      44596 |\n",
      "|  1 |       1 | Male     |       7225758 |       274193 |      7283434 |     216517 |\n",
      "|  2 |       2 | Female   |       2385133 |       312568 |      2620227 |      77474 |\n",
      "|  3 |       2 | Male     |       7225758 |       312568 |      7282500 |     255826 |\n",
      "|  4 |       3 | Female   |       2385133 |       441290 |      2718832 |     107591 |\n",
      "|  5 |       3 | Male     |       7225758 |       441290 |      7307849 |     359199 |\n",
      "|  6 |       4 | Female   |       2385133 |       624772 |      2850239 |     159666 |\n",
      "|  7 |       4 | Male     |       7225758 |       624772 |      7373695 |     476835 |\n",
      "|  8 |       5 | Female   |       2385133 |       874166 |      3025513 |     233786 |\n",
      "|  9 |       5 | Male     |       7225758 |       874166 |      7435712 |     664212 |\n",
      "| 10 |       6 | Female   |       2385133 |      1194744 |      3258980 |     320897 |\n",
      "| 11 |       6 | Male     |       7225758 |      1194744 |      7554437 |     866065 |\n",
      "| 12 |       7 | Female   |       2385133 |      1291496 |      3318241 |     358388 |\n",
      "| 13 |       7 | Male     |       7225758 |      1291496 |      7563139 |     954115 |\n",
      "| 14 |       8 | Female   |       2385133 |      1306016 |      3319401 |     371748 |\n",
      "| 15 |       8 | Male     |       7225758 |      1306016 |      7589396 |     942378 |\n",
      "| 16 |       9 | Female   |       2385133 |      1193059 |      3256143 |     322049 |\n",
      "| 17 |       9 | Male     |       7225758 |      1193059 |      7556174 |     862643 |\n",
      "| 18 |      10 | Female   |       2385133 |      1007564 |      3145852 |     246845 |\n",
      "| 19 |      10 | Male     |       7225758 |      1007564 |      7471027 |     762295 |\n",
      "| 20 |      11 | Female   |       2385133 |       649321 |      2878603 |     155851 |\n",
      "| 21 |      11 | Male     |       7225758 |       649321 |      7361839 |     513240 |\n",
      "| 22 |      12 | Female   |       2385133 |       395706 |      2694820 |      86019 |\n",
      "| 23 |      12 | Male     |       7225758 |       395706 |      7307332 |     314132 |\n"
     ]
    }
   ],
   "source": [
    "df_card = pd.DataFrame( data_list, columns=['month','gender','card_gender','card_month','card_union'] )\n",
    "df_card['month'] = df_card['month'].astype(int)\n",
    "df_card['card_int'] = df_card['card_gender'] + df_card['card_month'] - df_card['card_union']\n",
    "df_card = df_card.sort_values(['month','gender']).reset_index(drop=True)\n",
    "print( df_card.to_markdown(tablefmt=\"github\") )"
   ]
  },
  {
   "cell_type": "code",
   "execution_count": 40,
   "metadata": {},
   "outputs": [
    {
     "name": "stdout",
     "output_type": "stream",
     "text": [
      "|    |   month | gender   |   card_int |   card actual | perc diff   |\n",
      "|----|---------|----------|------------|---------------|-------------|\n",
      "|  0 |       1 | Female   |      44596 |         50003 | 10.81%      |\n",
      "|  1 |       1 | Male     |     216517 |        221712 | 2.34%       |\n",
      "|  2 |       2 | Female   |      77474 |         60649 | -27.74%     |\n",
      "|  3 |       2 | Male     |     255826 |        245326 | -4.28%      |\n",
      "|  4 |       3 | Female   |     107591 |         92346 | -16.51%     |\n",
      "|  5 |       3 | Male     |     359199 |        345583 | -3.94%      |\n",
      "|  6 |       4 | Female   |     159666 |        144702 | -10.34%     |\n",
      "|  7 |       4 | Male     |     476835 |        476986 | 0.03%       |\n",
      "|  8 |       5 | Female   |     233786 |        216973 | -7.75%      |\n",
      "|  9 |       5 | Male     |     664212 |        652611 | -1.78%      |\n",
      "| 10 |       6 | Female   |     320897 |        319679 | -0.38%      |\n",
      "| 11 |       6 | Male     |     866065 |        858546 | -0.88%      |\n",
      "| 12 |       7 | Female   |     358388 |        355774 | -0.73%      |\n",
      "| 13 |       7 | Male     |     954115 |        923731 | -3.29%      |\n",
      "| 14 |       8 | Female   |     371748 |        356374 | -4.31%      |\n",
      "| 15 |       8 | Male     |     942378 |        948329 | 0.63%       |\n",
      "| 16 |       9 | Female   |     322049 |        314032 | -2.55%      |\n",
      "| 17 |       9 | Male     |     862643 |        875939 | 1.52%       |\n",
      "| 18 |      10 | Female   |     246845 |        244807 | -0.83%      |\n",
      "| 19 |      10 | Male     |     762295 |        752905 | -1.25%      |\n",
      "| 20 |      11 | Female   |     155851 |        145102 | -7.41%      |\n",
      "| 21 |      11 | Male     |     513240 |        498454 | -2.97%      |\n",
      "| 22 |      12 | Female   |      86019 |         78234 | -9.95%      |\n",
      "| 23 |      12 | Male     |     314132 |        316438 | 0.73%       |\n"
     ]
    }
   ],
   "source": [
    "df_merge_2 = df_card.merge( ddf_gb, on=['month','gender'] ).rename(columns={'trip_id':'card actual'})\n",
    "df_merge_2['perc diff'] = 100*(df_merge_2['card actual'] - df_merge_2['card_int'])/ df_merge_2['card actual']\n",
    "df_merge_2['perc diff'] = df_merge_2['perc diff'].round(2).map(lambda x:str(x)+'%')\n",
    "print( df_merge_2[['month','gender','card_int','card actual','perc diff']].to_markdown(tablefmt=\"github\") )"
   ]
  },
  {
   "cell_type": "code",
   "execution_count": null,
   "metadata": {},
   "outputs": [],
   "source": []
  },
  {
   "cell_type": "code",
   "execution_count": null,
   "metadata": {},
   "outputs": [],
   "source": []
  },
  {
   "cell_type": "markdown",
   "metadata": {},
   "source": [
    "#### Extraneous: Cascade approach"
   ]
  },
  {
   "cell_type": "code",
   "execution_count": 43,
   "metadata": {},
   "outputs": [],
   "source": [
    "tasks = []\n",
    "tasks.append( dask.delayed(hll_reduce)( res[0], hyperloglog.HyperLogLog(0.01) ) )\n",
    "\n",
    "for i in range(1,len(res)):\n",
    "    tasks.append( dask.delayed(hll_reduce)( res[i], tasks[i-1] ) )"
   ]
  },
  {
   "cell_type": "code",
   "execution_count": 44,
   "metadata": {},
   "outputs": [
    {
     "name": "stdout",
     "output_type": "stream",
     "text": [
      "CPU times: user 709 ms, sys: 106 ms, total: 815 ms\n",
      "Wall time: 19.9 s\n"
     ]
    },
    {
     "data": {
      "text/plain": [
       "9570193"
      ]
     },
     "execution_count": 44,
     "metadata": {},
     "output_type": "execute_result"
    }
   ],
   "source": [
    "%time len( tasks[-1].compute() )"
   ]
  },
  {
   "cell_type": "code",
   "execution_count": 48,
   "metadata": {
    "scrolled": true
   },
   "outputs": [
    {
     "data": {
      "image/svg+xml": [
       "<svg height=\"4751pt\" viewBox=\"0.00 0.00 1504.99 4750.90\" width=\"1505pt\" xmlns=\"http://www.w3.org/2000/svg\" xmlns:xlink=\"http://www.w3.org/1999/xlink\">\n",
       "<g class=\"graph\" id=\"graph0\" transform=\"scale(1 1) rotate(0) translate(4 4746.8973)\">\n",
       "<title>%3</title>\n",
       "<polygon fill=\"#ffffff\" points=\"-4,4 -4,-4746.8973 1500.9896,-4746.8973 1500.9896,4 -4,4\" stroke=\"transparent\"/>\n",
       "<!-- &#45;3667145149638366935 -->\n",
       "<g class=\"node\" id=\"node1\">\n",
       "<title>-3667145149638366935</title>\n",
       "<polygon fill=\"none\" points=\"1449.4948,-586.6655 1395.4948,-586.6655 1395.4948,-550.6655 1449.4948,-550.6655 1449.4948,-586.6655\" stroke=\"#000000\"/>\n",
       "</g>\n",
       "<!-- 5679950115343539135 -->\n",
       "<g class=\"node\" id=\"node52\">\n",
       "<title>5679950115343539135</title>\n",
       "<ellipse cx=\"1344.4948\" cy=\"-711.2561\" fill=\"none\" rx=\"48.1917\" ry=\"48.1917\" stroke=\"#000000\"/>\n",
       "<text fill=\"#000000\" font-family=\"Times,serif\" font-size=\"14.00\" text-anchor=\"middle\" x=\"1344.4948\" y=\"-707.5561\">hll_reduce</text>\n",
       "</g>\n",
       "<!-- &#45;3667145149638366935&#45;&gt;5679950115343539135 -->\n",
       "<g class=\"edge\" id=\"edge37\">\n",
       "<title>-3667145149638366935-&gt;5679950115343539135</title>\n",
       "<path d=\"M1412.6161,-586.7247C1402.5685,-605.0925 1386.5296,-634.413 1372.5382,-659.9904\" fill=\"none\" stroke=\"#000000\"/>\n",
       "<polygon fill=\"#000000\" points=\"1369.4164,-658.4044 1367.6878,-668.8572 1375.5576,-661.7638 1369.4164,-658.4044\" stroke=\"#000000\"/>\n",
       "</g>\n",
       "<!-- 9136163859446683004 -->\n",
       "<g class=\"node\" id=\"node2\">\n",
       "<title>9136163859446683004</title>\n",
       "<ellipse cx=\"1435.4948\" cy=\"-426.075\" fill=\"none\" rx=\"48.1917\" ry=\"48.1917\" stroke=\"#000000\"/>\n",
       "<text fill=\"#000000\" font-family=\"Times,serif\" font-size=\"14.00\" text-anchor=\"middle\" x=\"1435.4948\" y=\"-422.375\">hll_reduce</text>\n",
       "</g>\n",
       "<!-- 9136163859446683004&#45;&gt;&#45;3667145149638366935 -->\n",
       "<g class=\"edge\" id=\"edge1\">\n",
       "<title>9136163859446683004-&gt;-3667145149638366935</title>\n",
       "<path d=\"M1431.0936,-474.3496C1429.0892,-496.3345 1426.7866,-521.5909 1425.0689,-540.4317\" fill=\"none\" stroke=\"#000000\"/>\n",
       "<polygon fill=\"#000000\" points=\"1421.5786,-540.1668 1424.1561,-550.4434 1428.5497,-540.8025 1421.5786,-540.1668\" stroke=\"#000000\"/>\n",
       "</g>\n",
       "<!-- 7598944533905020022 -->\n",
       "<g class=\"node\" id=\"node3\">\n",
       "<title>7598944533905020022</title>\n",
       "<polygon fill=\"none\" points=\"1465.4948,-301.4844 1411.4948,-301.4844 1411.4948,-265.4844 1465.4948,-265.4844 1465.4948,-301.4844\" stroke=\"#000000\"/>\n",
       "<text fill=\"#000000\" font-family=\"Times,serif\" font-size=\"14.00\" text-anchor=\"middle\" x=\"1438.4948\" y=\"-279.7844\">0</text>\n",
       "</g>\n",
       "<!-- 7598944533905020022&#45;&gt;9136163859446683004 -->\n",
       "<g class=\"edge\" id=\"edge2\">\n",
       "<title>7598944533905020022-&gt;9136163859446683004</title>\n",
       "<path d=\"M1438.1149,-301.5436C1437.7631,-318.2645 1437.2203,-344.062 1436.7198,-367.8496\" fill=\"none\" stroke=\"#000000\"/>\n",
       "<polygon fill=\"#000000\" points=\"1433.2198,-367.8174 1436.5086,-377.8889 1440.2183,-367.9647 1433.2198,-367.8174\" stroke=\"#000000\"/>\n",
       "</g>\n",
       "<!-- 7598944533912597697 -->\n",
       "<g class=\"node\" id=\"node4\">\n",
       "<title>7598944533912597697</title>\n",
       "<polygon fill=\"none\" points=\"643.4948,-2868.1142 589.4948,-2868.1142 589.4948,-2832.1142 643.4948,-2832.1142 643.4948,-2868.1142\" stroke=\"#000000\"/>\n",
       "<text fill=\"#000000\" font-family=\"Times,serif\" font-size=\"14.00\" text-anchor=\"middle\" x=\"616.4948\" y=\"-2846.4142\">9</text>\n",
       "</g>\n",
       "<!-- &#45;4054322915763782868 -->\n",
       "<g class=\"node\" id=\"node68\">\n",
       "<title>-4054322915763782868</title>\n",
       "<ellipse cx=\"616.4948\" cy=\"-2992.7047\" fill=\"none\" rx=\"48.1917\" ry=\"48.1917\" stroke=\"#000000\"/>\n",
       "<text fill=\"#000000\" font-family=\"Times,serif\" font-size=\"14.00\" text-anchor=\"middle\" x=\"616.4948\" y=\"-2989.0047\">hll_reduce</text>\n",
       "</g>\n",
       "<!-- 7598944533912597697&#45;&gt;&#45;4054322915763782868 -->\n",
       "<g class=\"edge\" id=\"edge60\">\n",
       "<title>7598944533912597697-&gt;-4054322915763782868</title>\n",
       "<path d=\"M616.4948,-2868.1734C616.4948,-2884.8943 616.4948,-2910.6918 616.4948,-2934.4793\" fill=\"none\" stroke=\"#000000\"/>\n",
       "<polygon fill=\"#000000\" points=\"612.9949,-2934.5186 616.4948,-2944.5186 619.9949,-2934.5187 612.9949,-2934.5186\" stroke=\"#000000\"/>\n",
       "</g>\n",
       "<!-- 5320496152362812567 -->\n",
       "<g class=\"node\" id=\"node5\">\n",
       "<title>5320496152362812567</title>\n",
       "<polygon fill=\"none\" points=\"636.4948,-2725.5236 582.4948,-2725.5236 582.4948,-2689.5236 636.4948,-2689.5236 636.4948,-2725.5236\" stroke=\"#000000\"/>\n",
       "<text fill=\"#000000\" font-family=\"Times,serif\" font-size=\"14.00\" text-anchor=\"middle\" x=\"609.4948\" y=\"-2703.8236\">9</text>\n",
       "</g>\n",
       "<!-- 5320496152362812567&#45;&gt;7598944533912597697 -->\n",
       "<g class=\"edge\" id=\"edge3\">\n",
       "<title>5320496152362812567-&gt;7598944533912597697</title>\n",
       "<path d=\"M610.3814,-2725.5828C611.5688,-2749.7708 613.6886,-2792.952 615.0934,-2821.5673\" fill=\"none\" stroke=\"#000000\"/>\n",
       "<polygon fill=\"#000000\" points=\"611.6071,-2821.9349 615.5933,-2831.7512 618.5987,-2821.5916 611.6071,-2821.9349\" stroke=\"#000000\"/>\n",
       "</g>\n",
       "<!-- 7598944533900689922 -->\n",
       "<g class=\"node\" id=\"node6\">\n",
       "<title>7598944533900689922</title>\n",
       "<polygon fill=\"none\" points=\"1098.4948,-1442.2088 1044.4948,-1442.2088 1044.4948,-1406.2088 1098.4948,-1406.2088 1098.4948,-1442.2088\" stroke=\"#000000\"/>\n",
       "<text fill=\"#000000\" font-family=\"Times,serif\" font-size=\"14.00\" text-anchor=\"middle\" x=\"1071.4948\" y=\"-1420.5088\">4</text>\n",
       "</g>\n",
       "<!-- 2370525245375609832 -->\n",
       "<g class=\"node\" id=\"node58\">\n",
       "<title>2370525245375609832</title>\n",
       "<ellipse cx=\"1071.4948\" cy=\"-1566.7993\" fill=\"none\" rx=\"48.1917\" ry=\"48.1917\" stroke=\"#000000\"/>\n",
       "<text fill=\"#000000\" font-family=\"Times,serif\" font-size=\"14.00\" text-anchor=\"middle\" x=\"1071.4948\" y=\"-1563.0993\">hll_reduce</text>\n",
       "</g>\n",
       "<!-- 7598944533900689922&#45;&gt;2370525245375609832 -->\n",
       "<g class=\"edge\" id=\"edge46\">\n",
       "<title>7598944533900689922-&gt;2370525245375609832</title>\n",
       "<path d=\"M1071.4948,-1442.268C1071.4948,-1458.9889 1071.4948,-1484.7864 1071.4948,-1508.5739\" fill=\"none\" stroke=\"#000000\"/>\n",
       "<polygon fill=\"#000000\" points=\"1067.9949,-1508.6132 1071.4948,-1518.6132 1074.9949,-1508.6132 1067.9949,-1508.6132\" stroke=\"#000000\"/>\n",
       "</g>\n",
       "<!-- 5320496152350904792 -->\n",
       "<g class=\"node\" id=\"node7\">\n",
       "<title>5320496152350904792</title>\n",
       "<polygon fill=\"none\" points=\"1091.4948,-1299.6182 1037.4948,-1299.6182 1037.4948,-1263.6182 1091.4948,-1263.6182 1091.4948,-1299.6182\" stroke=\"#000000\"/>\n",
       "<text fill=\"#000000\" font-family=\"Times,serif\" font-size=\"14.00\" text-anchor=\"middle\" x=\"1064.4948\" y=\"-1277.9182\">4</text>\n",
       "</g>\n",
       "<!-- 5320496152350904792&#45;&gt;7598944533900689922 -->\n",
       "<g class=\"edge\" id=\"edge4\">\n",
       "<title>5320496152350904792-&gt;7598944533900689922</title>\n",
       "<path d=\"M1065.3814,-1299.6774C1066.5688,-1323.8654 1068.6886,-1367.0466 1070.0934,-1395.6619\" fill=\"none\" stroke=\"#000000\"/>\n",
       "<polygon fill=\"#000000\" points=\"1066.6071,-1396.0295 1070.5933,-1405.8458 1073.5987,-1395.6862 1066.6071,-1396.0295\" stroke=\"#000000\"/>\n",
       "</g>\n",
       "<!-- 7598944533911515172 -->\n",
       "<g class=\"node\" id=\"node8\">\n",
       "<title>7598944533911515172</title>\n",
       "<polygon fill=\"none\" points=\"552.4948,-3153.2953 498.4948,-3153.2953 498.4948,-3117.2953 552.4948,-3117.2953 552.4948,-3153.2953\" stroke=\"#000000\"/>\n",
       "<text fill=\"#000000\" font-family=\"Times,serif\" font-size=\"14.00\" text-anchor=\"middle\" x=\"525.4948\" y=\"-3131.5953\">10</text>\n",
       "</g>\n",
       "<!-- &#45;1405540980627552655 -->\n",
       "<g class=\"node\" id=\"node70\">\n",
       "<title>-1405540980627552655</title>\n",
       "<ellipse cx=\"525.4948\" cy=\"-3277.8858\" fill=\"none\" rx=\"48.1917\" ry=\"48.1917\" stroke=\"#000000\"/>\n",
       "<text fill=\"#000000\" font-family=\"Times,serif\" font-size=\"14.00\" text-anchor=\"middle\" x=\"525.4948\" y=\"-3274.1858\">hll_reduce</text>\n",
       "</g>\n",
       "<!-- 7598944533911515172&#45;&gt;&#45;1405540980627552655 -->\n",
       "<g class=\"edge\" id=\"edge64\">\n",
       "<title>7598944533911515172-&gt;-1405540980627552655</title>\n",
       "<path d=\"M525.4948,-3153.3545C525.4948,-3170.0754 525.4948,-3195.8729 525.4948,-3219.6604\" fill=\"none\" stroke=\"#000000\"/>\n",
       "<polygon fill=\"#000000\" points=\"521.9949,-3219.6997 525.4948,-3229.6997 528.9949,-3219.6997 521.9949,-3219.6997\" stroke=\"#000000\"/>\n",
       "</g>\n",
       "<!-- 5320496152366060142 -->\n",
       "<g class=\"node\" id=\"node9\">\n",
       "<title>5320496152366060142</title>\n",
       "<polygon fill=\"none\" points=\"545.4948,-3010.7047 491.4948,-3010.7047 491.4948,-2974.7047 545.4948,-2974.7047 545.4948,-3010.7047\" stroke=\"#000000\"/>\n",
       "<text fill=\"#000000\" font-family=\"Times,serif\" font-size=\"14.00\" text-anchor=\"middle\" x=\"518.4948\" y=\"-2989.0047\">10</text>\n",
       "</g>\n",
       "<!-- 5320496152366060142&#45;&gt;7598944533911515172 -->\n",
       "<g class=\"edge\" id=\"edge5\">\n",
       "<title>5320496152366060142-&gt;7598944533911515172</title>\n",
       "<path d=\"M519.3814,-3010.7639C520.5688,-3034.9519 522.6886,-3078.1331 524.0934,-3106.7484\" fill=\"none\" stroke=\"#000000\"/>\n",
       "<polygon fill=\"#000000\" points=\"520.6071,-3107.116 524.5933,-3116.9323 527.5987,-3106.7727 520.6071,-3107.116\" stroke=\"#000000\"/>\n",
       "</g>\n",
       "<!-- 7598944533899607397 -->\n",
       "<g class=\"node\" id=\"node10\">\n",
       "<title>7598944533899607397</title>\n",
       "<polygon fill=\"none\" points=\"1007.4948,-1727.3899 953.4948,-1727.3899 953.4948,-1691.3899 1007.4948,-1691.3899 1007.4948,-1727.3899\" stroke=\"#000000\"/>\n",
       "<text fill=\"#000000\" font-family=\"Times,serif\" font-size=\"14.00\" text-anchor=\"middle\" x=\"980.4948\" y=\"-1705.6899\">5</text>\n",
       "</g>\n",
       "<!-- 7270203316312726659 -->\n",
       "<g class=\"node\" id=\"node60\">\n",
       "<title>7270203316312726659</title>\n",
       "<ellipse cx=\"980.4948\" cy=\"-1851.9804\" fill=\"none\" rx=\"48.1917\" ry=\"48.1917\" stroke=\"#000000\"/>\n",
       "<text fill=\"#000000\" font-family=\"Times,serif\" font-size=\"14.00\" text-anchor=\"middle\" x=\"980.4948\" y=\"-1848.2804\">hll_reduce</text>\n",
       "</g>\n",
       "<!-- 7598944533899607397&#45;&gt;7270203316312726659 -->\n",
       "<g class=\"edge\" id=\"edge48\">\n",
       "<title>7598944533899607397-&gt;7270203316312726659</title>\n",
       "<path d=\"M980.4948,-1727.449C980.4948,-1744.17 980.4948,-1769.9674 980.4948,-1793.755\" fill=\"none\" stroke=\"#000000\"/>\n",
       "<polygon fill=\"#000000\" points=\"976.9949,-1793.7943 980.4948,-1803.7943 983.9949,-1793.7943 976.9949,-1793.7943\" stroke=\"#000000\"/>\n",
       "</g>\n",
       "<!-- 5320496152349822267 -->\n",
       "<g class=\"node\" id=\"node11\">\n",
       "<title>5320496152349822267</title>\n",
       "<polygon fill=\"none\" points=\"1000.4948,-1584.7993 946.4948,-1584.7993 946.4948,-1548.7993 1000.4948,-1548.7993 1000.4948,-1584.7993\" stroke=\"#000000\"/>\n",
       "<text fill=\"#000000\" font-family=\"Times,serif\" font-size=\"14.00\" text-anchor=\"middle\" x=\"973.4948\" y=\"-1563.0993\">5</text>\n",
       "</g>\n",
       "<!-- 5320496152349822267&#45;&gt;7598944533899607397 -->\n",
       "<g class=\"edge\" id=\"edge6\">\n",
       "<title>5320496152349822267-&gt;7598944533899607397</title>\n",
       "<path d=\"M974.3814,-1584.8585C975.5688,-1609.0465 977.6886,-1652.2277 979.0934,-1680.843\" fill=\"none\" stroke=\"#000000\"/>\n",
       "<polygon fill=\"#000000\" points=\"975.6071,-1681.2106 979.5933,-1691.0269 982.5987,-1680.8673 975.6071,-1681.2106\" stroke=\"#000000\"/>\n",
       "</g>\n",
       "<!-- 7598944533910432647 -->\n",
       "<g class=\"node\" id=\"node12\">\n",
       "<title>7598944533910432647</title>\n",
       "<polygon fill=\"none\" points=\"461.4948,-3438.4764 407.4948,-3438.4764 407.4948,-3402.4764 461.4948,-3402.4764 461.4948,-3438.4764\" stroke=\"#000000\"/>\n",
       "<text fill=\"#000000\" font-family=\"Times,serif\" font-size=\"14.00\" text-anchor=\"middle\" x=\"434.4948\" y=\"-3416.7764\">11</text>\n",
       "</g>\n",
       "<!-- 4443859891356831915 -->\n",
       "<g class=\"node\" id=\"node72\">\n",
       "<title>4443859891356831915</title>\n",
       "<ellipse cx=\"434.4948\" cy=\"-3563.0669\" fill=\"none\" rx=\"48.1917\" ry=\"48.1917\" stroke=\"#000000\"/>\n",
       "<text fill=\"#000000\" font-family=\"Times,serif\" font-size=\"14.00\" text-anchor=\"middle\" x=\"434.4948\" y=\"-3559.3669\">hll_reduce</text>\n",
       "</g>\n",
       "<!-- 7598944533910432647&#45;&gt;4443859891356831915 -->\n",
       "<g class=\"edge\" id=\"edge67\">\n",
       "<title>7598944533910432647-&gt;4443859891356831915</title>\n",
       "<path d=\"M434.4948,-3438.5355C434.4948,-3455.2565 434.4948,-3481.054 434.4948,-3504.8415\" fill=\"none\" stroke=\"#000000\"/>\n",
       "<polygon fill=\"#000000\" points=\"430.9949,-3504.8808 434.4948,-3514.8808 437.9949,-3504.8808 430.9949,-3504.8808\" stroke=\"#000000\"/>\n",
       "</g>\n",
       "<!-- 5320496152364977617 -->\n",
       "<g class=\"node\" id=\"node13\">\n",
       "<title>5320496152364977617</title>\n",
       "<polygon fill=\"none\" points=\"454.4948,-3295.8858 400.4948,-3295.8858 400.4948,-3259.8858 454.4948,-3259.8858 454.4948,-3295.8858\" stroke=\"#000000\"/>\n",
       "<text fill=\"#000000\" font-family=\"Times,serif\" font-size=\"14.00\" text-anchor=\"middle\" x=\"427.4948\" y=\"-3274.1858\">11</text>\n",
       "</g>\n",
       "<!-- 5320496152364977617&#45;&gt;7598944533910432647 -->\n",
       "<g class=\"edge\" id=\"edge7\">\n",
       "<title>5320496152364977617-&gt;7598944533910432647</title>\n",
       "<path d=\"M428.3814,-3295.945C429.5688,-3320.133 431.6886,-3363.3142 433.0934,-3391.9295\" fill=\"none\" stroke=\"#000000\"/>\n",
       "<polygon fill=\"#000000\" points=\"429.6071,-3392.2971 433.5933,-3402.1134 436.5987,-3391.9538 429.6071,-3392.2971\" stroke=\"#000000\"/>\n",
       "</g>\n",
       "<!-- 7598944533898524872 -->\n",
       "<g class=\"node\" id=\"node14\">\n",
       "<title>7598944533898524872</title>\n",
       "<polygon fill=\"none\" points=\"916.4948,-2012.5709 862.4948,-2012.5709 862.4948,-1976.5709 916.4948,-1976.5709 916.4948,-2012.5709\" stroke=\"#000000\"/>\n",
       "<text fill=\"#000000\" font-family=\"Times,serif\" font-size=\"14.00\" text-anchor=\"middle\" x=\"889.4948\" y=\"-1990.8709\">6</text>\n",
       "</g>\n",
       "<!-- 884706184441032094 -->\n",
       "<g class=\"node\" id=\"node62\">\n",
       "<title>884706184441032094</title>\n",
       "<ellipse cx=\"889.4948\" cy=\"-2137.1615\" fill=\"none\" rx=\"48.1917\" ry=\"48.1917\" stroke=\"#000000\"/>\n",
       "<text fill=\"#000000\" font-family=\"Times,serif\" font-size=\"14.00\" text-anchor=\"middle\" x=\"889.4948\" y=\"-2133.4615\">hll_reduce</text>\n",
       "</g>\n",
       "<!-- 7598944533898524872&#45;&gt;884706184441032094 -->\n",
       "<g class=\"edge\" id=\"edge51\">\n",
       "<title>7598944533898524872-&gt;884706184441032094</title>\n",
       "<path d=\"M889.4948,-2012.6301C889.4948,-2029.351 889.4948,-2055.1485 889.4948,-2078.9361\" fill=\"none\" stroke=\"#000000\"/>\n",
       "<polygon fill=\"#000000\" points=\"885.9949,-2078.9753 889.4948,-2088.9754 892.9949,-2078.9754 885.9949,-2078.9753\" stroke=\"#000000\"/>\n",
       "</g>\n",
       "<!-- 5320496152353069842 -->\n",
       "<g class=\"node\" id=\"node15\">\n",
       "<title>5320496152353069842</title>\n",
       "<polygon fill=\"none\" points=\"909.4948,-1869.9804 855.4948,-1869.9804 855.4948,-1833.9804 909.4948,-1833.9804 909.4948,-1869.9804\" stroke=\"#000000\"/>\n",
       "<text fill=\"#000000\" font-family=\"Times,serif\" font-size=\"14.00\" text-anchor=\"middle\" x=\"882.4948\" y=\"-1848.2804\">6</text>\n",
       "</g>\n",
       "<!-- 5320496152353069842&#45;&gt;7598944533898524872 -->\n",
       "<g class=\"edge\" id=\"edge8\">\n",
       "<title>5320496152353069842-&gt;7598944533898524872</title>\n",
       "<path d=\"M883.3814,-1870.0396C884.5688,-1894.2275 886.6886,-1937.4088 888.0934,-1966.0241\" fill=\"none\" stroke=\"#000000\"/>\n",
       "<polygon fill=\"#000000\" points=\"884.6071,-1966.3917 888.5933,-1976.208 891.5987,-1966.0484 884.6071,-1966.3917\" stroke=\"#000000\"/>\n",
       "</g>\n",
       "<!-- 7598944533909350122 -->\n",
       "<g class=\"node\" id=\"node16\">\n",
       "<title>7598944533909350122</title>\n",
       "<polygon fill=\"none\" points=\"370.4948,-3723.6574 316.4948,-3723.6574 316.4948,-3687.6574 370.4948,-3687.6574 370.4948,-3723.6574\" stroke=\"#000000\"/>\n",
       "<text fill=\"#000000\" font-family=\"Times,serif\" font-size=\"14.00\" text-anchor=\"middle\" x=\"343.4948\" y=\"-3701.9574\">12</text>\n",
       "</g>\n",
       "<!-- 4969164423290696600 -->\n",
       "<g class=\"node\" id=\"node74\">\n",
       "<title>4969164423290696600</title>\n",
       "<ellipse cx=\"343.4948\" cy=\"-3848.248\" fill=\"none\" rx=\"48.1917\" ry=\"48.1917\" stroke=\"#000000\"/>\n",
       "<text fill=\"#000000\" font-family=\"Times,serif\" font-size=\"14.00\" text-anchor=\"middle\" x=\"343.4948\" y=\"-3844.548\">hll_reduce</text>\n",
       "</g>\n",
       "<!-- 7598944533909350122&#45;&gt;4969164423290696600 -->\n",
       "<g class=\"edge\" id=\"edge69\">\n",
       "<title>7598944533909350122-&gt;4969164423290696600</title>\n",
       "<path d=\"M343.4948,-3723.7166C343.4948,-3740.4375 343.4948,-3766.235 343.4948,-3790.0226\" fill=\"none\" stroke=\"#000000\"/>\n",
       "<polygon fill=\"#000000\" points=\"339.9949,-3790.0618 343.4948,-3800.0619 346.9949,-3790.0619 339.9949,-3790.0618\" stroke=\"#000000\"/>\n",
       "</g>\n",
       "<!-- 5320496152359564992 -->\n",
       "<g class=\"node\" id=\"node17\">\n",
       "<title>5320496152359564992</title>\n",
       "<polygon fill=\"none\" points=\"363.4948,-3581.0669 309.4948,-3581.0669 309.4948,-3545.0669 363.4948,-3545.0669 363.4948,-3581.0669\" stroke=\"#000000\"/>\n",
       "<text fill=\"#000000\" font-family=\"Times,serif\" font-size=\"14.00\" text-anchor=\"middle\" x=\"336.4948\" y=\"-3559.3669\">12</text>\n",
       "</g>\n",
       "<!-- 5320496152359564992&#45;&gt;7598944533909350122 -->\n",
       "<g class=\"edge\" id=\"edge9\">\n",
       "<title>5320496152359564992-&gt;7598944533909350122</title>\n",
       "<path d=\"M337.3814,-3581.1261C338.5688,-3605.314 340.6886,-3648.4953 342.0934,-3677.1106\" fill=\"none\" stroke=\"#000000\"/>\n",
       "<polygon fill=\"#000000\" points=\"338.6071,-3677.4782 342.5933,-3687.2945 345.5987,-3677.1349 338.6071,-3677.4782\" stroke=\"#000000\"/>\n",
       "</g>\n",
       "<!-- 7598944533897442347 -->\n",
       "<g class=\"node\" id=\"node18\">\n",
       "<title>7598944533897442347</title>\n",
       "<polygon fill=\"none\" points=\"825.4948,-2297.752 771.4948,-2297.752 771.4948,-2261.752 825.4948,-2261.752 825.4948,-2297.752\" stroke=\"#000000\"/>\n",
       "<text fill=\"#000000\" font-family=\"Times,serif\" font-size=\"14.00\" text-anchor=\"middle\" x=\"798.4948\" y=\"-2276.052\">7</text>\n",
       "</g>\n",
       "<!-- &#45;1140003638004625974 -->\n",
       "<g class=\"node\" id=\"node64\">\n",
       "<title>-1140003638004625974</title>\n",
       "<ellipse cx=\"798.4948\" cy=\"-2422.3426\" fill=\"none\" rx=\"48.1917\" ry=\"48.1917\" stroke=\"#000000\"/>\n",
       "<text fill=\"#000000\" font-family=\"Times,serif\" font-size=\"14.00\" text-anchor=\"middle\" x=\"798.4948\" y=\"-2418.6426\">hll_reduce</text>\n",
       "</g>\n",
       "<!-- 7598944533897442347&#45;&gt;&#45;1140003638004625974 -->\n",
       "<g class=\"edge\" id=\"edge54\">\n",
       "<title>7598944533897442347-&gt;-1140003638004625974</title>\n",
       "<path d=\"M798.4948,-2297.8112C798.4948,-2314.5321 798.4948,-2340.3296 798.4948,-2364.1172\" fill=\"none\" stroke=\"#000000\"/>\n",
       "<polygon fill=\"#000000\" points=\"794.9949,-2364.1564 798.4948,-2374.1565 801.9949,-2364.1565 794.9949,-2364.1564\" stroke=\"#000000\"/>\n",
       "</g>\n",
       "<!-- 5320496152351987317 -->\n",
       "<g class=\"node\" id=\"node19\">\n",
       "<title>5320496152351987317</title>\n",
       "<polygon fill=\"none\" points=\"818.4948,-2155.1615 764.4948,-2155.1615 764.4948,-2119.1615 818.4948,-2119.1615 818.4948,-2155.1615\" stroke=\"#000000\"/>\n",
       "<text fill=\"#000000\" font-family=\"Times,serif\" font-size=\"14.00\" text-anchor=\"middle\" x=\"791.4948\" y=\"-2133.4615\">7</text>\n",
       "</g>\n",
       "<!-- 5320496152351987317&#45;&gt;7598944533897442347 -->\n",
       "<g class=\"edge\" id=\"edge10\">\n",
       "<title>5320496152351987317-&gt;7598944533897442347</title>\n",
       "<path d=\"M792.3814,-2155.2207C793.5688,-2179.4086 795.6886,-2222.5899 797.0934,-2251.2051\" fill=\"none\" stroke=\"#000000\"/>\n",
       "<polygon fill=\"#000000\" points=\"793.6071,-2251.5727 797.5933,-2261.3891 800.5987,-2251.2294 793.6071,-2251.5727\" stroke=\"#000000\"/>\n",
       "</g>\n",
       "<!-- 7598944533908267597 -->\n",
       "<g class=\"node\" id=\"node20\">\n",
       "<title>7598944533908267597</title>\n",
       "<polygon fill=\"none\" points=\"279.4948,-4008.8385 225.4948,-4008.8385 225.4948,-3972.8385 279.4948,-3972.8385 279.4948,-4008.8385\" stroke=\"#000000\"/>\n",
       "<text fill=\"#000000\" font-family=\"Times,serif\" font-size=\"14.00\" text-anchor=\"middle\" x=\"252.4948\" y=\"-3987.1385\">13</text>\n",
       "</g>\n",
       "<!-- &#45;7269844074607484123 -->\n",
       "<g class=\"node\" id=\"node76\">\n",
       "<title>-7269844074607484123</title>\n",
       "<ellipse cx=\"252.4948\" cy=\"-4133.4291\" fill=\"none\" rx=\"48.1917\" ry=\"48.1917\" stroke=\"#000000\"/>\n",
       "<text fill=\"#000000\" font-family=\"Times,serif\" font-size=\"14.00\" text-anchor=\"middle\" x=\"252.4948\" y=\"-4129.7291\">hll_reduce</text>\n",
       "</g>\n",
       "<!-- 7598944533908267597&#45;&gt;&#45;7269844074607484123 -->\n",
       "<g class=\"edge\" id=\"edge72\">\n",
       "<title>7598944533908267597-&gt;-7269844074607484123</title>\n",
       "<path d=\"M252.4948,-4008.8977C252.4948,-4025.6186 252.4948,-4051.4161 252.4948,-4075.2037\" fill=\"none\" stroke=\"#000000\"/>\n",
       "<polygon fill=\"#000000\" points=\"248.9949,-4075.2429 252.4948,-4085.243 255.9949,-4075.243 248.9949,-4075.2429\" stroke=\"#000000\"/>\n",
       "</g>\n",
       "<!-- 5320496152358482467 -->\n",
       "<g class=\"node\" id=\"node21\">\n",
       "<title>5320496152358482467</title>\n",
       "<polygon fill=\"none\" points=\"272.4948,-3866.248 218.4948,-3866.248 218.4948,-3830.248 272.4948,-3830.248 272.4948,-3866.248\" stroke=\"#000000\"/>\n",
       "<text fill=\"#000000\" font-family=\"Times,serif\" font-size=\"14.00\" text-anchor=\"middle\" x=\"245.4948\" y=\"-3844.548\">13</text>\n",
       "</g>\n",
       "<!-- 5320496152358482467&#45;&gt;7598944533908267597 -->\n",
       "<g class=\"edge\" id=\"edge11\">\n",
       "<title>5320496152358482467-&gt;7598944533908267597</title>\n",
       "<path d=\"M246.3814,-3866.3072C247.5688,-3890.4951 249.6886,-3933.6764 251.0934,-3962.2916\" fill=\"none\" stroke=\"#000000\"/>\n",
       "<polygon fill=\"#000000\" points=\"247.6071,-3962.6592 251.5933,-3972.4756 254.5987,-3962.316 247.6071,-3962.6592\" stroke=\"#000000\"/>\n",
       "</g>\n",
       "<!-- 7598944533907185072 -->\n",
       "<g class=\"node\" id=\"node22\">\n",
       "<title>7598944533907185072</title>\n",
       "<polygon fill=\"none\" points=\"188.4948,-4294.0196 134.4948,-4294.0196 134.4948,-4258.0196 188.4948,-4258.0196 188.4948,-4294.0196\" stroke=\"#000000\"/>\n",
       "<text fill=\"#000000\" font-family=\"Times,serif\" font-size=\"14.00\" text-anchor=\"middle\" x=\"161.4948\" y=\"-4272.3196\">14</text>\n",
       "</g>\n",
       "<!-- &#45;4966933884057472593 -->\n",
       "<g class=\"node\" id=\"node78\">\n",
       "<title>-4966933884057472593</title>\n",
       "<ellipse cx=\"161.4948\" cy=\"-4418.6102\" fill=\"none\" rx=\"48.1917\" ry=\"48.1917\" stroke=\"#000000\"/>\n",
       "<text fill=\"#000000\" font-family=\"Times,serif\" font-size=\"14.00\" text-anchor=\"middle\" x=\"161.4948\" y=\"-4414.9102\">hll_reduce</text>\n",
       "</g>\n",
       "<!-- 7598944533907185072&#45;&gt;&#45;4966933884057472593 -->\n",
       "<g class=\"edge\" id=\"edge75\">\n",
       "<title>7598944533907185072-&gt;-4966933884057472593</title>\n",
       "<path d=\"M161.4948,-4294.0788C161.4948,-4310.7997 161.4948,-4336.5972 161.4948,-4360.3848\" fill=\"none\" stroke=\"#000000\"/>\n",
       "<polygon fill=\"#000000\" points=\"157.9949,-4360.424 161.4948,-4370.424 164.9949,-4360.4241 157.9949,-4360.424\" stroke=\"#000000\"/>\n",
       "</g>\n",
       "<!-- 5320496152361730042 -->\n",
       "<g class=\"node\" id=\"node23\">\n",
       "<title>5320496152361730042</title>\n",
       "<polygon fill=\"none\" points=\"181.4948,-4151.4291 127.4948,-4151.4291 127.4948,-4115.4291 181.4948,-4115.4291 181.4948,-4151.4291\" stroke=\"#000000\"/>\n",
       "<text fill=\"#000000\" font-family=\"Times,serif\" font-size=\"14.00\" text-anchor=\"middle\" x=\"154.4948\" y=\"-4129.7291\">14</text>\n",
       "</g>\n",
       "<!-- 5320496152361730042&#45;&gt;7598944533907185072 -->\n",
       "<g class=\"edge\" id=\"edge12\">\n",
       "<title>5320496152361730042-&gt;7598944533907185072</title>\n",
       "<path d=\"M155.3814,-4151.4883C156.5688,-4175.6762 158.6886,-4218.8574 160.0934,-4247.4727\" fill=\"none\" stroke=\"#000000\"/>\n",
       "<polygon fill=\"#000000\" points=\"156.6071,-4247.8403 160.5933,-4257.6567 163.5987,-4247.497 156.6071,-4247.8403\" stroke=\"#000000\"/>\n",
       "</g>\n",
       "<!-- 7598944533906102547 -->\n",
       "<g class=\"node\" id=\"node24\">\n",
       "<title>7598944533906102547</title>\n",
       "<polygon fill=\"none\" points=\"104.4948,-4538.7059 50.4948,-4538.7059 50.4948,-4502.7059 104.4948,-4502.7059 104.4948,-4538.7059\" stroke=\"#000000\"/>\n",
       "<text fill=\"#000000\" font-family=\"Times,serif\" font-size=\"14.00\" text-anchor=\"middle\" x=\"77.4948\" y=\"-4517.0059\">15</text>\n",
       "</g>\n",
       "<!-- &#45;5121049501369359612 -->\n",
       "<g class=\"node\" id=\"node80\">\n",
       "<title>-5121049501369359612</title>\n",
       "<ellipse cx=\"113.4948\" cy=\"-4622.8016\" fill=\"none\" rx=\"48.1917\" ry=\"48.1917\" stroke=\"#000000\"/>\n",
       "<text fill=\"#000000\" font-family=\"Times,serif\" font-size=\"14.00\" text-anchor=\"middle\" x=\"113.4948\" y=\"-4619.1016\">hll_reduce</text>\n",
       "</g>\n",
       "<!-- 7598944533906102547&#45;&gt;&#45;5121049501369359612 -->\n",
       "<g class=\"edge\" id=\"edge78\">\n",
       "<title>7598944533906102547-&gt;-5121049501369359612</title>\n",
       "<path d=\"M83.9309,-4538.9586C86.811,-4547.1264 90.376,-4557.2368 94.0222,-4567.5774\" fill=\"none\" stroke=\"#000000\"/>\n",
       "<polygon fill=\"#000000\" points=\"90.7499,-4568.8223 97.3762,-4577.0893 97.3515,-4566.4945 90.7499,-4568.8223\" stroke=\"#000000\"/>\n",
       "</g>\n",
       "<!-- 5320496152360647517 -->\n",
       "<g class=\"node\" id=\"node25\">\n",
       "<title>5320496152360647517</title>\n",
       "<polygon fill=\"none\" points=\"89.4948,-4436.6102 35.4948,-4436.6102 35.4948,-4400.6102 89.4948,-4400.6102 89.4948,-4436.6102\" stroke=\"#000000\"/>\n",
       "<text fill=\"#000000\" font-family=\"Times,serif\" font-size=\"14.00\" text-anchor=\"middle\" x=\"62.4948\" y=\"-4414.9102\">15</text>\n",
       "</g>\n",
       "<!-- 5320496152360647517&#45;&gt;7598944533906102547 -->\n",
       "<g class=\"edge\" id=\"edge13\">\n",
       "<title>5320496152360647517-&gt;7598944533906102547</title>\n",
       "<path d=\"M65.1765,-4436.8628C67.4482,-4452.3248 70.7426,-4474.7479 73.353,-4492.5154\" fill=\"none\" stroke=\"#000000\"/>\n",
       "<polygon fill=\"#000000\" points=\"69.9198,-4493.2262 74.8363,-4502.6112 76.8455,-4492.2087 69.9198,-4493.2262\" stroke=\"#000000\"/>\n",
       "</g>\n",
       "<!-- 5320496152355234892 -->\n",
       "<g class=\"node\" id=\"node26\">\n",
       "<title>5320496152355234892</title>\n",
       "<polygon fill=\"none\" points=\"1465.4948,-188.9896 1411.4948,-188.9896 1411.4948,-152.9896 1465.4948,-152.9896 1465.4948,-188.9896\" stroke=\"#000000\"/>\n",
       "<text fill=\"#000000\" font-family=\"Times,serif\" font-size=\"14.00\" text-anchor=\"middle\" x=\"1438.4948\" y=\"-167.2896\">0</text>\n",
       "</g>\n",
       "<!-- 5320496152355234892&#45;&gt;7598944533905020022 -->\n",
       "<g class=\"edge\" id=\"edge14\">\n",
       "<title>5320496152355234892-&gt;7598944533905020022</title>\n",
       "<path d=\"M1438.4948,-189.0639C1438.4948,-206.9405 1438.4948,-234.5575 1438.4948,-255.314\" fill=\"none\" stroke=\"#000000\"/>\n",
       "<polygon fill=\"#000000\" points=\"1434.9949,-255.455 1438.4948,-265.455 1441.9949,-255.4551 1434.9949,-255.455\" stroke=\"#000000\"/>\n",
       "</g>\n",
       "<!-- 7598944533903937497 -->\n",
       "<g class=\"node\" id=\"node27\">\n",
       "<title>7598944533903937497</title>\n",
       "<polygon fill=\"none\" points=\"1371.4948,-586.6655 1317.4948,-586.6655 1317.4948,-550.6655 1371.4948,-550.6655 1371.4948,-586.6655\" stroke=\"#000000\"/>\n",
       "<text fill=\"#000000\" font-family=\"Times,serif\" font-size=\"14.00\" text-anchor=\"middle\" x=\"1344.4948\" y=\"-564.9655\">1</text>\n",
       "</g>\n",
       "<!-- 7598944533903937497&#45;&gt;5679950115343539135 -->\n",
       "<g class=\"edge\" id=\"edge36\">\n",
       "<title>7598944533903937497-&gt;5679950115343539135</title>\n",
       "<path d=\"M1344.4948,-586.7247C1344.4948,-603.4456 1344.4948,-629.2431 1344.4948,-653.0307\" fill=\"none\" stroke=\"#000000\"/>\n",
       "<polygon fill=\"#000000\" points=\"1340.9949,-653.0699 1344.4948,-663.0699 1347.9949,-653.07 1340.9949,-653.0699\" stroke=\"#000000\"/>\n",
       "</g>\n",
       "<!-- 5320496152354152367 -->\n",
       "<g class=\"node\" id=\"node28\">\n",
       "<title>5320496152354152367</title>\n",
       "<polygon fill=\"none\" points=\"1364.4948,-444.075 1310.4948,-444.075 1310.4948,-408.075 1364.4948,-408.075 1364.4948,-444.075\" stroke=\"#000000\"/>\n",
       "<text fill=\"#000000\" font-family=\"Times,serif\" font-size=\"14.00\" text-anchor=\"middle\" x=\"1337.4948\" y=\"-422.375\">1</text>\n",
       "</g>\n",
       "<!-- 5320496152354152367&#45;&gt;7598944533903937497 -->\n",
       "<g class=\"edge\" id=\"edge15\">\n",
       "<title>5320496152354152367-&gt;7598944533903937497</title>\n",
       "<path d=\"M1338.3814,-444.1342C1339.5688,-468.3221 1341.6886,-511.5034 1343.0934,-540.1186\" fill=\"none\" stroke=\"#000000\"/>\n",
       "<polygon fill=\"#000000\" points=\"1339.6071,-540.4862 1343.5933,-550.3026 1346.5987,-540.1429 1339.6071,-540.4862\" stroke=\"#000000\"/>\n",
       "</g>\n",
       "<!-- 7598944533902854972 -->\n",
       "<g class=\"node\" id=\"node29\">\n",
       "<title>7598944533902854972</title>\n",
       "<polygon fill=\"none\" points=\"1280.4948,-871.8466 1226.4948,-871.8466 1226.4948,-835.8466 1280.4948,-835.8466 1280.4948,-871.8466\" stroke=\"#000000\"/>\n",
       "<text fill=\"#000000\" font-family=\"Times,serif\" font-size=\"14.00\" text-anchor=\"middle\" x=\"1253.4948\" y=\"-850.1466\">2</text>\n",
       "</g>\n",
       "<!-- &#45;5709720055116167567 -->\n",
       "<g class=\"node\" id=\"node54\">\n",
       "<title>-5709720055116167567</title>\n",
       "<ellipse cx=\"1253.4948\" cy=\"-996.4371\" fill=\"none\" rx=\"48.1917\" ry=\"48.1917\" stroke=\"#000000\"/>\n",
       "<text fill=\"#000000\" font-family=\"Times,serif\" font-size=\"14.00\" text-anchor=\"middle\" x=\"1253.4948\" y=\"-992.7371\">hll_reduce</text>\n",
       "</g>\n",
       "<!-- 7598944533902854972&#45;&gt;&#45;5709720055116167567 -->\n",
       "<g class=\"edge\" id=\"edge39\">\n",
       "<title>7598944533902854972-&gt;-5709720055116167567</title>\n",
       "<path d=\"M1253.4948,-871.9058C1253.4948,-888.6267 1253.4948,-914.4242 1253.4948,-938.2117\" fill=\"none\" stroke=\"#000000\"/>\n",
       "<polygon fill=\"#000000\" points=\"1249.9949,-938.251 1253.4948,-948.251 1256.9949,-938.2511 1249.9949,-938.251\" stroke=\"#000000\"/>\n",
       "</g>\n",
       "<!-- 5320496152357399942 -->\n",
       "<g class=\"node\" id=\"node30\">\n",
       "<title>5320496152357399942</title>\n",
       "<polygon fill=\"none\" points=\"1273.4948,-729.2561 1219.4948,-729.2561 1219.4948,-693.2561 1273.4948,-693.2561 1273.4948,-729.2561\" stroke=\"#000000\"/>\n",
       "<text fill=\"#000000\" font-family=\"Times,serif\" font-size=\"14.00\" text-anchor=\"middle\" x=\"1246.4948\" y=\"-707.5561\">2</text>\n",
       "</g>\n",
       "<!-- 5320496152357399942&#45;&gt;7598944533902854972 -->\n",
       "<g class=\"edge\" id=\"edge16\">\n",
       "<title>5320496152357399942-&gt;7598944533902854972</title>\n",
       "<path d=\"M1247.3814,-729.3152C1248.5688,-753.5032 1250.6886,-796.6844 1252.0934,-825.2997\" fill=\"none\" stroke=\"#000000\"/>\n",
       "<polygon fill=\"#000000\" points=\"1248.6071,-825.6673 1252.5933,-835.4836 1255.5987,-825.324 1248.6071,-825.6673\" stroke=\"#000000\"/>\n",
       "</g>\n",
       "<!-- 7598944533913680222 -->\n",
       "<g class=\"node\" id=\"node31\">\n",
       "<title>7598944533913680222</title>\n",
       "<polygon fill=\"none\" points=\"734.4948,-2582.9331 680.4948,-2582.9331 680.4948,-2546.9331 734.4948,-2546.9331 734.4948,-2582.9331\" stroke=\"#000000\"/>\n",
       "<text fill=\"#000000\" font-family=\"Times,serif\" font-size=\"14.00\" text-anchor=\"middle\" x=\"707.4948\" y=\"-2561.2331\">8</text>\n",
       "</g>\n",
       "<!-- &#45;4677445818848881555 -->\n",
       "<g class=\"node\" id=\"node66\">\n",
       "<title>-4677445818848881555</title>\n",
       "<ellipse cx=\"707.4948\" cy=\"-2707.5236\" fill=\"none\" rx=\"48.1917\" ry=\"48.1917\" stroke=\"#000000\"/>\n",
       "<text fill=\"#000000\" font-family=\"Times,serif\" font-size=\"14.00\" text-anchor=\"middle\" x=\"707.4948\" y=\"-2703.8236\">hll_reduce</text>\n",
       "</g>\n",
       "<!-- 7598944533913680222&#45;&gt;&#45;4677445818848881555 -->\n",
       "<g class=\"edge\" id=\"edge57\">\n",
       "<title>7598944533913680222-&gt;-4677445818848881555</title>\n",
       "<path d=\"M707.4948,-2582.9923C707.4948,-2599.7132 707.4948,-2625.5107 707.4948,-2649.2983\" fill=\"none\" stroke=\"#000000\"/>\n",
       "<polygon fill=\"#000000\" points=\"703.9949,-2649.3375 707.4948,-2659.3375 710.9949,-2649.3376 703.9949,-2649.3375\" stroke=\"#000000\"/>\n",
       "</g>\n",
       "<!-- 5320496152363895092 -->\n",
       "<g class=\"node\" id=\"node32\">\n",
       "<title>5320496152363895092</title>\n",
       "<polygon fill=\"none\" points=\"727.4948,-2440.3426 673.4948,-2440.3426 673.4948,-2404.3426 727.4948,-2404.3426 727.4948,-2440.3426\" stroke=\"#000000\"/>\n",
       "<text fill=\"#000000\" font-family=\"Times,serif\" font-size=\"14.00\" text-anchor=\"middle\" x=\"700.4948\" y=\"-2418.6426\">8</text>\n",
       "</g>\n",
       "<!-- 5320496152363895092&#45;&gt;7598944533913680222 -->\n",
       "<g class=\"edge\" id=\"edge17\">\n",
       "<title>5320496152363895092-&gt;7598944533913680222</title>\n",
       "<path d=\"M701.3814,-2440.4018C702.5688,-2464.5897 704.6886,-2507.7709 706.0934,-2536.3862\" fill=\"none\" stroke=\"#000000\"/>\n",
       "<polygon fill=\"#000000\" points=\"702.6071,-2536.7538 706.5933,-2546.5702 709.5987,-2536.4105 702.6071,-2536.7538\" stroke=\"#000000\"/>\n",
       "</g>\n",
       "<!-- 7598944533901772447 -->\n",
       "<g class=\"node\" id=\"node33\">\n",
       "<title>7598944533901772447</title>\n",
       "<polygon fill=\"none\" points=\"1189.4948,-1157.0277 1135.4948,-1157.0277 1135.4948,-1121.0277 1189.4948,-1121.0277 1189.4948,-1157.0277\" stroke=\"#000000\"/>\n",
       "<text fill=\"#000000\" font-family=\"Times,serif\" font-size=\"14.00\" text-anchor=\"middle\" x=\"1162.4948\" y=\"-1135.3277\">3</text>\n",
       "</g>\n",
       "<!-- &#45;4719539137084217311 -->\n",
       "<g class=\"node\" id=\"node56\">\n",
       "<title>-4719539137084217311</title>\n",
       "<ellipse cx=\"1162.4948\" cy=\"-1281.6182\" fill=\"none\" rx=\"48.1917\" ry=\"48.1917\" stroke=\"#000000\"/>\n",
       "<text fill=\"#000000\" font-family=\"Times,serif\" font-size=\"14.00\" text-anchor=\"middle\" x=\"1162.4948\" y=\"-1277.9182\">hll_reduce</text>\n",
       "</g>\n",
       "<!-- 7598944533901772447&#45;&gt;&#45;4719539137084217311 -->\n",
       "<g class=\"edge\" id=\"edge43\">\n",
       "<title>7598944533901772447-&gt;-4719539137084217311</title>\n",
       "<path d=\"M1162.4948,-1157.0869C1162.4948,-1173.8078 1162.4948,-1199.6053 1162.4948,-1223.3928\" fill=\"none\" stroke=\"#000000\"/>\n",
       "<polygon fill=\"#000000\" points=\"1158.9949,-1223.4321 1162.4948,-1233.4321 1165.9949,-1223.4322 1158.9949,-1223.4321\" stroke=\"#000000\"/>\n",
       "</g>\n",
       "<!-- 5320496152356317417 -->\n",
       "<g class=\"node\" id=\"node34\">\n",
       "<title>5320496152356317417</title>\n",
       "<polygon fill=\"none\" points=\"1182.4948,-1014.4371 1128.4948,-1014.4371 1128.4948,-978.4371 1182.4948,-978.4371 1182.4948,-1014.4371\" stroke=\"#000000\"/>\n",
       "<text fill=\"#000000\" font-family=\"Times,serif\" font-size=\"14.00\" text-anchor=\"middle\" x=\"1155.4948\" y=\"-992.7371\">3</text>\n",
       "</g>\n",
       "<!-- 5320496152356317417&#45;&gt;7598944533901772447 -->\n",
       "<g class=\"edge\" id=\"edge18\">\n",
       "<title>5320496152356317417-&gt;7598944533901772447</title>\n",
       "<path d=\"M1156.3814,-1014.4963C1157.5688,-1038.6843 1159.6886,-1081.8655 1161.0934,-1110.4808\" fill=\"none\" stroke=\"#000000\"/>\n",
       "<polygon fill=\"#000000\" points=\"1157.6071,-1110.8484 1161.5933,-1120.6647 1164.5987,-1110.5051 1157.6071,-1110.8484\" stroke=\"#000000\"/>\n",
       "</g>\n",
       "<!-- 4519420024744298554 -->\n",
       "<g class=\"node\" id=\"node35\">\n",
       "<title>4519420024744298554</title>\n",
       "<ellipse cx=\"604.4948\" cy=\"-2564.9331\" fill=\"none\" rx=\"58.4896\" ry=\"58.4896\" stroke=\"#000000\"/>\n",
       "<text fill=\"#000000\" font-family=\"Times,serif\" font-size=\"14.00\" text-anchor=\"middle\" x=\"604.4948\" y=\"-2561.2331\">from-delayed</text>\n",
       "</g>\n",
       "<!-- 4519420024744298554&#45;&gt;5320496152362812567 -->\n",
       "<g class=\"edge\" id=\"edge19\">\n",
       "<title>4519420024744298554-&gt;5320496152362812567</title>\n",
       "<path d=\"M606.5574,-2623.7534C607.2306,-2642.9513 607.9474,-2663.3949 608.5044,-2679.2801\" fill=\"none\" stroke=\"#000000\"/>\n",
       "<polygon fill=\"#000000\" points=\"605.0136,-2679.6068 608.862,-2689.478 612.0093,-2679.3615 605.0136,-2679.6068\" stroke=\"#000000\"/>\n",
       "</g>\n",
       "<!-- 54368625722894345 -->\n",
       "<g class=\"node\" id=\"node36\">\n",
       "<title>54368625722894345</title>\n",
       "<ellipse cx=\"1059.4948\" cy=\"-1139.0277\" fill=\"none\" rx=\"58.4896\" ry=\"58.4896\" stroke=\"#000000\"/>\n",
       "<text fill=\"#000000\" font-family=\"Times,serif\" font-size=\"14.00\" text-anchor=\"middle\" x=\"1059.4948\" y=\"-1135.3277\">from-delayed</text>\n",
       "</g>\n",
       "<!-- 54368625722894345&#45;&gt;5320496152350904792 -->\n",
       "<g class=\"edge\" id=\"edge20\">\n",
       "<title>54368625722894345-&gt;5320496152350904792</title>\n",
       "<path d=\"M1061.5574,-1197.8479C1062.2306,-1217.0459 1062.9474,-1237.4895 1063.5044,-1253.3747\" fill=\"none\" stroke=\"#000000\"/>\n",
       "<polygon fill=\"#000000\" points=\"1060.0136,-1253.7014 1063.862,-1263.5726 1067.0093,-1253.456 1060.0136,-1253.7014\" stroke=\"#000000\"/>\n",
       "</g>\n",
       "<!-- &#45;2172747137750061521 -->\n",
       "<g class=\"node\" id=\"node37\">\n",
       "<title>-2172747137750061521</title>\n",
       "<ellipse cx=\"513.4948\" cy=\"-2850.1142\" fill=\"none\" rx=\"58.4896\" ry=\"58.4896\" stroke=\"#000000\"/>\n",
       "<text fill=\"#000000\" font-family=\"Times,serif\" font-size=\"14.00\" text-anchor=\"middle\" x=\"513.4948\" y=\"-2846.4142\">from-delayed</text>\n",
       "</g>\n",
       "<!-- &#45;2172747137750061521&#45;&gt;5320496152366060142 -->\n",
       "<g class=\"edge\" id=\"edge21\">\n",
       "<title>-2172747137750061521-&gt;5320496152366060142</title>\n",
       "<path d=\"M515.5574,-2908.9345C516.2306,-2928.1324 516.9474,-2948.576 517.5044,-2964.4612\" fill=\"none\" stroke=\"#000000\"/>\n",
       "<polygon fill=\"#000000\" points=\"514.0136,-2964.7879 517.862,-2974.6591 521.0093,-2964.5425 514.0136,-2964.7879\" stroke=\"#000000\"/>\n",
       "</g>\n",
       "<!-- &#45;1053622154995246930 -->\n",
       "<g class=\"node\" id=\"node38\">\n",
       "<title>-1053622154995246930</title>\n",
       "<ellipse cx=\"968.4948\" cy=\"-1424.2088\" fill=\"none\" rx=\"58.4896\" ry=\"58.4896\" stroke=\"#000000\"/>\n",
       "<text fill=\"#000000\" font-family=\"Times,serif\" font-size=\"14.00\" text-anchor=\"middle\" x=\"968.4948\" y=\"-1420.5088\">from-delayed</text>\n",
       "</g>\n",
       "<!-- &#45;1053622154995246930&#45;&gt;5320496152349822267 -->\n",
       "<g class=\"edge\" id=\"edge22\">\n",
       "<title>-1053622154995246930-&gt;5320496152349822267</title>\n",
       "<path d=\"M970.5574,-1483.029C971.2306,-1502.227 971.9474,-1522.6706 972.5044,-1538.5558\" fill=\"none\" stroke=\"#000000\"/>\n",
       "<polygon fill=\"#000000\" points=\"969.0136,-1538.8825 972.862,-1548.7537 976.0093,-1538.6371 969.0136,-1538.8825\" stroke=\"#000000\"/>\n",
       "</g>\n",
       "<!-- &#45;3279647865104381596 -->\n",
       "<g class=\"node\" id=\"node39\">\n",
       "<title>-3279647865104381596</title>\n",
       "<ellipse cx=\"422.4948\" cy=\"-3135.2953\" fill=\"none\" rx=\"58.4896\" ry=\"58.4896\" stroke=\"#000000\"/>\n",
       "<text fill=\"#000000\" font-family=\"Times,serif\" font-size=\"14.00\" text-anchor=\"middle\" x=\"422.4948\" y=\"-3131.5953\">from-delayed</text>\n",
       "</g>\n",
       "<!-- &#45;3279647865104381596&#45;&gt;5320496152364977617 -->\n",
       "<g class=\"edge\" id=\"edge23\">\n",
       "<title>-3279647865104381596-&gt;5320496152364977617</title>\n",
       "<path d=\"M424.5574,-3194.1155C425.2306,-3213.3135 425.9474,-3233.7571 426.5044,-3249.6423\" fill=\"none\" stroke=\"#000000\"/>\n",
       "<polygon fill=\"#000000\" points=\"423.0136,-3249.969 426.862,-3259.8402 430.0093,-3249.7236 423.0136,-3249.969\" stroke=\"#000000\"/>\n",
       "</g>\n",
       "<!-- &#45;6225586231731745837 -->\n",
       "<g class=\"node\" id=\"node40\">\n",
       "<title>-6225586231731745837</title>\n",
       "<ellipse cx=\"877.4948\" cy=\"-1709.3899\" fill=\"none\" rx=\"58.4896\" ry=\"58.4896\" stroke=\"#000000\"/>\n",
       "<text fill=\"#000000\" font-family=\"Times,serif\" font-size=\"14.00\" text-anchor=\"middle\" x=\"877.4948\" y=\"-1705.6899\">from-delayed</text>\n",
       "</g>\n",
       "<!-- &#45;6225586231731745837&#45;&gt;5320496152353069842 -->\n",
       "<g class=\"edge\" id=\"edge24\">\n",
       "<title>-6225586231731745837-&gt;5320496152353069842</title>\n",
       "<path d=\"M879.5574,-1768.2101C880.2306,-1787.4081 880.9474,-1807.8517 881.5044,-1823.7369\" fill=\"none\" stroke=\"#000000\"/>\n",
       "<polygon fill=\"#000000\" points=\"878.0136,-1824.0636 881.862,-1833.9348 885.0093,-1823.8182 878.0136,-1824.0636\" stroke=\"#000000\"/>\n",
       "</g>\n",
       "<!-- &#45;7800132121229831887 -->\n",
       "<g class=\"node\" id=\"node41\">\n",
       "<title>-7800132121229831887</title>\n",
       "<ellipse cx=\"331.4948\" cy=\"-3420.4764\" fill=\"none\" rx=\"58.4896\" ry=\"58.4896\" stroke=\"#000000\"/>\n",
       "<text fill=\"#000000\" font-family=\"Times,serif\" font-size=\"14.00\" text-anchor=\"middle\" x=\"331.4948\" y=\"-3416.7764\">from-delayed</text>\n",
       "</g>\n",
       "<!-- &#45;7800132121229831887&#45;&gt;5320496152359564992 -->\n",
       "<g class=\"edge\" id=\"edge25\">\n",
       "<title>-7800132121229831887-&gt;5320496152359564992</title>\n",
       "<path d=\"M333.5574,-3479.2966C334.2306,-3498.4946 334.9474,-3518.9382 335.5044,-3534.8234\" fill=\"none\" stroke=\"#000000\"/>\n",
       "<polygon fill=\"#000000\" points=\"332.0136,-3535.1501 335.862,-3545.0213 339.0093,-3534.9047 332.0136,-3535.1501\" stroke=\"#000000\"/>\n",
       "</g>\n",
       "<!-- &#45;7323843633537727112 -->\n",
       "<g class=\"node\" id=\"node42\">\n",
       "<title>-7323843633537727112</title>\n",
       "<ellipse cx=\"786.4948\" cy=\"-1994.5709\" fill=\"none\" rx=\"58.4896\" ry=\"58.4896\" stroke=\"#000000\"/>\n",
       "<text fill=\"#000000\" font-family=\"Times,serif\" font-size=\"14.00\" text-anchor=\"middle\" x=\"786.4948\" y=\"-1990.8709\">from-delayed</text>\n",
       "</g>\n",
       "<!-- &#45;7323843633537727112&#45;&gt;5320496152351987317 -->\n",
       "<g class=\"edge\" id=\"edge26\">\n",
       "<title>-7323843633537727112-&gt;5320496152351987317</title>\n",
       "<path d=\"M788.5574,-2053.3912C789.2306,-2072.5892 789.9474,-2093.0327 790.5044,-2108.918\" fill=\"none\" stroke=\"#000000\"/>\n",
       "<polygon fill=\"#000000\" points=\"787.0136,-2109.2447 790.862,-2119.1158 794.0093,-2108.9993 787.0136,-2109.2447\" stroke=\"#000000\"/>\n",
       "</g>\n",
       "<!-- &#45;9191802445635448362 -->\n",
       "<g class=\"node\" id=\"node43\">\n",
       "<title>-9191802445635448362</title>\n",
       "<ellipse cx=\"240.4948\" cy=\"-3705.6574\" fill=\"none\" rx=\"58.4896\" ry=\"58.4896\" stroke=\"#000000\"/>\n",
       "<text fill=\"#000000\" font-family=\"Times,serif\" font-size=\"14.00\" text-anchor=\"middle\" x=\"240.4948\" y=\"-3701.9574\">from-delayed</text>\n",
       "</g>\n",
       "<!-- &#45;9191802445635448362&#45;&gt;5320496152358482467 -->\n",
       "<g class=\"edge\" id=\"edge27\">\n",
       "<title>-9191802445635448362-&gt;5320496152358482467</title>\n",
       "<path d=\"M242.5574,-3764.4777C243.2306,-3783.6757 243.9474,-3804.1192 244.5044,-3820.0045\" fill=\"none\" stroke=\"#000000\"/>\n",
       "<polygon fill=\"#000000\" points=\"241.0136,-3820.3312 244.862,-3830.2023 248.0093,-3820.0858 241.0136,-3820.3312\" stroke=\"#000000\"/>\n",
       "</g>\n",
       "<!-- 3173385551447325179 -->\n",
       "<g class=\"node\" id=\"node44\">\n",
       "<title>3173385551447325179</title>\n",
       "<ellipse cx=\"149.4948\" cy=\"-3990.8385\" fill=\"none\" rx=\"58.4896\" ry=\"58.4896\" stroke=\"#000000\"/>\n",
       "<text fill=\"#000000\" font-family=\"Times,serif\" font-size=\"14.00\" text-anchor=\"middle\" x=\"149.4948\" y=\"-3987.1385\">from-delayed</text>\n",
       "</g>\n",
       "<!-- 3173385551447325179&#45;&gt;5320496152361730042 -->\n",
       "<g class=\"edge\" id=\"edge28\">\n",
       "<title>3173385551447325179-&gt;5320496152361730042</title>\n",
       "<path d=\"M151.5574,-4049.6588C152.2306,-4068.8568 152.9474,-4089.3003 153.5044,-4105.1856\" fill=\"none\" stroke=\"#000000\"/>\n",
       "<polygon fill=\"#000000\" points=\"150.0136,-4105.5123 153.862,-4115.3834 157.0093,-4105.2669 150.0136,-4105.5123\" stroke=\"#000000\"/>\n",
       "</g>\n",
       "<!-- 2060534501321849504 -->\n",
       "<g class=\"node\" id=\"node45\">\n",
       "<title>2060534501321849504</title>\n",
       "<ellipse cx=\"58.4948\" cy=\"-4276.0196\" fill=\"none\" rx=\"58.4896\" ry=\"58.4896\" stroke=\"#000000\"/>\n",
       "<text fill=\"#000000\" font-family=\"Times,serif\" font-size=\"14.00\" text-anchor=\"middle\" x=\"58.4948\" y=\"-4272.3196\">from-delayed</text>\n",
       "</g>\n",
       "<!-- 2060534501321849504&#45;&gt;5320496152360647517 -->\n",
       "<g class=\"edge\" id=\"edge29\">\n",
       "<title>2060534501321849504-&gt;5320496152360647517</title>\n",
       "<path d=\"M60.1449,-4334.8399C60.6834,-4354.0379 61.2569,-4374.4814 61.7025,-4390.3666\" fill=\"none\" stroke=\"#000000\"/>\n",
       "<polygon fill=\"#000000\" points=\"58.2095,-4390.6666 61.9886,-4400.5645 65.2067,-4390.4703 58.2095,-4390.6666\" stroke=\"#000000\"/>\n",
       "</g>\n",
       "<!-- &#45;3448785116319939987 -->\n",
       "<g class=\"node\" id=\"node46\">\n",
       "<title>-3448785116319939987</title>\n",
       "<ellipse cx=\"1438.4948\" cy=\"-58.4948\" fill=\"none\" rx=\"58.4896\" ry=\"58.4896\" stroke=\"#000000\"/>\n",
       "<text fill=\"#000000\" font-family=\"Times,serif\" font-size=\"14.00\" text-anchor=\"middle\" x=\"1438.4948\" y=\"-54.7948\">from-delayed</text>\n",
       "</g>\n",
       "<!-- &#45;3448785116319939987&#45;&gt;5320496152355234892 -->\n",
       "<g class=\"edge\" id=\"edge30\">\n",
       "<title>-3448785116319939987-&gt;5320496152355234892</title>\n",
       "<path d=\"M1438.4948,-117.0487C1438.4948,-126.0044 1438.4948,-134.882 1438.4948,-142.7713\" fill=\"none\" stroke=\"#000000\"/>\n",
       "<polygon fill=\"#000000\" points=\"1434.9949,-142.8314 1438.4948,-152.8314 1441.9949,-142.8314 1434.9949,-142.8314\" stroke=\"#000000\"/>\n",
       "</g>\n",
       "<!-- &#45;4833781103012327662 -->\n",
       "<g class=\"node\" id=\"node47\">\n",
       "<title>-4833781103012327662</title>\n",
       "<ellipse cx=\"1335.4948\" cy=\"-283.4844\" fill=\"none\" rx=\"58.4896\" ry=\"58.4896\" stroke=\"#000000\"/>\n",
       "<text fill=\"#000000\" font-family=\"Times,serif\" font-size=\"14.00\" text-anchor=\"middle\" x=\"1335.4948\" y=\"-279.7844\">from-delayed</text>\n",
       "</g>\n",
       "<!-- &#45;4833781103012327662&#45;&gt;5320496152354152367 -->\n",
       "<g class=\"edge\" id=\"edge31\">\n",
       "<title>-4833781103012327662-&gt;5320496152354152367</title>\n",
       "<path d=\"M1336.3198,-342.3047C1336.5891,-361.5027 1336.8759,-381.9462 1337.0987,-397.8315\" fill=\"none\" stroke=\"#000000\"/>\n",
       "<polygon fill=\"#000000\" points=\"1333.6017,-398.0794 1337.2417,-408.0293 1340.601,-397.9812 1333.6017,-398.0794\" stroke=\"#000000\"/>\n",
       "</g>\n",
       "<!-- 8148021330101046279 -->\n",
       "<g class=\"node\" id=\"node48\">\n",
       "<title>8148021330101046279</title>\n",
       "<ellipse cx=\"1241.4948\" cy=\"-568.6655\" fill=\"none\" rx=\"58.4896\" ry=\"58.4896\" stroke=\"#000000\"/>\n",
       "<text fill=\"#000000\" font-family=\"Times,serif\" font-size=\"14.00\" text-anchor=\"middle\" x=\"1241.4948\" y=\"-564.9655\">from-delayed</text>\n",
       "</g>\n",
       "<!-- 8148021330101046279&#45;&gt;5320496152357399942 -->\n",
       "<g class=\"edge\" id=\"edge32\">\n",
       "<title>8148021330101046279-&gt;5320496152357399942</title>\n",
       "<path d=\"M1243.5574,-627.4858C1244.2306,-646.6838 1244.9474,-667.1273 1245.5044,-683.0125\" fill=\"none\" stroke=\"#000000\"/>\n",
       "<polygon fill=\"#000000\" points=\"1242.0136,-683.3392 1245.862,-693.2104 1249.0093,-683.0939 1242.0136,-683.3392\" stroke=\"#000000\"/>\n",
       "</g>\n",
       "<!-- 5915523817297115029 -->\n",
       "<g class=\"node\" id=\"node49\">\n",
       "<title>5915523817297115029</title>\n",
       "<ellipse cx=\"695.4948\" cy=\"-2279.752\" fill=\"none\" rx=\"58.4896\" ry=\"58.4896\" stroke=\"#000000\"/>\n",
       "<text fill=\"#000000\" font-family=\"Times,serif\" font-size=\"14.00\" text-anchor=\"middle\" x=\"695.4948\" y=\"-2276.052\">from-delayed</text>\n",
       "</g>\n",
       "<!-- 5915523817297115029&#45;&gt;5320496152363895092 -->\n",
       "<g class=\"edge\" id=\"edge33\">\n",
       "<title>5915523817297115029-&gt;5320496152363895092</title>\n",
       "<path d=\"M697.5574,-2338.5723C698.2306,-2357.7703 698.9474,-2378.2138 699.5044,-2394.099\" fill=\"none\" stroke=\"#000000\"/>\n",
       "<polygon fill=\"#000000\" points=\"696.0136,-2394.4258 699.862,-2404.2969 703.0093,-2394.1804 696.0136,-2394.4258\" stroke=\"#000000\"/>\n",
       "</g>\n",
       "<!-- 6114627046632735804 -->\n",
       "<g class=\"node\" id=\"node50\">\n",
       "<title>6114627046632735804</title>\n",
       "<ellipse cx=\"1150.4948\" cy=\"-853.8466\" fill=\"none\" rx=\"58.4896\" ry=\"58.4896\" stroke=\"#000000\"/>\n",
       "<text fill=\"#000000\" font-family=\"Times,serif\" font-size=\"14.00\" text-anchor=\"middle\" x=\"1150.4948\" y=\"-850.1466\">from-delayed</text>\n",
       "</g>\n",
       "<!-- 6114627046632735804&#45;&gt;5320496152356317417 -->\n",
       "<g class=\"edge\" id=\"edge34\">\n",
       "<title>6114627046632735804-&gt;5320496152356317417</title>\n",
       "<path d=\"M1152.5574,-912.6669C1153.2306,-931.8648 1153.9474,-952.3084 1154.5044,-968.1936\" fill=\"none\" stroke=\"#000000\"/>\n",
       "<polygon fill=\"#000000\" points=\"1151.0136,-968.5203 1154.862,-978.3915 1158.0093,-968.275 1151.0136,-968.5203\" stroke=\"#000000\"/>\n",
       "</g>\n",
       "<!-- &#45;4963634831135872130 -->\n",
       "<g class=\"node\" id=\"node51\">\n",
       "<title>-4963634831135872130</title>\n",
       "<polygon fill=\"none\" points=\"1358.4948,-871.8466 1304.4948,-871.8466 1304.4948,-835.8466 1358.4948,-835.8466 1358.4948,-871.8466\" stroke=\"#000000\"/>\n",
       "</g>\n",
       "<!-- &#45;4963634831135872130&#45;&gt;&#45;5709720055116167567 -->\n",
       "<g class=\"edge\" id=\"edge40\">\n",
       "<title>-4963634831135872130-&gt;-5709720055116167567</title>\n",
       "<path d=\"M1321.6161,-871.9058C1311.5685,-890.2736 1295.5296,-919.5941 1281.5382,-945.1715\" fill=\"none\" stroke=\"#000000\"/>\n",
       "<polygon fill=\"#000000\" points=\"1278.4164,-943.5854 1276.6878,-954.0383 1284.5576,-946.9448 1278.4164,-943.5854\" stroke=\"#000000\"/>\n",
       "</g>\n",
       "<!-- 5679950115343539135&#45;&gt;&#45;4963634831135872130 -->\n",
       "<g class=\"edge\" id=\"edge35\">\n",
       "<title>5679950115343539135-&gt;-4963634831135872130</title>\n",
       "<path d=\"M1340.0936,-759.5307C1338.0892,-781.5156 1335.7866,-806.772 1334.0689,-825.6128\" fill=\"none\" stroke=\"#000000\"/>\n",
       "<polygon fill=\"#000000\" points=\"1330.5786,-825.3479 1333.1561,-835.6244 1337.5497,-825.9835 1330.5786,-825.3479\" stroke=\"#000000\"/>\n",
       "</g>\n",
       "<!-- &#45;4563910068044657920 -->\n",
       "<g class=\"node\" id=\"node53\">\n",
       "<title>-4563910068044657920</title>\n",
       "<polygon fill=\"none\" points=\"1267.4948,-1157.0277 1213.4948,-1157.0277 1213.4948,-1121.0277 1267.4948,-1121.0277 1267.4948,-1157.0277\" stroke=\"#000000\"/>\n",
       "</g>\n",
       "<!-- &#45;4563910068044657920&#45;&gt;&#45;4719539137084217311 -->\n",
       "<g class=\"edge\" id=\"edge42\">\n",
       "<title>-4563910068044657920-&gt;-4719539137084217311</title>\n",
       "<path d=\"M1230.6161,-1157.0869C1220.5685,-1175.4547 1204.5296,-1204.7751 1190.5382,-1230.3526\" fill=\"none\" stroke=\"#000000\"/>\n",
       "<polygon fill=\"#000000\" points=\"1187.4164,-1228.7665 1185.6878,-1239.2194 1193.5576,-1232.1259 1187.4164,-1228.7665\" stroke=\"#000000\"/>\n",
       "</g>\n",
       "<!-- &#45;5709720055116167567&#45;&gt;&#45;4563910068044657920 -->\n",
       "<g class=\"edge\" id=\"edge38\">\n",
       "<title>-5709720055116167567-&gt;-4563910068044657920</title>\n",
       "<path d=\"M1249.0936,-1044.7118C1247.0892,-1066.6966 1244.7866,-1091.9531 1243.0689,-1110.7939\" fill=\"none\" stroke=\"#000000\"/>\n",
       "<polygon fill=\"#000000\" points=\"1239.5786,-1110.529 1242.1561,-1120.8055 1246.5497,-1111.1646 1239.5786,-1110.529\" stroke=\"#000000\"/>\n",
       "</g>\n",
       "<!-- 5013626705964499248 -->\n",
       "<g class=\"node\" id=\"node55\">\n",
       "<title>5013626705964499248</title>\n",
       "<polygon fill=\"none\" points=\"1176.4948,-1442.2088 1122.4948,-1442.2088 1122.4948,-1406.2088 1176.4948,-1406.2088 1176.4948,-1442.2088\" stroke=\"#000000\"/>\n",
       "</g>\n",
       "<!-- 5013626705964499248&#45;&gt;2370525245375609832 -->\n",
       "<g class=\"edge\" id=\"edge45\">\n",
       "<title>5013626705964499248-&gt;2370525245375609832</title>\n",
       "<path d=\"M1139.6161,-1442.268C1129.5685,-1460.6358 1113.5296,-1489.9562 1099.5382,-1515.5336\" fill=\"none\" stroke=\"#000000\"/>\n",
       "<polygon fill=\"#000000\" points=\"1096.4164,-1513.9476 1094.6878,-1524.4005 1102.5576,-1517.307 1096.4164,-1513.9476\" stroke=\"#000000\"/>\n",
       "</g>\n",
       "<!-- &#45;4719539137084217311&#45;&gt;5013626705964499248 -->\n",
       "<g class=\"edge\" id=\"edge41\">\n",
       "<title>-4719539137084217311-&gt;5013626705964499248</title>\n",
       "<path d=\"M1158.0936,-1329.8929C1156.0892,-1351.8777 1153.7866,-1377.1341 1152.0689,-1395.975\" fill=\"none\" stroke=\"#000000\"/>\n",
       "<polygon fill=\"#000000\" points=\"1148.5786,-1395.7101 1151.1561,-1405.9866 1155.5497,-1396.3457 1148.5786,-1395.7101\" stroke=\"#000000\"/>\n",
       "</g>\n",
       "<!-- &#45;5801216764109728411 -->\n",
       "<g class=\"node\" id=\"node57\">\n",
       "<title>-5801216764109728411</title>\n",
       "<polygon fill=\"none\" points=\"1085.4948,-1727.3899 1031.4948,-1727.3899 1031.4948,-1691.3899 1085.4948,-1691.3899 1085.4948,-1727.3899\" stroke=\"#000000\"/>\n",
       "</g>\n",
       "<!-- &#45;5801216764109728411&#45;&gt;7270203316312726659 -->\n",
       "<g class=\"edge\" id=\"edge49\">\n",
       "<title>-5801216764109728411-&gt;7270203316312726659</title>\n",
       "<path d=\"M1048.6161,-1727.449C1038.5685,-1745.8169 1022.5296,-1775.1373 1008.5382,-1800.7147\" fill=\"none\" stroke=\"#000000\"/>\n",
       "<polygon fill=\"#000000\" points=\"1005.4164,-1799.1287 1003.6878,-1809.5816 1011.5576,-1802.4881 1005.4164,-1799.1287\" stroke=\"#000000\"/>\n",
       "</g>\n",
       "<!-- 2370525245375609832&#45;&gt;&#45;5801216764109728411 -->\n",
       "<g class=\"edge\" id=\"edge44\">\n",
       "<title>2370525245375609832-&gt;-5801216764109728411</title>\n",
       "<path d=\"M1067.0936,-1615.074C1065.0892,-1637.0588 1062.7866,-1662.3152 1061.0689,-1681.1561\" fill=\"none\" stroke=\"#000000\"/>\n",
       "<polygon fill=\"#000000\" points=\"1057.5786,-1680.8912 1060.1561,-1691.1677 1064.5497,-1681.5268 1057.5786,-1680.8912\" stroke=\"#000000\"/>\n",
       "</g>\n",
       "<!-- &#45;9145964292569766334 -->\n",
       "<g class=\"node\" id=\"node59\">\n",
       "<title>-9145964292569766334</title>\n",
       "<polygon fill=\"none\" points=\"994.4948,-2012.5709 940.4948,-2012.5709 940.4948,-1976.5709 994.4948,-1976.5709 994.4948,-2012.5709\" stroke=\"#000000\"/>\n",
       "</g>\n",
       "<!-- &#45;9145964292569766334&#45;&gt;884706184441032094 -->\n",
       "<g class=\"edge\" id=\"edge52\">\n",
       "<title>-9145964292569766334-&gt;884706184441032094</title>\n",
       "<path d=\"M957.6161,-2012.6301C947.5685,-2030.998 931.5296,-2060.3184 917.5382,-2085.8958\" fill=\"none\" stroke=\"#000000\"/>\n",
       "<polygon fill=\"#000000\" points=\"914.4164,-2084.3098 912.6878,-2094.7627 920.5576,-2087.6692 914.4164,-2084.3098\" stroke=\"#000000\"/>\n",
       "</g>\n",
       "<!-- 7270203316312726659&#45;&gt;&#45;9145964292569766334 -->\n",
       "<g class=\"edge\" id=\"edge47\">\n",
       "<title>7270203316312726659-&gt;-9145964292569766334</title>\n",
       "<path d=\"M976.0936,-1900.255C974.0892,-1922.2399 971.7866,-1947.4963 970.0689,-1966.3372\" fill=\"none\" stroke=\"#000000\"/>\n",
       "<polygon fill=\"#000000\" points=\"966.5786,-1966.0723 969.1561,-1976.3488 973.5497,-1966.7079 966.5786,-1966.0723\" stroke=\"#000000\"/>\n",
       "</g>\n",
       "<!-- 547480816126956971 -->\n",
       "<g class=\"node\" id=\"node61\">\n",
       "<title>547480816126956971</title>\n",
       "<polygon fill=\"none\" points=\"903.4948,-2297.752 849.4948,-2297.752 849.4948,-2261.752 903.4948,-2261.752 903.4948,-2297.752\" stroke=\"#000000\"/>\n",
       "</g>\n",
       "<!-- 547480816126956971&#45;&gt;&#45;1140003638004625974 -->\n",
       "<g class=\"edge\" id=\"edge55\">\n",
       "<title>547480816126956971-&gt;-1140003638004625974</title>\n",
       "<path d=\"M866.6161,-2297.8112C856.5685,-2316.179 840.5296,-2345.4995 826.5382,-2371.0769\" fill=\"none\" stroke=\"#000000\"/>\n",
       "<polygon fill=\"#000000\" points=\"823.4164,-2369.4909 821.6878,-2379.9437 829.5576,-2372.8503 823.4164,-2369.4909\" stroke=\"#000000\"/>\n",
       "</g>\n",
       "<!-- 884706184441032094&#45;&gt;547480816126956971 -->\n",
       "<g class=\"edge\" id=\"edge50\">\n",
       "<title>884706184441032094-&gt;547480816126956971</title>\n",
       "<path d=\"M885.0936,-2185.4361C883.0892,-2207.421 880.7866,-2232.6774 879.0689,-2251.5182\" fill=\"none\" stroke=\"#000000\"/>\n",
       "<polygon fill=\"#000000\" points=\"875.5786,-2251.2534 878.1561,-2261.5299 882.5497,-2251.889 875.5786,-2251.2534\" stroke=\"#000000\"/>\n",
       "</g>\n",
       "<!-- &#45;7536558593704647257 -->\n",
       "<g class=\"node\" id=\"node63\">\n",
       "<title>-7536558593704647257</title>\n",
       "<polygon fill=\"none\" points=\"812.4948,-2582.9331 758.4948,-2582.9331 758.4948,-2546.9331 812.4948,-2546.9331 812.4948,-2582.9331\" stroke=\"#000000\"/>\n",
       "</g>\n",
       "<!-- &#45;7536558593704647257&#45;&gt;&#45;4677445818848881555 -->\n",
       "<g class=\"edge\" id=\"edge58\">\n",
       "<title>-7536558593704647257-&gt;-4677445818848881555</title>\n",
       "<path d=\"M775.6161,-2582.9923C765.5685,-2601.3601 749.5296,-2630.6806 735.5382,-2656.258\" fill=\"none\" stroke=\"#000000\"/>\n",
       "<polygon fill=\"#000000\" points=\"732.4164,-2654.6719 730.6878,-2665.1248 738.5576,-2658.0314 732.4164,-2654.6719\" stroke=\"#000000\"/>\n",
       "</g>\n",
       "<!-- &#45;1140003638004625974&#45;&gt;&#45;7536558593704647257 -->\n",
       "<g class=\"edge\" id=\"edge53\">\n",
       "<title>-1140003638004625974-&gt;-7536558593704647257</title>\n",
       "<path d=\"M794.0936,-2470.6172C792.0892,-2492.6021 789.7866,-2517.8585 788.0689,-2536.6993\" fill=\"none\" stroke=\"#000000\"/>\n",
       "<polygon fill=\"#000000\" points=\"784.5786,-2536.4344 787.1561,-2546.7109 791.5497,-2537.0701 784.5786,-2536.4344\" stroke=\"#000000\"/>\n",
       "</g>\n",
       "<!-- &#45;2589793612106471860 -->\n",
       "<g class=\"node\" id=\"node65\">\n",
       "<title>-2589793612106471860</title>\n",
       "<polygon fill=\"none\" points=\"721.4948,-2868.1142 667.4948,-2868.1142 667.4948,-2832.1142 721.4948,-2832.1142 721.4948,-2868.1142\" stroke=\"#000000\"/>\n",
       "</g>\n",
       "<!-- &#45;2589793612106471860&#45;&gt;&#45;4054322915763782868 -->\n",
       "<g class=\"edge\" id=\"edge61\">\n",
       "<title>-2589793612106471860-&gt;-4054322915763782868</title>\n",
       "<path d=\"M684.6161,-2868.1734C674.5685,-2886.5412 658.5296,-2915.8617 644.5382,-2941.4391\" fill=\"none\" stroke=\"#000000\"/>\n",
       "<polygon fill=\"#000000\" points=\"641.4164,-2939.853 639.6878,-2950.3059 647.5576,-2943.2124 641.4164,-2939.853\" stroke=\"#000000\"/>\n",
       "</g>\n",
       "<!-- &#45;4677445818848881555&#45;&gt;&#45;2589793612106471860 -->\n",
       "<g class=\"edge\" id=\"edge56\">\n",
       "<title>-4677445818848881555-&gt;-2589793612106471860</title>\n",
       "<path d=\"M703.0936,-2755.7983C701.0892,-2777.7832 698.7866,-2803.0396 697.0689,-2821.8804\" fill=\"none\" stroke=\"#000000\"/>\n",
       "<polygon fill=\"#000000\" points=\"693.5786,-2821.6155 696.1561,-2831.892 700.5497,-2822.2511 693.5786,-2821.6155\" stroke=\"#000000\"/>\n",
       "</g>\n",
       "<!-- 6823471354753991513 -->\n",
       "<g class=\"node\" id=\"node67\">\n",
       "<title>6823471354753991513</title>\n",
       "<polygon fill=\"none\" points=\"630.4948,-3153.2953 576.4948,-3153.2953 576.4948,-3117.2953 630.4948,-3117.2953 630.4948,-3153.2953\" stroke=\"#000000\"/>\n",
       "</g>\n",
       "<!-- 6823471354753991513&#45;&gt;&#45;1405540980627552655 -->\n",
       "<g class=\"edge\" id=\"edge63\">\n",
       "<title>6823471354753991513-&gt;-1405540980627552655</title>\n",
       "<path d=\"M593.6161,-3153.3545C583.5685,-3171.7223 567.5296,-3201.0427 553.5382,-3226.6202\" fill=\"none\" stroke=\"#000000\"/>\n",
       "<polygon fill=\"#000000\" points=\"550.4164,-3225.0341 548.6878,-3235.487 556.5576,-3228.3935 550.4164,-3225.0341\" stroke=\"#000000\"/>\n",
       "</g>\n",
       "<!-- &#45;4054322915763782868&#45;&gt;6823471354753991513 -->\n",
       "<g class=\"edge\" id=\"edge59\">\n",
       "<title>-4054322915763782868-&gt;6823471354753991513</title>\n",
       "<path d=\"M612.0936,-3040.9794C610.0892,-3062.9642 607.7866,-3088.2207 606.0689,-3107.0615\" fill=\"none\" stroke=\"#000000\"/>\n",
       "<polygon fill=\"#000000\" points=\"602.5786,-3106.7966 605.1561,-3117.0731 609.5497,-3107.4322 602.5786,-3106.7966\" stroke=\"#000000\"/>\n",
       "</g>\n",
       "<!-- &#45;2708236422360806656 -->\n",
       "<g class=\"node\" id=\"node69\">\n",
       "<title>-2708236422360806656</title>\n",
       "<polygon fill=\"none\" points=\"539.4948,-3438.4764 485.4948,-3438.4764 485.4948,-3402.4764 539.4948,-3402.4764 539.4948,-3438.4764\" stroke=\"#000000\"/>\n",
       "</g>\n",
       "<!-- &#45;2708236422360806656&#45;&gt;4443859891356831915 -->\n",
       "<g class=\"edge\" id=\"edge66\">\n",
       "<title>-2708236422360806656-&gt;4443859891356831915</title>\n",
       "<path d=\"M502.6161,-3438.5355C492.5685,-3456.9034 476.5296,-3486.2238 462.5382,-3511.8012\" fill=\"none\" stroke=\"#000000\"/>\n",
       "<polygon fill=\"#000000\" points=\"459.4164,-3510.2152 457.6878,-3520.6681 465.5576,-3513.5746 459.4164,-3510.2152\" stroke=\"#000000\"/>\n",
       "</g>\n",
       "<!-- &#45;1405540980627552655&#45;&gt;&#45;2708236422360806656 -->\n",
       "<g class=\"edge\" id=\"edge62\">\n",
       "<title>-1405540980627552655-&gt;-2708236422360806656</title>\n",
       "<path d=\"M521.0936,-3326.1605C519.0892,-3348.1453 516.7866,-3373.4017 515.0689,-3392.2426\" fill=\"none\" stroke=\"#000000\"/>\n",
       "<polygon fill=\"#000000\" points=\"511.5786,-3391.9777 514.1561,-3402.2542 518.5497,-3392.6133 511.5786,-3391.9777\" stroke=\"#000000\"/>\n",
       "</g>\n",
       "<!-- 2373638042277847082 -->\n",
       "<g class=\"node\" id=\"node71\">\n",
       "<title>2373638042277847082</title>\n",
       "<polygon fill=\"none\" points=\"448.4948,-3723.6574 394.4948,-3723.6574 394.4948,-3687.6574 448.4948,-3687.6574 448.4948,-3723.6574\" stroke=\"#000000\"/>\n",
       "</g>\n",
       "<!-- 2373638042277847082&#45;&gt;4969164423290696600 -->\n",
       "<g class=\"edge\" id=\"edge70\">\n",
       "<title>2373638042277847082-&gt;4969164423290696600</title>\n",
       "<path d=\"M411.6161,-3723.7166C401.5685,-3742.0845 385.5296,-3771.4049 371.5382,-3796.9823\" fill=\"none\" stroke=\"#000000\"/>\n",
       "<polygon fill=\"#000000\" points=\"368.4164,-3795.3963 366.6878,-3805.8492 374.5576,-3798.7557 368.4164,-3795.3963\" stroke=\"#000000\"/>\n",
       "</g>\n",
       "<!-- 4443859891356831915&#45;&gt;2373638042277847082 -->\n",
       "<g class=\"edge\" id=\"edge65\">\n",
       "<title>4443859891356831915-&gt;2373638042277847082</title>\n",
       "<path d=\"M430.0936,-3611.3416C428.0892,-3633.3264 425.7866,-3658.5828 424.0689,-3677.4237\" fill=\"none\" stroke=\"#000000\"/>\n",
       "<polygon fill=\"#000000\" points=\"420.5786,-3677.1588 423.1561,-3687.4353 427.5497,-3677.7944 420.5786,-3677.1588\" stroke=\"#000000\"/>\n",
       "</g>\n",
       "<!-- 6524202448808214677 -->\n",
       "<g class=\"node\" id=\"node73\">\n",
       "<title>6524202448808214677</title>\n",
       "<polygon fill=\"none\" points=\"357.4948,-4008.8385 303.4948,-4008.8385 303.4948,-3972.8385 357.4948,-3972.8385 357.4948,-4008.8385\" stroke=\"#000000\"/>\n",
       "</g>\n",
       "<!-- 6524202448808214677&#45;&gt;&#45;7269844074607484123 -->\n",
       "<g class=\"edge\" id=\"edge73\">\n",
       "<title>6524202448808214677-&gt;-7269844074607484123</title>\n",
       "<path d=\"M320.6161,-4008.8977C310.5685,-4027.2655 294.5296,-4056.586 280.5382,-4082.1634\" fill=\"none\" stroke=\"#000000\"/>\n",
       "<polygon fill=\"#000000\" points=\"277.4164,-4080.5774 275.6878,-4091.0303 283.5576,-4083.9368 277.4164,-4080.5774\" stroke=\"#000000\"/>\n",
       "</g>\n",
       "<!-- 4969164423290696600&#45;&gt;6524202448808214677 -->\n",
       "<g class=\"edge\" id=\"edge68\">\n",
       "<title>4969164423290696600-&gt;6524202448808214677</title>\n",
       "<path d=\"M339.0936,-3896.5226C337.0892,-3918.5075 334.7866,-3943.7639 333.0689,-3962.6047\" fill=\"none\" stroke=\"#000000\"/>\n",
       "<polygon fill=\"#000000\" points=\"329.5786,-3962.3399 332.1561,-3972.6164 336.5497,-3962.9755 329.5786,-3962.3399\" stroke=\"#000000\"/>\n",
       "</g>\n",
       "<!-- 5711205550113348676 -->\n",
       "<g class=\"node\" id=\"node75\">\n",
       "<title>5711205550113348676</title>\n",
       "<polygon fill=\"none\" points=\"266.4948,-4294.0196 212.4948,-4294.0196 212.4948,-4258.0196 266.4948,-4258.0196 266.4948,-4294.0196\" stroke=\"#000000\"/>\n",
       "</g>\n",
       "<!-- 5711205550113348676&#45;&gt;&#45;4966933884057472593 -->\n",
       "<g class=\"edge\" id=\"edge76\">\n",
       "<title>5711205550113348676-&gt;-4966933884057472593</title>\n",
       "<path d=\"M229.6161,-4294.0788C219.5685,-4312.4466 203.5296,-4341.7671 189.5382,-4367.3445\" fill=\"none\" stroke=\"#000000\"/>\n",
       "<polygon fill=\"#000000\" points=\"186.4164,-4365.7584 184.6878,-4376.2113 192.5576,-4369.1179 186.4164,-4365.7584\" stroke=\"#000000\"/>\n",
       "</g>\n",
       "<!-- &#45;7269844074607484123&#45;&gt;5711205550113348676 -->\n",
       "<g class=\"edge\" id=\"edge71\">\n",
       "<title>-7269844074607484123-&gt;5711205550113348676</title>\n",
       "<path d=\"M248.0936,-4181.7037C246.0892,-4203.6886 243.7866,-4228.945 242.0689,-4247.7858\" fill=\"none\" stroke=\"#000000\"/>\n",
       "<polygon fill=\"#000000\" points=\"238.5786,-4247.5209 241.1561,-4257.7974 245.5497,-4248.1566 238.5786,-4247.5209\" stroke=\"#000000\"/>\n",
       "</g>\n",
       "<!-- &#45;2010030934175425810 -->\n",
       "<g class=\"node\" id=\"node77\">\n",
       "<title>-2010030934175425810</title>\n",
       "<polygon fill=\"none\" points=\"184.4948,-4538.7059 130.4948,-4538.7059 130.4948,-4502.7059 184.4948,-4502.7059 184.4948,-4538.7059\" stroke=\"#000000\"/>\n",
       "</g>\n",
       "<!-- &#45;2010030934175425810&#45;&gt;&#45;5121049501369359612 -->\n",
       "<g class=\"edge\" id=\"edge79\">\n",
       "<title>-2010030934175425810-&gt;-5121049501369359612</title>\n",
       "<path d=\"M149.6285,-4538.9586C145.9578,-4547.4759 141.3767,-4558.1057 136.7221,-4568.9059\" fill=\"none\" stroke=\"#000000\"/>\n",
       "<polygon fill=\"#000000\" points=\"133.3775,-4567.8234 132.6339,-4578.3922 139.8059,-4570.5939 133.3775,-4567.8234\" stroke=\"#000000\"/>\n",
       "</g>\n",
       "<!-- &#45;4966933884057472593&#45;&gt;&#45;2010030934175425810 -->\n",
       "<g class=\"edge\" id=\"edge74\">\n",
       "<title>-4966933884057472593-&gt;-2010030934175425810</title>\n",
       "<path d=\"M159.6002,-4466.9671C159.2615,-4475.613 158.9187,-4484.3621 158.6109,-4492.2187\" fill=\"none\" stroke=\"#000000\"/>\n",
       "<polygon fill=\"#000000\" points=\"155.1108,-4492.1561 158.2165,-4502.2855 162.1054,-4492.4302 155.1108,-4492.1561\" stroke=\"#000000\"/>\n",
       "</g>\n",
       "<!-- 8333296496598680945 -->\n",
       "<g class=\"node\" id=\"node79\">\n",
       "<title>8333296496598680945</title>\n",
       "<polygon fill=\"none\" points=\"140.4948,-4742.8973 86.4948,-4742.8973 86.4948,-4706.8973 140.4948,-4706.8973 140.4948,-4742.8973\" stroke=\"#000000\"/>\n",
       "</g>\n",
       "<!-- &#45;5121049501369359612&#45;&gt;8333296496598680945 -->\n",
       "<g class=\"edge\" id=\"edge77\">\n",
       "<title>-5121049501369359612-&gt;8333296496598680945</title>\n",
       "<path d=\"M113.4948,-4671.1586C113.4948,-4679.8045 113.4948,-4688.5536 113.4948,-4696.4102\" fill=\"none\" stroke=\"#000000\"/>\n",
       "<polygon fill=\"#000000\" points=\"109.9949,-4696.4769 113.4948,-4706.4769 116.9949,-4696.477 109.9949,-4696.4769\" stroke=\"#000000\"/>\n",
       "</g>\n",
       "</g>\n",
       "</svg>"
      ],
      "text/plain": [
       "<IPython.core.display.SVG object>"
      ]
     },
     "execution_count": 48,
     "metadata": {},
     "output_type": "execute_result"
    }
   ],
   "source": [
    "dask.visualize( *tasks, format='svg', filename='cascade-reduce-graph' )"
   ]
  },
  {
   "cell_type": "code",
   "execution_count": null,
   "metadata": {},
   "outputs": [],
   "source": []
  },
  {
   "cell_type": "code",
   "execution_count": null,
   "metadata": {},
   "outputs": [],
   "source": []
  },
  {
   "cell_type": "code",
   "execution_count": null,
   "metadata": {},
   "outputs": [],
   "source": []
  },
  {
   "cell_type": "code",
   "execution_count": null,
   "metadata": {},
   "outputs": [],
   "source": []
  },
  {
   "cell_type": "code",
   "execution_count": null,
   "metadata": {},
   "outputs": [],
   "source": []
  },
  {
   "cell_type": "code",
   "execution_count": null,
   "metadata": {},
   "outputs": [],
   "source": []
  },
  {
   "cell_type": "code",
   "execution_count": null,
   "metadata": {},
   "outputs": [],
   "source": []
  },
  {
   "cell_type": "code",
   "execution_count": null,
   "metadata": {},
   "outputs": [],
   "source": []
  },
  {
   "cell_type": "code",
   "execution_count": null,
   "metadata": {},
   "outputs": [],
   "source": []
  },
  {
   "cell_type": "code",
   "execution_count": null,
   "metadata": {},
   "outputs": [],
   "source": []
  },
  {
   "cell_type": "code",
   "execution_count": null,
   "metadata": {},
   "outputs": [],
   "source": []
  },
  {
   "cell_type": "code",
   "execution_count": null,
   "metadata": {},
   "outputs": [],
   "source": []
  },
  {
   "cell_type": "code",
   "execution_count": null,
   "metadata": {},
   "outputs": [],
   "source": []
  },
  {
   "cell_type": "code",
   "execution_count": null,
   "metadata": {},
   "outputs": [],
   "source": []
  }
 ],
 "metadata": {
  "kernelspec": {
   "display_name": "Python 3",
   "language": "python",
   "name": "python3"
  },
  "language_info": {
   "codemirror_mode": {
    "name": "ipython",
    "version": 3
   },
   "file_extension": ".py",
   "mimetype": "text/x-python",
   "name": "python",
   "nbconvert_exporter": "python",
   "pygments_lexer": "ipython3",
   "version": "3.6.10"
  }
 },
 "nbformat": 4,
 "nbformat_minor": 2
}
